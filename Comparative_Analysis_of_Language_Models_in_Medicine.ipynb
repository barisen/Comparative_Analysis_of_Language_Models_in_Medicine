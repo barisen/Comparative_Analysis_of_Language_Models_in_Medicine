{
 "cells": [
  {
   "cell_type": "markdown",
   "metadata": {},
   "source": [
    "# Comparative Analysis of Language Models in the field of Medicine\n",
    "\n",
    "© 2024 Baris Sen. All Rights Reserved."
   ]
  },
  {
   "cell_type": "markdown",
   "metadata": {},
   "source": [
    "## AGENDA:\n",
    "1. Introduction\n",
    "2. Importing Libraries\n",
    "3. Importing Data Sets\n",
    "4. Accuracy Models\n",
    "5. Threshold Models\n",
    "6. Large Language Models\n",
    "7. Medically Specialized LLMs / Chatbots\n",
    "8. Finetuning LLMs with Medical Data\n",
    "9. Conclusion"
   ]
  },
  {
   "cell_type": "markdown",
   "metadata": {},
   "source": [
    "## 1. Introduction"
   ]
  },
  {
   "cell_type": "markdown",
   "metadata": {},
   "source": [
    "This notebooks focuses on the Experimentation Part of our Research Objective:\n",
    "\n",
    "Assessment of the Effectiveness of LLMs usage by Patients in Symptom Assessment and Diagnosis\n",
    "\n",
    "Comparative Analysis of ‘general’ LLMs and Medically Specialized LLMs\n",
    "- Non-medical “general” LLMs as a performance baseline\n",
    "- Hugging Face models: BERT, RoBERTa, GPT-2, GPT3 etc.\n",
    "\n",
    "For medical purposes build and specialized LLMs\n",
    "- Hugging Face models: BioBERT, Microsoft's BioGPT Large\n",
    "- AMBOSS on GPT-4 model\n",
    "- ChatDoctor model (Li et al., 2023)\n",
    "- Custom Finetuned Large Language Models by Medical Data \n"
   ]
  },
  {
   "cell_type": "markdown",
   "metadata": {},
   "source": [
    "<ins>General Methodology in this notebook:<ins>\n",
    "    \n",
    "We are using the introductory Data Sets with all models including Threshold models, General and Medically Specialized LLMs and LLMs that we finetune.\n",
    "    \n",
    "    \n",
    "However, Patient Doctor Conversations data set is only tested with General and Medically Specialized LLMs and LLMs that we finetune and a different (similarity based) accuracy model is applied."
   ]
  },
  {
   "cell_type": "markdown",
   "metadata": {},
   "source": [
    "## 2. Importing Libraries"
   ]
  },
  {
   "cell_type": "code",
   "execution_count": 1,
   "metadata": {
    "id": "F1ZOjslF3M8d"
   },
   "outputs": [],
   "source": [
    "#!pip install datasets\n",
    "#!pip install --upgrade pyarrow datasets\n",
    "#!pip install accelerate -U\n",
    "#!pip uninstall torch torchvision torchaudio\n",
    "#!pip uninstall torchdynamo\n",
    "#!pip install torch torchvision torchaudio\n",
    "#!pip install --upgrade transformers\n",
    "#!pip install sentencepiece\n",
    "#!pip install fuzzywuzzy\n",
    "#!pip install rapidfuzz\n",
    "#!pip install Levenshtein"
   ]
  },
  {
   "cell_type": "code",
   "execution_count": 27,
   "metadata": {
    "id": "JcKbk66tYWkl"
   },
   "outputs": [],
   "source": [
    "# import libraries\n",
    "import pandas as pd\n",
    "import numpy as np\n",
    "from transformers import GPT2LMHeadModel, GPT2Tokenizer, AutoTokenizer, AutoModelForCausalLM, AutoModel, AutoModelForMaskedLM, GPT2Model #, LlamaTokenizer\n",
    "from transformers import AutoModelForSequenceClassification\n",
    "import torch\n",
    "from tqdm import tqdm\n",
    "from sklearn.metrics.pairwise import cosine_similarity\n",
    "import os\n",
    "from fuzzywuzzy import fuzz\n",
    "from difflib import SequenceMatcher\n",
    "import re\n",
    "from Levenshtein import distance \n",
    "import torch\n",
    "from torch.utils.data import Dataset, DataLoader\n",
    "from transformers import AutoTokenizer, AutoModelForCausalLM\n",
    "from tqdm import tqdm\n",
    "import warnings\n",
    "from torch.utils.data import DataLoader\n",
    "import openai\n",
    "import random\n",
    "from sklearn.feature_extraction.text import TfidfVectorizer\n",
    "import json\n",
    "import random\n",
    "from sklearn.feature_extraction.text import TfidfVectorizer\n",
    "from tqdm.auto import tqdm"
   ]
  },
  {
   "cell_type": "markdown",
   "metadata": {},
   "source": [
    "## 3. Importing Datasets"
   ]
  },
  {
   "cell_type": "markdown",
   "metadata": {
    "id": "jOSa4rHDYell"
   },
   "source": [
    "One of the data sets: https://github.com/MedMCQA/MedMCQA"
   ]
  },
  {
   "cell_type": "markdown",
   "metadata": {
    "id": "w2h4F7FazP7W"
   },
   "source": [
    "Getting Kaggle Data Set"
   ]
  },
  {
   "cell_type": "code",
   "execution_count": 3,
   "metadata": {
    "id": "0lDN3bXT1Ma1"
   },
   "outputs": [],
   "source": [
    "# Kaggle Data Sets 1\n",
    "# link: https://www.kaggle.com/datasets/itachi9604/disease-symptom-description-dataset?select=dataset.csv\n",
    "disease_symptom_prediction_kaggle = pd.read_csv('/Users/bsen/Documents/Personal/Master/IT_Privacy_Security/data/kaggle/archive (2)/dataset.csv')\n",
    "symptom_description_kaggle = pd.read_csv('/Users/bsen/Documents/Personal/Master/IT_Privacy_Security/data/kaggle/archive (2)/symptom_Description.csv')\n",
    "\n",
    "# Chat Doctor Format Data Set\n",
    "chatdoctor_format_df = pd.read_csv('/Users/bsen/Documents/Personal/Master/IT_Privacy_Security/data/ChatDoctorData/format_dataset.csv')"
   ]
  },
  {
   "cell_type": "code",
   "execution_count": 4,
   "metadata": {},
   "outputs": [
    {
     "data": {
      "text/html": [
       "<div>\n",
       "<style scoped>\n",
       "    .dataframe tbody tr th:only-of-type {\n",
       "        vertical-align: middle;\n",
       "    }\n",
       "\n",
       "    .dataframe tbody tr th {\n",
       "        vertical-align: top;\n",
       "    }\n",
       "\n",
       "    .dataframe thead th {\n",
       "        text-align: right;\n",
       "    }\n",
       "</style>\n",
       "<table border=\"1\" class=\"dataframe\">\n",
       "  <thead>\n",
       "    <tr style=\"text-align: right;\">\n",
       "      <th></th>\n",
       "      <th>Disease</th>\n",
       "      <th>Description</th>\n",
       "    </tr>\n",
       "  </thead>\n",
       "  <tbody>\n",
       "    <tr>\n",
       "      <th>0</th>\n",
       "      <td>Drug Reaction</td>\n",
       "      <td>An adverse drug reaction (ADR) is an injury ca...</td>\n",
       "    </tr>\n",
       "    <tr>\n",
       "      <th>1</th>\n",
       "      <td>Malaria</td>\n",
       "      <td>An infectious disease caused by protozoan para...</td>\n",
       "    </tr>\n",
       "    <tr>\n",
       "      <th>2</th>\n",
       "      <td>Allergy</td>\n",
       "      <td>An allergy is an immune system response to a f...</td>\n",
       "    </tr>\n",
       "    <tr>\n",
       "      <th>3</th>\n",
       "      <td>Hypothyroidism</td>\n",
       "      <td>Hypothyroidism, also called underactive thyroi...</td>\n",
       "    </tr>\n",
       "    <tr>\n",
       "      <th>4</th>\n",
       "      <td>Psoriasis</td>\n",
       "      <td>Psoriasis is a common skin disorder that forms...</td>\n",
       "    </tr>\n",
       "  </tbody>\n",
       "</table>\n",
       "</div>"
      ],
      "text/plain": [
       "          Disease                                        Description\n",
       "0   Drug Reaction  An adverse drug reaction (ADR) is an injury ca...\n",
       "1         Malaria  An infectious disease caused by protozoan para...\n",
       "2         Allergy  An allergy is an immune system response to a f...\n",
       "3  Hypothyroidism  Hypothyroidism, also called underactive thyroi...\n",
       "4       Psoriasis  Psoriasis is a common skin disorder that forms..."
      ]
     },
     "execution_count": 4,
     "metadata": {},
     "output_type": "execute_result"
    }
   ],
   "source": [
    "symptom_description_kaggle.head()"
   ]
  },
  {
   "cell_type": "code",
   "execution_count": 5,
   "metadata": {},
   "outputs": [
    {
     "data": {
      "text/html": [
       "<div>\n",
       "<style scoped>\n",
       "    .dataframe tbody tr th:only-of-type {\n",
       "        vertical-align: middle;\n",
       "    }\n",
       "\n",
       "    .dataframe tbody tr th {\n",
       "        vertical-align: top;\n",
       "    }\n",
       "\n",
       "    .dataframe thead th {\n",
       "        text-align: right;\n",
       "    }\n",
       "</style>\n",
       "<table border=\"1\" class=\"dataframe\">\n",
       "  <thead>\n",
       "    <tr style=\"text-align: right;\">\n",
       "      <th></th>\n",
       "      <th>Disease</th>\n",
       "      <th>Description</th>\n",
       "    </tr>\n",
       "  </thead>\n",
       "  <tbody>\n",
       "    <tr>\n",
       "      <th>0</th>\n",
       "      <td>Drug Reaction</td>\n",
       "      <td>an adverse this disease (adr) is an injury cau...</td>\n",
       "    </tr>\n",
       "    <tr>\n",
       "      <th>1</th>\n",
       "      <td>Malaria</td>\n",
       "      <td>an infectious disease caused by protozoan para...</td>\n",
       "    </tr>\n",
       "    <tr>\n",
       "      <th>2</th>\n",
       "      <td>Allergy</td>\n",
       "      <td>an this disease is an immune system response t...</td>\n",
       "    </tr>\n",
       "    <tr>\n",
       "      <th>3</th>\n",
       "      <td>Hypothyroidism</td>\n",
       "      <td>this disease, also called underactive thyroid ...</td>\n",
       "    </tr>\n",
       "    <tr>\n",
       "      <th>4</th>\n",
       "      <td>Psoriasis</td>\n",
       "      <td>this disease is a common skin disorder that fo...</td>\n",
       "    </tr>\n",
       "  </tbody>\n",
       "</table>\n",
       "</div>"
      ],
      "text/plain": [
       "          Disease                                        Description\n",
       "0   Drug Reaction  an adverse this disease (adr) is an injury cau...\n",
       "1         Malaria  an infectious disease caused by protozoan para...\n",
       "2         Allergy  an this disease is an immune system response t...\n",
       "3  Hypothyroidism  this disease, also called underactive thyroid ...\n",
       "4       Psoriasis  this disease is a common skin disorder that fo..."
      ]
     },
     "execution_count": 5,
     "metadata": {},
     "output_type": "execute_result"
    }
   ],
   "source": [
    "# Let's also preprocess data ready for using\n",
    "# in some Description Disease name is present replace it with 'disease'\n",
    "\n",
    "# Function to replace disease name in description with \"this disease\" (case-insensitive)\n",
    "def replace_disease_with_this_disease(row):\n",
    "    disease = row['Disease'].lower()\n",
    "    description = row['Description'].lower()\n",
    "    updated_description = description.replace(disease, 'this disease')\n",
    "    return updated_description\n",
    "\n",
    "# Apply the function to the Description column\n",
    "symptom_description_kaggle['Description'] = symptom_description_kaggle.apply(replace_disease_with_this_disease, axis=1)\n",
    "symptom_description_kaggle.head()"
   ]
  },
  {
   "cell_type": "code",
   "execution_count": 6,
   "metadata": {
    "colab": {
     "base_uri": "https://localhost:8080/",
     "height": 313
    },
    "id": "mCNEmiwCE5PN",
    "outputId": "a2e72115-96fa-4888-9de2-de8541418921"
   },
   "outputs": [
    {
     "data": {
      "text/html": [
       "<div>\n",
       "<style scoped>\n",
       "    .dataframe tbody tr th:only-of-type {\n",
       "        vertical-align: middle;\n",
       "    }\n",
       "\n",
       "    .dataframe tbody tr th {\n",
       "        vertical-align: top;\n",
       "    }\n",
       "\n",
       "    .dataframe thead th {\n",
       "        text-align: right;\n",
       "    }\n",
       "</style>\n",
       "<table border=\"1\" class=\"dataframe\">\n",
       "  <thead>\n",
       "    <tr style=\"text-align: right;\">\n",
       "      <th></th>\n",
       "      <th>Disease</th>\n",
       "      <th>Symptom_1</th>\n",
       "      <th>Symptom_2</th>\n",
       "      <th>Symptom_3</th>\n",
       "      <th>Symptom_4</th>\n",
       "      <th>Symptom_5</th>\n",
       "      <th>Symptom_6</th>\n",
       "      <th>Symptom_7</th>\n",
       "      <th>Symptom_8</th>\n",
       "      <th>Symptom_9</th>\n",
       "      <th>Symptom_10</th>\n",
       "      <th>Symptom_11</th>\n",
       "      <th>Symptom_12</th>\n",
       "      <th>Symptom_13</th>\n",
       "      <th>Symptom_14</th>\n",
       "      <th>Symptom_15</th>\n",
       "      <th>Symptom_16</th>\n",
       "      <th>Symptom_17</th>\n",
       "    </tr>\n",
       "  </thead>\n",
       "  <tbody>\n",
       "    <tr>\n",
       "      <th>0</th>\n",
       "      <td>Fungal infection</td>\n",
       "      <td>itching</td>\n",
       "      <td>skin_rash</td>\n",
       "      <td>nodal_skin_eruptions</td>\n",
       "      <td>dischromic _patches</td>\n",
       "      <td>NaN</td>\n",
       "      <td>NaN</td>\n",
       "      <td>NaN</td>\n",
       "      <td>NaN</td>\n",
       "      <td>NaN</td>\n",
       "      <td>NaN</td>\n",
       "      <td>NaN</td>\n",
       "      <td>NaN</td>\n",
       "      <td>NaN</td>\n",
       "      <td>NaN</td>\n",
       "      <td>NaN</td>\n",
       "      <td>NaN</td>\n",
       "      <td>NaN</td>\n",
       "    </tr>\n",
       "    <tr>\n",
       "      <th>1</th>\n",
       "      <td>Fungal infection</td>\n",
       "      <td>skin_rash</td>\n",
       "      <td>nodal_skin_eruptions</td>\n",
       "      <td>dischromic _patches</td>\n",
       "      <td>NaN</td>\n",
       "      <td>NaN</td>\n",
       "      <td>NaN</td>\n",
       "      <td>NaN</td>\n",
       "      <td>NaN</td>\n",
       "      <td>NaN</td>\n",
       "      <td>NaN</td>\n",
       "      <td>NaN</td>\n",
       "      <td>NaN</td>\n",
       "      <td>NaN</td>\n",
       "      <td>NaN</td>\n",
       "      <td>NaN</td>\n",
       "      <td>NaN</td>\n",
       "      <td>NaN</td>\n",
       "    </tr>\n",
       "    <tr>\n",
       "      <th>2</th>\n",
       "      <td>Fungal infection</td>\n",
       "      <td>itching</td>\n",
       "      <td>nodal_skin_eruptions</td>\n",
       "      <td>dischromic _patches</td>\n",
       "      <td>NaN</td>\n",
       "      <td>NaN</td>\n",
       "      <td>NaN</td>\n",
       "      <td>NaN</td>\n",
       "      <td>NaN</td>\n",
       "      <td>NaN</td>\n",
       "      <td>NaN</td>\n",
       "      <td>NaN</td>\n",
       "      <td>NaN</td>\n",
       "      <td>NaN</td>\n",
       "      <td>NaN</td>\n",
       "      <td>NaN</td>\n",
       "      <td>NaN</td>\n",
       "      <td>NaN</td>\n",
       "    </tr>\n",
       "    <tr>\n",
       "      <th>3</th>\n",
       "      <td>Fungal infection</td>\n",
       "      <td>itching</td>\n",
       "      <td>skin_rash</td>\n",
       "      <td>dischromic _patches</td>\n",
       "      <td>NaN</td>\n",
       "      <td>NaN</td>\n",
       "      <td>NaN</td>\n",
       "      <td>NaN</td>\n",
       "      <td>NaN</td>\n",
       "      <td>NaN</td>\n",
       "      <td>NaN</td>\n",
       "      <td>NaN</td>\n",
       "      <td>NaN</td>\n",
       "      <td>NaN</td>\n",
       "      <td>NaN</td>\n",
       "      <td>NaN</td>\n",
       "      <td>NaN</td>\n",
       "      <td>NaN</td>\n",
       "    </tr>\n",
       "    <tr>\n",
       "      <th>4</th>\n",
       "      <td>Fungal infection</td>\n",
       "      <td>itching</td>\n",
       "      <td>skin_rash</td>\n",
       "      <td>nodal_skin_eruptions</td>\n",
       "      <td>NaN</td>\n",
       "      <td>NaN</td>\n",
       "      <td>NaN</td>\n",
       "      <td>NaN</td>\n",
       "      <td>NaN</td>\n",
       "      <td>NaN</td>\n",
       "      <td>NaN</td>\n",
       "      <td>NaN</td>\n",
       "      <td>NaN</td>\n",
       "      <td>NaN</td>\n",
       "      <td>NaN</td>\n",
       "      <td>NaN</td>\n",
       "      <td>NaN</td>\n",
       "      <td>NaN</td>\n",
       "    </tr>\n",
       "  </tbody>\n",
       "</table>\n",
       "</div>"
      ],
      "text/plain": [
       "            Disease   Symptom_1              Symptom_2              Symptom_3  \\\n",
       "0  Fungal infection     itching              skin_rash   nodal_skin_eruptions   \n",
       "1  Fungal infection   skin_rash   nodal_skin_eruptions    dischromic _patches   \n",
       "2  Fungal infection     itching   nodal_skin_eruptions    dischromic _patches   \n",
       "3  Fungal infection     itching              skin_rash    dischromic _patches   \n",
       "4  Fungal infection     itching              skin_rash   nodal_skin_eruptions   \n",
       "\n",
       "              Symptom_4 Symptom_5 Symptom_6 Symptom_7 Symptom_8 Symptom_9  \\\n",
       "0   dischromic _patches       NaN       NaN       NaN       NaN       NaN   \n",
       "1                   NaN       NaN       NaN       NaN       NaN       NaN   \n",
       "2                   NaN       NaN       NaN       NaN       NaN       NaN   \n",
       "3                   NaN       NaN       NaN       NaN       NaN       NaN   \n",
       "4                   NaN       NaN       NaN       NaN       NaN       NaN   \n",
       "\n",
       "  Symptom_10 Symptom_11 Symptom_12 Symptom_13 Symptom_14 Symptom_15  \\\n",
       "0        NaN        NaN        NaN        NaN        NaN        NaN   \n",
       "1        NaN        NaN        NaN        NaN        NaN        NaN   \n",
       "2        NaN        NaN        NaN        NaN        NaN        NaN   \n",
       "3        NaN        NaN        NaN        NaN        NaN        NaN   \n",
       "4        NaN        NaN        NaN        NaN        NaN        NaN   \n",
       "\n",
       "  Symptom_16 Symptom_17  \n",
       "0        NaN        NaN  \n",
       "1        NaN        NaN  \n",
       "2        NaN        NaN  \n",
       "3        NaN        NaN  \n",
       "4        NaN        NaN  "
      ]
     },
     "execution_count": 6,
     "metadata": {},
     "output_type": "execute_result"
    }
   ],
   "source": [
    "disease_symptom_prediction_kaggle.head()"
   ]
  },
  {
   "cell_type": "code",
   "execution_count": 7,
   "metadata": {
    "colab": {
     "base_uri": "https://localhost:8080/",
     "height": 206
    },
    "id": "2xGYaEd0I3LB",
    "outputId": "98108e66-62e9-4be1-fca6-3673cecc2760"
   },
   "outputs": [
    {
     "data": {
      "text/html": [
       "<div>\n",
       "<style scoped>\n",
       "    .dataframe tbody tr th:only-of-type {\n",
       "        vertical-align: middle;\n",
       "    }\n",
       "\n",
       "    .dataframe tbody tr th {\n",
       "        vertical-align: top;\n",
       "    }\n",
       "\n",
       "    .dataframe thead th {\n",
       "        text-align: right;\n",
       "    }\n",
       "</style>\n",
       "<table border=\"1\" class=\"dataframe\">\n",
       "  <thead>\n",
       "    <tr style=\"text-align: right;\">\n",
       "      <th></th>\n",
       "      <th>Disease</th>\n",
       "      <th>Description</th>\n",
       "    </tr>\n",
       "  </thead>\n",
       "  <tbody>\n",
       "    <tr>\n",
       "      <th>0</th>\n",
       "      <td>Fungal infection</td>\n",
       "      <td>itching  skin_rash  nodal_skin_eruptions  disc...</td>\n",
       "    </tr>\n",
       "    <tr>\n",
       "      <th>1</th>\n",
       "      <td>Fungal infection</td>\n",
       "      <td>skin_rash  nodal_skin_eruptions  dischromic _...</td>\n",
       "    </tr>\n",
       "    <tr>\n",
       "      <th>2</th>\n",
       "      <td>Fungal infection</td>\n",
       "      <td>itching  nodal_skin_eruptions  dischromic _pat...</td>\n",
       "    </tr>\n",
       "    <tr>\n",
       "      <th>3</th>\n",
       "      <td>Fungal infection</td>\n",
       "      <td>itching  skin_rash  dischromic _patches</td>\n",
       "    </tr>\n",
       "    <tr>\n",
       "      <th>4</th>\n",
       "      <td>Fungal infection</td>\n",
       "      <td>itching  skin_rash  nodal_skin_eruptions</td>\n",
       "    </tr>\n",
       "  </tbody>\n",
       "</table>\n",
       "</div>"
      ],
      "text/plain": [
       "            Disease                                        Description\n",
       "0  Fungal infection  itching  skin_rash  nodal_skin_eruptions  disc...\n",
       "1  Fungal infection   skin_rash  nodal_skin_eruptions  dischromic _...\n",
       "2  Fungal infection  itching  nodal_skin_eruptions  dischromic _pat...\n",
       "3  Fungal infection            itching  skin_rash  dischromic _patches\n",
       "4  Fungal infection           itching  skin_rash  nodal_skin_eruptions"
      ]
     },
     "execution_count": 7,
     "metadata": {},
     "output_type": "execute_result"
    }
   ],
   "source": [
    "# Let's prepare symptoms dataset\n",
    "\n",
    "# Combine symptom columns into a single description column\n",
    "symptom_columns = [f'Symptom_{i}' for i in range(1, 18)]\n",
    "disease_symptom_prediction_kaggle['Description'] = disease_symptom_prediction_kaggle[symptom_columns].apply(lambda row: ' '.join(row.dropna().astype(str)), axis=1)\n",
    "\n",
    "# Drop the individual symptom columns\n",
    "disease_symptom_prediction_kaggle = disease_symptom_prediction_kaggle.drop(columns=symptom_columns)\n",
    "\n",
    "disease_symptom_prediction_kaggle.head()"
   ]
  },
  {
   "cell_type": "code",
   "execution_count": 8,
   "metadata": {
    "colab": {
     "base_uri": "https://localhost:8080/",
     "height": 206
    },
    "id": "sT0WHPpF9sJ_",
    "outputId": "192d9426-8afc-455c-932b-b9d6634273bb"
   },
   "outputs": [
    {
     "data": {
      "text/html": [
       "<div>\n",
       "<style scoped>\n",
       "    .dataframe tbody tr th:only-of-type {\n",
       "        vertical-align: middle;\n",
       "    }\n",
       "\n",
       "    .dataframe tbody tr th {\n",
       "        vertical-align: top;\n",
       "    }\n",
       "\n",
       "    .dataframe thead th {\n",
       "        text-align: right;\n",
       "    }\n",
       "</style>\n",
       "<table border=\"1\" class=\"dataframe\">\n",
       "  <thead>\n",
       "    <tr style=\"text-align: right;\">\n",
       "      <th></th>\n",
       "      <th>Disease</th>\n",
       "      <th>Description</th>\n",
       "    </tr>\n",
       "  </thead>\n",
       "  <tbody>\n",
       "    <tr>\n",
       "      <th>0</th>\n",
       "      <td>Drug Reaction</td>\n",
       "      <td>an adverse this disease (adr) is an injury cau...</td>\n",
       "    </tr>\n",
       "    <tr>\n",
       "      <th>1</th>\n",
       "      <td>Malaria</td>\n",
       "      <td>an infectious disease caused by protozoan para...</td>\n",
       "    </tr>\n",
       "    <tr>\n",
       "      <th>2</th>\n",
       "      <td>Allergy</td>\n",
       "      <td>an this disease is an immune system response t...</td>\n",
       "    </tr>\n",
       "    <tr>\n",
       "      <th>3</th>\n",
       "      <td>Hypothyroidism</td>\n",
       "      <td>this disease, also called underactive thyroid ...</td>\n",
       "    </tr>\n",
       "    <tr>\n",
       "      <th>4</th>\n",
       "      <td>Psoriasis</td>\n",
       "      <td>this disease is a common skin disorder that fo...</td>\n",
       "    </tr>\n",
       "  </tbody>\n",
       "</table>\n",
       "</div>"
      ],
      "text/plain": [
       "          Disease                                        Description\n",
       "0   Drug Reaction  an adverse this disease (adr) is an injury cau...\n",
       "1         Malaria  an infectious disease caused by protozoan para...\n",
       "2         Allergy  an this disease is an immune system response t...\n",
       "3  Hypothyroidism  this disease, also called underactive thyroid ...\n",
       "4       Psoriasis  this disease is a common skin disorder that fo..."
      ]
     },
     "execution_count": 8,
     "metadata": {},
     "output_type": "execute_result"
    }
   ],
   "source": [
    "symptom_description_kaggle.head()"
   ]
  },
  {
   "cell_type": "code",
   "execution_count": 9,
   "metadata": {
    "colab": {
     "base_uri": "https://localhost:8080/",
     "height": 345
    },
    "id": "xnfU5BEXE7J5",
    "outputId": "553ada1d-15ce-4080-fcb5-26f8a60437f7"
   },
   "outputs": [
    {
     "data": {
      "text/html": [
       "<div>\n",
       "<style scoped>\n",
       "    .dataframe tbody tr th:only-of-type {\n",
       "        vertical-align: middle;\n",
       "    }\n",
       "\n",
       "    .dataframe tbody tr th {\n",
       "        vertical-align: top;\n",
       "    }\n",
       "\n",
       "    .dataframe thead th {\n",
       "        text-align: right;\n",
       "    }\n",
       "</style>\n",
       "<table border=\"1\" class=\"dataframe\">\n",
       "  <thead>\n",
       "    <tr style=\"text-align: right;\">\n",
       "      <th></th>\n",
       "      <th>idx</th>\n",
       "      <th>disease</th>\n",
       "      <th>Symptom</th>\n",
       "      <th>reason</th>\n",
       "      <th>TestsAndProcedures</th>\n",
       "      <th>commonMedications</th>\n",
       "    </tr>\n",
       "  </thead>\n",
       "  <tbody>\n",
       "    <tr>\n",
       "      <th>0</th>\n",
       "      <td>0</td>\n",
       "      <td>Panic disorder</td>\n",
       "      <td>['Anxiety and nervousness', 'Depression', 'Sho...</td>\n",
       "      <td>Panic disorder is an anxiety disorder characte...</td>\n",
       "      <td>['Psychotherapy', 'Mental health counseling', ...</td>\n",
       "      <td>['Lorazepam', 'Alprazolam (Xanax)', 'Clonazepa...</td>\n",
       "    </tr>\n",
       "    <tr>\n",
       "      <th>1</th>\n",
       "      <td>1</td>\n",
       "      <td>Vocal cord polyp</td>\n",
       "      <td>['Hoarse voice', 'Sore throat', 'Difficulty sp...</td>\n",
       "      <td>beclomethasone nasal product,</td>\n",
       "      <td>['Tracheoscopy and laryngoscopy with biopsy', ...</td>\n",
       "      <td>['Esomeprazole (Nexium)', 'Beclomethasone Nasa...</td>\n",
       "    </tr>\n",
       "    <tr>\n",
       "      <th>2</th>\n",
       "      <td>2</td>\n",
       "      <td>Turner syndrome</td>\n",
       "      <td>['Groin mass', 'Leg pain', 'Hip pain', 'Suprap...</td>\n",
       "      <td>Turner syndrome or Ullrich\\xe2\\x80\\x93Turner s...</td>\n",
       "      <td>['Complete physical skin exam performed (ML)',...</td>\n",
       "      <td>['Somatropin', 'Sulfamethoxazole (Bactrim)', '...</td>\n",
       "    </tr>\n",
       "    <tr>\n",
       "      <th>3</th>\n",
       "      <td>3</td>\n",
       "      <td>Cryptorchidism</td>\n",
       "      <td>['Symptoms of the scrotum and testes', 'Swelli...</td>\n",
       "      <td>Cryptorchidism (derived from the Greek \\xce\\xb...</td>\n",
       "      <td>['Complete physical skin exam performed (ML)',...</td>\n",
       "      <td>['Haemophilus B Conjugate Vaccine (Obsolete)',...</td>\n",
       "    </tr>\n",
       "    <tr>\n",
       "      <th>4</th>\n",
       "      <td>4</td>\n",
       "      <td>Poisoning due to ethylene glycol</td>\n",
       "      <td>['Abusing alcohol', 'Fainting', 'Hostile behav...</td>\n",
       "      <td>thiamine,</td>\n",
       "      <td>['Intravenous fluid replacement', 'Hematologic...</td>\n",
       "      <td>['Lorazepam', 'Thiamine', 'Naloxone (Suboxone)...</td>\n",
       "    </tr>\n",
       "  </tbody>\n",
       "</table>\n",
       "</div>"
      ],
      "text/plain": [
       "   idx                           disease  \\\n",
       "0    0                    Panic disorder   \n",
       "1    1                  Vocal cord polyp   \n",
       "2    2                   Turner syndrome   \n",
       "3    3                    Cryptorchidism   \n",
       "4    4  Poisoning due to ethylene glycol   \n",
       "\n",
       "                                             Symptom  \\\n",
       "0  ['Anxiety and nervousness', 'Depression', 'Sho...   \n",
       "1  ['Hoarse voice', 'Sore throat', 'Difficulty sp...   \n",
       "2  ['Groin mass', 'Leg pain', 'Hip pain', 'Suprap...   \n",
       "3  ['Symptoms of the scrotum and testes', 'Swelli...   \n",
       "4  ['Abusing alcohol', 'Fainting', 'Hostile behav...   \n",
       "\n",
       "                                              reason  \\\n",
       "0  Panic disorder is an anxiety disorder characte...   \n",
       "1                     beclomethasone nasal product,    \n",
       "2  Turner syndrome or Ullrich\\xe2\\x80\\x93Turner s...   \n",
       "3  Cryptorchidism (derived from the Greek \\xce\\xb...   \n",
       "4                                         thiamine,    \n",
       "\n",
       "                                  TestsAndProcedures  \\\n",
       "0  ['Psychotherapy', 'Mental health counseling', ...   \n",
       "1  ['Tracheoscopy and laryngoscopy with biopsy', ...   \n",
       "2  ['Complete physical skin exam performed (ML)',...   \n",
       "3  ['Complete physical skin exam performed (ML)',...   \n",
       "4  ['Intravenous fluid replacement', 'Hematologic...   \n",
       "\n",
       "                                   commonMedications  \n",
       "0  ['Lorazepam', 'Alprazolam (Xanax)', 'Clonazepa...  \n",
       "1  ['Esomeprazole (Nexium)', 'Beclomethasone Nasa...  \n",
       "2  ['Somatropin', 'Sulfamethoxazole (Bactrim)', '...  \n",
       "3  ['Haemophilus B Conjugate Vaccine (Obsolete)',...  \n",
       "4  ['Lorazepam', 'Thiamine', 'Naloxone (Suboxone)...  "
      ]
     },
     "execution_count": 9,
     "metadata": {},
     "output_type": "execute_result"
    }
   ],
   "source": [
    "chatdoctor_format_df.head()"
   ]
  },
  {
   "cell_type": "code",
   "execution_count": 10,
   "metadata": {},
   "outputs": [
    {
     "data": {
      "text/html": [
       "<div>\n",
       "<style scoped>\n",
       "    .dataframe tbody tr th:only-of-type {\n",
       "        vertical-align: middle;\n",
       "    }\n",
       "\n",
       "    .dataframe tbody tr th {\n",
       "        vertical-align: top;\n",
       "    }\n",
       "\n",
       "    .dataframe thead th {\n",
       "        text-align: right;\n",
       "    }\n",
       "</style>\n",
       "<table border=\"1\" class=\"dataframe\">\n",
       "  <thead>\n",
       "    <tr style=\"text-align: right;\">\n",
       "      <th></th>\n",
       "      <th>Disease</th>\n",
       "      <th>Description</th>\n",
       "    </tr>\n",
       "  </thead>\n",
       "  <tbody>\n",
       "    <tr>\n",
       "      <th>0</th>\n",
       "      <td>Fungal infection</td>\n",
       "      <td>itching  skin_rash  nodal_skin_eruptions  disc...</td>\n",
       "    </tr>\n",
       "    <tr>\n",
       "      <th>1</th>\n",
       "      <td>Fungal infection</td>\n",
       "      <td>skin_rash  nodal_skin_eruptions  dischromic _...</td>\n",
       "    </tr>\n",
       "    <tr>\n",
       "      <th>2</th>\n",
       "      <td>Fungal infection</td>\n",
       "      <td>itching  nodal_skin_eruptions  dischromic _pat...</td>\n",
       "    </tr>\n",
       "    <tr>\n",
       "      <th>3</th>\n",
       "      <td>Fungal infection</td>\n",
       "      <td>itching  skin_rash  dischromic _patches</td>\n",
       "    </tr>\n",
       "    <tr>\n",
       "      <th>4</th>\n",
       "      <td>Fungal infection</td>\n",
       "      <td>itching  skin_rash  nodal_skin_eruptions</td>\n",
       "    </tr>\n",
       "  </tbody>\n",
       "</table>\n",
       "</div>"
      ],
      "text/plain": [
       "            Disease                                        Description\n",
       "0  Fungal infection  itching  skin_rash  nodal_skin_eruptions  disc...\n",
       "1  Fungal infection   skin_rash  nodal_skin_eruptions  dischromic _...\n",
       "2  Fungal infection  itching  nodal_skin_eruptions  dischromic _pat...\n",
       "3  Fungal infection            itching  skin_rash  dischromic _patches\n",
       "4  Fungal infection           itching  skin_rash  nodal_skin_eruptions"
      ]
     },
     "execution_count": 10,
     "metadata": {},
     "output_type": "execute_result"
    }
   ],
   "source": [
    "disease_symptom_prediction_kaggle.head()"
   ]
  },
  {
   "cell_type": "code",
   "execution_count": 11,
   "metadata": {
    "colab": {
     "base_uri": "https://localhost:8080/",
     "height": 293
    },
    "id": "pPQXKYp7SDep",
    "outputId": "7dad4cbe-b87b-4c7c-9c79-571da61626e4"
   },
   "outputs": [
    {
     "data": {
      "text/html": [
       "<div>\n",
       "<style scoped>\n",
       "    .dataframe tbody tr th:only-of-type {\n",
       "        vertical-align: middle;\n",
       "    }\n",
       "\n",
       "    .dataframe tbody tr th {\n",
       "        vertical-align: top;\n",
       "    }\n",
       "\n",
       "    .dataframe thead th {\n",
       "        text-align: right;\n",
       "    }\n",
       "</style>\n",
       "<table border=\"1\" class=\"dataframe\">\n",
       "  <thead>\n",
       "    <tr style=\"text-align: right;\">\n",
       "      <th></th>\n",
       "      <th>Disease</th>\n",
       "      <th>Description</th>\n",
       "    </tr>\n",
       "  </thead>\n",
       "  <tbody>\n",
       "    <tr>\n",
       "      <th>0</th>\n",
       "      <td>Panic disorder</td>\n",
       "      <td>['Anxiety and nervousness', 'Depression', 'Sho...</td>\n",
       "    </tr>\n",
       "    <tr>\n",
       "      <th>1</th>\n",
       "      <td>Vocal cord polyp</td>\n",
       "      <td>['Hoarse voice', 'Sore throat', 'Difficulty sp...</td>\n",
       "    </tr>\n",
       "    <tr>\n",
       "      <th>2</th>\n",
       "      <td>Turner syndrome</td>\n",
       "      <td>['Groin mass', 'Leg pain', 'Hip pain', 'Suprap...</td>\n",
       "    </tr>\n",
       "    <tr>\n",
       "      <th>3</th>\n",
       "      <td>Cryptorchidism</td>\n",
       "      <td>['Symptoms of the scrotum and testes', 'Swelli...</td>\n",
       "    </tr>\n",
       "    <tr>\n",
       "      <th>4</th>\n",
       "      <td>Poisoning due to ethylene glycol</td>\n",
       "      <td>['Abusing alcohol', 'Fainting', 'Hostile behav...</td>\n",
       "    </tr>\n",
       "  </tbody>\n",
       "</table>\n",
       "</div>"
      ],
      "text/plain": [
       "                            Disease  \\\n",
       "0                    Panic disorder   \n",
       "1                  Vocal cord polyp   \n",
       "2                   Turner syndrome   \n",
       "3                    Cryptorchidism   \n",
       "4  Poisoning due to ethylene glycol   \n",
       "\n",
       "                                         Description  \n",
       "0  ['Anxiety and nervousness', 'Depression', 'Sho...  \n",
       "1  ['Hoarse voice', 'Sore throat', 'Difficulty sp...  \n",
       "2  ['Groin mass', 'Leg pain', 'Hip pain', 'Suprap...  \n",
       "3  ['Symptoms of the scrotum and testes', 'Swelli...  \n",
       "4  ['Abusing alcohol', 'Fainting', 'Hostile behav...  "
      ]
     },
     "execution_count": 11,
     "metadata": {},
     "output_type": "execute_result"
    }
   ],
   "source": [
    "# Let's prepare chatdoctor_format_df\n",
    "\n",
    "# Keep only 'disease' and 'Symptom' columns, drop all others\n",
    "chatdoctor_format_df = chatdoctor_format_df[['disease', 'Symptom']]\n",
    "\n",
    "# Rename columns to match the expected format for the generate_disease_gpt function\n",
    "chatdoctor_format_df = chatdoctor_format_df.rename(columns={'disease': 'Disease', 'Symptom': 'Description'})\n",
    "\n",
    "chatdoctor_format_df.head()"
   ]
  },
  {
   "cell_type": "code",
   "execution_count": 12,
   "metadata": {
    "colab": {
     "base_uri": "https://localhost:8080/"
    },
    "id": "dnt2Vc2B9goW",
    "outputId": "5931a57f-b6f0-413f-c6dc-2abef09603c6"
   },
   "outputs": [
    {
     "data": {
      "text/plain": [
       "(41, 4920, 796)"
      ]
     },
     "execution_count": 12,
     "metadata": {},
     "output_type": "execute_result"
    }
   ],
   "source": [
    "len(symptom_description_kaggle), len(disease_symptom_prediction_kaggle), len(chatdoctor_format_df)"
   ]
  },
  {
   "cell_type": "code",
   "execution_count": 13,
   "metadata": {
    "id": "Eryzi7i1BdBa"
   },
   "outputs": [],
   "source": [
    "# Data Sets 1\n",
    "# 1.a - symptom_description_kaggle\n",
    "# 1.b - disease_symptom_prediction_kaggle\n",
    "# 1.c - chatdoctor_format_df"
   ]
  },
  {
   "cell_type": "markdown",
   "metadata": {},
   "source": [
    "## 4. Accuracy Models"
   ]
  },
  {
   "cell_type": "markdown",
   "metadata": {},
   "source": [
    "In the earlier adoptions accuracy model 1 was naive and not capturing some intricacies of the words. For this reason we have introduced a second accuracy model where we will also compare the results and work with the new accuracy model.\n",
    "\n",
    "For this we are making the accuracy model as an input parameter to the functions we use for Lanugage Models.\n",
    "\n",
    "P.S. We will present the results of the accuracy model enhacements in the section #### 5.2.1 GPT2 below."
   ]
  },
  {
   "cell_type": "code",
   "execution_count": 14,
   "metadata": {},
   "outputs": [],
   "source": [
    "### Accuracy Model 1\n",
    "\n",
    "def is_disease_in_prediction_1(row):\n",
    "    disease = row['Disease'].lower().strip()\n",
    "    predicted_disease = row['Predicted Disease'].lower().strip()\n",
    "    # Exact match check\n",
    "    if disease == predicted_disease:\n",
    "        return True\n",
    "    # Word match check\n",
    "    disease_words = set(disease.split())\n",
    "    predicted_words = set(predicted_disease.split())\n",
    "    return not disease_words.isdisjoint(predicted_words)"
   ]
  },
  {
   "cell_type": "markdown",
   "metadata": {},
   "source": [
    "While improving the accuracy model we have made following adjustments:\n",
    "\n",
    "1. Fuzzy Matching: Handle cases with minor misspellings and differences using fuzzy string matching.\n",
    "2. Synonym Matching: Use a medical dictionary or thesaurus to account for synonyms or common abbreviations in disease names.\n",
    "3. Symbol and Character Normalization: Normalize special characters (e.g., hyphens, slashes) to handle cases like \"diabetes-mellitus\" vs. \"diabetes mellitus\".\n",
    "4. Levenshtein Distance: Use edit distance (Levenshtein distance) to check for closeness between disease names.\n",
    "5. Partial Matches: Capture common words or substrings in disease names to account for possible abbreviations or incomplete predictions.\n",
    "6. We have played with hyperparameters fuzz.ratio and thresholds for Levensthein Distance"
   ]
  },
  {
   "cell_type": "code",
   "execution_count": 15,
   "metadata": {},
   "outputs": [],
   "source": [
    "def normalize_text(text):\n",
    "    \"\"\"Function to clean and normalize text\"\"\"\n",
    "    text = text.lower().strip()\n",
    "    # Remove special characters and normalize spaces\n",
    "    text = re.sub(r'[^\\w\\s]', ' ', text)  # Replaces anything that is not a word or space with a space\n",
    "    text = re.sub(r'\\s+', ' ', text)  # Collapses multiple spaces into one\n",
    "    return text\n",
    "\n",
    "def is_disease_in_prediction_2(row, threshold=80):\n",
    "    \"\"\"\n",
    "    Function to determine if the predicted disease matches the actual disease,\n",
    "    accounting for minor misspellings, synonyms, and partial matches.\n",
    "    \"\"\"\n",
    "    disease = normalize_text(row['Disease'])\n",
    "    predicted_disease = normalize_text(row['Predicted Disease'])\n",
    "\n",
    "    # Exact match check\n",
    "    if disease == predicted_disease:\n",
    "        return True\n",
    "\n",
    "    # Fuzzy matching using token sort ratio (ignores word order)\n",
    "    if fuzz.token_sort_ratio(disease, predicted_disease) >= threshold:\n",
    "        return True\n",
    "\n",
    "    # Check if any words from the actual disease are in the prediction (partial match)\n",
    "    disease_words = set(disease.split())\n",
    "    predicted_words = set(predicted_disease.split())\n",
    "    if not disease_words.isdisjoint(predicted_words):\n",
    "        return True\n",
    "    \n",
    "    return False"
   ]
  },
  {
   "cell_type": "markdown",
   "metadata": {},
   "source": [
    "## 5. Threshold Models"
   ]
  },
  {
   "cell_type": "markdown",
   "metadata": {
    "id": "-_lbbB3gA0J2"
   },
   "source": [
    "### 5.1 Building Language models with Transformers Hugging Face\n",
    "\n",
    "There are some other Language Models that we can use as well as specific medical ones thru Hugging Face Transformer method. However ChatGPT 3 can not be used as it requires its own API connection.\n",
    "\n",
    "GPT and GPT-2 Variants:\n",
    "- 'gpt2': The original GPT-2 model.\n",
    "- 'gpt2-medium': A medium-sized GPT-2 model.\n",
    "- 'gpt2-large': A large-sized GPT-2 model.\n",
    "- 'gpt2-xl': An extra-large-sized GPT-2 model.\n",
    "\n",
    "Bert:\n",
    "- 'bert-base-uncased'\n",
    "- 'bert-large-uncased'\n",
    "- 'roberta-base'\n",
    "- 'roberta-large'\n",
    "\n",
    "Medical Versions:\n",
    "- BioBERT: 'emilyalsentzer/Bio_ClinicalBERT' / 'dmis-lab/biobert-v1.1'\n",
    "- ClinicalBERT: 'bionlp/bluebert_pubmed_mimic_uncased_L-12_H-768_A-12'"
   ]
  },
  {
   "cell_type": "markdown",
   "metadata": {
    "id": "FAMRKRuNEu5W"
   },
   "source": [
    "#### 5.1.1. GPT"
   ]
  },
  {
   "cell_type": "markdown",
   "metadata": {},
   "source": [
    "We are treating GPT Language Models in this part still part of Threshold models as they are earlier versions of Large Language Models and can be used from Transformers directly.\n",
    "\n",
    "However we will test more complex GPT models such as GPT 3, 3.5, 4 in LLM part in the further sections."
   ]
  },
  {
   "cell_type": "code",
   "execution_count": 16,
   "metadata": {
    "id": "kDft-V_1EwEr"
   },
   "outputs": [],
   "source": [
    "def generate_disease_gpt(model_name, dataframe, accuracy_model, batch_size=16):\n",
    "    model = AutoModelForCausalLM.from_pretrained(model_name)\n",
    "    tokenizer = AutoTokenizer.from_pretrained(model_name, padding_side='left')\n",
    "    \n",
    "    if tokenizer.pad_token is None:\n",
    "        tokenizer.add_special_tokens({'pad_token': tokenizer.eos_token})\n",
    "\n",
    "    def generate_disease_batch(descriptions, model, tokenizer):\n",
    "        input_texts = [f\"Patient description: {description}\\nPossible disease diagnosis:\" for description in descriptions]\n",
    "        inputs = tokenizer(input_texts, return_tensors='pt', padding=True, truncation=True)\n",
    "        outputs = model.generate(\n",
    "            inputs['input_ids'],\n",
    "            attention_mask=inputs['attention_mask'],\n",
    "            max_new_tokens=50,\n",
    "            num_return_sequences=1,\n",
    "            pad_token_id=tokenizer.eos_token_id\n",
    "        )\n",
    "        generated_texts = [tokenizer.decode(output, skip_special_tokens=True) for output in outputs]\n",
    "        \n",
    "        # Post-processing to extract disease diagnosis\n",
    "        diseases = []\n",
    "        for text in generated_texts:\n",
    "            diagnosis = text.split(\"Possible disease diagnosis:\")[-1].strip()\n",
    "            # Further refine by removing any trailing sentences after the first sentence\n",
    "            if '.' in diagnosis:\n",
    "                diagnosis = diagnosis.split('.')[0].strip()\n",
    "            diseases.append(diagnosis if diagnosis else \"unknown\")\n",
    "        \n",
    "        return diseases\n",
    "\n",
    "    all_descriptions = dataframe['Description'].tolist()\n",
    "    all_predictions = []\n",
    "\n",
    "    for i in tqdm(range(0, len(all_descriptions), batch_size)):\n",
    "        batch_descriptions = all_descriptions[i:i + batch_size]\n",
    "        batch_predictions = generate_disease_batch(batch_descriptions, model, tokenizer)\n",
    "        all_predictions.extend(batch_predictions)\n",
    "\n",
    "    dataframe['Predicted Disease'] = all_predictions\n",
    "    \n",
    "    dataframe['Is Correct Prediction'] = dataframe.apply(accuracy_model, axis=1)\n",
    "    accuracy = dataframe['Is Correct Prediction'].mean()\n",
    "\n",
    "    print(f\"Accuracy of model - {model_name}: {accuracy * 100:.2f}%\")\n",
    "    print(dataframe.head(10))\n",
    "\n",
    "    return dataframe"
   ]
  },
  {
   "cell_type": "markdown",
   "metadata": {
    "id": "oxCCqbytE25J"
   },
   "source": [
    "#### 5.1.2. BERT MODEL"
   ]
  },
  {
   "cell_type": "code",
   "execution_count": 70,
   "metadata": {
    "id": "vD31ZR13E3xO"
   },
   "outputs": [],
   "source": [
    "def predict_disease_bert(model_name, dataframe, accuracy_model, max_length=128, batch_size=16):\n",
    "    # Load the tokenizer and model\n",
    "    tokenizer = AutoTokenizer.from_pretrained(model_name)\n",
    "    model = AutoModelForSequenceClassification.from_pretrained(model_name)\n",
    "\n",
    "    # Get unique disease labels from the provided dataframe\n",
    "    disease_labels = list(dataframe['Disease'].unique())\n",
    "    label_to_idx = {label: idx for idx, label in enumerate(disease_labels)}\n",
    "    idx_to_label = {idx: label for label, idx in label_to_idx.items()}\n",
    "\n",
    "    # Function to predict disease from a batch of descriptions using the pre-trained model\n",
    "    def predict_disease_batch(descriptions, model, tokenizer):\n",
    "        inputs = tokenizer(descriptions, return_tensors='pt', padding=True, truncation=True, max_length=max_length)\n",
    "        with torch.no_grad():\n",
    "            outputs = model(**inputs)\n",
    "        predicted_label_idxs = outputs.logits.argmax(dim=-1).tolist()\n",
    "        return [idx_to_label[idx] if idx in idx_to_label else 'unknown' for idx in predicted_label_idxs]\n",
    "\n",
    "    all_descriptions = dataframe['Description'].tolist()\n",
    "    all_predictions = []\n",
    "\n",
    "    for i in tqdm(range(0, len(all_descriptions), batch_size)):\n",
    "        batch_descriptions = all_descriptions[i:i + batch_size]\n",
    "        batch_predictions = predict_disease_batch(batch_descriptions, model, tokenizer)\n",
    "        all_predictions.extend(batch_predictions)\n",
    "\n",
    "    dataframe['Predicted Disease'] = all_predictions\n",
    "\n",
    "    dataframe['Is Correct Prediction'] = dataframe.apply(accuracy_model, axis=1)\n",
    "    accuracy = dataframe['Is Correct Prediction'].mean()\n",
    "\n",
    "    print(f\"Accuracy of model - {model_name}: {accuracy * 100:.2f}%\")\n",
    "    print(dataframe.head(10))\n",
    "\n",
    "    return dataframe"
   ]
  },
  {
   "cell_type": "markdown",
   "metadata": {},
   "source": [
    "#### 5.1.3 Additional Options"
   ]
  },
  {
   "cell_type": "code",
   "execution_count": 58,
   "metadata": {},
   "outputs": [],
   "source": [
    "def predict_disease(model_name, dataframe, accuracy_model, max_length=128, batch_size=16, use_auth_token=False):\n",
    "    # Load the tokenizer and model\n",
    "    tokenizer = AutoTokenizer.from_pretrained(model_name, use_auth_token=hf_token if use_auth_token else None)\n",
    "    model = AutoModelForSequenceClassification.from_pretrained(model_name, use_auth_token=hf_token if use_auth_token else None)\n",
    "\n",
    "    # Get unique disease labels from the provided dataframe\n",
    "    disease_labels = list(dataframe['Disease'].unique())\n",
    "    label_to_idx = {label: idx for idx, label in enumerate(disease_labels)}\n",
    "    idx_to_label = {idx: label for label, idx in label_to_idx.items()}\n",
    "\n",
    "    # Function to predict disease from a batch of descriptions using the pre-trained model\n",
    "    def predict_disease_batch(descriptions, model, tokenizer):\n",
    "        inputs = tokenizer(descriptions, return_tensors='pt', padding=True, truncation=True, max_length=max_length)\n",
    "        with torch.no_grad():\n",
    "            outputs = model(**inputs)\n",
    "        predicted_label_idxs = outputs.logits.argmax(dim=-1).tolist()\n",
    "        return [idx_to_label[idx] if idx in idx_to_label else 'unknown' for idx in predicted_label_idxs]\n",
    "\n",
    "    all_descriptions = dataframe['Description'].tolist()\n",
    "    all_predictions = []\n",
    "\n",
    "    for i in tqdm(range(0, len(all_descriptions), batch_size)):\n",
    "        batch_descriptions = all_descriptions[i:i + batch_size]\n",
    "        batch_predictions = predict_disease_batch(batch_descriptions, model, tokenizer)\n",
    "        all_predictions.extend(batch_predictions)\n",
    "\n",
    "    dataframe['Predicted Disease'] = all_predictions\n",
    "\n",
    "    dataframe['Is Correct Prediction'] = dataframe.apply(accuracy_model, axis=1)\n",
    "    accuracy = dataframe['Is Correct Prediction'].mean()\n",
    "\n",
    "    print(f\"Accuracy of model - {model_name}: {accuracy * 100:.2f}%\")\n",
    "    print(dataframe.head(10))\n",
    "\n",
    "    return dataframe"
   ]
  },
  {
   "cell_type": "code",
   "execution_count": 60,
   "metadata": {},
   "outputs": [],
   "source": [
    "# Some other language models we can use with Transformers\n",
    "\n",
    "##MediTRON\n",
    "#tokenizer = AutoTokenizer.from_pretrained('epfl-llm/meditron-70b')\n",
    "#model = AutoModelForSequenceClassification.from_pretrained('epfl-llm/meditron-70b')\n",
    "\n",
    "##ClinicalBERT\n",
    "#tokenizer = AutoTokenizer.from_pretrained(\"emilyalsentzer/Bio_ClinicalBERT\")\n",
    "#model = AutoModelForSequenceClassification.from_pretrained(\"emilyalsentzer/Bio_ClinicalBERT\")\n",
    "#\n",
    "## BlueBERT\n",
    "#tokenizer = AutoTokenizer.from_pretrained(\"bionlp/bluebert_pubmed_mimic_uncased_L-12_H-768_A-12\")\n",
    "#model = AutoModelForSequenceClassification.from_pretrained(\"bionlp/bluebert_pubmed_mimic_uncased_L-12_H-768_A-12\")\n",
    "#\n",
    "## SciBERT\n",
    "#tokenizer = AutoTokenizer.from_pretrained(\"allenai/scibert_scivocab_cased\")\n",
    "#model = AutoModelForSequenceClassification.from_pretrained(\"allenai/scibert_scivocab_cased\")\n",
    "#\n",
    "## PubMedBERT\n",
    "#tokenizer = AutoTokenizer.from_pretrained(\"microsoft/BiomedNLP-PubMedBERT-base-uncased-abstract-fulltext\")\n",
    "#model = AutoModelForSequenceClassification.from_pretrained(\"microsoft/BiomedNLP-PubMedBERT-base-uncased-abstract-fulltext\")\n",
    "#\n",
    "## Clinical T-5\n",
    "#tokenizer = AutoTokenizer.from_pretrained(\"yikuan8/Clinical-T5-Base\")\n",
    "#model = AutoModelForSeq2SeqLM.from_pretrained(\"yikuan8/Clinical-T5-Base\")\n",
    "#\n",
    "## GatorTRON\n",
    "#tokenizer = AutoTokenizer.from_pretrained(\"uf-hobi/gatortron-og\")\n",
    "#model = AutoModelForSequenceClassification.from_pretrained(\"uf-hobi/gatortron-og\")\n",
    "\n",
    "list_of_additional_models = ['epfl-llm/meditron-70b',\n",
    "                             'emilyalsentzer/Bio_ClinicalBERT',\n",
    "                             'bionlp/bluebert_pubmed_mimic_uncased_L-12_H-768_A-12',\n",
    "                             'allenai/scibert_scivocab_cased',\n",
    "                             'microsoft/BiomedNLP-PubMedBERT-base-uncased-abstract-fulltext',\n",
    "                             'yikuan8/Clinical-T5-Base',\n",
    "                             'uf-hobi/gatortron-og']"
   ]
  },
  {
   "cell_type": "markdown",
   "metadata": {
    "id": "0mUoS6GlJ0cg"
   },
   "source": [
    "### 5.2 Testing Threshold Models"
   ]
  },
  {
   "cell_type": "code",
   "execution_count": 53,
   "metadata": {},
   "outputs": [],
   "source": [
    "# Collecting the results in a dictionary\n",
    "\n",
    "results_dic = {}\n",
    "results_dic['symptom_description_kaggle'] = {}\n",
    "results_dic['chatdoctor_format_df'] = {}"
   ]
  },
  {
   "cell_type": "markdown",
   "metadata": {
    "id": "fsJWJwxvKWkz"
   },
   "source": [
    "#### 5.2.1 GPT2"
   ]
  },
  {
   "cell_type": "markdown",
   "metadata": {},
   "source": [
    "We will also check the new accuracy model enhancements in this section and present the results."
   ]
  },
  {
   "cell_type": "code",
   "execution_count": 44,
   "metadata": {},
   "outputs": [
    {
     "name": "stderr",
     "output_type": "stream",
     "text": [
      "100%|█████████████████████████████████████████████| 3/3 [00:06<00:00,  2.00s/it]"
     ]
    },
    {
     "name": "stdout",
     "output_type": "stream",
     "text": [
      "Accuracy of model - gpt2: 19.51%\n",
      "                                   Disease  \\\n",
      "0                            Drug Reaction   \n",
      "1                                  Malaria   \n",
      "2                                  Allergy   \n",
      "3                           Hypothyroidism   \n",
      "4                                Psoriasis   \n",
      "5                                     GERD   \n",
      "6                      Chronic cholestasis   \n",
      "7                              hepatitis A   \n",
      "8                          Osteoarthristis   \n",
      "9  (vertigo) Paroymsal  Positional Vertigo   \n",
      "\n",
      "                                         Description  \\\n",
      "0  an adverse this disease (adr) is an injury cau...   \n",
      "1  an infectious disease caused by protozoan para...   \n",
      "2  an this disease is an immune system response t...   \n",
      "3  this disease, also called underactive thyroid ...   \n",
      "4  this disease is a common skin disorder that fo...   \n",
      "5  gastroesophageal reflux disease, or this disea...   \n",
      "6  chronic cholestatic diseases, whether occurrin...   \n",
      "7  this disease is a highly contagious liver infe...   \n",
      "8  osteoarthritis is the most common form of arth...   \n",
      "9  benign paroxysmal positional vertigo (bppv) is...   \n",
      "\n",
      "                                   Predicted Disease  Is Correct Prediction  \n",
      "0  an adverse this disease (adr) is a disease cau...                  False  \n",
      "1  The disease is caused by the parasite that cau...                  False  \n",
      "2  An immune system response to a foreign substan...                  False  \n",
      "3  thyroid disease is a condition of the endocrin...                  False  \n",
      "4  The disease is a skin disorder that is caused ...                  False  \n",
      "5  gastroesophageal reflux disease (GERD), or thi...                  False  \n",
      "6  Cholestatic disease is a chronic disease chara...                   True  \n",
      "7  this disease is a liver infection caused by th...                   True  \n",
      "8  osteoarthritis is a chronic condition that aff...                  False  \n",
      "9  Paroxysmal positional vertigo is a condition i...                   True  \n"
     ]
    },
    {
     "name": "stderr",
     "output_type": "stream",
     "text": [
      "\n"
     ]
    }
   ],
   "source": [
    "# ChatGPT 2 for symptom_description_kaggle\n",
    "symptom_description_kaggle_df_gpt = generate_disease_gpt('gpt2', symptom_description_kaggle, is_disease_in_prediction_1)"
   ]
  },
  {
   "cell_type": "code",
   "execution_count": 54,
   "metadata": {},
   "outputs": [
    {
     "name": "stderr",
     "output_type": "stream",
     "text": [
      "100%|█████████████████████████████████████████████| 3/3 [00:05<00:00,  1.92s/it]"
     ]
    },
    {
     "name": "stdout",
     "output_type": "stream",
     "text": [
      "Accuracy of model - gpt2: 26.83%\n",
      "                                   Disease  \\\n",
      "0                            Drug Reaction   \n",
      "1                                  Malaria   \n",
      "2                                  Allergy   \n",
      "3                           Hypothyroidism   \n",
      "4                                Psoriasis   \n",
      "5                                     GERD   \n",
      "6                      Chronic cholestasis   \n",
      "7                              hepatitis A   \n",
      "8                          Osteoarthristis   \n",
      "9  (vertigo) Paroymsal  Positional Vertigo   \n",
      "\n",
      "                                         Description  \\\n",
      "0  an adverse this disease (adr) is an injury cau...   \n",
      "1  an infectious disease caused by protozoan para...   \n",
      "2  an this disease is an immune system response t...   \n",
      "3  this disease, also called underactive thyroid ...   \n",
      "4  this disease is a common skin disorder that fo...   \n",
      "5  gastroesophageal reflux disease, or this disea...   \n",
      "6  chronic cholestatic diseases, whether occurrin...   \n",
      "7  this disease is a highly contagious liver infe...   \n",
      "8  osteoarthritis is the most common form of arth...   \n",
      "9  benign paroxysmal positional vertigo (bppv) is...   \n",
      "\n",
      "                                   Predicted Disease  Is Correct Prediction  \n",
      "0  an adverse this disease (adr) is a disease cau...                  False  \n",
      "1  The disease is caused by the parasite that cau...                  False  \n",
      "2  An immune system response to a foreign substan...                  False  \n",
      "3  thyroid disease is a condition of the endocrin...                  False  \n",
      "4  The disease is a skin disorder that is caused ...                  False  \n",
      "5  gastroesophageal reflux disease (GERD), or thi...                   True  \n",
      "6  Cholestatic disease is a chronic disease chara...                   True  \n",
      "7  this disease is a liver infection caused by th...                   True  \n",
      "8  osteoarthritis is a chronic condition that aff...                  False  \n",
      "9  Paroxysmal positional vertigo is a condition i...                   True  \n"
     ]
    },
    {
     "name": "stderr",
     "output_type": "stream",
     "text": [
      "\n"
     ]
    }
   ],
   "source": [
    "# ChatGPT 2 for symptom_description_kaggle\n",
    "symptom_description_kaggle_df_gpt = generate_disease_gpt('gpt2', symptom_description_kaggle, is_disease_in_prediction_2)\n",
    "\n",
    "results_dic['symptom_description_kaggle']['gpt2'] = symptom_description_kaggle_df_gpt['Is Correct Prediction'].mean() * 100"
   ]
  },
  {
   "cell_type": "code",
   "execution_count": 55,
   "metadata": {},
   "outputs": [
    {
     "data": {
      "text/plain": [
       "{'symptom_description_kaggle': {'gpt2': 26.82926829268293},\n",
       " 'chatdoctor_format_df': {}}"
      ]
     },
     "execution_count": 55,
     "metadata": {},
     "output_type": "execute_result"
    }
   ],
   "source": [
    "results_dic"
   ]
  },
  {
   "cell_type": "markdown",
   "metadata": {},
   "source": [
    "We already observe that with the new enhancements in Accuracy Model, we have increased the accuracy rate from:\n",
    "\n",
    "- Accuracy of model - gpt2: 19.51%\n",
    "\n",
    "to\n",
    "- Accuracy of model - gpt2: 26.83%"
   ]
  },
  {
   "cell_type": "code",
   "execution_count": 39,
   "metadata": {
    "id": "LhA_EQxRMCUR"
   },
   "outputs": [
    {
     "name": "stderr",
     "output_type": "stream",
     "text": [
      "100%|███████████████████████████████████████████| 50/50 [01:52<00:00,  2.25s/it]"
     ]
    },
    {
     "name": "stdout",
     "output_type": "stream",
     "text": [
      "Accuracy of model - gpt2: 16.21%\n",
      "                            Disease  \\\n",
      "0                    Panic disorder   \n",
      "1                  Vocal cord polyp   \n",
      "2                   Turner syndrome   \n",
      "3                    Cryptorchidism   \n",
      "4  Poisoning due to ethylene glycol   \n",
      "5                Atrophic vaginitis   \n",
      "6              Fracture of the hand   \n",
      "7    Cellulitis or abscess of mouth   \n",
      "8            Eye alignment disorder   \n",
      "9    Headache after lumbar puncture   \n",
      "\n",
      "                                         Description  \\\n",
      "0  ['Anxiety and nervousness', 'Depression', 'Sho...   \n",
      "1  ['Hoarse voice', 'Sore throat', 'Difficulty sp...   \n",
      "2  ['Groin mass', 'Leg pain', 'Hip pain', 'Suprap...   \n",
      "3  ['Symptoms of the scrotum and testes', 'Swelli...   \n",
      "4  ['Abusing alcohol', 'Fainting', 'Hostile behav...   \n",
      "5  ['Vaginal itching', 'Vaginal dryness', 'Painfu...   \n",
      "6  ['Hand or finger pain', 'Wrist pain', 'Hand or...   \n",
      "7  ['Lip swelling', 'Sore throat', 'Toothache', '...   \n",
      "8  ['Eye deviation', 'Diminished vision', 'Double...   \n",
      "9  ['Headache', 'Nausea', 'Back pain', 'Vomiting'...   \n",
      "\n",
      "                                   Predicted Disease  Is Correct Prediction  \n",
      "0  Anxiety and nervousness\\n\\nDepression\\n\\nShort...                  False  \n",
      "1  'Hoarse voice', 'Sore throat', 'Difficulty spe...                  False  \n",
      "2  'Groin mass' is a common condition in patients...                  False  \n",
      "3  The scrotum is a small, round, round, round, r...                  False  \n",
      "4  'Abusing alcohol'\\n\\n'Fainting'\\n\\n'Hostile be...                  False  \n",
      "5  The patient is a woman with a history of pelvi...                  False  \n",
      "6  The patient is at risk of developing a serious...                   True  \n",
      "7  The patient is a person with a history of diab...                   True  \n",
      "8  The patient is a person with a history of eye ...                   True  \n",
      "9                  Headache:\\n\\nNausea:\\n\\nBack pain                  False  \n"
     ]
    },
    {
     "name": "stderr",
     "output_type": "stream",
     "text": [
      "\n"
     ]
    }
   ],
   "source": [
    "# GPT2 model for chatdoctor_format_df\n",
    "chatdoctor_format_df_gpt = generate_disease_gpt('gpt2', chatdoctor_format_df, is_disease_in_prediction_1)"
   ]
  },
  {
   "cell_type": "code",
   "execution_count": 56,
   "metadata": {
    "scrolled": true
   },
   "outputs": [
    {
     "name": "stderr",
     "output_type": "stream",
     "text": [
      "100%|███████████████████████████████████████████| 50/50 [01:55<00:00,  2.30s/it]"
     ]
    },
    {
     "name": "stdout",
     "output_type": "stream",
     "text": [
      "Accuracy of model - gpt2: 18.84%\n",
      "                            Disease  \\\n",
      "0                    Panic disorder   \n",
      "1                  Vocal cord polyp   \n",
      "2                   Turner syndrome   \n",
      "3                    Cryptorchidism   \n",
      "4  Poisoning due to ethylene glycol   \n",
      "5                Atrophic vaginitis   \n",
      "6              Fracture of the hand   \n",
      "7    Cellulitis or abscess of mouth   \n",
      "8            Eye alignment disorder   \n",
      "9    Headache after lumbar puncture   \n",
      "\n",
      "                                         Description  \\\n",
      "0  ['Anxiety and nervousness', 'Depression', 'Sho...   \n",
      "1  ['Hoarse voice', 'Sore throat', 'Difficulty sp...   \n",
      "2  ['Groin mass', 'Leg pain', 'Hip pain', 'Suprap...   \n",
      "3  ['Symptoms of the scrotum and testes', 'Swelli...   \n",
      "4  ['Abusing alcohol', 'Fainting', 'Hostile behav...   \n",
      "5  ['Vaginal itching', 'Vaginal dryness', 'Painfu...   \n",
      "6  ['Hand or finger pain', 'Wrist pain', 'Hand or...   \n",
      "7  ['Lip swelling', 'Sore throat', 'Toothache', '...   \n",
      "8  ['Eye deviation', 'Diminished vision', 'Double...   \n",
      "9  ['Headache', 'Nausea', 'Back pain', 'Vomiting'...   \n",
      "\n",
      "                                   Predicted Disease  Is Correct Prediction  \n",
      "0  Anxiety and nervousness\\n\\nDepression\\n\\nShort...                  False  \n",
      "1  'Hoarse voice', 'Sore throat', 'Difficulty spe...                  False  \n",
      "2  'Groin mass' is a common condition in patients...                  False  \n",
      "3  The scrotum is a small, round, round, round, r...                  False  \n",
      "4  'Abusing alcohol'\\n\\n'Fainting'\\n\\n'Hostile be...                  False  \n",
      "5  The patient is a woman with a history of pelvi...                  False  \n",
      "6  The patient is at risk of developing a serious...                   True  \n",
      "7  The patient is a person with a history of diab...                   True  \n",
      "8  The patient is a person with a history of eye ...                   True  \n",
      "9                  Headache:\\n\\nNausea:\\n\\nBack pain                   True  \n"
     ]
    },
    {
     "name": "stderr",
     "output_type": "stream",
     "text": [
      "\n"
     ]
    }
   ],
   "source": [
    "# GPT2 model for chatdoctor_format_df\n",
    "chatdoctor_format_df_gpt = generate_disease_gpt('gpt2', chatdoctor_format_df, is_disease_in_prediction_2)\n",
    "accuracy = symptom_description_kaggle_df_gpt['Is Correct Prediction'].mean() * 100\n",
    "results_dic['chatdoctor_format_df']['gpt2'] = accuracy\n"
   ]
  },
  {
   "cell_type": "markdown",
   "metadata": {},
   "source": [
    "We can conclude that the new accuracy model working better and we will use this for the following models.\n",
    "For now we are leaving further enhancements to accuracy model.\n",
    "However there is still a big potential to further invest in future work.\n",
    "\n",
    "For chatdoctor_format_df data set:\n",
    "- Accuracy of model - gpt2: 16.21%\n",
    "\n",
    "to\n",
    "- Accuracy of model - gpt2: 18.84%"
   ]
  },
  {
   "cell_type": "markdown",
   "metadata": {},
   "source": [
    "##### Testing on PatientDoctorConvos - HealthCareMagic-100k - Sample3K"
   ]
  },
  {
   "cell_type": "code",
   "execution_count": 35,
   "metadata": {},
   "outputs": [],
   "source": [
    "random.seed(42)\n",
    "\n",
    "# Function to load and randomly sample 3K from the JSON data\n",
    "def load_json_data_sampled(json_file_path, sample_size=3000):\n",
    "    with open(json_file_path, 'r') as f:\n",
    "        data = json.load(f)\n",
    "    \n",
    "    # Ensure the sample size does not exceed the dataset size\n",
    "    if len(data) < sample_size:\n",
    "        sample_size = len(data)\n",
    "\n",
    "    # Randomly sample 3K examples from the data\n",
    "    sampled_data = random.sample(data, sample_size)\n",
    "    \n",
    "    return sampled_data"
   ]
  },
  {
   "cell_type": "code",
   "execution_count": 36,
   "metadata": {},
   "outputs": [],
   "source": [
    "HealthCareMagic_3K = load_json_data_sampled('/Users/bsen/Documents/Personal/Master/IT_Privacy_Security/data/ChatDoctorData/HealthCareMagic-100k.json')"
   ]
  },
  {
   "cell_type": "code",
   "execution_count": 37,
   "metadata": {},
   "outputs": [],
   "source": [
    "# Function to load and randomly sample 3K from the JSON data\n",
    "def load_json_data(json_file_path, sample_size=3000):\n",
    "    with open(json_file_path, 'r') as f:\n",
    "        data = json.load(f)\n",
    "    \n",
    "    # Ensure the sample size does not exceed the dataset size\n",
    "    if len(data) < sample_size:\n",
    "        sample_size = len(data)\n",
    "\n",
    "    # Randomly sample 3K examples from the data\n",
    "    sampled_data = random.sample(data, sample_size)\n",
    "    \n",
    "    return sampled_data\n",
    "\n",
    "# Function to initialize the model and tokenizer\n",
    "def initialize_model_and_tokenizer(model_name):\n",
    "    model = AutoModelForCausalLM.from_pretrained(model_name)\n",
    "    tokenizer = AutoTokenizer.from_pretrained(model_name)\n",
    "    \n",
    "    if tokenizer.pad_token is None:\n",
    "        tokenizer.add_special_tokens({'pad_token': tokenizer.eos_token})\n",
    "    \n",
    "    device = torch.device(\"cuda\" if torch.cuda.is_available() else \"cpu\")\n",
    "    model.to(device)\n",
    "    return model, tokenizer, device\n",
    "\n",
    "# Function to generate output from the model\n",
    "def generate_response(input_text, model, tokenizer, device, max_new_tokens=50):\n",
    "    # Tokenize input with padding and attention mask\n",
    "    inputs = tokenizer(input_text, return_tensors=\"pt\", padding=True, truncation=True).to(device)\n",
    "    \n",
    "    # Generate response with attention mask and set max_new_tokens instead of max_length\n",
    "    outputs = model.generate(\n",
    "        inputs['input_ids'], \n",
    "        attention_mask=inputs['attention_mask'],  # Explicitly pass attention mask\n",
    "        max_new_tokens=max_new_tokens,  # Control the number of new tokens generated\n",
    "        pad_token_id=tokenizer.eos_token_id  # Set pad_token_id to suppress warnings\n",
    "    )\n",
    "    \n",
    "    response = tokenizer.decode(outputs[0], skip_special_tokens=True)\n",
    "    return response\n",
    "\n",
    "# Function to calculate cosine similarity between two texts\n",
    "def calculate_cosine_similarity(text1, text2):\n",
    "    vectorizer = TfidfVectorizer().fit_transform([text1, text2])\n",
    "    vectors = vectorizer.toarray()\n",
    "    return cosine_similarity(vectors)[0, 1]\n",
    "\n",
    "# Function to evaluate model outputs on a test dataset\n",
    "def evaluate_model_on_input_output_dataset(model, tokenizer, test_data, device):\n",
    "    similarities = []\n",
    "    \n",
    "    for example in tqdm(test_data, desc=\"Processing\", leave=True):\n",
    "        input_text = example[\"input\"]\n",
    "        real_output = example[\"output\"]\n",
    "\n",
    "        # Generate the model's output\n",
    "        generated_output = generate_response(input_text, model, tokenizer, device)\n",
    "\n",
    "        # Calculate the similarity between the real output and the generated output\n",
    "        similarity = calculate_cosine_similarity(real_output, generated_output)\n",
    "        similarities.append(similarity)\n",
    "\n",
    "    # Calculate and return the average similarity across all examples\n",
    "    average_similarity = np.mean(similarities)\n",
    "    return average_similarity"
   ]
  },
  {
   "cell_type": "code",
   "execution_count": 143,
   "metadata": {},
   "outputs": [
    {
     "data": {
      "application/vnd.jupyter.widget-view+json": {
       "model_id": "42208a1d707d44a6b0c4f52a5bc62b66",
       "version_major": 2,
       "version_minor": 0
      },
      "text/plain": [
       "Processing:   0%|          | 0/3000 [00:00<?, ?it/s]"
      ]
     },
     "metadata": {},
     "output_type": "display_data"
    },
    {
     "name": "stdout",
     "output_type": "stream",
     "text": [
      "Average Cosine Similarity across all examples: 0.18336858913255552\n"
     ]
    }
   ],
   "source": [
    "# Initialize the model and tokenizer (GPT-2 by default)\n",
    "model, tokenizer, device = initialize_model_and_tokenizer('gpt2')\n",
    "\n",
    "# Evaluate the model on the dataset and get the average similarity\n",
    "average_similarity = evaluate_model_on_input_output_dataset(model, tokenizer, HealthCareMagic_3K, device)\n",
    "\n",
    "# Print the final average similarity score\n",
    "print(f\"Average Cosine Similarity across all examples: {average_similarity}\")"
   ]
  },
  {
   "cell_type": "code",
   "execution_count": 147,
   "metadata": {},
   "outputs": [],
   "source": [
    "# Adding the new entry to the nested dictionary\n",
    "results_dic.setdefault('HealthCareMagic_3K', {})  # Ensure 'HealthCareMagic_3K' exists as a key\n",
    "results_dic['HealthCareMagic_3K']['gpt2'] = average_similarity * 100"
   ]
  },
  {
   "cell_type": "code",
   "execution_count": 148,
   "metadata": {},
   "outputs": [
    {
     "data": {
      "text/plain": [
       "{'symptom_description_kaggle': {'gpt2': 26.82926829268293,\n",
       "  'gpt2-xl': 14.634146341463413,\n",
       "  'bert-base-uncased': 2.4390243902439024,\n",
       "  'roberta-base': 2.4390243902439024,\n",
       "  'BioBert': 4.878048780487805,\n",
       "  'bionlp/bluebert_pubmed_mimic_uncased_L-12_H-768_A-12': 2.4390243902439024,\n",
       "  'allenai/scibert_scivocab_cased': 4.878048780487805,\n",
       "  'microsoft/BiomedNLP-PubMedBERT-base-uncased-abstract-fulltext': 0.0,\n",
       "  't5-base': 0.0,\n",
       "  'gpt-3.5-turbo': 92.6829268292683,\n",
       "  'gpt-4o-mini': 92.6829268292683,\n",
       "  'gpt-4-turbo': 95.1219512195122,\n",
       "  'gpt-4': 92.6829268292683,\n",
       "  'Chat-Doctor': 19.51219512195122,\n",
       "  'microsoft/biogpt': 26.82926829268293,\n",
       "  'custom_gpt2_GenMedGPT-5k': 19.51219512195122},\n",
       " 'chatdoctor_format_df': {'gpt2': 26.82926829268293,\n",
       "  'gpt2-xl': 18.718592964824122,\n",
       "  'bert-base-uncased': 5.9045226130653266,\n",
       "  'roberta-base': 0.628140703517588,\n",
       "  'BioBert': 0.628140703517588,\n",
       "  'bionlp/bluebert_pubmed_mimic_uncased_L-12_H-768_A-12': 0.628140703517588,\n",
       "  'allenai/scibert_scivocab_cased': 5.9045226130653266,\n",
       "  'microsoft/BiomedNLP-PubMedBERT-base-uncased-abstract-fulltext': 5.9045226130653266,\n",
       "  't5-base': 5.9045226130653266,\n",
       "  'gpt-3.5-turbo': 27.63819095477387,\n",
       "  'gpt-4o-mini': 16.834170854271356,\n",
       "  'gpt-4-turbo': 17.08542713567839,\n",
       "  'gpt-4': 28.768844221105528,\n",
       "  'Chat-Doctor': 9.045226130653267,\n",
       "  'microsoft/biogpt': 22.236180904522612,\n",
       "  'custom_gpt2_GenMedGPT-5k': 23.99497487437186},\n",
       " 'HealthCareMagic_3K': {'HealthCareMagic_3K': 18.33685891325555,\n",
       "  'gpt2': 18.33685891325555}}"
      ]
     },
     "execution_count": 148,
     "metadata": {},
     "output_type": "execute_result"
    }
   ],
   "source": [
    "results_dic"
   ]
  },
  {
   "cell_type": "markdown",
   "metadata": {
    "id": "Ia5CbTFGIP2x"
   },
   "source": [
    "#### 5.2.2 GPT2-XL"
   ]
  },
  {
   "cell_type": "code",
   "execution_count": 61,
   "metadata": {
    "colab": {
     "background_save": true,
     "base_uri": "https://localhost:8080/",
     "height": 241,
     "referenced_widgets": [
      "3d5e694ae57442748c16437243160237",
      "d6c125cacd004b12a3fea22da17a368f",
      "7ceebe76c1b64fe681f68edc54ca86ce",
      "1181d20ba0d14bf88db6c55f3ff86e12",
      "09cd452851ed497c89e7234e0c2f7ea0",
      "2a3be23ec2fc471dba263f8c629b309f",
      "f389ecfab8384a469bb963faaf1b030d",
      "2fc52bbd19fe40108e485da8f924215b",
      "d5db72e3a82543b0a07238ffc0a12a59",
      "5807bdd9499d4dba84e01ae2ed819a5e",
      "a3ebed5cbb644a0db99e2537a06d5756",
      "f7070012477f43ad879a1a5bc2e182b1",
      "d4e5b4a69e744e35b282290b49958920",
      "d8ff1f1d3f1a488595d7bfb4cb301efc",
      "1448cb4b53d943b380fbbfc1e69c2bcc",
      "c678a40e08c8474288c4a1409c6c40ac",
      "1d5b0bad1af447b19b30ed7baae09fa5",
      "4b96b524c9e7459ca7e519a914b72926",
      "5dc6304b0488451480fec5f4496a5b21",
      "ec9bac29341e481ba014280eb3ecbb9d",
      "42eeaa604de44dd9910418d22b770dc5",
      "97eeebc38e6e4271ada61b43f615bebe",
      "965317413f2947078a4d8d4bccb47a7b",
      "9ecc7e3f91fd4582ad7b7b629bcf0e77",
      "f63847d56e12470db59395b6d9eb9b1c",
      "1a64c18c73144d6198c0856fd884bb1b",
      "221d8415febe48398a0e0cae6b5b83fd",
      "bf07d396576c43c7b16edabfe2a99685",
      "071cfb3f4da54ab9b60f2983999802bf",
      "5b3457e4fc6a44fb8002f0799511bbe4",
      "1f65770b29ef44fb9efab0d5a0481728",
      "3ce527a204e741dcaafa811bb2f421a3",
      "0ce7f75810f54ec184d97989c724cd5f",
      "391f7c6536764d08aacd00e34bded865",
      "1f996501aba24b4891fafde3bc9b9b81",
      "c4513611a35e4ed08f1df9dc02b8e13c",
      "d6f63de9910042b7a7ae89378fc188d2",
      "6dd8a75200f244ff87b7840491fd5b70",
      "c2ce0b27f6784c12966f29f2f15e023c",
      "e5920d255f814d679093bb42e8282c78",
      "1b0f6513bd454654b6a6da4bef6e2d46",
      "62bfa4cd4bdc42d88ab59c6a7e91c7bf",
      "3d4364e6f3214e4cafe763fb61c292a1",
      "21e8b34a2473433db044868bbbb10645",
      "39838667452c49bfbfa0287d27f483aa",
      "d220c4e011764f3c8836196e9f988851",
      "e9d5666bfb3e4c2d9287d193b6b397f5",
      "5f1302c7597c4654b09b49138a81dcc0",
      "0e493148360447e2a1da2fc64cf2ef08",
      "144b1a19e82f49ed864f5d3b72d1c77d",
      "68eb8c49cd754932ae06e6acf29f1d11",
      "f0e74f225af143cb8260ed8d96ace42a",
      "2553e7af5fc14ecdabbdf0f4fa7c376f",
      "d73fb71372944b7c864045f7acf57772",
      "5193281cd3eb439a9ddfb4423fbf8bbb",
      "0bae00090bc849e6b165cbc25513de44",
      "7851dfbb9ca146c5aa7526a9048c8a9b",
      "69661621193e4f219e6c834c423e0276",
      "27578fdeb6d24eef8a83c1aad494d129",
      "2fb0a370d7024859965fd211557aba16",
      "494a321ead2c4a909e42e404fa4f1702",
      "b1d6b7ee54ec4a3e9ddd260f48948358",
      "fc52771036e94a8ca15a7a9f0d8cfc03",
      "ae9df36ba81649b7bebd853ae2de159b",
      "a67bb34f3d9846a4b8dd74a29de2fe7f",
      "1db675c007e94194a2186393e8fd3859",
      "99f44bb8d1524a858a658b8979d7160d",
      "fd09ddfbf47b4fafba9142ccc2861228",
      "37e501b1201b4b2e8b37ad05fbd0bd2d",
      "83c835348d454a91abf86086652752ef",
      "924fac28817241bca46380ab92ff88de",
      "af9fc28d3e5345cdad61485800e77602",
      "42b508cd61b843938107d3b209c518a8",
      "d4d62a97629448eca3ad36cfa40ee125",
      "6372f5ae2cdd4f1b83a83ce0b7950f58",
      "95f25b0c12034521a72eb5fdab26c572",
      "7718a4f9529246be8d649522f524fa90"
     ]
    },
    "id": "GpSVARu5IkuJ",
    "outputId": "a20739dc-db39-41e0-fc97-f709a2655cf3"
   },
   "outputs": [
    {
     "name": "stderr",
     "output_type": "stream",
     "text": [
      "100%|█████████████████████████████████████████████| 3/3 [01:15<00:00, 25.27s/it]"
     ]
    },
    {
     "name": "stdout",
     "output_type": "stream",
     "text": [
      "Accuracy of model - gpt2-xl: 14.63%\n",
      "                                   Disease  \\\n",
      "0                            Drug Reaction   \n",
      "1                                  Malaria   \n",
      "2                                  Allergy   \n",
      "3                           Hypothyroidism   \n",
      "4                                Psoriasis   \n",
      "5                                     GERD   \n",
      "6                      Chronic cholestasis   \n",
      "7                              hepatitis A   \n",
      "8                          Osteoarthristis   \n",
      "9  (vertigo) Paroymsal  Positional Vertigo   \n",
      "\n",
      "                                         Description  \\\n",
      "0  an adverse this disease (adr) is an injury cau...   \n",
      "1  an infectious disease caused by protozoan para...   \n",
      "2  an this disease is an immune system response t...   \n",
      "3  this disease, also called underactive thyroid ...   \n",
      "4  this disease is a common skin disorder that fo...   \n",
      "5  gastroesophageal reflux disease, or this disea...   \n",
      "6  chronic cholestatic diseases, whether occurrin...   \n",
      "7  this disease is a highly contagious liver infe...   \n",
      "8  osteoarthritis is the most common form of arth...   \n",
      "9  benign paroxysmal positional vertigo (bppv) is...   \n",
      "\n",
      "                                   Predicted Disease  Is Correct Prediction  \n",
      "0  a diagnosis of adr is based on the history and...                  False  \n",
      "1  the diagnosis of malaria is based on the prese...                   True  \n",
      "2  your doctor will look for signs of an immune r...                  False  \n",
      "3  Thyroid disease is a common problem in the Uni...                  False  \n",
      "4  this disease is caused by a virus called Epste...                  False  \n",
      "5  gastroesophageal reflux disease is a condition...                  False  \n",
      "6  Biliary disease is diagnosed by the presence o...                  False  \n",
      "7  the first sign of hepatitis is a yellowish-gre...                   True  \n",
      "8          osteoarthritis is a disease of the joints                  False  \n",
      "9  benign paroxysmal positional vertigo is a comm...                   True  \n"
     ]
    },
    {
     "name": "stderr",
     "output_type": "stream",
     "text": [
      "\n"
     ]
    }
   ],
   "source": [
    "# For GPT2-XL model\n",
    "\n",
    "symptom_description_kaggle_df_gpt_xl = generate_disease_gpt('gpt2-xl', symptom_description_kaggle, is_disease_in_prediction_2)\n",
    "accuracy = symptom_description_kaggle_df_gpt_xl['Is Correct Prediction'].mean() * 100\n",
    "results_dic['symptom_description_kaggle']['gpt2-xl'] = accuracy"
   ]
  },
  {
   "cell_type": "code",
   "execution_count": 63,
   "metadata": {},
   "outputs": [
    {
     "name": "stderr",
     "output_type": "stream",
     "text": [
      "100%|███████████████████████████████████████████| 50/50 [41:45<00:00, 50.11s/it]\n"
     ]
    },
    {
     "name": "stdout",
     "output_type": "stream",
     "text": [
      "Accuracy of model - gpt2-xl: 18.72%\n",
      "                            Disease  \\\n",
      "0                    Panic disorder   \n",
      "1                  Vocal cord polyp   \n",
      "2                   Turner syndrome   \n",
      "3                    Cryptorchidism   \n",
      "4  Poisoning due to ethylene glycol   \n",
      "5                Atrophic vaginitis   \n",
      "6              Fracture of the hand   \n",
      "7    Cellulitis or abscess of mouth   \n",
      "8            Eye alignment disorder   \n",
      "9    Headache after lumbar puncture   \n",
      "\n",
      "                                         Description  \\\n",
      "0  ['Anxiety and nervousness', 'Depression', 'Sho...   \n",
      "1  ['Hoarse voice', 'Sore throat', 'Difficulty sp...   \n",
      "2  ['Groin mass', 'Leg pain', 'Hip pain', 'Suprap...   \n",
      "3  ['Symptoms of the scrotum and testes', 'Swelli...   \n",
      "4  ['Abusing alcohol', 'Fainting', 'Hostile behav...   \n",
      "5  ['Vaginal itching', 'Vaginal dryness', 'Painfu...   \n",
      "6  ['Hand or finger pain', 'Wrist pain', 'Hand or...   \n",
      "7  ['Lip swelling', 'Sore throat', 'Toothache', '...   \n",
      "8  ['Eye deviation', 'Diminished vision', 'Double...   \n",
      "9  ['Headache', 'Nausea', 'Back pain', 'Vomiting'...   \n",
      "\n",
      "                                   Predicted Disease  Is Correct Prediction  \n",
      "0  ['Anxiety and nervousness', 'Depression', 'Sho...                  False  \n",
      "1  ['Cough', 'Coughing', 'Coughing and sneezing',...                  False  \n",
      "2  ['Pancreatitis', 'Pancreatitis with or without...                  False  \n",
      "3  [Scrotal pain, swelling, testicular pain, test...                  False  \n",
      "4  [Cancer, Hepatitis, HIV, Hepatitis B, Hepatiti...                  False  \n",
      "5  [Vaginal itching, Vaginitis, Vulvodynia, Vulva...                   True  \n",
      "6  ['Hand or finger pain', 'Wrist pain', 'Arm pai...                   True  \n",
      "7  ['Acute bacterial infection', 'Acute viral inf...                  False  \n",
      "8  [Eye deviation, Diminished vision, Double visi...                   True  \n",
      "9  ['Neurological disease', 'Neurological disorde...                  False  \n"
     ]
    }
   ],
   "source": [
    "# For GPT2-XL model\n",
    "\n",
    "chatdoctor_format_df_gpt_xl = generate_disease_gpt('gpt2-xl', chatdoctor_format_df, is_disease_in_prediction_2)\n",
    "accuracy = chatdoctor_format_df_gpt_xl['Is Correct Prediction'].mean() * 100\n",
    "results_dic['chatdoctor_format_df']['gpt2-xl'] = accuracy"
   ]
  },
  {
   "cell_type": "markdown",
   "metadata": {
    "id": "YCh3aHBPJuTB"
   },
   "source": [
    "#### 5.2.3 BERT"
   ]
  },
  {
   "cell_type": "code",
   "execution_count": 71,
   "metadata": {
    "colab": {
     "base_uri": "https://localhost:8080/"
    },
    "id": "Kbql5gX2KgF2",
    "outputId": "8de6e0ae-d60d-46e5-baeb-40af9eae3377"
   },
   "outputs": [
    {
     "data": {
      "application/vnd.jupyter.widget-view+json": {
       "model_id": "403685fb91dc402489233cf82fed3206",
       "version_major": 2,
       "version_minor": 0
      },
      "text/plain": [
       "model.safetensors:   0%|          | 0.00/440M [00:00<?, ?B/s]"
      ]
     },
     "metadata": {},
     "output_type": "display_data"
    },
    {
     "name": "stderr",
     "output_type": "stream",
     "text": [
      "Some weights of BertForSequenceClassification were not initialized from the model checkpoint at bert-base-uncased and are newly initialized: ['classifier.bias', 'classifier.weight']\n",
      "You should probably TRAIN this model on a down-stream task to be able to use it for predictions and inference.\n",
      "100%|█████████████████████████████████████████████| 3/3 [00:00<00:00,  3.18it/s]"
     ]
    },
    {
     "name": "stdout",
     "output_type": "stream",
     "text": [
      "Accuracy of model - bert-base-uncased: 2.44%\n",
      "                                   Disease  \\\n",
      "0                            Drug Reaction   \n",
      "1                                  Malaria   \n",
      "2                                  Allergy   \n",
      "3                           Hypothyroidism   \n",
      "4                                Psoriasis   \n",
      "5                                     GERD   \n",
      "6                      Chronic cholestasis   \n",
      "7                              hepatitis A   \n",
      "8                          Osteoarthristis   \n",
      "9  (vertigo) Paroymsal  Positional Vertigo   \n",
      "\n",
      "                                         Description Predicted Disease  \\\n",
      "0  an adverse this disease (adr) is an injury cau...           Malaria   \n",
      "1  an infectious disease caused by protozoan para...           Malaria   \n",
      "2  an this disease is an immune system response t...           Malaria   \n",
      "3  this disease, also called underactive thyroid ...           Malaria   \n",
      "4  this disease is a common skin disorder that fo...           Malaria   \n",
      "5  gastroesophageal reflux disease, or this disea...           Malaria   \n",
      "6  chronic cholestatic diseases, whether occurrin...           Malaria   \n",
      "7  this disease is a highly contagious liver infe...           Malaria   \n",
      "8  osteoarthritis is the most common form of arth...           Malaria   \n",
      "9  benign paroxysmal positional vertigo (bppv) is...           Malaria   \n",
      "\n",
      "   Is Correct Prediction  \n",
      "0                  False  \n",
      "1                   True  \n",
      "2                  False  \n",
      "3                  False  \n",
      "4                  False  \n",
      "5                  False  \n",
      "6                  False  \n",
      "7                  False  \n",
      "8                  False  \n",
      "9                  False  \n"
     ]
    },
    {
     "name": "stderr",
     "output_type": "stream",
     "text": [
      "\n"
     ]
    }
   ],
   "source": [
    "# For BERT model\n",
    "symptom_description_kaggle_df_bert = predict_disease_bert('bert-base-uncased', symptom_description_kaggle, is_disease_in_prediction_2)\n",
    "accuracy = symptom_description_kaggle_df_bert['Is Correct Prediction'].mean() * 100\n",
    "results_dic['symptom_description_kaggle']['bert-base-uncased'] = accuracy"
   ]
  },
  {
   "cell_type": "code",
   "execution_count": 72,
   "metadata": {},
   "outputs": [
    {
     "name": "stderr",
     "output_type": "stream",
     "text": [
      "Some weights of BertForSequenceClassification were not initialized from the model checkpoint at bert-base-uncased and are newly initialized: ['classifier.bias', 'classifier.weight']\n",
      "You should probably TRAIN this model on a down-stream task to be able to use it for predictions and inference.\n",
      "100%|███████████████████████████████████████████| 50/50 [00:20<00:00,  2.41it/s]"
     ]
    },
    {
     "name": "stdout",
     "output_type": "stream",
     "text": [
      "Accuracy of model - bert-base-uncased: 5.90%\n",
      "                            Disease  \\\n",
      "0                    Panic disorder   \n",
      "1                  Vocal cord polyp   \n",
      "2                   Turner syndrome   \n",
      "3                    Cryptorchidism   \n",
      "4  Poisoning due to ethylene glycol   \n",
      "5                Atrophic vaginitis   \n",
      "6              Fracture of the hand   \n",
      "7    Cellulitis or abscess of mouth   \n",
      "8            Eye alignment disorder   \n",
      "9    Headache after lumbar puncture   \n",
      "\n",
      "                                         Description Predicted Disease  \\\n",
      "0  ['Anxiety and nervousness', 'Depression', 'Sho...    Panic disorder   \n",
      "1  ['Hoarse voice', 'Sore throat', 'Difficulty sp...    Panic disorder   \n",
      "2  ['Groin mass', 'Leg pain', 'Hip pain', 'Suprap...    Panic disorder   \n",
      "3  ['Symptoms of the scrotum and testes', 'Swelli...    Panic disorder   \n",
      "4  ['Abusing alcohol', 'Fainting', 'Hostile behav...    Panic disorder   \n",
      "5  ['Vaginal itching', 'Vaginal dryness', 'Painfu...    Panic disorder   \n",
      "6  ['Hand or finger pain', 'Wrist pain', 'Hand or...    Panic disorder   \n",
      "7  ['Lip swelling', 'Sore throat', 'Toothache', '...    Panic disorder   \n",
      "8  ['Eye deviation', 'Diminished vision', 'Double...    Panic disorder   \n",
      "9  ['Headache', 'Nausea', 'Back pain', 'Vomiting'...    Panic disorder   \n",
      "\n",
      "   Is Correct Prediction  \n",
      "0                   True  \n",
      "1                  False  \n",
      "2                  False  \n",
      "3                  False  \n",
      "4                  False  \n",
      "5                  False  \n",
      "6                  False  \n",
      "7                  False  \n",
      "8                   True  \n",
      "9                  False  \n"
     ]
    },
    {
     "name": "stderr",
     "output_type": "stream",
     "text": [
      "\n"
     ]
    }
   ],
   "source": [
    "# Bert model for chatdoctor_format_df\n",
    "chatdoctor_format_df_bert = predict_disease_bert('bert-base-uncased', chatdoctor_format_df, is_disease_in_prediction_2)\n",
    "accuracy = chatdoctor_format_df_bert['Is Correct Prediction'].mean() * 100\n",
    "results_dic['chatdoctor_format_df']['bert-base-uncased'] = accuracy"
   ]
  },
  {
   "cell_type": "markdown",
   "metadata": {
    "id": "c6nU6X0vKmhC"
   },
   "source": [
    "#### 5.2.4 RoBERTa"
   ]
  },
  {
   "cell_type": "code",
   "execution_count": 74,
   "metadata": {
    "colab": {
     "base_uri": "https://localhost:8080/"
    },
    "id": "yz6gRRKZLEmi",
    "outputId": "c5001cc7-1a63-4d26-ae29-faa8a00b130e"
   },
   "outputs": [
    {
     "data": {
      "application/vnd.jupyter.widget-view+json": {
       "model_id": "bcf92638a5dc479c95fbc56d3281aba1",
       "version_major": 2,
       "version_minor": 0
      },
      "text/plain": [
       "model.safetensors:   0%|          | 0.00/499M [00:00<?, ?B/s]"
      ]
     },
     "metadata": {},
     "output_type": "display_data"
    },
    {
     "name": "stderr",
     "output_type": "stream",
     "text": [
      "Some weights of RobertaForSequenceClassification were not initialized from the model checkpoint at roberta-base and are newly initialized: ['classifier.dense.bias', 'classifier.dense.weight', 'classifier.out_proj.bias', 'classifier.out_proj.weight']\n",
      "You should probably TRAIN this model on a down-stream task to be able to use it for predictions and inference.\n",
      "100%|█████████████████████████████████████████████| 3/3 [00:00<00:00,  3.45it/s]"
     ]
    },
    {
     "name": "stdout",
     "output_type": "stream",
     "text": [
      "Accuracy of model - roberta-base: 2.44%\n",
      "                                   Disease  \\\n",
      "0                            Drug Reaction   \n",
      "1                                  Malaria   \n",
      "2                                  Allergy   \n",
      "3                           Hypothyroidism   \n",
      "4                                Psoriasis   \n",
      "5                                     GERD   \n",
      "6                      Chronic cholestasis   \n",
      "7                              hepatitis A   \n",
      "8                          Osteoarthristis   \n",
      "9  (vertigo) Paroymsal  Positional Vertigo   \n",
      "\n",
      "                                         Description Predicted Disease  \\\n",
      "0  an adverse this disease (adr) is an injury cau...           Malaria   \n",
      "1  an infectious disease caused by protozoan para...           Malaria   \n",
      "2  an this disease is an immune system response t...           Malaria   \n",
      "3  this disease, also called underactive thyroid ...           Malaria   \n",
      "4  this disease is a common skin disorder that fo...           Malaria   \n",
      "5  gastroesophageal reflux disease, or this disea...           Malaria   \n",
      "6  chronic cholestatic diseases, whether occurrin...           Malaria   \n",
      "7  this disease is a highly contagious liver infe...           Malaria   \n",
      "8  osteoarthritis is the most common form of arth...           Malaria   \n",
      "9  benign paroxysmal positional vertigo (bppv) is...           Malaria   \n",
      "\n",
      "   Is Correct Prediction  \n",
      "0                  False  \n",
      "1                   True  \n",
      "2                  False  \n",
      "3                  False  \n",
      "4                  False  \n",
      "5                  False  \n",
      "6                  False  \n",
      "7                  False  \n",
      "8                  False  \n",
      "9                  False  \n"
     ]
    },
    {
     "name": "stderr",
     "output_type": "stream",
     "text": [
      "\n"
     ]
    }
   ],
   "source": [
    "# For RoBERTa model\n",
    "symptom_description_kaggle_df_roberta = predict_disease_bert('roberta-base', symptom_description_kaggle, is_disease_in_prediction_2)\n",
    "accuracy = symptom_description_kaggle_df_roberta['Is Correct Prediction'].mean() * 100\n",
    "results_dic['symptom_description_kaggle']['roberta-base'] = accuracy"
   ]
  },
  {
   "cell_type": "code",
   "execution_count": 75,
   "metadata": {},
   "outputs": [
    {
     "name": "stderr",
     "output_type": "stream",
     "text": [
      "Some weights of RobertaForSequenceClassification were not initialized from the model checkpoint at roberta-base and are newly initialized: ['classifier.dense.bias', 'classifier.dense.weight', 'classifier.out_proj.bias', 'classifier.out_proj.weight']\n",
      "You should probably TRAIN this model on a down-stream task to be able to use it for predictions and inference.\n",
      "100%|███████████████████████████████████████████| 50/50 [00:18<00:00,  2.66it/s]"
     ]
    },
    {
     "name": "stdout",
     "output_type": "stream",
     "text": [
      "Accuracy of model - roberta-base: 0.63%\n",
      "                            Disease  \\\n",
      "0                    Panic disorder   \n",
      "1                  Vocal cord polyp   \n",
      "2                   Turner syndrome   \n",
      "3                    Cryptorchidism   \n",
      "4  Poisoning due to ethylene glycol   \n",
      "5                Atrophic vaginitis   \n",
      "6              Fracture of the hand   \n",
      "7    Cellulitis or abscess of mouth   \n",
      "8            Eye alignment disorder   \n",
      "9    Headache after lumbar puncture   \n",
      "\n",
      "                                         Description Predicted Disease  \\\n",
      "0  ['Anxiety and nervousness', 'Depression', 'Sho...  Vocal cord polyp   \n",
      "1  ['Hoarse voice', 'Sore throat', 'Difficulty sp...  Vocal cord polyp   \n",
      "2  ['Groin mass', 'Leg pain', 'Hip pain', 'Suprap...  Vocal cord polyp   \n",
      "3  ['Symptoms of the scrotum and testes', 'Swelli...  Vocal cord polyp   \n",
      "4  ['Abusing alcohol', 'Fainting', 'Hostile behav...  Vocal cord polyp   \n",
      "5  ['Vaginal itching', 'Vaginal dryness', 'Painfu...  Vocal cord polyp   \n",
      "6  ['Hand or finger pain', 'Wrist pain', 'Hand or...  Vocal cord polyp   \n",
      "7  ['Lip swelling', 'Sore throat', 'Toothache', '...  Vocal cord polyp   \n",
      "8  ['Eye deviation', 'Diminished vision', 'Double...  Vocal cord polyp   \n",
      "9  ['Headache', 'Nausea', 'Back pain', 'Vomiting'...  Vocal cord polyp   \n",
      "\n",
      "   Is Correct Prediction  \n",
      "0                  False  \n",
      "1                   True  \n",
      "2                  False  \n",
      "3                  False  \n",
      "4                  False  \n",
      "5                  False  \n",
      "6                  False  \n",
      "7                  False  \n",
      "8                  False  \n",
      "9                  False  \n"
     ]
    },
    {
     "name": "stderr",
     "output_type": "stream",
     "text": [
      "\n"
     ]
    }
   ],
   "source": [
    "# For RoBERTa model\n",
    "chatdoctor_format_df_roberta = predict_disease_bert('roberta-base', chatdoctor_format_df, is_disease_in_prediction_2)\n",
    "accuracy = chatdoctor_format_df_roberta['Is Correct Prediction'].mean() * 100\n",
    "results_dic['chatdoctor_format_df']['roberta-base'] = accuracy"
   ]
  },
  {
   "cell_type": "markdown",
   "metadata": {
    "id": "XLHDtsz6KvPS"
   },
   "source": [
    "#### 5.2.5 BioBERT"
   ]
  },
  {
   "cell_type": "code",
   "execution_count": 76,
   "metadata": {
    "colab": {
     "base_uri": "https://localhost:8080/"
    },
    "id": "Prk3GsLzLNuG",
    "outputId": "0938855b-c56d-4546-efc3-214e131681e3"
   },
   "outputs": [
    {
     "name": "stderr",
     "output_type": "stream",
     "text": [
      "/Users/bsen/.pyenv/versions/3.9.10/lib/python3.9/site-packages/torch/_utils.py:776: UserWarning: TypedStorage is deprecated. It will be removed in the future and UntypedStorage will be the only storage class. This should only matter to you if you are using storages directly.  To access UntypedStorage directly, use tensor.untyped_storage() instead of tensor.storage()\n",
      "  return self.fget.__get__(instance, owner)()\n",
      "Some weights of BertForSequenceClassification were not initialized from the model checkpoint at emilyalsentzer/Bio_ClinicalBERT and are newly initialized: ['classifier.bias', 'classifier.weight']\n",
      "You should probably TRAIN this model on a down-stream task to be able to use it for predictions and inference.\n",
      "100%|█████████████████████████████████████████████| 3/3 [00:01<00:00,  2.92it/s]"
     ]
    },
    {
     "name": "stdout",
     "output_type": "stream",
     "text": [
      "Accuracy of model - emilyalsentzer/Bio_ClinicalBERT: 4.88%\n",
      "                                   Disease  \\\n",
      "0                            Drug Reaction   \n",
      "1                                  Malaria   \n",
      "2                                  Allergy   \n",
      "3                           Hypothyroidism   \n",
      "4                                Psoriasis   \n",
      "5                                     GERD   \n",
      "6                      Chronic cholestasis   \n",
      "7                              hepatitis A   \n",
      "8                          Osteoarthristis   \n",
      "9  (vertigo) Paroymsal  Positional Vertigo   \n",
      "\n",
      "                                         Description Predicted Disease  \\\n",
      "0  an adverse this disease (adr) is an injury cau...     Drug Reaction   \n",
      "1  an infectious disease caused by protozoan para...           Malaria   \n",
      "2  an this disease is an immune system response t...     Drug Reaction   \n",
      "3  this disease, also called underactive thyroid ...           Malaria   \n",
      "4  this disease is a common skin disorder that fo...     Drug Reaction   \n",
      "5  gastroesophageal reflux disease, or this disea...           Malaria   \n",
      "6  chronic cholestatic diseases, whether occurrin...           Malaria   \n",
      "7  this disease is a highly contagious liver infe...     Drug Reaction   \n",
      "8  osteoarthritis is the most common form of arth...     Drug Reaction   \n",
      "9  benign paroxysmal positional vertigo (bppv) is...     Drug Reaction   \n",
      "\n",
      "   Is Correct Prediction  \n",
      "0                   True  \n",
      "1                   True  \n",
      "2                  False  \n",
      "3                  False  \n",
      "4                  False  \n",
      "5                  False  \n",
      "6                  False  \n",
      "7                  False  \n",
      "8                  False  \n",
      "9                  False  \n"
     ]
    },
    {
     "name": "stderr",
     "output_type": "stream",
     "text": [
      "\n"
     ]
    }
   ],
   "source": [
    "# For BioBERT model\n",
    "symptom_description_kaggle_df_biobert = predict_disease_bert('emilyalsentzer/Bio_ClinicalBERT', symptom_description_kaggle, is_disease_in_prediction_2)\n",
    "accuracy = symptom_description_kaggle_df_biobert['Is Correct Prediction'].mean() * 100\n",
    "results_dic['symptom_description_kaggle']['BioBert'] = accuracy"
   ]
  },
  {
   "cell_type": "code",
   "execution_count": 77,
   "metadata": {},
   "outputs": [
    {
     "name": "stderr",
     "output_type": "stream",
     "text": [
      "Some weights of BertForSequenceClassification were not initialized from the model checkpoint at emilyalsentzer/Bio_ClinicalBERT and are newly initialized: ['classifier.bias', 'classifier.weight']\n",
      "You should probably TRAIN this model on a down-stream task to be able to use it for predictions and inference.\n",
      "100%|███████████████████████████████████████████| 50/50 [00:21<00:00,  2.27it/s]"
     ]
    },
    {
     "name": "stdout",
     "output_type": "stream",
     "text": [
      "Accuracy of model - emilyalsentzer/Bio_ClinicalBERT: 0.63%\n",
      "                            Disease  \\\n",
      "0                    Panic disorder   \n",
      "1                  Vocal cord polyp   \n",
      "2                   Turner syndrome   \n",
      "3                    Cryptorchidism   \n",
      "4  Poisoning due to ethylene glycol   \n",
      "5                Atrophic vaginitis   \n",
      "6              Fracture of the hand   \n",
      "7    Cellulitis or abscess of mouth   \n",
      "8            Eye alignment disorder   \n",
      "9    Headache after lumbar puncture   \n",
      "\n",
      "                                         Description Predicted Disease  \\\n",
      "0  ['Anxiety and nervousness', 'Depression', 'Sho...  Vocal cord polyp   \n",
      "1  ['Hoarse voice', 'Sore throat', 'Difficulty sp...  Vocal cord polyp   \n",
      "2  ['Groin mass', 'Leg pain', 'Hip pain', 'Suprap...  Vocal cord polyp   \n",
      "3  ['Symptoms of the scrotum and testes', 'Swelli...  Vocal cord polyp   \n",
      "4  ['Abusing alcohol', 'Fainting', 'Hostile behav...  Vocal cord polyp   \n",
      "5  ['Vaginal itching', 'Vaginal dryness', 'Painfu...  Vocal cord polyp   \n",
      "6  ['Hand or finger pain', 'Wrist pain', 'Hand or...  Vocal cord polyp   \n",
      "7  ['Lip swelling', 'Sore throat', 'Toothache', '...  Vocal cord polyp   \n",
      "8  ['Eye deviation', 'Diminished vision', 'Double...  Vocal cord polyp   \n",
      "9  ['Headache', 'Nausea', 'Back pain', 'Vomiting'...  Vocal cord polyp   \n",
      "\n",
      "   Is Correct Prediction  \n",
      "0                  False  \n",
      "1                   True  \n",
      "2                  False  \n",
      "3                  False  \n",
      "4                  False  \n",
      "5                  False  \n",
      "6                  False  \n",
      "7                  False  \n",
      "8                  False  \n",
      "9                  False  \n"
     ]
    },
    {
     "name": "stderr",
     "output_type": "stream",
     "text": [
      "\n"
     ]
    }
   ],
   "source": [
    "# For BioBERT model\n",
    "chatdoctor_format_df_bio_BERT = predict_disease_bert('emilyalsentzer/Bio_ClinicalBERT', chatdoctor_format_df, is_disease_in_prediction_2)\n",
    "accuracy = chatdoctor_format_df_bio_BERT['Is Correct Prediction'].mean() * 100\n",
    "results_dic['chatdoctor_format_df']['BioBert'] = accuracy"
   ]
  },
  {
   "cell_type": "code",
   "execution_count": 2,
   "metadata": {},
   "outputs": [
    {
     "ename": "NameError",
     "evalue": "name 'results_dic' is not defined",
     "output_type": "error",
     "traceback": [
      "\u001B[0;31m---------------------------------------------------------------------------\u001B[0m",
      "\u001B[0;31mNameError\u001B[0m                                 Traceback (most recent call last)",
      "Cell \u001B[0;32mIn[2], line 6\u001B[0m\n\u001B[1;32m      4\u001B[0m \u001B[38;5;66;03m# Save the dictionary to a file\u001B[39;00m\n\u001B[1;32m      5\u001B[0m \u001B[38;5;28;01mwith\u001B[39;00m \u001B[38;5;28mopen\u001B[39m(\u001B[38;5;124m'\u001B[39m\u001B[38;5;124mresults_dic.pkl\u001B[39m\u001B[38;5;124m'\u001B[39m, \u001B[38;5;124m'\u001B[39m\u001B[38;5;124mwb\u001B[39m\u001B[38;5;124m'\u001B[39m) \u001B[38;5;28;01mas\u001B[39;00m f:\n\u001B[0;32m----> 6\u001B[0m     pickle\u001B[38;5;241m.\u001B[39mdump(\u001B[43mresults_dic\u001B[49m, f)\n",
      "\u001B[0;31mNameError\u001B[0m: name 'results_dic' is not defined"
     ]
    }
   ],
   "source": [
    "# save the dictionary\n",
    "import pickle\n",
    "\n",
    "# Save the dictionary to a file\n",
    "with open('results_dic.pkl', 'wb') as f:\n",
    "    pickle.dump(results_dic, f)"
   ]
  },
  {
   "cell_type": "code",
   "execution_count": 9,
   "metadata": {},
   "outputs": [
    {
     "ename": "EOFError",
     "evalue": "Ran out of input",
     "output_type": "error",
     "traceback": [
      "\u001B[0;31m---------------------------------------------------------------------------\u001B[0m",
      "\u001B[0;31mEOFError\u001B[0m                                  Traceback (most recent call last)",
      "Cell \u001B[0;32mIn[9], line 5\u001B[0m\n\u001B[1;32m      2\u001B[0m \u001B[38;5;66;03m# Retrieve the dictionary\u001B[39;00m\n\u001B[1;32m      4\u001B[0m \u001B[38;5;28;01mwith\u001B[39;00m \u001B[38;5;28mopen\u001B[39m(\u001B[38;5;124m'\u001B[39m\u001B[38;5;124mresults_dic.pkl\u001B[39m\u001B[38;5;124m'\u001B[39m, \u001B[38;5;124m'\u001B[39m\u001B[38;5;124mrb\u001B[39m\u001B[38;5;124m'\u001B[39m) \u001B[38;5;28;01mas\u001B[39;00m f:\n\u001B[0;32m----> 5\u001B[0m     results_dic \u001B[38;5;241m=\u001B[39m \u001B[43mpickle\u001B[49m\u001B[38;5;241;43m.\u001B[39;49m\u001B[43mload\u001B[49m\u001B[43m(\u001B[49m\u001B[43mf\u001B[49m\u001B[43m)\u001B[49m\n",
      "\u001B[0;31mEOFError\u001B[0m: Ran out of input"
     ]
    }
   ],
   "source": [
    "import pickle\n",
    "# Retrieve the dictionary\n",
    "\n",
    "with open('results_dic.pkl', 'rb') as f:\n",
    "    results_dic = pickle.load(f)"
   ]
  },
  {
   "cell_type": "code",
   "execution_count": 7,
   "metadata": {},
   "outputs": [
    {
     "data": {
      "text/plain": [
       "{'symptom_description_kaggle': {'gpt2': 26.82926829268293,\n",
       "  'gpt2-xl': 14.634146341463413,\n",
       "  'bert-base-uncased': 2.4390243902439024,\n",
       "  'roberta-base': 2.4390243902439024,\n",
       "  'BioBert': 4.878048780487805,\n",
       "  'bionlp/bluebert_pubmed_mimic_uncased_L-12_H-768_A-12': 2.4390243902439024,\n",
       "  'allenai/scibert_scivocab_cased': 4.878048780487805,\n",
       "  'microsoft/BiomedNLP-PubMedBERT-base-uncased-abstract-fulltext': 0.0},\n",
       " 'chatdoctor_format_df': {'gpt2': 26.82926829268293,\n",
       "  'gpt2-xl': 18.718592964824122,\n",
       "  'bert-base-uncased': 5.9045226130653266,\n",
       "  'roberta-base': 0.628140703517588,\n",
       "  'BioBert': 0.628140703517588,\n",
       "  'bionlp/bluebert_pubmed_mimic_uncased_L-12_H-768_A-12': 0.628140703517588,\n",
       "  'allenai/scibert_scivocab_cased': 5.9045226130653266,\n",
       "  'microsoft/BiomedNLP-PubMedBERT-base-uncased-abstract-fulltext': 5.9045226130653266}}"
      ]
     },
     "execution_count": 7,
     "metadata": {},
     "output_type": "execute_result"
    }
   ],
   "source": [
    "results_dic"
   ]
  },
  {
   "cell_type": "markdown",
   "metadata": {},
   "source": [
    "#### 5.2.6 Additional Models"
   ]
  },
  {
   "cell_type": "code",
   "execution_count": 79,
   "metadata": {},
   "outputs": [],
   "source": [
    "hugging_face_token = 'ADD_YOUR_HUGGING_FACE_TOKEN'\n",
    "\n",
    "# exporting hugging face token to global environment\n",
    "# i needed to create account in hugging face and create access token to do these operations"
   ]
  },
  {
   "cell_type": "code",
   "execution_count": null,
   "metadata": {},
   "outputs": [],
   "source": [
    "#!export HUGGINGFACE_TOKEN=hugging_face_token"
   ]
  },
  {
   "cell_type": "code",
   "execution_count": 80,
   "metadata": {},
   "outputs": [],
   "source": [
    "# Retrieve the Hugging Face token from environment variable\n",
    "hf_token = os.getenv('HUGGINGFACE_TOKEN')"
   ]
  },
  {
   "cell_type": "code",
   "execution_count": 81,
   "metadata": {},
   "outputs": [],
   "source": [
    "#!pip install huggingface_hub\n",
    "#!huggingface-cli login"
   ]
  },
  {
   "cell_type": "code",
   "execution_count": 82,
   "metadata": {},
   "outputs": [],
   "source": [
    "#!pip install transformers sentencepiece"
   ]
  },
  {
   "cell_type": "code",
   "execution_count": 83,
   "metadata": {},
   "outputs": [],
   "source": [
    "#!python -m venv transformers-env\n",
    "#!source transformers-env/bin/activate\n",
    "#!pip install --upgrade pip\n",
    "#!pip install transformers sentencepiece"
   ]
  },
  {
   "cell_type": "code",
   "execution_count": 84,
   "metadata": {},
   "outputs": [],
   "source": [
    "list_of_additional_models = [\n",
    "#    'emilyalsentzer/Bio_ClinicalBERT',\n",
    "    'bionlp/bluebert_pubmed_mimic_uncased_L-12_H-768_A-12',\n",
    "    'allenai/scibert_scivocab_cased',\n",
    "    'microsoft/BiomedNLP-PubMedBERT-base-uncased-abstract-fulltext',\n",
    "#    'yikuan8/Clinical-T5-Base',\n",
    "#    'uf-hobi/gatortron-og',\n",
    "#    'epfl-llm/meditron-70b'  # Ensure you have access to this model\n",
    "]"
   ]
  },
  {
   "cell_type": "code",
   "execution_count": 88,
   "metadata": {},
   "outputs": [],
   "source": [
    "def predict_disease(model_name, dataframe, accuracy_model, max_token_length=128, batch_size=16):\n",
    "    # Load the tokenizer and model with the authentication token\n",
    "    tokenizer = AutoTokenizer.from_pretrained(model_name)\n",
    "    model = AutoModelForSequenceClassification.from_pretrained(model_name, ignore_mismatched_sizes=True)\n",
    "\n",
    "    # Get unique disease labels from the provided dataframe\n",
    "    disease_labels = list(dataframe['Disease'].unique())\n",
    "    label_to_idx = {label: idx for idx, label in enumerate(disease_labels)}\n",
    "    idx_to_label = {idx: label for label, idx in label_to_idx.items()}\n",
    "\n",
    "    # Function to predict disease from a batch of descriptions using the pre-trained model\n",
    "    def predict_disease_batch(descriptions, model, tokenizer):\n",
    "        inputs = tokenizer(descriptions, return_tensors='pt', padding=True, truncation=True, max_length=max_token_length)\n",
    "        with torch.no_grad():\n",
    "            outputs = model(**inputs)\n",
    "        predicted_label_idxs = outputs.logits.argmax(dim=-1).tolist()\n",
    "        return [idx_to_label.get(idx, 'unknown') for idx in predicted_label_idxs]\n",
    "\n",
    "    all_descriptions = dataframe['Description'].tolist()\n",
    "    all_predictions = []\n",
    "\n",
    "    for i in tqdm(range(0, len(all_descriptions), batch_size)):\n",
    "        batch_descriptions = all_descriptions[i:i + batch_size]\n",
    "        batch_predictions = predict_disease_batch(batch_descriptions, model, tokenizer)\n",
    "        all_predictions.extend(batch_predictions)\n",
    "\n",
    "    dataframe['Predicted Disease'] = all_predictions\n",
    "    \n",
    "    dataframe['Is Correct Prediction'] = dataframe.apply(accuracy_model, axis=1)\n",
    "    accuracy = dataframe['Is Correct Prediction'].mean()\n",
    "\n",
    "    print(f\"Accuracy of model - {model_name}: {accuracy * 100:.2f}%\")\n",
    "    print(dataframe.head(10))\n",
    "\n",
    "    return dataframe"
   ]
  },
  {
   "cell_type": "code",
   "execution_count": 86,
   "metadata": {},
   "outputs": [],
   "source": [
    "import os\n",
    "os.environ['HUGGINGFACE_TOKEN'] = {''}\n"
   ]
  },
  {
   "cell_type": "code",
   "execution_count": 92,
   "metadata": {},
   "outputs": [
    {
     "name": "stdout",
     "output_type": "stream",
     "text": [
      "Running predictions with model: bionlp/bluebert_pubmed_mimic_uncased_L-12_H-768_A-12\n"
     ]
    },
    {
     "name": "stderr",
     "output_type": "stream",
     "text": [
      "Some weights of BertForSequenceClassification were not initialized from the model checkpoint at bionlp/bluebert_pubmed_mimic_uncased_L-12_H-768_A-12 and are newly initialized: ['classifier.bias', 'classifier.weight']\n",
      "You should probably TRAIN this model on a down-stream task to be able to use it for predictions and inference.\n",
      "100%|█████████████████████████████████████████████| 3/3 [00:00<00:00,  3.10it/s]\n"
     ]
    },
    {
     "name": "stdout",
     "output_type": "stream",
     "text": [
      "Accuracy of model - bionlp/bluebert_pubmed_mimic_uncased_L-12_H-768_A-12: 2.44%\n",
      "                                   Disease  \\\n",
      "0                            Drug Reaction   \n",
      "1                                  Malaria   \n",
      "2                                  Allergy   \n",
      "3                           Hypothyroidism   \n",
      "4                                Psoriasis   \n",
      "5                                     GERD   \n",
      "6                      Chronic cholestasis   \n",
      "7                              hepatitis A   \n",
      "8                          Osteoarthristis   \n",
      "9  (vertigo) Paroymsal  Positional Vertigo   \n",
      "\n",
      "                                         Description Predicted Disease  \\\n",
      "0  an adverse this disease (adr) is an injury cau...           Malaria   \n",
      "1  an infectious disease caused by protozoan para...           Malaria   \n",
      "2  an this disease is an immune system response t...     Drug Reaction   \n",
      "3  this disease, also called underactive thyroid ...     Drug Reaction   \n",
      "4  this disease is a common skin disorder that fo...     Drug Reaction   \n",
      "5  gastroesophageal reflux disease, or this disea...     Drug Reaction   \n",
      "6  chronic cholestatic diseases, whether occurrin...     Drug Reaction   \n",
      "7  this disease is a highly contagious liver infe...     Drug Reaction   \n",
      "8  osteoarthritis is the most common form of arth...           Malaria   \n",
      "9  benign paroxysmal positional vertigo (bppv) is...     Drug Reaction   \n",
      "\n",
      "   Is Correct Prediction  \n",
      "0                  False  \n",
      "1                   True  \n",
      "2                  False  \n",
      "3                  False  \n",
      "4                  False  \n",
      "5                  False  \n",
      "6                  False  \n",
      "7                  False  \n",
      "8                  False  \n",
      "9                  False  \n",
      "Finished predictions with model: bionlp/bluebert_pubmed_mimic_uncased_L-12_H-768_A-12\n",
      "\n",
      "Running predictions with model: allenai/scibert_scivocab_cased\n"
     ]
    },
    {
     "name": "stderr",
     "output_type": "stream",
     "text": [
      "Some weights of BertForSequenceClassification were not initialized from the model checkpoint at allenai/scibert_scivocab_cased and are newly initialized: ['classifier.bias', 'classifier.weight']\n",
      "You should probably TRAIN this model on a down-stream task to be able to use it for predictions and inference.\n",
      "100%|█████████████████████████████████████████████| 3/3 [00:00<00:00,  3.02it/s]\n"
     ]
    },
    {
     "name": "stdout",
     "output_type": "stream",
     "text": [
      "Accuracy of model - allenai/scibert_scivocab_cased: 4.88%\n",
      "                                   Disease  \\\n",
      "0                            Drug Reaction   \n",
      "1                                  Malaria   \n",
      "2                                  Allergy   \n",
      "3                           Hypothyroidism   \n",
      "4                                Psoriasis   \n",
      "5                                     GERD   \n",
      "6                      Chronic cholestasis   \n",
      "7                              hepatitis A   \n",
      "8                          Osteoarthristis   \n",
      "9  (vertigo) Paroymsal  Positional Vertigo   \n",
      "\n",
      "                                         Description Predicted Disease  \\\n",
      "0  an adverse this disease (adr) is an injury cau...     Drug Reaction   \n",
      "1  an infectious disease caused by protozoan para...           Malaria   \n",
      "2  an this disease is an immune system response t...     Drug Reaction   \n",
      "3  this disease, also called underactive thyroid ...     Drug Reaction   \n",
      "4  this disease is a common skin disorder that fo...     Drug Reaction   \n",
      "5  gastroesophageal reflux disease, or this disea...     Drug Reaction   \n",
      "6  chronic cholestatic diseases, whether occurrin...     Drug Reaction   \n",
      "7  this disease is a highly contagious liver infe...     Drug Reaction   \n",
      "8  osteoarthritis is the most common form of arth...     Drug Reaction   \n",
      "9  benign paroxysmal positional vertigo (bppv) is...     Drug Reaction   \n",
      "\n",
      "   Is Correct Prediction  \n",
      "0                   True  \n",
      "1                   True  \n",
      "2                  False  \n",
      "3                  False  \n",
      "4                  False  \n",
      "5                  False  \n",
      "6                  False  \n",
      "7                  False  \n",
      "8                  False  \n",
      "9                  False  \n",
      "Finished predictions with model: allenai/scibert_scivocab_cased\n",
      "\n",
      "Running predictions with model: microsoft/BiomedNLP-PubMedBERT-base-uncased-abstract-fulltext\n"
     ]
    },
    {
     "name": "stderr",
     "output_type": "stream",
     "text": [
      "Some weights of BertForSequenceClassification were not initialized from the model checkpoint at microsoft/BiomedNLP-PubMedBERT-base-uncased-abstract-fulltext and are newly initialized: ['classifier.bias', 'classifier.weight']\n",
      "You should probably TRAIN this model on a down-stream task to be able to use it for predictions and inference.\n",
      "100%|█████████████████████████████████████████████| 3/3 [00:00<00:00,  3.22it/s]"
     ]
    },
    {
     "name": "stdout",
     "output_type": "stream",
     "text": [
      "Accuracy of model - microsoft/BiomedNLP-PubMedBERT-base-uncased-abstract-fulltext: 0.00%\n",
      "                                   Disease  \\\n",
      "0                            Drug Reaction   \n",
      "1                                  Malaria   \n",
      "2                                  Allergy   \n",
      "3                           Hypothyroidism   \n",
      "4                                Psoriasis   \n",
      "5                                     GERD   \n",
      "6                      Chronic cholestasis   \n",
      "7                              hepatitis A   \n",
      "8                          Osteoarthristis   \n",
      "9  (vertigo) Paroymsal  Positional Vertigo   \n",
      "\n",
      "                                         Description Predicted Disease  \\\n",
      "0  an adverse this disease (adr) is an injury cau...           Malaria   \n",
      "1  an infectious disease caused by protozoan para...     Drug Reaction   \n",
      "2  an this disease is an immune system response t...     Drug Reaction   \n",
      "3  this disease, also called underactive thyroid ...     Drug Reaction   \n",
      "4  this disease is a common skin disorder that fo...     Drug Reaction   \n",
      "5  gastroesophageal reflux disease, or this disea...     Drug Reaction   \n",
      "6  chronic cholestatic diseases, whether occurrin...     Drug Reaction   \n",
      "7  this disease is a highly contagious liver infe...     Drug Reaction   \n",
      "8  osteoarthritis is the most common form of arth...     Drug Reaction   \n",
      "9  benign paroxysmal positional vertigo (bppv) is...           Malaria   \n",
      "\n",
      "   Is Correct Prediction  \n",
      "0                  False  \n",
      "1                  False  \n",
      "2                  False  \n",
      "3                  False  \n",
      "4                  False  \n",
      "5                  False  \n",
      "6                  False  \n",
      "7                  False  \n",
      "8                  False  \n",
      "9                  False  \n",
      "Finished predictions with model: microsoft/BiomedNLP-PubMedBERT-base-uncased-abstract-fulltext\n",
      "\n"
     ]
    },
    {
     "name": "stderr",
     "output_type": "stream",
     "text": [
      "\n"
     ]
    }
   ],
   "source": [
    "import warnings\n",
    "# Suppress specific warnings from transformers\n",
    "warnings.filterwarnings(\"ignore\", message=r\"Some weights of the model checkpoint.*\")\n",
    "\n",
    "for model_name in list_of_additional_models:\n",
    "    print(f\"Running predictions with model: {model_name}\")\n",
    "    df = predict_disease(model_name, symptom_description_kaggle, is_disease_in_prediction_2)\n",
    "    accuracy = df['Is Correct Prediction'].mean() * 100\n",
    "    results_dic['symptom_description_kaggle'][model_name] = accuracy\n",
    "    print(f\"Finished predictions with model: {model_name}\\n\")    "
   ]
  },
  {
   "cell_type": "code",
   "execution_count": 93,
   "metadata": {},
   "outputs": [
    {
     "name": "stdout",
     "output_type": "stream",
     "text": [
      "Running predictions with model: bionlp/bluebert_pubmed_mimic_uncased_L-12_H-768_A-12\n"
     ]
    },
    {
     "name": "stderr",
     "output_type": "stream",
     "text": [
      "Some weights of BertForSequenceClassification were not initialized from the model checkpoint at bionlp/bluebert_pubmed_mimic_uncased_L-12_H-768_A-12 and are newly initialized: ['classifier.bias', 'classifier.weight']\n",
      "You should probably TRAIN this model on a down-stream task to be able to use it for predictions and inference.\n",
      "100%|███████████████████████████████████████████| 50/50 [00:22<00:00,  2.23it/s]\n"
     ]
    },
    {
     "name": "stdout",
     "output_type": "stream",
     "text": [
      "Accuracy of model - bionlp/bluebert_pubmed_mimic_uncased_L-12_H-768_A-12: 0.63%\n",
      "                            Disease  \\\n",
      "0                    Panic disorder   \n",
      "1                  Vocal cord polyp   \n",
      "2                   Turner syndrome   \n",
      "3                    Cryptorchidism   \n",
      "4  Poisoning due to ethylene glycol   \n",
      "5                Atrophic vaginitis   \n",
      "6              Fracture of the hand   \n",
      "7    Cellulitis or abscess of mouth   \n",
      "8            Eye alignment disorder   \n",
      "9    Headache after lumbar puncture   \n",
      "\n",
      "                                         Description Predicted Disease  \\\n",
      "0  ['Anxiety and nervousness', 'Depression', 'Sho...  Vocal cord polyp   \n",
      "1  ['Hoarse voice', 'Sore throat', 'Difficulty sp...  Vocal cord polyp   \n",
      "2  ['Groin mass', 'Leg pain', 'Hip pain', 'Suprap...  Vocal cord polyp   \n",
      "3  ['Symptoms of the scrotum and testes', 'Swelli...  Vocal cord polyp   \n",
      "4  ['Abusing alcohol', 'Fainting', 'Hostile behav...  Vocal cord polyp   \n",
      "5  ['Vaginal itching', 'Vaginal dryness', 'Painfu...  Vocal cord polyp   \n",
      "6  ['Hand or finger pain', 'Wrist pain', 'Hand or...  Vocal cord polyp   \n",
      "7  ['Lip swelling', 'Sore throat', 'Toothache', '...  Vocal cord polyp   \n",
      "8  ['Eye deviation', 'Diminished vision', 'Double...  Vocal cord polyp   \n",
      "9  ['Headache', 'Nausea', 'Back pain', 'Vomiting'...  Vocal cord polyp   \n",
      "\n",
      "   Is Correct Prediction  \n",
      "0                  False  \n",
      "1                   True  \n",
      "2                  False  \n",
      "3                  False  \n",
      "4                  False  \n",
      "5                  False  \n",
      "6                  False  \n",
      "7                  False  \n",
      "8                  False  \n",
      "9                  False  \n",
      "Finished predictions with model: bionlp/bluebert_pubmed_mimic_uncased_L-12_H-768_A-12\n",
      "\n",
      "Running predictions with model: allenai/scibert_scivocab_cased\n"
     ]
    },
    {
     "name": "stderr",
     "output_type": "stream",
     "text": [
      "Some weights of BertForSequenceClassification were not initialized from the model checkpoint at allenai/scibert_scivocab_cased and are newly initialized: ['classifier.bias', 'classifier.weight']\n",
      "You should probably TRAIN this model on a down-stream task to be able to use it for predictions and inference.\n",
      "100%|███████████████████████████████████████████| 50/50 [00:22<00:00,  2.25it/s]\n"
     ]
    },
    {
     "name": "stdout",
     "output_type": "stream",
     "text": [
      "Accuracy of model - allenai/scibert_scivocab_cased: 5.90%\n",
      "                            Disease  \\\n",
      "0                    Panic disorder   \n",
      "1                  Vocal cord polyp   \n",
      "2                   Turner syndrome   \n",
      "3                    Cryptorchidism   \n",
      "4  Poisoning due to ethylene glycol   \n",
      "5                Atrophic vaginitis   \n",
      "6              Fracture of the hand   \n",
      "7    Cellulitis or abscess of mouth   \n",
      "8            Eye alignment disorder   \n",
      "9    Headache after lumbar puncture   \n",
      "\n",
      "                                         Description Predicted Disease  \\\n",
      "0  ['Anxiety and nervousness', 'Depression', 'Sho...    Panic disorder   \n",
      "1  ['Hoarse voice', 'Sore throat', 'Difficulty sp...    Panic disorder   \n",
      "2  ['Groin mass', 'Leg pain', 'Hip pain', 'Suprap...    Panic disorder   \n",
      "3  ['Symptoms of the scrotum and testes', 'Swelli...    Panic disorder   \n",
      "4  ['Abusing alcohol', 'Fainting', 'Hostile behav...    Panic disorder   \n",
      "5  ['Vaginal itching', 'Vaginal dryness', 'Painfu...    Panic disorder   \n",
      "6  ['Hand or finger pain', 'Wrist pain', 'Hand or...    Panic disorder   \n",
      "7  ['Lip swelling', 'Sore throat', 'Toothache', '...    Panic disorder   \n",
      "8  ['Eye deviation', 'Diminished vision', 'Double...    Panic disorder   \n",
      "9  ['Headache', 'Nausea', 'Back pain', 'Vomiting'...    Panic disorder   \n",
      "\n",
      "   Is Correct Prediction  \n",
      "0                   True  \n",
      "1                  False  \n",
      "2                  False  \n",
      "3                  False  \n",
      "4                  False  \n",
      "5                  False  \n",
      "6                  False  \n",
      "7                  False  \n",
      "8                   True  \n",
      "9                  False  \n",
      "Finished predictions with model: allenai/scibert_scivocab_cased\n",
      "\n",
      "Running predictions with model: microsoft/BiomedNLP-PubMedBERT-base-uncased-abstract-fulltext\n"
     ]
    },
    {
     "name": "stderr",
     "output_type": "stream",
     "text": [
      "Some weights of BertForSequenceClassification were not initialized from the model checkpoint at microsoft/BiomedNLP-PubMedBERT-base-uncased-abstract-fulltext and are newly initialized: ['classifier.bias', 'classifier.weight']\n",
      "You should probably TRAIN this model on a down-stream task to be able to use it for predictions and inference.\n",
      "100%|███████████████████████████████████████████| 50/50 [00:21<00:00,  2.36it/s]"
     ]
    },
    {
     "name": "stdout",
     "output_type": "stream",
     "text": [
      "Accuracy of model - microsoft/BiomedNLP-PubMedBERT-base-uncased-abstract-fulltext: 5.90%\n",
      "                            Disease  \\\n",
      "0                    Panic disorder   \n",
      "1                  Vocal cord polyp   \n",
      "2                   Turner syndrome   \n",
      "3                    Cryptorchidism   \n",
      "4  Poisoning due to ethylene glycol   \n",
      "5                Atrophic vaginitis   \n",
      "6              Fracture of the hand   \n",
      "7    Cellulitis or abscess of mouth   \n",
      "8            Eye alignment disorder   \n",
      "9    Headache after lumbar puncture   \n",
      "\n",
      "                                         Description Predicted Disease  \\\n",
      "0  ['Anxiety and nervousness', 'Depression', 'Sho...    Panic disorder   \n",
      "1  ['Hoarse voice', 'Sore throat', 'Difficulty sp...    Panic disorder   \n",
      "2  ['Groin mass', 'Leg pain', 'Hip pain', 'Suprap...    Panic disorder   \n",
      "3  ['Symptoms of the scrotum and testes', 'Swelli...    Panic disorder   \n",
      "4  ['Abusing alcohol', 'Fainting', 'Hostile behav...    Panic disorder   \n",
      "5  ['Vaginal itching', 'Vaginal dryness', 'Painfu...    Panic disorder   \n",
      "6  ['Hand or finger pain', 'Wrist pain', 'Hand or...    Panic disorder   \n",
      "7  ['Lip swelling', 'Sore throat', 'Toothache', '...    Panic disorder   \n",
      "8  ['Eye deviation', 'Diminished vision', 'Double...    Panic disorder   \n",
      "9  ['Headache', 'Nausea', 'Back pain', 'Vomiting'...    Panic disorder   \n",
      "\n",
      "   Is Correct Prediction  \n",
      "0                   True  \n",
      "1                  False  \n",
      "2                  False  \n",
      "3                  False  \n",
      "4                  False  \n",
      "5                  False  \n",
      "6                  False  \n",
      "7                  False  \n",
      "8                   True  \n",
      "9                  False  \n",
      "Finished predictions with model: microsoft/BiomedNLP-PubMedBERT-base-uncased-abstract-fulltext\n",
      "\n"
     ]
    },
    {
     "name": "stderr",
     "output_type": "stream",
     "text": [
      "\n"
     ]
    }
   ],
   "source": [
    "for model_name in list_of_additional_models:\n",
    "    print(f\"Running predictions with model: {model_name}\")\n",
    "    df = predict_disease(model_name, chatdoctor_format_df, is_disease_in_prediction_2)\n",
    "    accuracy = df['Is Correct Prediction'].mean() * 100\n",
    "    results_dic['chatdoctor_format_df'][model_name] = accuracy\n",
    "    print(f\"Finished predictions with model: {model_name}\\n\")  "
   ]
  },
  {
   "cell_type": "code",
   "execution_count": 96,
   "metadata": {},
   "outputs": [],
   "source": [
    "import pickle\n",
    "# Save the dictionary to a file\n",
    "with open('results_dic.pkl', 'wb') as f:\n",
    "    pickle.dump(results_dic, f)"
   ]
  },
  {
   "cell_type": "code",
   "execution_count": 97,
   "metadata": {},
   "outputs": [
    {
     "data": {
      "text/plain": [
       "{'symptom_description_kaggle': {'gpt2': 26.82926829268293,\n",
       "  'gpt2-xl': 14.634146341463413,\n",
       "  'bert-base-uncased': 2.4390243902439024,\n",
       "  'roberta-base': 2.4390243902439024,\n",
       "  'BioBert': 4.878048780487805,\n",
       "  'bionlp/bluebert_pubmed_mimic_uncased_L-12_H-768_A-12': 2.4390243902439024,\n",
       "  'allenai/scibert_scivocab_cased': 4.878048780487805,\n",
       "  'microsoft/BiomedNLP-PubMedBERT-base-uncased-abstract-fulltext': 0.0},\n",
       " 'chatdoctor_format_df': {'gpt2': 26.82926829268293,\n",
       "  'gpt2-xl': 18.718592964824122,\n",
       "  'bert-base-uncased': 5.9045226130653266,\n",
       "  'roberta-base': 0.628140703517588,\n",
       "  'BioBert': 0.628140703517588,\n",
       "  'bionlp/bluebert_pubmed_mimic_uncased_L-12_H-768_A-12': 0.628140703517588,\n",
       "  'allenai/scibert_scivocab_cased': 5.9045226130653266,\n",
       "  'microsoft/BiomedNLP-PubMedBERT-base-uncased-abstract-fulltext': 5.9045226130653266}}"
      ]
     },
     "execution_count": 97,
     "metadata": {},
     "output_type": "execute_result"
    }
   ],
   "source": [
    "results_dic"
   ]
  },
  {
   "cell_type": "code",
   "execution_count": 423,
   "metadata": {},
   "outputs": [],
   "source": [
    "#!pip install transformers torch\n",
    "#!pip install --upgrade transformers\n",
    "#!pip install transformers==4.11.3 torch==1.10.0"
   ]
  },
  {
   "cell_type": "code",
   "execution_count": 443,
   "metadata": {},
   "outputs": [],
   "source": [
    "#!python -m venv new_env\n",
    "#!source new_env/bin/activate  # On Windows use `new_env\\Scripts\\activate`"
   ]
  },
  {
   "cell_type": "code",
   "execution_count": 444,
   "metadata": {},
   "outputs": [],
   "source": [
    "#!pip install transformers torch safetensors"
   ]
  },
  {
   "cell_type": "code",
   "execution_count": 110,
   "metadata": {},
   "outputs": [],
   "source": [
    "### Model: T-5\n",
    "\n",
    "import os\n",
    "import torch\n",
    "from transformers import AutoTokenizer, T5ForConditionalGeneration\n",
    "from tqdm import tqdm\n",
    "import pandas as pd\n",
    "\n",
    "def predict_disease(model_name, dataframe, accuracy_model, max_token_length=128, batch_size=16):\n",
    "    try:\n",
    "        # Load the tokenizer and model\n",
    "        tokenizer = AutoTokenizer.from_pretrained(model_name)\n",
    "        model = T5ForConditionalGeneration.from_pretrained(model_name)\n",
    "        \n",
    "        # Move model to GPU if available\n",
    "        device = torch.device('cuda' if torch.cuda.is_available() else 'cpu')\n",
    "        model.to(device)\n",
    "\n",
    "        # Function to generate disease descriptions from a batch of input descriptions using the pre-trained model\n",
    "        def generate_disease_batch(descriptions, model, tokenizer, max_token_length):\n",
    "            inputs = tokenizer(descriptions, return_tensors='pt', padding=True, truncation=True, max_length=max_token_length)\n",
    "            inputs = {k: v.to(device) for k, v in inputs.items()}  # Move inputs to device\n",
    "            with torch.no_grad():\n",
    "                outputs = model.generate(input_ids=inputs['input_ids'], attention_mask=inputs['attention_mask'], max_length=max_token_length)\n",
    "            return [tokenizer.decode(output, skip_special_tokens=True) for output in outputs]\n",
    "\n",
    "        all_descriptions = dataframe['Description'].tolist()\n",
    "        all_predictions = []\n",
    "\n",
    "        for i in tqdm(range(0, len(all_descriptions), batch_size)):\n",
    "            batch_descriptions = all_descriptions[i:i + batch_size]\n",
    "            batch_predictions = generate_disease_batch(batch_descriptions, model, tokenizer, max_token_length)\n",
    "            all_predictions.extend(batch_predictions)\n",
    "\n",
    "        dataframe['Generated Disease Description'] = all_predictions\n",
    "        \n",
    "        dataframe['Is Correct Prediction'] = dataframe.apply(accuracy_model, axis=1)\n",
    "        accuracy = dataframe['Is Correct Prediction'].mean()\n",
    "\n",
    "        print(f\"Accuracy of model - {model_name}: {accuracy * 100:.2f}%\")\n",
    "        print(dataframe.head(10))\n",
    "\n",
    "        return dataframe\n",
    "\n",
    "    except Exception as e:\n",
    "        print(f\"An error occurred: {e}\")\n"
   ]
  },
  {
   "cell_type": "code",
   "execution_count": 106,
   "metadata": {},
   "outputs": [
    {
     "data": {
      "text/plain": [
       "{'symptom_description_kaggle': {'gpt2': 26.82926829268293,\n",
       "  'gpt2-xl': 14.634146341463413,\n",
       "  'bert-base-uncased': 2.4390243902439024,\n",
       "  'roberta-base': 2.4390243902439024,\n",
       "  'BioBert': 4.878048780487805,\n",
       "  'bionlp/bluebert_pubmed_mimic_uncased_L-12_H-768_A-12': 2.4390243902439024,\n",
       "  'allenai/scibert_scivocab_cased': 4.878048780487805,\n",
       "  'microsoft/BiomedNLP-PubMedBERT-base-uncased-abstract-fulltext': 0.0},\n",
       " 'chatdoctor_format_df': {'gpt2': 26.82926829268293,\n",
       "  'gpt2-xl': 18.718592964824122,\n",
       "  'bert-base-uncased': 5.9045226130653266,\n",
       "  'roberta-base': 0.628140703517588,\n",
       "  'BioBert': 0.628140703517588,\n",
       "  'bionlp/bluebert_pubmed_mimic_uncased_L-12_H-768_A-12': 0.628140703517588,\n",
       "  'allenai/scibert_scivocab_cased': 5.9045226130653266,\n",
       "  'microsoft/BiomedNLP-PubMedBERT-base-uncased-abstract-fulltext': 5.9045226130653266}}"
      ]
     },
     "execution_count": 106,
     "metadata": {},
     "output_type": "execute_result"
    }
   ],
   "source": [
    "results_dic"
   ]
  },
  {
   "cell_type": "code",
   "execution_count": 107,
   "metadata": {
    "scrolled": true
   },
   "outputs": [
    {
     "name": "stderr",
     "output_type": "stream",
     "text": [
      "100%|█████████████████████████████████████████████| 3/3 [00:15<00:00,  5.27s/it]"
     ]
    },
    {
     "name": "stdout",
     "output_type": "stream",
     "text": [
      "Accuracy of model - t5-base: 0.00%\n",
      "                                   Disease  \\\n",
      "0                            Drug Reaction   \n",
      "1                                  Malaria   \n",
      "2                                  Allergy   \n",
      "3                           Hypothyroidism   \n",
      "4                                Psoriasis   \n",
      "5                                     GERD   \n",
      "6                      Chronic cholestasis   \n",
      "7                              hepatitis A   \n",
      "8                          Osteoarthristis   \n",
      "9  (vertigo) Paroymsal  Positional Vertigo   \n",
      "\n",
      "                                         Description Predicted Disease  \\\n",
      "0  an adverse this disease (adr) is an injury cau...           Malaria   \n",
      "1  an infectious disease caused by protozoan para...     Drug Reaction   \n",
      "2  an this disease is an immune system response t...     Drug Reaction   \n",
      "3  this disease, also called underactive thyroid ...     Drug Reaction   \n",
      "4  this disease is a common skin disorder that fo...     Drug Reaction   \n",
      "5  gastroesophageal reflux disease, or this disea...     Drug Reaction   \n",
      "6  chronic cholestatic diseases, whether occurrin...     Drug Reaction   \n",
      "7  this disease is a highly contagious liver infe...     Drug Reaction   \n",
      "8  osteoarthritis is the most common form of arth...     Drug Reaction   \n",
      "9  benign paroxysmal positional vertigo (bppv) is...           Malaria   \n",
      "\n",
      "   Is Correct Prediction                      Generated Disease Description  \n",
      "0                  False  an adverse this disease (adr) is an injury cau...  \n",
      "1                  False  anopheles is a parasitic disease that can be t...  \n",
      "2                  False  a this disease is an immune system response to...  \n",
      "3                  False  , is a disorder of the endocrine system in whi...  \n",
      "4                  False  it can pop up anywhere, but most commonly on t...  \n",
      "5                  False  gesophageal reflux disease, or this disease, i...  \n",
      "6                  False  are characterized by biliary cholestatic disea...  \n",
      "7                  False  is a highly contagious liver infection caused ...  \n",
      "8                  False  osteoarthritis is the most common form of arth...  \n",
      "9                  False  vertigo is the sudden sensation that you're sp...  \n"
     ]
    },
    {
     "name": "stderr",
     "output_type": "stream",
     "text": [
      "\n"
     ]
    }
   ],
   "source": [
    "# t5-base\n",
    "symptom_description_kaggle_df_t5_base = predict_disease('t5-base', symptom_description_kaggle, is_disease_in_prediction_2)\n",
    "accuracy = symptom_description_kaggle_df_t5_base['Is Correct Prediction'].mean() * 100\n",
    "results_dic['symptom_description_kaggle']['t5-base'] = accuracy"
   ]
  },
  {
   "cell_type": "code",
   "execution_count": 108,
   "metadata": {},
   "outputs": [
    {
     "name": "stderr",
     "output_type": "stream",
     "text": [
      "100%|███████████████████████████████████████████| 50/50 [06:06<00:00,  7.32s/it]"
     ]
    },
    {
     "name": "stdout",
     "output_type": "stream",
     "text": [
      "Accuracy of model - t5-base: 5.90%\n",
      "                            Disease  \\\n",
      "0                    Panic disorder   \n",
      "1                  Vocal cord polyp   \n",
      "2                   Turner syndrome   \n",
      "3                    Cryptorchidism   \n",
      "4  Poisoning due to ethylene glycol   \n",
      "5                Atrophic vaginitis   \n",
      "6              Fracture of the hand   \n",
      "7    Cellulitis or abscess of mouth   \n",
      "8            Eye alignment disorder   \n",
      "9    Headache after lumbar puncture   \n",
      "\n",
      "                                         Description Predicted Disease  \\\n",
      "0  ['Anxiety and nervousness', 'Depression', 'Sho...    Panic disorder   \n",
      "1  ['Hoarse voice', 'Sore throat', 'Difficulty sp...    Panic disorder   \n",
      "2  ['Groin mass', 'Leg pain', 'Hip pain', 'Suprap...    Panic disorder   \n",
      "3  ['Symptoms of the scrotum and testes', 'Swelli...    Panic disorder   \n",
      "4  ['Abusing alcohol', 'Fainting', 'Hostile behav...    Panic disorder   \n",
      "5  ['Vaginal itching', 'Vaginal dryness', 'Painfu...    Panic disorder   \n",
      "6  ['Hand or finger pain', 'Wrist pain', 'Hand or...    Panic disorder   \n",
      "7  ['Lip swelling', 'Sore throat', 'Toothache', '...    Panic disorder   \n",
      "8  ['Eye deviation', 'Diminished vision', 'Double...    Panic disorder   \n",
      "9  ['Headache', 'Nausea', 'Back pain', 'Vomiting'...    Panic disorder   \n",
      "\n",
      "   Is Correct Prediction                      Generated Disease Description  \n",
      "0                   True  ['Anxiety and nervousness', 'Shortness of brea...  \n",
      "1                  False  , 'Diminished hearing', 'Lump in throat', 'Dim...  \n",
      "2                  False  Stabbing in sputum', 'Lack of growth', 'Lack o...  \n",
      "3                  False  ['Swelling of scrotum and testicles', 'Pain in...  \n",
      "4                  False  ['Depressive or psychotic symptoms', 'Feeling ...  \n",
      "5                  False  , 'Pain during intercourse', 'Pain during inte...  \n",
      "6                  False  ['Hand or finger pain', 'Wrist pain', 'Hand or...  \n",
      "7                  False  , 'Acne or pimples', 'Facial pain', 'Facial pa...  \n",
      "8                   True  , 'Eye deviation', 'Diminished vision', 'Doubl...  \n",
      "9                  False  ', 'Dizziness', 'Neck pain', 'Neoplasia', 'Neo...  \n"
     ]
    },
    {
     "name": "stderr",
     "output_type": "stream",
     "text": [
      "\n"
     ]
    }
   ],
   "source": [
    "# t5-base\n",
    "chatdoctor_format_df_t5_base = predict_disease('t5-base', chatdoctor_format_df, is_disease_in_prediction_2)\n",
    "accuracy = chatdoctor_format_df_t5_base['Is Correct Prediction'].mean() * 100\n",
    "results_dic['chatdoctor_format_df']['t5-base'] = accuracy"
   ]
  },
  {
   "cell_type": "code",
   "execution_count": 109,
   "metadata": {},
   "outputs": [],
   "source": [
    "import pickle\n",
    "# Save the dictionary to a file\n",
    "with open('results_dic.pkl', 'wb') as f:\n",
    "    pickle.dump(results_dic, f)"
   ]
  },
  {
   "cell_type": "code",
   "execution_count": 111,
   "metadata": {},
   "outputs": [
    {
     "data": {
      "text/plain": [
       "{'symptom_description_kaggle': {'gpt2': 26.82926829268293,\n",
       "  'gpt2-xl': 14.634146341463413,\n",
       "  'bert-base-uncased': 2.4390243902439024,\n",
       "  'roberta-base': 2.4390243902439024,\n",
       "  'BioBert': 4.878048780487805,\n",
       "  'bionlp/bluebert_pubmed_mimic_uncased_L-12_H-768_A-12': 2.4390243902439024,\n",
       "  'allenai/scibert_scivocab_cased': 4.878048780487805,\n",
       "  'microsoft/BiomedNLP-PubMedBERT-base-uncased-abstract-fulltext': 0.0,\n",
       "  't5-base': 0.0},\n",
       " 'chatdoctor_format_df': {'gpt2': 26.82926829268293,\n",
       "  'gpt2-xl': 18.718592964824122,\n",
       "  'bert-base-uncased': 5.9045226130653266,\n",
       "  'roberta-base': 0.628140703517588,\n",
       "  'BioBert': 0.628140703517588,\n",
       "  'bionlp/bluebert_pubmed_mimic_uncased_L-12_H-768_A-12': 0.628140703517588,\n",
       "  'allenai/scibert_scivocab_cased': 5.9045226130653266,\n",
       "  'microsoft/BiomedNLP-PubMedBERT-base-uncased-abstract-fulltext': 5.9045226130653266,\n",
       "  't5-base': 5.9045226130653266}}"
      ]
     },
     "execution_count": 111,
     "metadata": {},
     "output_type": "execute_result"
    }
   ],
   "source": [
    "results_dic"
   ]
  },
  {
   "cell_type": "markdown",
   "metadata": {},
   "source": [
    "## 6. Large Language Models"
   ]
  },
  {
   "cell_type": "markdown",
   "metadata": {
    "id": "B0LTwwo1Dnr5"
   },
   "source": [
    "### 6.1. ChatGPT 3.5"
   ]
  },
  {
   "cell_type": "code",
   "execution_count": 132,
   "metadata": {},
   "outputs": [],
   "source": [
    "#!pip install openai\n",
    "#!pip install --upgrade typing_extensions\n",
    "#!pip install --upgrade openai typing_extensions\n",
    "#!pip install openai pandas tqdm typing_extensions"
   ]
  },
  {
   "cell_type": "code",
   "execution_count": 133,
   "metadata": {},
   "outputs": [],
   "source": [
    "#!pip install --upgrade pip\n",
    "#!pip uninstall openai typing_extensions -y\n",
    "#!pip install openai==0.27.0 typing_extensions==4.0.1\n",
    "#!pip show openai\n",
    "#!pip show typing_extensions\n",
    "#!pip install openai pandas tqdm"
   ]
  },
  {
   "cell_type": "code",
   "execution_count": 134,
   "metadata": {},
   "outputs": [
    {
     "name": "stdout",
     "output_type": "stream",
     "text": [
      "OpenAI package imported successfully.\n"
     ]
    }
   ],
   "source": [
    "# test_openai.py\n",
    "try:\n",
    "    import openai\n",
    "    print(\"OpenAI package imported successfully.\")\n",
    "except ImportError as e:\n",
    "    print(f\"Error importing OpenAI: {e}\")"
   ]
  },
  {
   "cell_type": "code",
   "execution_count": 135,
   "metadata": {},
   "outputs": [
    {
     "name": "stdout",
     "output_type": "stream",
     "text": [
      "python: can't open file '/Users/bsen/Documents/Personal/Master/IT_Privacy_Security/Notebooks/test_openai.py': [Errno 2] No such file or directory\r\n"
     ]
    }
   ],
   "source": [
    "!python test_openai.py"
   ]
  },
  {
   "cell_type": "code",
   "execution_count": 136,
   "metadata": {},
   "outputs": [],
   "source": [
    "!python -m venv newenv\n",
    "!source newenv/bin/activate  # On Windows use newenv\\Scripts\\activate"
   ]
  },
  {
   "cell_type": "code",
   "execution_count": 185,
   "metadata": {},
   "outputs": [
    {
     "name": "stdout",
     "output_type": "stream",
     "text": [
      "API Key is valid and working.\n",
      "You can use the `os` module in Python to list all files in a directory. Here's an example code snippet to achieve this:\n",
      "\n",
      "```python\n",
      "import os\n",
      "\n",
      "directory = '/path/to/directory'\n",
      "\n",
      "# List all files in the directory\n",
      "files = os.listdir(directory)\n",
      "\n",
      "for file in files:\n",
      "    print(file)\n",
      "```\n",
      "\n",
      "Replace `/path/to/directory` with the path to the directory that you want to list the files from. This code snippet will print out the names of all files in the specified directory.\n"
     ]
    }
   ],
   "source": [
    "def test_openai_api():\n",
    "    try:\n",
    "        # Use the correct parameter setup for ChatCompletion\n",
    "        completion = openai.chat.completions.create(\n",
    "            model=\"gpt-3.5-turbo\",  # Ensure you're using a chat-compatible model\n",
    "            messages=[\n",
    "            {\n",
    "            \"role\": \"user\",\n",
    "            \"content\": \"How do I output all files in a directory using Python?\",\n",
    "            },\n",
    "            ],\n",
    "        )\n",
    "        print(\"API Key is valid and working.\")\n",
    "        # Extract the message content correctly\n",
    "        print(completion.choices[0].message.content)\n",
    "    except Exception as e:\n",
    "        print(\"Error occurred while testing API key:\", e)\n",
    "\n",
    "# Run the function to test the API key\n",
    "test_openai_api()\n"
   ]
  },
  {
   "cell_type": "code",
   "execution_count": 148,
   "metadata": {
    "id": "JOQjpSHYD7Le"
   },
   "outputs": [],
   "source": [
    "def generate_disease_gpt(model_name, dataframe, accuracy_model, batch_size=16):\n",
    "    def generate_disease_batch(descriptions, model):\n",
    "        input_texts = [f\"Patient description: {description}\\nPossible disease diagnosis:\" for description in descriptions]\n",
    "        responses = []\n",
    "        \n",
    "        for input_text in input_texts:\n",
    "            try:\n",
    "                completion = openai.chat.completions.create(\n",
    "                    model=model,\n",
    "                    messages=[{\"role\": \"system\", \"content\": input_text}],\n",
    "                    max_tokens=50,\n",
    "                    temperature=0.7\n",
    "                )\n",
    "                response_text = completion.choices[0].message.content.strip()\n",
    "                diagnosis = response_text.split(\"Possible disease diagnosis:\")[-1].strip()\n",
    "                if '.' in diagnosis:\n",
    "                    diagnosis = diagnosis.split('.')[0].strip()\n",
    "                responses.append(diagnosis if diagnosis else \"unknown\")\n",
    "            except Exception as e:\n",
    "                print(f\"Error generating completion for input: {input_text}\")\n",
    "                print(e)\n",
    "                responses.append(\"unknown\")\n",
    "        \n",
    "        return responses\n",
    "\n",
    "    all_descriptions = dataframe['Description'].tolist()\n",
    "    all_predictions = []\n",
    "\n",
    "    for i in tqdm(range(0, len(all_descriptions), batch_size)):\n",
    "        batch_descriptions = all_descriptions[i:i + batch_size]\n",
    "        batch_predictions = generate_disease_batch(batch_descriptions, model_name)\n",
    "        all_predictions.extend(batch_predictions)\n",
    "\n",
    "    dataframe['Predicted Disease'] = all_predictions\n",
    "\n",
    "    dataframe['Is Correct Prediction'] = dataframe.apply(accuracy_model, axis=1)\n",
    "    accuracy = dataframe['Is Correct Prediction'].mean()\n",
    "\n",
    "    print(f\"Accuracy of model - {model_name}: {accuracy * 100:.2f}%\")\n",
    "    print(dataframe.head(10))\n",
    "\n",
    "    return dataframe"
   ]
  },
  {
   "cell_type": "code",
   "execution_count": 149,
   "metadata": {},
   "outputs": [
    {
     "name": "stderr",
     "output_type": "stream",
     "text": [
      "100%|█████████████████████████████████████████████| 3/3 [00:33<00:00, 11.29s/it]"
     ]
    },
    {
     "name": "stdout",
     "output_type": "stream",
     "text": [
      "Accuracy of model - gpt-3.5-turbo: 92.68%\n",
      "                                   Disease  \\\n",
      "0                            Drug Reaction   \n",
      "1                                  Malaria   \n",
      "2                                  Allergy   \n",
      "3                           Hypothyroidism   \n",
      "4                                Psoriasis   \n",
      "5                                     GERD   \n",
      "6                      Chronic cholestasis   \n",
      "7                              hepatitis A   \n",
      "8                          Osteoarthristis   \n",
      "9  (vertigo) Paroymsal  Positional Vertigo   \n",
      "\n",
      "                                         Description  \\\n",
      "0  an adverse this disease (adr) is an injury cau...   \n",
      "1  an infectious disease caused by protozoan para...   \n",
      "2  an this disease is an immune system response t...   \n",
      "3  this disease, also called underactive thyroid ...   \n",
      "4  this disease is a common skin disorder that fo...   \n",
      "5  gastroesophageal reflux disease, or this disea...   \n",
      "6  chronic cholestatic diseases, whether occurrin...   \n",
      "7  this disease is a highly contagious liver infe...   \n",
      "8  osteoarthritis is the most common form of arth...   \n",
      "9  benign paroxysmal positional vertigo (bppv) is...   \n",
      "\n",
      "                                   Predicted Disease  Is Correct Prediction  \\\n",
      "0                        Adverse drug reaction (ADR)                   True   \n",
      "1  Malaria, specifically caused by Plasmodium fal...                   True   \n",
      "2                                 Allergic reactions                  False   \n",
      "3                                     Hypothyroidism                   True   \n",
      "4                                          Psoriasis                   True   \n",
      "5             Gastroesophageal reflux disease (GERD)                   True   \n",
      "6                        Primary Biliary Cholangitis                  False   \n",
      "7                                        Hepatitis A                   True   \n",
      "8                                     Osteoarthritis                   True   \n",
      "9        Benign Paroxysmal Positional Vertigo (BPPV)                   True   \n",
      "\n",
      "                       Generated Disease Description  \n",
      "0  an adverse this disease (adr) is an injury cau...  \n",
      "1  anopheles is a parasitic disease that can be t...  \n",
      "2  a this disease is an immune system response to...  \n",
      "3  , is a disorder of the endocrine system in whi...  \n",
      "4  it can pop up anywhere, but most commonly on t...  \n",
      "5  gesophageal reflux disease, or this disease, i...  \n",
      "6  are characterized by biliary cholestatic disea...  \n",
      "7  is a highly contagious liver infection caused ...  \n",
      "8  osteoarthritis is the most common form of arth...  \n",
      "9  vertigo is the sudden sensation that you're sp...  \n"
     ]
    },
    {
     "name": "stderr",
     "output_type": "stream",
     "text": [
      "\n"
     ]
    }
   ],
   "source": [
    "symptom_description_kaggle_df_gpt3_5 = generate_disease_gpt('gpt-3.5-turbo', symptom_description_kaggle, is_disease_in_prediction_2)\n",
    "accuracy = symptom_description_kaggle_df_gpt3_5['Is Correct Prediction'].mean() * 100\n",
    "results_dic['symptom_description_kaggle']['gpt-3.5-turbo'] = accuracy"
   ]
  },
  {
   "cell_type": "code",
   "execution_count": 150,
   "metadata": {},
   "outputs": [
    {
     "name": "stderr",
     "output_type": "stream",
     "text": [
      "100%|███████████████████████████████████████████| 50/50 [15:42<00:00, 18.85s/it]"
     ]
    },
    {
     "name": "stdout",
     "output_type": "stream",
     "text": [
      "Accuracy of model - gpt-3.5-turbo: 27.64%\n",
      "                            Disease  \\\n",
      "0                    Panic disorder   \n",
      "1                  Vocal cord polyp   \n",
      "2                   Turner syndrome   \n",
      "3                    Cryptorchidism   \n",
      "4  Poisoning due to ethylene glycol   \n",
      "5                Atrophic vaginitis   \n",
      "6              Fracture of the hand   \n",
      "7    Cellulitis or abscess of mouth   \n",
      "8            Eye alignment disorder   \n",
      "9    Headache after lumbar puncture   \n",
      "\n",
      "                                         Description  \\\n",
      "0  ['Anxiety and nervousness', 'Depression', 'Sho...   \n",
      "1  ['Hoarse voice', 'Sore throat', 'Difficulty sp...   \n",
      "2  ['Groin mass', 'Leg pain', 'Hip pain', 'Suprap...   \n",
      "3  ['Symptoms of the scrotum and testes', 'Swelli...   \n",
      "4  ['Abusing alcohol', 'Fainting', 'Hostile behav...   \n",
      "5  ['Vaginal itching', 'Vaginal dryness', 'Painfu...   \n",
      "6  ['Hand or finger pain', 'Wrist pain', 'Hand or...   \n",
      "7  ['Lip swelling', 'Sore throat', 'Toothache', '...   \n",
      "8  ['Eye deviation', 'Diminished vision', 'Double...   \n",
      "9  ['Headache', 'Nausea', 'Back pain', 'Vomiting'...   \n",
      "\n",
      "                                   Predicted Disease  Is Correct Prediction  \\\n",
      "0  Based on the symptoms provided, it is possible...                   True   \n",
      "1  Based on the symptoms provided, a possible dia...                  False   \n",
      "2  Based on the symptoms provided, the patient ma...                  False   \n",
      "3  The combination of symptoms described could po...                  False   \n",
      "4  The symptoms described suggest the possibility...                  False   \n",
      "5  Based on your symptoms, it is possible that yo...                  False   \n",
      "6  Possible disease diagnosis based on the sympto...                   True   \n",
      "7  Angioedema, Strep throat, Dental abscess, Alle...                   True   \n",
      "8  Based on the symptoms provided, a possible dis...                  False   \n",
      "9  Based on the symptoms provided, the possible d...                  False   \n",
      "\n",
      "                       Generated Disease Description  \n",
      "0  ['Anxiety and nervousness', 'Shortness of brea...  \n",
      "1  , 'Diminished hearing', 'Lump in throat', 'Dim...  \n",
      "2  Stabbing in sputum', 'Lack of growth', 'Lack o...  \n",
      "3  ['Swelling of scrotum and testicles', 'Pain in...  \n",
      "4  ['Depressive or psychotic symptoms', 'Feeling ...  \n",
      "5  , 'Pain during intercourse', 'Pain during inte...  \n",
      "6  ['Hand or finger pain', 'Wrist pain', 'Hand or...  \n",
      "7  , 'Acne or pimples', 'Facial pain', 'Facial pa...  \n",
      "8  , 'Eye deviation', 'Diminished vision', 'Doubl...  \n",
      "9  ', 'Dizziness', 'Neck pain', 'Neoplasia', 'Neo...  \n"
     ]
    },
    {
     "name": "stderr",
     "output_type": "stream",
     "text": [
      "\n"
     ]
    }
   ],
   "source": [
    "chatdoctor_format_df_gpt3_5 = generate_disease_gpt('gpt-3.5-turbo', chatdoctor_format_df, is_disease_in_prediction_2)\n",
    "accuracy = chatdoctor_format_df_gpt3_5['Is Correct Prediction'].mean() * 100\n",
    "results_dic['chatdoctor_format_df']['gpt-3.5-turbo'] = accuracy"
   ]
  },
  {
   "cell_type": "code",
   "execution_count": 151,
   "metadata": {},
   "outputs": [],
   "source": [
    "import pickle\n",
    "# Save the dictionary to a file\n",
    "with open('results_dic.pkl', 'wb') as f:\n",
    "    pickle.dump(results_dic, f)"
   ]
  },
  {
   "cell_type": "code",
   "execution_count": 152,
   "metadata": {},
   "outputs": [
    {
     "data": {
      "text/plain": [
       "{'symptom_description_kaggle': {'gpt2': 26.82926829268293,\n",
       "  'gpt2-xl': 14.634146341463413,\n",
       "  'bert-base-uncased': 2.4390243902439024,\n",
       "  'roberta-base': 2.4390243902439024,\n",
       "  'BioBert': 4.878048780487805,\n",
       "  'bionlp/bluebert_pubmed_mimic_uncased_L-12_H-768_A-12': 2.4390243902439024,\n",
       "  'allenai/scibert_scivocab_cased': 4.878048780487805,\n",
       "  'microsoft/BiomedNLP-PubMedBERT-base-uncased-abstract-fulltext': 0.0,\n",
       "  't5-base': 0.0,\n",
       "  'gpt-3.5-turbo': 92.6829268292683},\n",
       " 'chatdoctor_format_df': {'gpt2': 26.82926829268293,\n",
       "  'gpt2-xl': 18.718592964824122,\n",
       "  'bert-base-uncased': 5.9045226130653266,\n",
       "  'roberta-base': 0.628140703517588,\n",
       "  'BioBert': 0.628140703517588,\n",
       "  'bionlp/bluebert_pubmed_mimic_uncased_L-12_H-768_A-12': 0.628140703517588,\n",
       "  'allenai/scibert_scivocab_cased': 5.9045226130653266,\n",
       "  'microsoft/BiomedNLP-PubMedBERT-base-uncased-abstract-fulltext': 5.9045226130653266,\n",
       "  't5-base': 5.9045226130653266,\n",
       "  'gpt-3.5-turbo': 27.63819095477387}}"
      ]
     },
     "execution_count": 152,
     "metadata": {},
     "output_type": "execute_result"
    }
   ],
   "source": [
    "results_dic"
   ]
  },
  {
   "cell_type": "markdown",
   "metadata": {},
   "source": [
    "### 6.2. ChatGPT 4"
   ]
  },
  {
   "cell_type": "code",
   "execution_count": 228,
   "metadata": {},
   "outputs": [],
   "source": [
    "# Let's try ChatGPT 4 as the paid newer version\n",
    "\n",
    "def generate_disease_gpt_4(model_name, dataframe, accuracy_model, batch_size=16):\n",
    "    def generate_disease_batch(descriptions, model):\n",
    "        input_texts = [f\"Patient description: {description}\\nPossible disease diagnosis:\" for description in descriptions]\n",
    "        responses = []\n",
    "\n",
    "        for input_text in input_texts:\n",
    "            try:\n",
    "                # Use the correct API method and structure for ChatGPT 4\n",
    "                response = openai.chat.completions.create(\n",
    "                    model=model,\n",
    "                    messages=[{\"role\": \"user\", \"content\": input_text}],\n",
    "                    max_tokens=50,\n",
    "                    temperature=0.7\n",
    "                )\n",
    "                # Correctly extract the content from the message\n",
    "                response_text = response.choices[0].message.content.strip()\n",
    "\n",
    "                # Extract the diagnosis from the response\n",
    "                diagnosis = response_text.split(\"Possible disease diagnosis:\")[-1].strip()\n",
    "                if '.' in diagnosis:\n",
    "                    diagnosis = diagnosis.split('.')[0].strip()\n",
    "                responses.append(diagnosis if diagnosis else \"unknown\")\n",
    "            except Exception as e:\n",
    "                print(f\"Error generating completion for input: {input_text}\")\n",
    "                print(e)\n",
    "                responses.append(\"unknown\")\n",
    "        \n",
    "        return responses\n",
    "\n",
    "    # Generate disease predictions in batches\n",
    "    all_descriptions = dataframe['Description'].tolist()\n",
    "    all_predictions = []\n",
    "\n",
    "    for i in tqdm(range(0, len(all_descriptions), batch_size)):\n",
    "        batch_descriptions = all_descriptions[i:i + batch_size]\n",
    "        batch_predictions = generate_disease_batch(batch_descriptions, model_name)\n",
    "        all_predictions.extend(batch_predictions)\n",
    "\n",
    "    # Add the predictions to the dataframe\n",
    "    dataframe['Predicted Disease'] = all_predictions\n",
    "    \n",
    "    # Calculate accuracy using the accuracy_model function\n",
    "    dataframe['Is Correct Prediction'] = dataframe.apply(accuracy_model, axis=1)\n",
    "    accuracy = dataframe['Is Correct Prediction'].mean()\n",
    "\n",
    "    # Print the accuracy and the first 10 rows of the dataframe\n",
    "    print(f\"Accuracy of model - {model_name}: {accuracy * 100:.2f}%\")\n",
    "    print(dataframe.head(10))\n",
    "\n",
    "    return dataframe"
   ]
  },
  {
   "cell_type": "markdown",
   "metadata": {},
   "source": [
    "##### GPT4-mini"
   ]
  },
  {
   "cell_type": "code",
   "execution_count": 189,
   "metadata": {},
   "outputs": [
    {
     "data": {
      "application/vnd.jupyter.widget-view+json": {
       "model_id": "b700dd635e5442c7b31a0aeb50b43e62",
       "version_major": 2,
       "version_minor": 0
      },
      "text/plain": [
       "  0%|          | 0/3 [00:00<?, ?it/s]"
      ]
     },
     "metadata": {},
     "output_type": "display_data"
    },
    {
     "name": "stdout",
     "output_type": "stream",
     "text": [
      "Accuracy of model - gpt-4o-mini: 95.12%\n",
      "                                   Disease  \\\n",
      "0                            Drug Reaction   \n",
      "1                                  Malaria   \n",
      "2                                  Allergy   \n",
      "3                           Hypothyroidism   \n",
      "4                                Psoriasis   \n",
      "5                                     GERD   \n",
      "6                      Chronic cholestasis   \n",
      "7                              hepatitis A   \n",
      "8                          Osteoarthristis   \n",
      "9  (vertigo) Paroymsal  Positional Vertigo   \n",
      "\n",
      "                                         Description  \\\n",
      "0  an adverse this disease (adr) is an injury cau...   \n",
      "1  an infectious disease caused by protozoan para...   \n",
      "2  an this disease is an immune system response t...   \n",
      "3  this disease, also called underactive thyroid ...   \n",
      "4  this disease is a common skin disorder that fo...   \n",
      "5  gastroesophageal reflux disease, or this disea...   \n",
      "6  chronic cholestatic diseases, whether occurrin...   \n",
      "7  this disease is a highly contagious liver infe...   \n",
      "8  osteoarthritis is the most common form of arth...   \n",
      "9  benign paroxysmal positional vertigo (bppv) is...   \n",
      "\n",
      "                                    Predicted Output  \\\n",
      "0  an adverse this disease (adr) is an injury cau...   \n",
      "1  an infectious disease caused by protozoan para...   \n",
      "2  an this disease is an immune system response t...   \n",
      "3  this disease, also called underactive thyroid ...   \n",
      "4  this disease is a common skin disorder that fo...   \n",
      "5  gastroesophageal reflux disease, or this disea...   \n",
      "6  chronic cholestatic diseases, whether occurrin...   \n",
      "7  this disease is a highly contagious liver infe...   \n",
      "8  osteoarthritis is the most common form of arth...   \n",
      "9  benign paroxysmal positional vertigo (bppv) is...   \n",
      "\n",
      "                                   Predicted Disease  Is Correct Prediction  \n",
      "0  Based on the description provided, the possibl...                   True  \n",
      "1  The disease described is **malaria**, specific...                   True  \n",
      "2  Based on the description provided, the disease...                   True  \n",
      "3            The disease described is Hypothyroidism                   True  \n",
      "4  Based on the description provided, the likely ...                   True  \n",
      "5  Based on the description provided, the possibl...                   True  \n",
      "6  Based on the description provided, the possibl...                   True  \n",
      "7  Based on the patient description, the disease ...                   True  \n",
      "8  Based on the patient description, the possible...                  False  \n",
      "9  Based on the patient description of experienci...                   True  \n"
     ]
    }
   ],
   "source": [
    "symptom_description_kaggle_df_gpt4 = generate_disease_gpt_4('gpt-4o-mini',symptom_description_kaggle, is_disease_in_prediction_2)\n",
    "accuracy = symptom_description_kaggle_df_gpt4['Is Correct Prediction'].mean() * 100\n",
    "results_dic['symptom_description_kaggle']['gpt-4o-mini'] = accuracy"
   ]
  },
  {
   "cell_type": "code",
   "execution_count": 155,
   "metadata": {
    "scrolled": true
   },
   "outputs": [
    {
     "name": "stderr",
     "output_type": "stream",
     "text": [
      "100%|█████████████████████████████████████████| 50/50 [1:00:01<00:00, 72.02s/it]"
     ]
    },
    {
     "name": "stdout",
     "output_type": "stream",
     "text": [
      "Accuracy of model - gpt-4o-mini: 16.83%\n",
      "                            Disease  \\\n",
      "0                    Panic disorder   \n",
      "1                  Vocal cord polyp   \n",
      "2                   Turner syndrome   \n",
      "3                    Cryptorchidism   \n",
      "4  Poisoning due to ethylene glycol   \n",
      "5                Atrophic vaginitis   \n",
      "6              Fracture of the hand   \n",
      "7    Cellulitis or abscess of mouth   \n",
      "8            Eye alignment disorder   \n",
      "9    Headache after lumbar puncture   \n",
      "\n",
      "                                         Description  \\\n",
      "0  ['Anxiety and nervousness', 'Depression', 'Sho...   \n",
      "1  ['Hoarse voice', 'Sore throat', 'Difficulty sp...   \n",
      "2  ['Groin mass', 'Leg pain', 'Hip pain', 'Suprap...   \n",
      "3  ['Symptoms of the scrotum and testes', 'Swelli...   \n",
      "4  ['Abusing alcohol', 'Fainting', 'Hostile behav...   \n",
      "5  ['Vaginal itching', 'Vaginal dryness', 'Painfu...   \n",
      "6  ['Hand or finger pain', 'Wrist pain', 'Hand or...   \n",
      "7  ['Lip swelling', 'Sore throat', 'Toothache', '...   \n",
      "8  ['Eye deviation', 'Diminished vision', 'Double...   \n",
      "9  ['Headache', 'Nausea', 'Back pain', 'Vomiting'...   \n",
      "\n",
      "                                   Predicted Disease  Is Correct Prediction  \\\n",
      "0  Based on the symptoms described, several possi...                  False   \n",
      "1  Based on the symptoms you've provided, the pat...                  False   \n",
      "2  Based on the symptoms described, the patient m...                  False   \n",
      "3  Based on the symptoms described, the patient m...                  False   \n",
      "4  Based on the patient description provided, the...                  False   \n",
      "5  Based on the symptoms described, several possi...                  False   \n",
      "6  Based on the symptoms you've described, the fo...                   True   \n",
      "7  Based on the symptoms described, the possible ...                  False   \n",
      "8  Based on the symptoms listed, the patient may ...                  False   \n",
      "9  Based on the symptoms provided, several potent...                  False   \n",
      "\n",
      "                       Generated Disease Description  \n",
      "0  ['Anxiety and nervousness', 'Shortness of brea...  \n",
      "1  , 'Diminished hearing', 'Lump in throat', 'Dim...  \n",
      "2  Stabbing in sputum', 'Lack of growth', 'Lack o...  \n",
      "3  ['Swelling of scrotum and testicles', 'Pain in...  \n",
      "4  ['Depressive or psychotic symptoms', 'Feeling ...  \n",
      "5  , 'Pain during intercourse', 'Pain during inte...  \n",
      "6  ['Hand or finger pain', 'Wrist pain', 'Hand or...  \n",
      "7  , 'Acne or pimples', 'Facial pain', 'Facial pa...  \n",
      "8  , 'Eye deviation', 'Diminished vision', 'Doubl...  \n",
      "9  ', 'Dizziness', 'Neck pain', 'Neoplasia', 'Neo...  \n"
     ]
    },
    {
     "name": "stderr",
     "output_type": "stream",
     "text": [
      "\n"
     ]
    }
   ],
   "source": [
    "chatdoctor_format_df_gpt4 = generate_disease_gpt('gpt-4o-mini', chatdoctor_format_df, is_disease_in_prediction_2)\n",
    "accuracy = chatdoctor_format_df_gpt4['Is Correct Prediction'].mean() * 100\n",
    "results_dic['chatdoctor_format_df']['gpt-4o-mini'] = accuracy"
   ]
  },
  {
   "cell_type": "markdown",
   "metadata": {},
   "source": [
    "##### Test on Patient Doctor Convos HealthMagic3K"
   ]
  },
  {
   "cell_type": "code",
   "execution_count": 29,
   "metadata": {},
   "outputs": [],
   "source": [
    "## Need to adjust the Code for GPT4-mini as it works on different prompt system as an assistant\n",
    "## Ref: https://platform.openai.com/docs/guides/fine-tuning/preparing-your-dataset\n",
    "\n",
    "def generate_response_gpt4(input_text, model_name):\n",
    "    try:\n",
    "        # Use the correct API method as per your setup\n",
    "        response = openai.chat.completions.create(\n",
    "            model=model_name,\n",
    "            messages=[{\"role\": \"user\", \"content\": input_text}],\n",
    "            max_tokens=50,\n",
    "            temperature=0.7\n",
    "        )\n",
    "        \n",
    "        # Extract and return the response content\n",
    "        response_text = response.choices[0].message.content.strip()\n",
    "        return response_text\n",
    "    except Exception as e:\n",
    "        print(f\"Error generating completion for input: {input_text}\")\n",
    "        print(e)\n",
    "        return \"unknown\"  # Return a default value in case of error\n",
    "\n",
    "# Function to evaluate model outputs on a test dataset\n",
    "def evaluate_model_on_input_output_dataset(model, tokenizer, test_data, device):\n",
    "    similarities = []\n",
    "    \n",
    "    for example in tqdm(test_data, desc=\"Processing\", leave=True):\n",
    "        input_text = example[\"input\"]\n",
    "        real_output = example[\"output\"]\n",
    "\n",
    "        # Generate the model's output using the corrected method\n",
    "        generated_output = generate_response_gpt4(input_text, model_name=model)\n",
    "        \n",
    "        # Calculate the similarity between the real output and the generated output\n",
    "        similarity = calculate_cosine_similarity(real_output, generated_output)\n",
    "        similarities.append(similarity)\n",
    "\n",
    "    # Calculate and return the average similarity across all examples\n",
    "    average_similarity = np.mean(similarities)\n",
    "    return average_similarity"
   ]
  },
  {
   "cell_type": "code",
   "execution_count": 50,
   "metadata": {},
   "outputs": [],
   "source": [
    "# Set up OpenAI API key\n",
    "openai.api_key = 'YOUR_API_KEY'\n",
    "\n",
    "# Evaluate the GPT-4 model on the dataset\n",
    "#average_similarity_gpt4 = evaluate_model_on_input_output_dataset('gpt-4o-mini', None, HealthCareMagic_3K, None)\n",
    "\n",
    "# Print the final average similarity score for GPT-4\n",
    "#print(f\"Average Cosine Similarity for GPT-4 across all examples: {average_similarity_gpt4}\")"
   ]
  },
  {
   "cell_type": "code",
   "execution_count": null,
   "metadata": {},
   "outputs": [],
   "source": [
    "# Adding the new entry to the nested dictionary\n",
    "results_dic['HealthCareMagic_3K']['gpt-4o-mini'] = average_similarity_gpt4 * 100"
   ]
  },
  {
   "cell_type": "markdown",
   "metadata": {},
   "source": [
    "##### GPT4-turbo"
   ]
  },
  {
   "cell_type": "code",
   "execution_count": 156,
   "metadata": {},
   "outputs": [
    {
     "name": "stderr",
     "output_type": "stream",
     "text": [
      "100%|█████████████████████████████████████████████| 3/3 [01:22<00:00, 27.39s/it]"
     ]
    },
    {
     "name": "stdout",
     "output_type": "stream",
     "text": [
      "Accuracy of model - gpt-4-turbo: 95.12%\n",
      "                                   Disease  \\\n",
      "0                            Drug Reaction   \n",
      "1                                  Malaria   \n",
      "2                                  Allergy   \n",
      "3                           Hypothyroidism   \n",
      "4                                Psoriasis   \n",
      "5                                     GERD   \n",
      "6                      Chronic cholestasis   \n",
      "7                              hepatitis A   \n",
      "8                          Osteoarthristis   \n",
      "9  (vertigo) Paroymsal  Positional Vertigo   \n",
      "\n",
      "                                         Description  \\\n",
      "0  an adverse this disease (adr) is an injury cau...   \n",
      "1  an infectious disease caused by protozoan para...   \n",
      "2  an this disease is an immune system response t...   \n",
      "3  this disease, also called underactive thyroid ...   \n",
      "4  this disease is a common skin disorder that fo...   \n",
      "5  gastroesophageal reflux disease, or this disea...   \n",
      "6  chronic cholestatic diseases, whether occurrin...   \n",
      "7  this disease is a highly contagious liver infe...   \n",
      "8  osteoarthritis is the most common form of arth...   \n",
      "9  benign paroxysmal positional vertigo (bppv) is...   \n",
      "\n",
      "                                   Predicted Disease  Is Correct Prediction  \\\n",
      "0  The description provided refers to \"Adverse Dr...                   True   \n",
      "1  The disease described is malaria, specifically...                   True   \n",
      "2  The description provided suggests that the dis...                   True   \n",
      "3  The possible disease diagnosis based on the de...                   True   \n",
      "4  The description you provided matches the chara...                   True   \n",
      "5  The disease diagnosis based on the patient des...                   True   \n",
      "6  Chronic cholestatic diseases are a group of co...                   True   \n",
      "7  The disease description you provided points to...                   True   \n",
      "8  Based on the patient description provided, the...                  False   \n",
      "9  The possible disease diagnosis for the describ...                   True   \n",
      "\n",
      "                       Generated Disease Description  \n",
      "0  an adverse this disease (adr) is an injury cau...  \n",
      "1  anopheles is a parasitic disease that can be t...  \n",
      "2  a this disease is an immune system response to...  \n",
      "3  , is a disorder of the endocrine system in whi...  \n",
      "4  it can pop up anywhere, but most commonly on t...  \n",
      "5  gesophageal reflux disease, or this disease, i...  \n",
      "6  are characterized by biliary cholestatic disea...  \n",
      "7  is a highly contagious liver infection caused ...  \n",
      "8  osteoarthritis is the most common form of arth...  \n",
      "9  vertigo is the sudden sensation that you're sp...  \n"
     ]
    },
    {
     "name": "stderr",
     "output_type": "stream",
     "text": [
      "\n"
     ]
    }
   ],
   "source": [
    "# Let's also try the newer version 4_turbo\n",
    "symptom_description_kaggle_df_gpt4_turbo = generate_disease_gpt('gpt-4-turbo',symptom_description_kaggle, is_disease_in_prediction_2)\n",
    "accuracy = symptom_description_kaggle_df_gpt4_turbo['Is Correct Prediction'].mean() * 100\n",
    "results_dic['symptom_description_kaggle']['gpt-4-turbo'] = accuracy"
   ]
  },
  {
   "cell_type": "code",
   "execution_count": 157,
   "metadata": {},
   "outputs": [
    {
     "name": "stderr",
     "output_type": "stream",
     "text": [
      "100%|███████████████████████████████████████████| 50/50 [31:28<00:00, 37.76s/it]"
     ]
    },
    {
     "name": "stdout",
     "output_type": "stream",
     "text": [
      "Accuracy of model - gpt-4-turbo: 17.09%\n",
      "                            Disease  \\\n",
      "0                    Panic disorder   \n",
      "1                  Vocal cord polyp   \n",
      "2                   Turner syndrome   \n",
      "3                    Cryptorchidism   \n",
      "4  Poisoning due to ethylene glycol   \n",
      "5                Atrophic vaginitis   \n",
      "6              Fracture of the hand   \n",
      "7    Cellulitis or abscess of mouth   \n",
      "8            Eye alignment disorder   \n",
      "9    Headache after lumbar puncture   \n",
      "\n",
      "                                         Description  \\\n",
      "0  ['Anxiety and nervousness', 'Depression', 'Sho...   \n",
      "1  ['Hoarse voice', 'Sore throat', 'Difficulty sp...   \n",
      "2  ['Groin mass', 'Leg pain', 'Hip pain', 'Suprap...   \n",
      "3  ['Symptoms of the scrotum and testes', 'Swelli...   \n",
      "4  ['Abusing alcohol', 'Fainting', 'Hostile behav...   \n",
      "5  ['Vaginal itching', 'Vaginal dryness', 'Painfu...   \n",
      "6  ['Hand or finger pain', 'Wrist pain', 'Hand or...   \n",
      "7  ['Lip swelling', 'Sore throat', 'Toothache', '...   \n",
      "8  ['Eye deviation', 'Diminished vision', 'Double...   \n",
      "9  ['Headache', 'Nausea', 'Back pain', 'Vomiting'...   \n",
      "\n",
      "                                   Predicted Disease  Is Correct Prediction  \\\n",
      "0  Given the symptoms listed, there are several p...                  False   \n",
      "1  The symptoms described suggest a combination o...                  False   \n",
      "2  Based on the symptoms provided, the patient co...                  False   \n",
      "3  Given the diverse and complex symptoms describ...                  False   \n",
      "4  The symptoms described can be indicative of se...                  False   \n",
      "5  The patient's symptoms suggest several possibl...                  False   \n",
      "6  The symptoms described suggest several potenti...                   True   \n",
      "7  Based on the symptoms listed, several possible...                   True   \n",
      "8  The array of symptoms presented by this patien...                   True   \n",
      "9  The symptoms described can be associated with ...                  False   \n",
      "\n",
      "                       Generated Disease Description  \n",
      "0  ['Anxiety and nervousness', 'Shortness of brea...  \n",
      "1  , 'Diminished hearing', 'Lump in throat', 'Dim...  \n",
      "2  Stabbing in sputum', 'Lack of growth', 'Lack o...  \n",
      "3  ['Swelling of scrotum and testicles', 'Pain in...  \n",
      "4  ['Depressive or psychotic symptoms', 'Feeling ...  \n",
      "5  , 'Pain during intercourse', 'Pain during inte...  \n",
      "6  ['Hand or finger pain', 'Wrist pain', 'Hand or...  \n",
      "7  , 'Acne or pimples', 'Facial pain', 'Facial pa...  \n",
      "8  , 'Eye deviation', 'Diminished vision', 'Doubl...  \n",
      "9  ', 'Dizziness', 'Neck pain', 'Neoplasia', 'Neo...  \n"
     ]
    },
    {
     "name": "stderr",
     "output_type": "stream",
     "text": [
      "\n"
     ]
    }
   ],
   "source": [
    "chatdoctor_format_df_gpt4o = generate_disease_gpt('gpt-4-turbo', chatdoctor_format_df, is_disease_in_prediction_2)\n",
    "accuracy = chatdoctor_format_df_gpt4o['Is Correct Prediction'].mean() * 100\n",
    "results_dic['chatdoctor_format_df']['gpt-4-turbo'] = accuracy"
   ]
  },
  {
   "cell_type": "markdown",
   "metadata": {},
   "source": [
    "##### GPT4 (legacy)"
   ]
  },
  {
   "cell_type": "code",
   "execution_count": 158,
   "metadata": {},
   "outputs": [
    {
     "name": "stderr",
     "output_type": "stream",
     "text": [
      "100%|█████████████████████████████████████████████| 3/3 [00:34<00:00, 11.49s/it]"
     ]
    },
    {
     "name": "stdout",
     "output_type": "stream",
     "text": [
      "Accuracy of model - gpt-4: 92.68%\n",
      "                                   Disease  \\\n",
      "0                            Drug Reaction   \n",
      "1                                  Malaria   \n",
      "2                                  Allergy   \n",
      "3                           Hypothyroidism   \n",
      "4                                Psoriasis   \n",
      "5                                     GERD   \n",
      "6                      Chronic cholestasis   \n",
      "7                              hepatitis A   \n",
      "8                          Osteoarthristis   \n",
      "9  (vertigo) Paroymsal  Positional Vertigo   \n",
      "\n",
      "                                         Description  \\\n",
      "0  an adverse this disease (adr) is an injury cau...   \n",
      "1  an infectious disease caused by protozoan para...   \n",
      "2  an this disease is an immune system response t...   \n",
      "3  this disease, also called underactive thyroid ...   \n",
      "4  this disease is a common skin disorder that fo...   \n",
      "5  gastroesophageal reflux disease, or this disea...   \n",
      "6  chronic cholestatic diseases, whether occurrin...   \n",
      "7  this disease is a highly contagious liver infe...   \n",
      "8  osteoarthritis is the most common form of arth...   \n",
      "9  benign paroxysmal positional vertigo (bppv) is...   \n",
      "\n",
      "                                   Predicted Disease  Is Correct Prediction  \\\n",
      "0                              Adverse Drug Reaction                   True   \n",
      "1                                            Malaria                   True   \n",
      "2                                          Allergies                  False   \n",
      "3                                     Hypothyroidism                   True   \n",
      "4                                          Psoriasis                   True   \n",
      "5             Gastroesophageal Reflux Disease (GERD)                   True   \n",
      "6  Primary Biliary Cholangitis (PBC) or Primary S...                  False   \n",
      "7                                        Hepatitis A                   True   \n",
      "8                                     Osteoarthritis                   True   \n",
      "9        Benign Paroxysmal Positional Vertigo (BPPV)                   True   \n",
      "\n",
      "                       Generated Disease Description  \n",
      "0  an adverse this disease (adr) is an injury cau...  \n",
      "1  anopheles is a parasitic disease that can be t...  \n",
      "2  a this disease is an immune system response to...  \n",
      "3  , is a disorder of the endocrine system in whi...  \n",
      "4  it can pop up anywhere, but most commonly on t...  \n",
      "5  gesophageal reflux disease, or this disease, i...  \n",
      "6  are characterized by biliary cholestatic disea...  \n",
      "7  is a highly contagious liver infection caused ...  \n",
      "8  osteoarthritis is the most common form of arth...  \n",
      "9  vertigo is the sudden sensation that you're sp...  \n"
     ]
    },
    {
     "name": "stderr",
     "output_type": "stream",
     "text": [
      "\n"
     ]
    }
   ],
   "source": [
    "symptom_description_kaggle_df_gpt4 = generate_disease_gpt('gpt-4',symptom_description_kaggle, is_disease_in_prediction_2)\n",
    "accuracy = symptom_description_kaggle_df_gpt4['Is Correct Prediction'].mean() * 100\n",
    "results_dic['symptom_description_kaggle']['gpt-4'] = accuracy"
   ]
  },
  {
   "cell_type": "code",
   "execution_count": 186,
   "metadata": {},
   "outputs": [
    {
     "name": "stderr",
     "output_type": "stream",
     "text": [
      "100%|███████████████████████████████████████████| 50/50 [21:14<00:00, 25.50s/it]"
     ]
    },
    {
     "name": "stdout",
     "output_type": "stream",
     "text": [
      "Accuracy of model - gpt-4: 28.77%\n",
      "                            Disease  \\\n",
      "0                    Panic disorder   \n",
      "1                  Vocal cord polyp   \n",
      "2                   Turner syndrome   \n",
      "3                    Cryptorchidism   \n",
      "4  Poisoning due to ethylene glycol   \n",
      "5                Atrophic vaginitis   \n",
      "6              Fracture of the hand   \n",
      "7    Cellulitis or abscess of mouth   \n",
      "8            Eye alignment disorder   \n",
      "9    Headache after lumbar puncture   \n",
      "\n",
      "                                         Description  \\\n",
      "0  ['Anxiety and nervousness', 'Depression', 'Sho...   \n",
      "1  ['Hoarse voice', 'Sore throat', 'Difficulty sp...   \n",
      "2  ['Groin mass', 'Leg pain', 'Hip pain', 'Suprap...   \n",
      "3  ['Symptoms of the scrotum and testes', 'Swelli...   \n",
      "4  ['Abusing alcohol', 'Fainting', 'Hostile behav...   \n",
      "5  ['Vaginal itching', 'Vaginal dryness', 'Painfu...   \n",
      "6  ['Hand or finger pain', 'Wrist pain', 'Hand or...   \n",
      "7  ['Lip swelling', 'Sore throat', 'Toothache', '...   \n",
      "8  ['Eye deviation', 'Diminished vision', 'Double...   \n",
      "9  ['Headache', 'Nausea', 'Back pain', 'Vomiting'...   \n",
      "\n",
      "                                   Predicted Disease  Is Correct Prediction  \\\n",
      "0  Panic Disorder or Anxiety Disorder with possib...                   True   \n",
      "1  Laryngitis or Pharyngitis with possible compli...                  False   \n",
      "2  This is a complex case with multiple symptoms ...                  False   \n",
      "3  This patient appears to have multiple conditio...                  False   \n",
      "4  Substance Abuse Disorder and Possible Gastroin...                  False   \n",
      "5  Atrophic Vaginitis or Urinary Tract Infection ...                   True   \n",
      "6  Carpal Tunnel Syndrome, Rheumatoid Arthritis, ...                  False   \n",
      "7  Oral Herpes or Herpes Simplex Virus Infection,...                   True   \n",
      "8  Strabismus (Eye misalignment) with possible un...                   True   \n",
      "9  This patient presents a complex array of sympt...                  False   \n",
      "\n",
      "                       Generated Disease Description  \n",
      "0  ['Anxiety and nervousness', 'Shortness of brea...  \n",
      "1  , 'Diminished hearing', 'Lump in throat', 'Dim...  \n",
      "2  Stabbing in sputum', 'Lack of growth', 'Lack o...  \n",
      "3  ['Swelling of scrotum and testicles', 'Pain in...  \n",
      "4  ['Depressive or psychotic symptoms', 'Feeling ...  \n",
      "5  , 'Pain during intercourse', 'Pain during inte...  \n",
      "6  ['Hand or finger pain', 'Wrist pain', 'Hand or...  \n",
      "7  , 'Acne or pimples', 'Facial pain', 'Facial pa...  \n",
      "8  , 'Eye deviation', 'Diminished vision', 'Doubl...  \n",
      "9  ', 'Dizziness', 'Neck pain', 'Neoplasia', 'Neo...  \n"
     ]
    },
    {
     "name": "stderr",
     "output_type": "stream",
     "text": [
      "\n"
     ]
    }
   ],
   "source": [
    "chatdoctor_format_df_gpt4 = generate_disease_gpt('gpt-4', chatdoctor_format_df, is_disease_in_prediction_2)\n",
    "accuracy = chatdoctor_format_df_gpt4['Is Correct Prediction'].mean() * 100\n",
    "results_dic['chatdoctor_format_df']['gpt-4'] = accuracy"
   ]
  },
  {
   "cell_type": "code",
   "execution_count": 187,
   "metadata": {},
   "outputs": [
    {
     "data": {
      "text/plain": [
       "{'symptom_description_kaggle': {'gpt2': 26.82926829268293,\n",
       "  'gpt2-xl': 14.634146341463413,\n",
       "  'bert-base-uncased': 2.4390243902439024,\n",
       "  'roberta-base': 2.4390243902439024,\n",
       "  'BioBert': 4.878048780487805,\n",
       "  'bionlp/bluebert_pubmed_mimic_uncased_L-12_H-768_A-12': 2.4390243902439024,\n",
       "  'allenai/scibert_scivocab_cased': 4.878048780487805,\n",
       "  'microsoft/BiomedNLP-PubMedBERT-base-uncased-abstract-fulltext': 0.0,\n",
       "  't5-base': 0.0,\n",
       "  'gpt-3.5-turbo': 92.6829268292683,\n",
       "  'gpt-4o-mini': 92.6829268292683,\n",
       "  'gpt-4-turbo': 95.1219512195122,\n",
       "  'gpt-4': 92.6829268292683},\n",
       " 'chatdoctor_format_df': {'gpt2': 26.82926829268293,\n",
       "  'gpt2-xl': 18.718592964824122,\n",
       "  'bert-base-uncased': 5.9045226130653266,\n",
       "  'roberta-base': 0.628140703517588,\n",
       "  'BioBert': 0.628140703517588,\n",
       "  'bionlp/bluebert_pubmed_mimic_uncased_L-12_H-768_A-12': 0.628140703517588,\n",
       "  'allenai/scibert_scivocab_cased': 5.9045226130653266,\n",
       "  'microsoft/BiomedNLP-PubMedBERT-base-uncased-abstract-fulltext': 5.9045226130653266,\n",
       "  't5-base': 5.9045226130653266,\n",
       "  'gpt-3.5-turbo': 27.63819095477387,\n",
       "  'gpt-4o-mini': 16.834170854271356,\n",
       "  'gpt-4-turbo': 17.08542713567839,\n",
       "  'gpt-4': 28.768844221105528}}"
      ]
     },
     "execution_count": 187,
     "metadata": {},
     "output_type": "execute_result"
    }
   ],
   "source": [
    "results_dic"
   ]
  },
  {
   "cell_type": "code",
   "execution_count": 188,
   "metadata": {},
   "outputs": [],
   "source": [
    "import pickle\n",
    "# Save the dictionary to a file\n",
    "with open('results_dic.pkl', 'wb') as f:\n",
    "    pickle.dump(results_dic, f)"
   ]
  },
  {
   "cell_type": "markdown",
   "metadata": {},
   "source": [
    "### 6.3. Google Gemini"
   ]
  },
  {
   "cell_type": "markdown",
   "metadata": {},
   "source": [
    "https://g.co/gemini/share/fb4fbb3bed51\n",
    "\n",
    "Unfortunately, as of now, there's no publicly accessible version of Google Gemini that you can directly use in Google Colab or other platforms. Google typically keeps their large-scale language models proprietary for internal use or specific research collaborations."
   ]
  },
  {
   "cell_type": "code",
   "execution_count": null,
   "metadata": {},
   "outputs": [],
   "source": [
    "#model_name = \"geminiforcausal-30b\"\n",
    "#model = AutoModelForCausalLM.from_pretrained(model_name)\n",
    "#tokenizer = AutoTokenizer.from_pretrained(model_name)\n",
    "#\n",
    "## Generate text based on a prompt\n",
    "#prompt = \"Write a poem about a robot who dreams of becoming a human.\"\n",
    "#input_ids = tokenizer(prompt, return_tensors=\"pt\").input_ids\n",
    "#outputs = model.generate(input_ids, max_length=100)\n",
    "#generated_text = tokenizer.decode(outputs[0], skip_special_tokens=True)\n",
    "#\n",
    "#print(generated_text)"
   ]
  },
  {
   "cell_type": "markdown",
   "metadata": {},
   "source": [
    "## 7. Medically Specialized LLMs"
   ]
  },
  {
   "cell_type": "markdown",
   "metadata": {},
   "source": [
    "### 7.1 AMBOSS GPT"
   ]
  },
  {
   "cell_type": "markdown",
   "metadata": {},
   "source": [
    "With the new policy change, CHAT GPT has removed Plugins therefore we can no longer use Custom GPTs thru this notebook and link.\\\n",
    "For this reason we are going to need to skip AMBOSS GPT.\n",
    "\n",
    "Here following is the code we have used in the earlier iterations of the research which is also used to create earlier iteration reasults talked in the paper.\n",
    "\n",
    "Ref: https://help.openai.com/en/articles/8988022-winding-down-the-chatgpt-plugins-beta"
   ]
  },
  {
   "cell_type": "code",
   "execution_count": 85,
   "metadata": {},
   "outputs": [
    {
     "ename": "Exception",
     "evalue": "Error: 401 - {\"error\":\"User is not authenticated\"}",
     "output_type": "error",
     "traceback": [
      "\u001B[0;31m---------------------------------------------------------------------------\u001B[0m",
      "\u001B[0;31mException\u001B[0m                                 Traceback (most recent call last)",
      "Cell \u001B[0;32mIn[85], line 22\u001B[0m\n\u001B[1;32m     20\u001B[0m \u001B[38;5;66;03m# Query the API\u001B[39;00m\n\u001B[1;32m     21\u001B[0m query \u001B[38;5;241m=\u001B[39m \u001B[38;5;124m\"\u001B[39m\u001B[38;5;124mWhat is the treatment for hypertension?\u001B[39m\u001B[38;5;124m\"\u001B[39m\n\u001B[0;32m---> 22\u001B[0m result \u001B[38;5;241m=\u001B[39m \u001B[43mget_amboss_info\u001B[49m\u001B[43m(\u001B[49m\u001B[43mquery\u001B[49m\u001B[43m)\u001B[49m\n\u001B[1;32m     23\u001B[0m \u001B[38;5;28mprint\u001B[39m(result)\n",
      "Cell \u001B[0;32mIn[85], line 18\u001B[0m, in \u001B[0;36mget_amboss_info\u001B[0;34m(query)\u001B[0m\n\u001B[1;32m     16\u001B[0m     \u001B[38;5;28;01mreturn\u001B[39;00m response\u001B[38;5;241m.\u001B[39mjson()\n\u001B[1;32m     17\u001B[0m \u001B[38;5;28;01melse\u001B[39;00m:\n\u001B[0;32m---> 18\u001B[0m     \u001B[38;5;28;01mraise\u001B[39;00m \u001B[38;5;167;01mException\u001B[39;00m(\u001B[38;5;124mf\u001B[39m\u001B[38;5;124m\"\u001B[39m\u001B[38;5;124mError: \u001B[39m\u001B[38;5;132;01m{\u001B[39;00mresponse\u001B[38;5;241m.\u001B[39mstatus_code\u001B[38;5;132;01m}\u001B[39;00m\u001B[38;5;124m - \u001B[39m\u001B[38;5;132;01m{\u001B[39;00mresponse\u001B[38;5;241m.\u001B[39mtext\u001B[38;5;132;01m}\u001B[39;00m\u001B[38;5;124m\"\u001B[39m)\n",
      "\u001B[0;31mException\u001B[0m: Error: 401 - {\"error\":\"User is not authenticated\"}"
     ]
    }
   ],
   "source": [
    "import requests\n",
    "\n",
    "# Set the plugin API endpoint\n",
    "AMBOSS_API_URL = \"https://chatgpt-plugin-server.us.production.amboss.com/retrieve/en\"\n",
    "# Your ChatGPT API key (if needed)\n",
    "api_key = baris_openai_personal_account_org_key\n",
    "\n",
    "def get_amboss_info(query):\n",
    "    headers = {\n",
    "        'Content-Type': 'application/json',\n",
    "        'Authorization': f'Bearer {api_key}',  # If needed for the plugin\n",
    "    }\n",
    "    params = {'query': query}\n",
    "    response = requests.get(AMBOSS_API_URL, params=params, headers=headers)\n",
    "    if response.status_code == 200:\n",
    "        return response.json()\n",
    "    else:\n",
    "        raise Exception(f\"Error: {response.status_code} - {response.text}\")\n",
    "\n",
    "# Query the API\n",
    "query = \"What is the treatment for hypertension?\"\n",
    "result = get_amboss_info(query)\n",
    "print(result)\n"
   ]
  },
  {
   "cell_type": "code",
   "execution_count": 86,
   "metadata": {},
   "outputs": [],
   "source": [
    "# Set your AMBOSS API endpoint\n",
    "AMBOSS_API_URL = \"https://chatgpt-plugin-server.us.production.amboss.com/retrieve/en\"\n",
    "# If you need an API key for AMBOSS, include it here\n",
    "# AMBOSS_API_KEY = 'your-amboss-api-key-here'\n",
    "\n",
    "def get_amboss_information(description):\n",
    "    query = f\"Patient description: {description}\\nPossible disease diagnosis:\"\n",
    "    try:\n",
    "        # Replace 'api_key' with the correct header if AMBOSS requires authentication\n",
    "        headers = {\n",
    "            'Content-Type': 'application/json',\n",
    "            # 'Authorization': f'Bearer {AMBOSS_API_KEY}'\n",
    "        }\n",
    "        response = requests.get(AMBOSS_API_URL, params={'query': query}, headers=headers)\n",
    "        response.raise_for_status()\n",
    "        data = response.json()\n",
    "        if 'results' in data and len(data['results']) > 0:\n",
    "            return data['results'][0]['chunk']\n",
    "        else:\n",
    "            return \"unknown\"\n",
    "    except Exception as e:\n",
    "        print(f\"Error fetching data from AMBOSS for query: {query}\")\n",
    "        print(e)\n",
    "        return \"unknown\"\n",
    "\n",
    "def generate_disease_gpt_amboss(dataframe, accuracy_model, batch_size=16):\n",
    "    def generate_disease_batch(descriptions):\n",
    "        responses = []\n",
    "        for description in descriptions:\n",
    "            diagnosis = get_amboss_information(description)\n",
    "            if '.' in diagnosis:\n",
    "                diagnosis = diagnosis.split('.')[0].strip()\n",
    "            responses.append(diagnosis if diagnosis else \"unknown\")\n",
    "        return responses\n",
    "\n",
    "    all_descriptions = dataframe['Description'].tolist()\n",
    "    all_predictions = []\n",
    "\n",
    "    for i in tqdm(range(0, len(all_descriptions), batch_size)):\n",
    "        batch_descriptions = all_descriptions[i:i + batch_size]\n",
    "        batch_predictions = generate_disease_batch(batch_descriptions)\n",
    "        all_predictions.extend(batch_predictions)\n",
    "\n",
    "    dataframe['Predicted Disease'] = all_predictions\n",
    "    \n",
    "    # Calculate accuracy using the accuracy_model function\n",
    "    dataframe['Is Correct Prediction'] = dataframe.apply(accuracy_model, axis=1)\n",
    "    accuracy = dataframe['Is Correct Prediction'].mean()\n",
    "\n",
    "    # Print the accuracy and the first 10 rows of the dataframe\n",
    "    print(f\"Accuracy of model - AMBOSS GPT: {accuracy * 100:.2f}%\")\n",
    "    print(dataframe.head(10))\n",
    "\n",
    "    return dataframe"
   ]
  },
  {
   "cell_type": "code",
   "execution_count": 88,
   "metadata": {},
   "outputs": [],
   "source": [
    "#symptom_description_kaggle_df_gpt_Amboss = generate_disease_gpt_amboss(symptom_description_kaggle, is_disease_in_prediction_2)\n",
    "#accuracy = symptom_description_kaggle_df_gpt_Amboss['Is Correct Prediction'].mean() * 100\n",
    "#results_dic['symptom_description_kaggle']['Amboss'] = accuracy"
   ]
  },
  {
   "cell_type": "code",
   "execution_count": 89,
   "metadata": {},
   "outputs": [],
   "source": [
    "#chatdoctor_format_df_gpt_Amboss = generate_disease_gpt_amboss(chatdoctor_format_df, is_disease_in_prediction_2)\n",
    "#accuracy = chatdoctor_format_df_gpt_Amboss['Is Correct Prediction'].mean() * 100\n",
    "#results_dic['chatdoctor_format_df']['Amboss'] = accuracy"
   ]
  },
  {
   "cell_type": "code",
   "execution_count": null,
   "metadata": {},
   "outputs": [],
   "source": [
    "import pickle\n",
    "# Save the dictionary to a file\n",
    "with open('results_dic.pkl', 'wb') as f:\n",
    "    pickle.dump(results_dic, f)"
   ]
  },
  {
   "cell_type": "markdown",
   "metadata": {},
   "source": [
    "### 7.2 Chat Doctor - Chatbot"
   ]
  },
  {
   "cell_type": "markdown",
   "metadata": {
    "id": "VaG3tHAjWcCq"
   },
   "source": [
    "We did not currently manage to clone and work the repo locally however there already exisits some pretrained models of ChatDoctor in HuggingFace.\n",
    "So we used one of the models from Transformers Library.\n",
    "\n",
    "ref: https://huggingface.co/models?search=chatdoctor"
   ]
  },
  {
   "cell_type": "code",
   "execution_count": 39,
   "metadata": {},
   "outputs": [
    {
     "name": "stderr",
     "output_type": "stream",
     "text": [
      "Special tokens have been added in the vocabulary, make sure the associated word embeddings are fine-tuned or trained.\n",
      "Both `max_new_tokens` (=2048) and `max_length`(=100) seem to have been set. `max_new_tokens` will take precedence. Please refer to the documentation for more information. (https://huggingface.co/docs/transformers/main/en/main_classes/text_generation)\n"
     ]
    },
    {
     "name": "stdout",
     "output_type": "stream",
     "text": [
      "Write a poem about a robot who dreams of becoming a human. That is 5 sentences or more.\n",
      "\n",
      "### Instruction:\n",
      "If you are a doctor, please answer the medical questions based on the patient's description.\n",
      "\n",
      " ### Input:\n",
      "I have a friend who is a 14 year old girl. She has a problem with her body. Her body is very weak and she has very little energy. I am not sure what to do. Please help me. Thank you.\n",
      "\n",
      "## Transcript:\n",
      "Hi, I have gone through your question and understand your concerns. The problem of your friend is due to her weak body and low energy level. This is the reason that she is unable to perform the tasks that are required for her to be a good human being. There are many ways to help her. One of them is to take her on a physical activity. Another way is that you can take care of her by giving her a proper diet and proper exercise. You can also take the help of a physiotherapist to get her physically fit. Hope this answers your query. If you have additional questions or follow-up queries then please do not hesitate in writing to us. Wishing your friends good health.\n"
     ]
    }
   ],
   "source": [
    "# Testing the ChatDoctor Chatbots\n",
    "\n",
    "# Define the model name\n",
    "model_name = \"ar08/Chat-Doctor\"\n",
    "\n",
    "# Load the model and tokenizer\n",
    "model = AutoModelForCausalLM.from_pretrained(model_name)\n",
    "tokenizer = AutoTokenizer.from_pretrained(model_name)\n",
    "\n",
    "# Generate text based on a prompt\n",
    "prompt = \"Write a poem about a robot who dreams of becoming a human. That is 5 sentences\"\n",
    "input_ids = tokenizer(prompt, return_tensors=\"pt\").input_ids\n",
    "attention_mask = tokenizer(prompt, return_tensors=\"pt\").attention_mask\n",
    "\n",
    "# Generate text\n",
    "outputs = model.generate(\n",
    "    input_ids,\n",
    "    attention_mask=attention_mask,\n",
    "    max_length=100,\n",
    "    pad_token_id=tokenizer.eos_token_id,\n",
    "    temperature=0.7,\n",
    "    top_k=50,\n",
    "    top_p=0.9,\n",
    "    no_repeat_ngram_size=2\n",
    ")\n",
    "generated_text = tokenizer.decode(outputs[0], skip_special_tokens=True)\n",
    "\n",
    "print(generated_text)"
   ]
  },
  {
   "cell_type": "code",
   "execution_count": 63,
   "metadata": {},
   "outputs": [],
   "source": [
    "import warnings\n",
    "from transformers import AutoModelForCausalLM, AutoTokenizer\n",
    "import pandas as pd\n",
    "from tqdm import tqdm\n",
    "\n",
    "def generate_disease(model_name, dataframe, accuracy_model, batch_size=16):\n",
    "    # Suppress specific warnings\n",
    "    warnings.filterwarnings(\"ignore\", message=\"A decoder-only architecture is being used, but right-padding was detected!\")\n",
    "\n",
    "    # Load model and tokenizer\n",
    "    model = AutoModelForCausalLM.from_pretrained(model_name)\n",
    "    tokenizer = AutoTokenizer.from_pretrained(model_name, padding_side='left')\n",
    "    \n",
    "    # Ensure tokenizer has a pad_token\n",
    "    if tokenizer.pad_token is None:\n",
    "        tokenizer.add_special_tokens({'pad_token': tokenizer.eos_token})\n",
    "\n",
    "    def generate_disease_batch(descriptions, model, tokenizer):\n",
    "        input_texts = [f\"Patient description: {description}\\nPossible disease diagnosis:\" for description in descriptions]\n",
    "        \n",
    "        # Tokenize input texts with proper padding and truncation\n",
    "        inputs = tokenizer(input_texts, return_tensors='pt', padding=True, truncation=True, max_length=512)\n",
    "        outputs = model.generate(\n",
    "            inputs['input_ids'],\n",
    "            attention_mask=inputs['attention_mask'],\n",
    "            max_new_tokens=50,\n",
    "            num_return_sequences=1,\n",
    "            pad_token_id=tokenizer.pad_token_id\n",
    "        )\n",
    "        generated_texts = [tokenizer.decode(output, skip_special_tokens=True) for output in outputs]\n",
    "        \n",
    "        # Extract and clean up disease diagnosis\n",
    "        diseases = []\n",
    "        for text in generated_texts:\n",
    "            diagnosis = text.split(\"Possible disease diagnosis:\")[-1].strip()\n",
    "            # Clean up the response\n",
    "            if '.' in diagnosis:\n",
    "                diagnosis = diagnosis.split('.')[0].strip()\n",
    "            diseases.append(diagnosis if diagnosis else \"unknown\")\n",
    "        \n",
    "        return diseases\n",
    "\n",
    "    # Process descriptions in batches\n",
    "    all_descriptions = dataframe['Description'].tolist()\n",
    "    all_predictions = []\n",
    "\n",
    "    # Use tqdm to show progress without detailed output\n",
    "    for i in tqdm(range(0, len(all_descriptions), batch_size), desc=\"Processing Batches\", ncols=100, leave=True):\n",
    "        batch_descriptions = all_descriptions[i:i + batch_size]\n",
    "        batch_predictions = generate_disease_batch(batch_descriptions, model, tokenizer)\n",
    "        all_predictions.extend(batch_predictions)\n",
    "\n",
    "    # Update the DataFrame with predictions\n",
    "    dataframe['Predicted Disease'] = all_predictions\n",
    "\n",
    "    # Evaluate accuracy\n",
    "    dataframe['Is Correct Prediction'] = dataframe.apply(accuracy_model, axis=1)\n",
    "    accuracy = dataframe['Is Correct Prediction'].mean()\n",
    "\n",
    "    print(f\"Accuracy of model - {model_name}: {accuracy * 100:.2f}%\")\n",
    "    print(dataframe.head(10))\n",
    "\n",
    "    return dataframe"
   ]
  },
  {
   "cell_type": "code",
   "execution_count": 35,
   "metadata": {},
   "outputs": [
    {
     "name": "stderr",
     "output_type": "stream",
     "text": [
      "Special tokens have been added in the vocabulary, make sure the associated word embeddings are fine-tuned or trained.\n",
      "Processing Batches: 100%|█████████████████████████| 3/3 [00:20<00:00,  6.81s/it]"
     ]
    },
    {
     "name": "stdout",
     "output_type": "stream",
     "text": [
      "Accuracy of model - ar08/Chat-Doctor: 19.51%\n",
      "                                   Disease  \\\n",
      "0                            Drug Reaction   \n",
      "1                                  Malaria   \n",
      "2                                  Allergy   \n",
      "3                           Hypothyroidism   \n",
      "4                                Psoriasis   \n",
      "5                                     GERD   \n",
      "6                      Chronic cholestasis   \n",
      "7                              hepatitis A   \n",
      "8                          Osteoarthristis   \n",
      "9  (vertigo) Paroymsal  Positional Vertigo   \n",
      "\n",
      "                                         Description  \\\n",
      "0  an adverse this disease (adr) is an injury cau...   \n",
      "1  an infectious disease caused by protozoan para...   \n",
      "2  an this disease is an immune system response t...   \n",
      "3  this disease, also called underactive thyroid ...   \n",
      "4  this disease is a common skin disorder that fo...   \n",
      "5  gastroesophageal reflux disease, or this disea...   \n",
      "6  chronic cholestatic diseases, whether occurrin...   \n",
      "7  this disease is a highly contagious liver infe...   \n",
      "8  osteoarthritis is the most common form of arth...   \n",
      "9  benign paroxysmal positional vertigo (bppv) is...   \n",
      "\n",
      "                                   Predicted Disease  Is Correct Prediction  \n",
      "0  the most common cause of adverse drug reaction...                   True  \n",
      "1  the disease is caused by the falciparum parasi...                  False  \n",
      "2  this disease is caused by a virus called herpe...                  False  \n",
      "3  the thyroid gland is a gland that is located i...                  False  \n",
      "4  this disease is caused by a virus called herpe...                  False  \n",
      "5  gastroesophageal reflux disease is a digestive...                  False  \n",
      "6  cholestatic disease is characterized by the pr...                  False  \n",
      "7  the virus is a highly contagious liver infecti...                   True  \n",
      "8  osteoarthritis is a common form of arthritis, ...                  False  \n",
      "9  the most common cause of benign paroxysmal pos...                   True  \n"
     ]
    },
    {
     "name": "stderr",
     "output_type": "stream",
     "text": [
      "\n"
     ]
    }
   ],
   "source": [
    "symptom_description_kaggle_df_chatdoctor = generate_disease_gpt(\"ar08/Chat-Doctor\", symptom_description_kaggle, is_disease_in_prediction_2)\n",
    "accuracy = symptom_description_kaggle_df_chatdoctor['Is Correct Prediction'].mean() * 100\n",
    "results_dic['symptom_description_kaggle']['Chat-Doctor'] = accuracy"
   ]
  },
  {
   "cell_type": "code",
   "execution_count": 36,
   "metadata": {},
   "outputs": [
    {
     "name": "stderr",
     "output_type": "stream",
     "text": [
      "Special tokens have been added in the vocabulary, make sure the associated word embeddings are fine-tuned or trained.\n",
      "Processing Batches: 100%|███████████████████████| 50/50 [06:21<00:00,  7.64s/it]"
     ]
    },
    {
     "name": "stdout",
     "output_type": "stream",
     "text": [
      "Accuracy of model - ar08/Chat-Doctor: 9.05%\n",
      "                            Disease  \\\n",
      "0                    Panic disorder   \n",
      "1                  Vocal cord polyp   \n",
      "2                   Turner syndrome   \n",
      "3                    Cryptorchidism   \n",
      "4  Poisoning due to ethylene glycol   \n",
      "5                Atrophic vaginitis   \n",
      "6              Fracture of the hand   \n",
      "7    Cellulitis or abscess of mouth   \n",
      "8            Eye alignment disorder   \n",
      "9    Headache after lumbar puncture   \n",
      "\n",
      "                                         Description  \\\n",
      "0  ['Anxiety and nervousness', 'Depression', 'Sho...   \n",
      "1  ['Hoarse voice', 'Sore throat', 'Difficulty sp...   \n",
      "2  ['Groin mass', 'Leg pain', 'Hip pain', 'Suprap...   \n",
      "3  ['Symptoms of the scrotum and testes', 'Swelli...   \n",
      "4  ['Abusing alcohol', 'Fainting', 'Hostile behav...   \n",
      "5  ['Vaginal itching', 'Vaginal dryness', 'Painfu...   \n",
      "6  ['Hand or finger pain', 'Wrist pain', 'Hand or...   \n",
      "7  ['Lip swelling', 'Sore throat', 'Toothache', '...   \n",
      "8  ['Eye deviation', 'Diminished vision', 'Double...   \n",
      "9  ['Headache', 'Nausea', 'Back pain', 'Vomiting'...   \n",
      "\n",
      "                                   Predicted Disease  Is Correct Prediction  \n",
      "0  ['Anxiety and nervousness', 'Depression', 'Sho...                  False  \n",
      "1  ['Laryngitis', 'Laryngitis', 'Laryngitis', 'La...                  False  \n",
      "2  ['Gastroenteritis', 'Gastroenteritis', 'Gastro...                  False  \n",
      "3  ['Urothelial carcinoma', 'Urothelial carcinoma...                  False  \n",
      "4  ['Alcoholism', 'Alcoholism', 'Alcoholism', 'Al...                  False  \n",
      "5  ['Vaginal cancer', 'Vaginal cancer', 'Vaginal ...                  False  \n",
      "6  ['Arthritis', 'Arthritis of the shoulder', 'Ar...                   True  \n",
      "7  ['Lipid storage disease', 'Lipid storage disea...                  False  \n",
      "8  ['Cervical cancer', 'Lymphoma', 'Lupus', 'Cyst...                  False  \n",
      "9  ['Painful Urination', 'Pain during pregnancy',...                  False  \n"
     ]
    },
    {
     "name": "stderr",
     "output_type": "stream",
     "text": [
      "\n"
     ]
    }
   ],
   "source": [
    "chatdoctor_format_df_chatdoctor = generate_disease_gpt(\"ar08/Chat-Doctor\", chatdoctor_format_df, is_disease_in_prediction_2)\n",
    "accuracy = chatdoctor_format_df_chatdoctor['Is Correct Prediction'].mean() * 100\n",
    "results_dic['chatdoctor_format_df']['Chat-Doctor'] = accuracy"
   ]
  },
  {
   "cell_type": "code",
   "execution_count": 201,
   "metadata": {},
   "outputs": [
    {
     "name": "stderr",
     "output_type": "stream",
     "text": [
      "Special tokens have been added in the vocabulary, make sure the associated word embeddings are fine-tuned or trained.\n"
     ]
    },
    {
     "data": {
      "application/vnd.jupyter.widget-view+json": {
       "model_id": "11d9284b3a3e49fea4a68ef20dadedd3",
       "version_major": 2,
       "version_minor": 0
      },
      "text/plain": [
       "Processing:   0%|          | 0/3000 [00:00<?, ?it/s]"
      ]
     },
     "metadata": {},
     "output_type": "display_data"
    },
    {
     "name": "stdout",
     "output_type": "stream",
     "text": [
      "Average Cosine Similarity across all examples: 0.20056592576371607\n"
     ]
    }
   ],
   "source": [
    "# Initialize the model and tokenizer\n",
    "model, tokenizer, device = initialize_model_and_tokenizer('ar08/Chat-Doctor')\n",
    "\n",
    "# Evaluate the model on the dataset and get the average similarity\n",
    "average_similarity = evaluate_model_on_input_output_dataset(model, tokenizer, HealthCareMagic_3K, device)\n",
    "\n",
    "# Print the final average similarity score\n",
    "print(f\"Average Cosine Similarity across all examples: {average_similarity}\")\n",
    "\n",
    "# Adding the new entry to the nested dictionary\n",
    "results_dic['HealthCareMagic_3K']['Chat-Doctor'] = average_similarity * 100"
   ]
  },
  {
   "cell_type": "code",
   "execution_count": 202,
   "metadata": {},
   "outputs": [],
   "source": [
    "# Save the dictionary to a file\n",
    "with open('results_dic.pkl', 'wb') as f:\n",
    "    pickle.dump(results_dic, f)"
   ]
  },
  {
   "cell_type": "code",
   "execution_count": 203,
   "metadata": {},
   "outputs": [
    {
     "data": {
      "text/plain": [
       "{'symptom_description_kaggle': {'gpt2': 26.82926829268293,\n",
       "  'gpt2-xl': 14.634146341463413,\n",
       "  'bert-base-uncased': 2.4390243902439024,\n",
       "  'roberta-base': 2.4390243902439024,\n",
       "  'BioBert': 4.878048780487805,\n",
       "  'bionlp/bluebert_pubmed_mimic_uncased_L-12_H-768_A-12': 2.4390243902439024,\n",
       "  'allenai/scibert_scivocab_cased': 4.878048780487805,\n",
       "  'microsoft/BiomedNLP-PubMedBERT-base-uncased-abstract-fulltext': 0.0,\n",
       "  't5-base': 0.0,\n",
       "  'gpt-3.5-turbo': 92.6829268292683,\n",
       "  'gpt-4o-mini': 95.1219512195122,\n",
       "  'gpt-4-turbo': 95.1219512195122,\n",
       "  'gpt-4': 92.6829268292683,\n",
       "  'Chat-Doctor': 19.51219512195122,\n",
       "  'microsoft/biogpt': 26.82926829268293,\n",
       "  'custom_gpt2_GenMedGPT-5k': 19.51219512195122,\n",
       "  'custom_gpt2_iCliniq10K': 19.51219512195122},\n",
       " 'chatdoctor_format_df': {'gpt2': 26.82926829268293,\n",
       "  'gpt2-xl': 18.718592964824122,\n",
       "  'bert-base-uncased': 5.9045226130653266,\n",
       "  'roberta-base': 0.628140703517588,\n",
       "  'BioBert': 0.628140703517588,\n",
       "  'bionlp/bluebert_pubmed_mimic_uncased_L-12_H-768_A-12': 0.628140703517588,\n",
       "  'allenai/scibert_scivocab_cased': 5.9045226130653266,\n",
       "  'microsoft/BiomedNLP-PubMedBERT-base-uncased-abstract-fulltext': 5.9045226130653266,\n",
       "  't5-base': 5.9045226130653266,\n",
       "  'gpt-3.5-turbo': 27.63819095477387,\n",
       "  'gpt-4o-mini': 16.834170854271356,\n",
       "  'gpt-4-turbo': 17.08542713567839,\n",
       "  'gpt-4': 28.768844221105528,\n",
       "  'Chat-Doctor': 9.045226130653267,\n",
       "  'microsoft/biogpt': 22.236180904522612,\n",
       "  'custom_gpt2_GenMedGPT-5k': 23.99497487437186,\n",
       "  'custom_gpt2_iCliniq10K': 24.120603015075375},\n",
       " 'HealthCareMagic_3K': {'gpt2': 18.33685891325555,\n",
       "  'custom_gpt2_iCliniq10K': 23.405729724137036,\n",
       "  'custom_gpt2_GenMedGPT-5k': 22.098412544106722,\n",
       "  'gpt-4o-mini': 19.56737874499412,\n",
       "  'Chat-Doctor': 20.056592576371607}}"
      ]
     },
     "execution_count": 203,
     "metadata": {},
     "output_type": "execute_result"
    }
   ],
   "source": [
    "results_dic"
   ]
  },
  {
   "cell_type": "markdown",
   "metadata": {},
   "source": [
    "### 7.3 Microsoft - BIOGPT"
   ]
  },
  {
   "cell_type": "markdown",
   "metadata": {},
   "source": [
    "ref: https://huggingface.co/microsoft/biogpt\n",
    "\n",
    "BioGPT, a domain-specific generative Transformer language model pre-trained on large-scale biomedical literature developed by Microsoft."
   ]
  },
  {
   "cell_type": "code",
   "execution_count": 56,
   "metadata": {},
   "outputs": [
    {
     "name": "stderr",
     "output_type": "stream",
     "text": [
      "\n",
      "Processing Batches:   0%|                                 | 0/3 [00:00<?, ?it/s]\u001B[AA decoder-only architecture is being used, but right-padding was detected! For correct generation results, please set `padding_side='left'` when initializing the tokenizer.\n",
      "\n",
      "Processing Batches:  33%|████████▎                | 1/3 [00:06<00:12,  6.32s/it]\u001B[AA decoder-only architecture is being used, but right-padding was detected! For correct generation results, please set `padding_side='left'` when initializing the tokenizer.\n",
      "\n",
      "Processing Batches:  67%|████████████████▋        | 2/3 [00:12<00:06,  6.19s/it]\u001B[AA decoder-only architecture is being used, but right-padding was detected! For correct generation results, please set `padding_side='left'` when initializing the tokenizer.\n",
      "\n",
      "Processing Batches: 100%|█████████████████████████| 3/3 [00:16<00:00,  5.53s/it]\u001B[A"
     ]
    },
    {
     "name": "stdout",
     "output_type": "stream",
     "text": [
      "Accuracy of model - microsoft/biogpt: 26.83%\n",
      "                                   Disease  \\\n",
      "0                            Drug Reaction   \n",
      "1                                  Malaria   \n",
      "2                                  Allergy   \n",
      "3                           Hypothyroidism   \n",
      "4                                Psoriasis   \n",
      "5                                     GERD   \n",
      "6                      Chronic cholestasis   \n",
      "7                              hepatitis A   \n",
      "8                          Osteoarthristis   \n",
      "9  (vertigo) Paroymsal  Positional Vertigo   \n",
      "\n",
      "                                         Description  \\\n",
      "0  an adverse this disease (adr) is an injury cau...   \n",
      "1  an infectious disease caused by protozoan para...   \n",
      "2  an this disease is an immune system response t...   \n",
      "3  this disease, also called underactive thyroid ...   \n",
      "4  this disease is a common skin disorder that fo...   \n",
      "5  gastroesophageal reflux disease, or this disea...   \n",
      "6  chronic cholestatic diseases, whether occurrin...   \n",
      "7  this disease is a highly contagious liver infe...   \n",
      "8  osteoarthritis is the most common form of arth...   \n",
      "9  benign paroxysmal positional vertigo (bppv) is...   \n",
      "\n",
      "                                   Predicted Disease  Is Correct Prediction  \n",
      "0  ) The most common adverse drug reaction is all...                   True  \n",
      "1                                            unknown                  False  \n",
      "2                                                  )                  False  \n",
      "3  Other causes of hypothyroidism are: autoimmune...                   True  \n",
      "4                the disease is a hereditary disease                  False  \n",
      "5  s gastroesophageal reflux disease, or this dis...                  False  \n",
      "6  ) Primary biliary cirrhosis (PBC), primary scl...                  False  \n",
      "7                                                  )                  False  \n",
      "8  s osteoarthritis is a chronic, progressive, an...                  False  \n",
      "9      s benign paroxysmal positional vertigo (bppv)                   True  \n"
     ]
    },
    {
     "name": "stderr",
     "output_type": "stream",
     "text": [
      "\n"
     ]
    }
   ],
   "source": [
    "symptom_description_kaggle_df_BioGPT = generate_disease(\"microsoft/biogpt\", symptom_description_kaggle, is_disease_in_prediction_2)\n",
    "accuracy = symptom_description_kaggle_df_BioGPT['Is Correct Prediction'].mean() * 100\n",
    "results_dic['symptom_description_kaggle']['microsoft/biogpt'] = accuracy"
   ]
  },
  {
   "cell_type": "code",
   "execution_count": 64,
   "metadata": {},
   "outputs": [
    {
     "name": "stderr",
     "output_type": "stream",
     "text": [
      "Processing Batches: 100%|███████████████████████████████████████████| 50/50 [05:42<00:00,  6.86s/it]"
     ]
    },
    {
     "name": "stdout",
     "output_type": "stream",
     "text": [
      "Accuracy of model - microsoft/biogpt: 22.24%\n",
      "                            Disease  \\\n",
      "0                    Panic disorder   \n",
      "1                  Vocal cord polyp   \n",
      "2                   Turner syndrome   \n",
      "3                    Cryptorchidism   \n",
      "4  Poisoning due to ethylene glycol   \n",
      "5                Atrophic vaginitis   \n",
      "6              Fracture of the hand   \n",
      "7    Cellulitis or abscess of mouth   \n",
      "8            Eye alignment disorder   \n",
      "9    Headache after lumbar puncture   \n",
      "\n",
      "                                         Description  \\\n",
      "0  ['Anxiety and nervousness', 'Depression', 'Sho...   \n",
      "1  ['Hoarse voice', 'Sore throat', 'Difficulty sp...   \n",
      "2  ['Groin mass', 'Leg pain', 'Hip pain', 'Suprap...   \n",
      "3  ['Symptoms of the scrotum and testes', 'Swelli...   \n",
      "4  ['Abusing alcohol', 'Fainting', 'Hostile behav...   \n",
      "5  ['Vaginal itching', 'Vaginal dryness', 'Painfu...   \n",
      "6  ['Hand or finger pain', 'Wrist pain', 'Hand or...   \n",
      "7  ['Lip swelling', 'Sore throat', 'Toothache', '...   \n",
      "8  ['Eye deviation', 'Diminished vision', 'Double...   \n",
      "9  ['Headache', 'Nausea', 'Back pain', 'Vomiting'...   \n",
      "\n",
      "                                   Predicted Disease  Is Correct Prediction  \n",
      "0  'Heart failure', 'Coronary artery disease', 'P...                  False  \n",
      "1  'Chronic rhinosinusitis with nasal polyposis',...                  False  \n",
      "2  ['Groin mass', 'Leg pain', 'Hip pain', 'Suprap...                  False  \n",
      "3  ['Congenital syphilis', 'Congenital syphilis w...                  False  \n",
      "4  'Alcohol abuse', 'Fainting', 'Drug abuse', 'De...                  False  \n",
      "5  'Urinary tract infection', 'Urinary tract infe...                  False  \n",
      "6  ['Hand or finger pain', 'Wrist pain', 'Hand or...                   True  \n",
      "7  'Lip swelling', 'Sore throat', 'Acne or pimple...                   True  \n",
      "8  ['Chronic fatigue syndrome', 'Chronic fatigue ...                  False  \n",
      "9  ['Headache', 'Nausea', 'Vomiting', 'Back pain'...                   True  \n"
     ]
    },
    {
     "name": "stderr",
     "output_type": "stream",
     "text": [
      "\n"
     ]
    }
   ],
   "source": [
    "chatdoctor_format_df_BioGPT = generate_disease(\"microsoft/biogpt\", chatdoctor_format_df, is_disease_in_prediction_2)\n",
    "accuracy = chatdoctor_format_df_BioGPT['Is Correct Prediction'].mean() * 100\n",
    "results_dic['chatdoctor_format_df']['microsoft/biogpt'] = accuracy"
   ]
  },
  {
   "cell_type": "code",
   "execution_count": 204,
   "metadata": {},
   "outputs": [
    {
     "data": {
      "application/vnd.jupyter.widget-view+json": {
       "model_id": "e6b49f9e6348496cbcd4222928a627ce",
       "version_major": 2,
       "version_minor": 0
      },
      "text/plain": [
       "Processing:   0%|          | 0/3000 [00:00<?, ?it/s]"
      ]
     },
     "metadata": {},
     "output_type": "display_data"
    },
    {
     "name": "stderr",
     "output_type": "stream",
     "text": [
      "Asking to truncate to max_length but no maximum length is provided and the model has no predefined maximum length. Default to no truncation.\n"
     ]
    },
    {
     "name": "stdout",
     "output_type": "stream",
     "text": [
      "Average Cosine Similarity across all examples: 0.1913910949853669\n"
     ]
    }
   ],
   "source": [
    "# Initialize the model and tokenizer\n",
    "model, tokenizer, device = initialize_model_and_tokenizer('microsoft/biogpt')\n",
    "\n",
    "# Evaluate the model on the dataset and get the average similarity\n",
    "average_similarity = evaluate_model_on_input_output_dataset(model, tokenizer, HealthCareMagic_3K, device)\n",
    "\n",
    "# Print the final average similarity score\n",
    "print(f\"Average Cosine Similarity across all examples: {average_similarity}\")\n",
    "\n",
    "# Adding the new entry to the nested dictionary\n",
    "results_dic['HealthCareMagic_3K']['microsoft/biogpt'] = average_similarity * 100"
   ]
  },
  {
   "cell_type": "code",
   "execution_count": 12,
   "metadata": {},
   "outputs": [],
   "source": [
    "# Save the dictionary to a file\n",
    "with open('results_dic.pkl', 'wb') as f:\n",
    "    pickle.dump(results_dic, f)"
   ]
  },
  {
   "cell_type": "markdown",
   "metadata": {},
   "source": [
    "## 8. Finetuning LLMs with Medical Data"
   ]
  },
  {
   "cell_type": "markdown",
   "metadata": {},
   "source": [
    "### 8.1 Finetune GPT-2"
   ]
  },
  {
   "cell_type": "markdown",
   "metadata": {},
   "source": [
    "We will use Multiple Data Sets to fine tune our model. However given the limitations: Finetuning being resource heavy and expensive task (easily couple of hundred euros for even smaller data sets), we will only manage to finetune with smaller data sets than initially intended at this stage."
   ]
  },
  {
   "cell_type": "markdown",
   "metadata": {},
   "source": [
    "#### 8.1.1 Finetune GPT-2 with GenMedGPT-5k"
   ]
  },
  {
   "cell_type": "code",
   "execution_count": null,
   "metadata": {},
   "outputs": [],
   "source": [
    "# Path to your JSON file : ChatDoctorData/HealthCareMagic-100k\n",
    "file_path = '/Users/bsen/Documents/Personal/Master/IT_Privacy_Security/data/ChatDoctorData/GenMedGPT-5k.json'\n",
    "\n",
    "# Read the JSON file\n",
    "with open(file_path, 'r') as file:\n",
    "    data = json.load(file)\n",
    "\n",
    "# Check the number of items in the file\n",
    "num_items = len(data)\n",
    "print(f\"Total number of items: {num_items}\")"
   ]
  },
  {
   "cell_type": "code",
   "execution_count": null,
   "metadata": {},
   "outputs": [],
   "source": [
    "# To try lets first only use 1K of this data\n",
    "# Create a smaller subset for testing purposes (e.g., first 100 items)\n",
    "\n",
    "# Format the data for fine-tuning\n",
    "formatted_data = [\n",
    "    {\n",
    "        \"prompt\": f\"{item['instruction']}\\n\\n{item['input']}\\n\\nResponse:\",\n",
    "        \"completion\": f\" {item['output']}\"\n",
    "    }\n",
    "    for item in data\n",
    "]\n",
    "\n",
    "# Save the data to a JSONL file\n",
    "file_path = 'GenMedGPT-5k_finetuned.jsonl'\n",
    "with open(file_path, 'w') as f:\n",
    "    for item in formatted_data:\n",
    "        f.write(json.dumps(item) + '\\n')\n",
    "\n",
    "print(f\"Data saved to {file_path}\")"
   ]
  },
  {
   "cell_type": "code",
   "execution_count": null,
   "metadata": {},
   "outputs": [],
   "source": [
    "def load_jsonl_to_df(filepath):\n",
    "    with open(filepath, 'r', encoding='utf-8') as file:\n",
    "        data = [json.loads(line) for line in file]\n",
    "    return pd.DataFrame(data)\n",
    "\n",
    "# Load your specific JSONL file\n",
    "GenMedGPT5k_finetuned_df = load_jsonl_to_df('GenMedGPT-5k_finetuned.jsonl')"
   ]
  },
  {
   "cell_type": "code",
   "execution_count": 92,
   "metadata": {},
   "outputs": [
    {
     "ename": "NameError",
     "evalue": "name 'dataframe' is not defined",
     "output_type": "error",
     "traceback": [
      "\u001B[0;31m---------------------------------------------------------------------------\u001B[0m",
      "\u001B[0;31mNameError\u001B[0m                                 Traceback (most recent call last)",
      "Cell \u001B[0;32mIn[92], line 34\u001B[0m\n\u001B[1;32m     31\u001B[0m tokenizer\u001B[38;5;241m.\u001B[39mpad_token \u001B[38;5;241m=\u001B[39m tokenizer\u001B[38;5;241m.\u001B[39meos_token  \u001B[38;5;66;03m# GPT-2 doesn't have a PAD token, using EOS instead\u001B[39;00m\n\u001B[1;32m     33\u001B[0m \u001B[38;5;66;03m# Create the dataset and dataloader\u001B[39;00m\n\u001B[0;32m---> 34\u001B[0m dataset \u001B[38;5;241m=\u001B[39m HealthCareDataset(\u001B[43mdataframe\u001B[49m, tokenizer, max_length\u001B[38;5;241m=\u001B[39m\u001B[38;5;241m512\u001B[39m)\n\u001B[1;32m     35\u001B[0m \u001B[38;5;28;01mfrom\u001B[39;00m \u001B[38;5;21;01mtorch\u001B[39;00m\u001B[38;5;21;01m.\u001B[39;00m\u001B[38;5;21;01mutils\u001B[39;00m\u001B[38;5;21;01m.\u001B[39;00m\u001B[38;5;21;01mdata\u001B[39;00m \u001B[38;5;28;01mimport\u001B[39;00m DataLoader\n\u001B[1;32m     36\u001B[0m dataloader \u001B[38;5;241m=\u001B[39m DataLoader(dataset, batch_size\u001B[38;5;241m=\u001B[39m\u001B[38;5;241m4\u001B[39m, shuffle\u001B[38;5;241m=\u001B[39m\u001B[38;5;28;01mTrue\u001B[39;00m)\n",
      "\u001B[0;31mNameError\u001B[0m: name 'dataframe' is not defined"
     ]
    }
   ],
   "source": [
    "# Creating a custom DataSet Class for the new dataset\n",
    "class GenMedGPT5k_DataSet(Dataset):\n",
    "    def __init__(self, dataframe, tokenizer, max_length):\n",
    "        self.dataframe = dataframe\n",
    "        self.tokenizer = tokenizer\n",
    "        self.max_length = max_length\n",
    "\n",
    "    def __len__(self):\n",
    "        return len(self.dataframe)\n",
    "\n",
    "    def __getitem__(self, idx):\n",
    "        row = self.dataframe.iloc[idx]\n",
    "        # Assuming 'prompt' and 'completion' fields are in your JSONL\n",
    "        input_text = row['prompt'] + ' ' + row['completion']\n",
    "        inputs = self.tokenizer(\n",
    "            input_text,\n",
    "            padding='max_length',\n",
    "            truncation=True,\n",
    "            max_length=self.max_length,\n",
    "            return_tensors=\"pt\"\n",
    "        )\n",
    "        input_ids = inputs.input_ids.squeeze()\n",
    "        attention_mask = inputs.attention_mask.squeeze()\n",
    "        return input_ids, attention_mask, input_ids  # Labels are the same as input_ids for language modeling"
   ]
  },
  {
   "cell_type": "code",
   "execution_count": null,
   "metadata": {},
   "outputs": [],
   "source": [
    "# Initialize the tokenizer\n",
    "from transformers import AutoTokenizer\n",
    "tokenizer = AutoTokenizer.from_pretrained(\"gpt2\")\n",
    "tokenizer.pad_token = tokenizer.eos_token  # GPT-2 doesn't have a PAD token, using EOS instead\n",
    "\n",
    "# Create the dataset and dataloader\n",
    "dataset = GenMedGPT5k_DataSet(dataframe, tokenizer, max_length=512)\n",
    "dataloader = DataLoader(dataset, batch_size=4, shuffle=True)"
   ]
  },
  {
   "cell_type": "code",
   "execution_count": null,
   "metadata": {},
   "outputs": [],
   "source": [
    "from transformers import GPT2LMHeadModel, AdamW\n",
    "import torch\n",
    "from tqdm.auto import tqdm\n",
    "\n",
    "# Initialize the model\n",
    "model = GPT2LMHeadModel.from_pretrained(\"gpt2\")\n",
    "model.resize_token_embeddings(len(tokenizer))\n",
    "\n",
    "# Training parameters\n",
    "optimizer = AdamW(model.parameters(), lr=2e-5)\n",
    "device = torch.device(\"cuda\" if torch.cuda.is_available() else \"cpu\")\n",
    "model.to(device)\n",
    "\n",
    "# Training loop\n",
    "epochs = 3\n",
    "for epoch in range(epochs):\n",
    "    model.train()\n",
    "    total_loss = 0\n",
    "    for input_ids, attention_mask, labels in tqdm(dataloader):\n",
    "        input_ids = input_ids.to(device)\n",
    "        attention_mask = attention_mask.to(device)\n",
    "        labels = labels.to(device)\n",
    "\n",
    "        outputs = model(input_ids, attention_mask=attention_mask, labels=labels)\n",
    "        loss = outputs.loss\n",
    "        loss.backward()\n",
    "        optimizer.step()\n",
    "        optimizer.zero_grad()\n",
    "\n",
    "        total_loss += loss.item()\n",
    "\n",
    "    print(f\"Epoch {epoch + 1}/{epochs}, Loss: {total_loss / len(dataloader)}\")\n",
    "\n",
    "# Save the model and tokenizer\n",
    "model.save_pretrained(\"./custom_gpt2_GenMedGPT-5k\")\n",
    "tokenizer.save_pretrained(\"./custom_gpt2_GenMedGPT-5k\")"
   ]
  },
  {
   "cell_type": "markdown",
   "metadata": {},
   "source": [
    "#### 8.1.2 Test GPT-2 Finetuned GenMedGPT-5k"
   ]
  },
  {
   "cell_type": "code",
   "execution_count": 24,
   "metadata": {},
   "outputs": [],
   "source": [
    "from torch.utils.data import Dataset"
   ]
  },
  {
   "cell_type": "code",
   "execution_count": 45,
   "metadata": {},
   "outputs": [
    {
     "data": {
      "text/plain": [
       "GPT2LMHeadModel(\n",
       "  (transformer): GPT2Model(\n",
       "    (wte): Embedding(50257, 768)\n",
       "    (wpe): Embedding(1024, 768)\n",
       "    (drop): Dropout(p=0.1, inplace=False)\n",
       "    (h): ModuleList(\n",
       "      (0-11): 12 x GPT2Block(\n",
       "        (ln_1): LayerNorm((768,), eps=1e-05, elementwise_affine=True)\n",
       "        (attn): GPT2Attention(\n",
       "          (c_attn): Conv1D()\n",
       "          (c_proj): Conv1D()\n",
       "          (attn_dropout): Dropout(p=0.1, inplace=False)\n",
       "          (resid_dropout): Dropout(p=0.1, inplace=False)\n",
       "        )\n",
       "        (ln_2): LayerNorm((768,), eps=1e-05, elementwise_affine=True)\n",
       "        (mlp): GPT2MLP(\n",
       "          (c_fc): Conv1D()\n",
       "          (c_proj): Conv1D()\n",
       "          (act): NewGELUActivation()\n",
       "          (dropout): Dropout(p=0.1, inplace=False)\n",
       "        )\n",
       "      )\n",
       "    )\n",
       "    (ln_f): LayerNorm((768,), eps=1e-05, elementwise_affine=True)\n",
       "  )\n",
       "  (lm_head): Linear(in_features=768, out_features=50257, bias=False)\n",
       ")"
      ]
     },
     "execution_count": 45,
     "metadata": {},
     "output_type": "execute_result"
    }
   ],
   "source": [
    "# Load the fine-tuned model and tokenizer\n",
    "model = AutoModelForCausalLM.from_pretrained(\"./custom_gpt2_GenMedGPT-5k\")\n",
    "tokenizer = AutoTokenizer.from_pretrained(\"./custom_gpt2_GenMedGPT-5k\", padding_side='left')\n",
    "tokenizer.pad_token = tokenizer.eos_token  # Ensure the padding token is set\n",
    "\n",
    "# Set model to evaluation mode\n",
    "model.eval()\n",
    "device = torch.device(\"cuda\" if torch.cuda.is_available() else \"cpu\")\n",
    "model.to(device)"
   ]
  },
  {
   "cell_type": "code",
   "execution_count": 44,
   "metadata": {},
   "outputs": [],
   "source": [
    "#Test with SymptomDescriptionDataset"
   ]
  },
  {
   "cell_type": "code",
   "execution_count": 51,
   "metadata": {},
   "outputs": [],
   "source": [
    "# Define a custom dataset class for the new dataset\n",
    "class SymptomDescriptionDataset(Dataset):\n",
    "    def __init__(self, dataframe, tokenizer, max_length):\n",
    "        self.dataframe = dataframe\n",
    "        self.tokenizer = tokenizer\n",
    "        self.max_length = max_length\n",
    "\n",
    "    def __len__(self):\n",
    "        return len(self.dataframe)\n",
    "\n",
    "    def __getitem__(self, idx):\n",
    "        row = self.dataframe.iloc[idx]\n",
    "        input_text = f\"Disease: {row['Disease']} Symptoms: {row['Description']}\"\n",
    "        inputs = self.tokenizer(\n",
    "            input_text,\n",
    "            padding='max_length',\n",
    "            truncation=True,\n",
    "            max_length=self.max_length,\n",
    "            return_tensors=\"pt\"\n",
    "        )\n",
    "        return inputs.input_ids.squeeze(), inputs.attention_mask.squeeze()"
   ]
  },
  {
   "cell_type": "code",
   "execution_count": 52,
   "metadata": {},
   "outputs": [],
   "source": [
    "# Custom dataset class\n",
    "class ChatDoctorFormatDataset(Dataset):\n",
    "    def __init__(self, dataframe, tokenizer, max_length):\n",
    "        self.dataframe = dataframe\n",
    "        self.tokenizer = tokenizer\n",
    "        self.max_length = max_length\n",
    "\n",
    "    def __len__(self):\n",
    "        return len(self.dataframe)\n",
    "\n",
    "    def __getitem__(self, idx):\n",
    "        row = self.dataframe.iloc[idx]\n",
    "        input_text = f\"Disease: {row['Disease']} Symptoms: {row['Description']}\"\n",
    "        inputs = self.tokenizer(\n",
    "            input_text,\n",
    "            padding='max_length',\n",
    "            truncation=True,\n",
    "            max_length=self.max_length,\n",
    "            return_tensors=\"pt\"\n",
    "        )\n",
    "        return inputs.input_ids.squeeze(), inputs.attention_mask.squeeze()\n"
   ]
  },
  {
   "cell_type": "code",
   "execution_count": 53,
   "metadata": {},
   "outputs": [],
   "source": [
    "# Function to generate disease batch\n",
    "def generate_disease_batch(batch, model, tokenizer):\n",
    "    input_ids, attention_mask = batch\n",
    "    input_ids = input_ids.to(model.device)\n",
    "    attention_mask = attention_mask.to(model.device)\n",
    "\n",
    "    outputs = model.generate(\n",
    "        input_ids,\n",
    "        attention_mask=attention_mask,\n",
    "        max_new_tokens=50,\n",
    "        num_return_sequences=1,\n",
    "        pad_token_id=tokenizer.eos_token_id\n",
    "    )\n",
    "\n",
    "    generated_texts = [tokenizer.decode(output, skip_special_tokens=True) for output in outputs]\n",
    "\n",
    "    # Post-processing to extract disease diagnosis\n",
    "    diseases = []\n",
    "    for text in generated_texts:\n",
    "        diagnosis = text.split(\"Symptoms:\")[-1].strip()\n",
    "        # Further refine by removing any trailing sentences after the first sentence\n",
    "        if '.' in diagnosis:\n",
    "            diagnosis = diagnosis.split('.')[0].strip()\n",
    "        diseases.append(diagnosis if diagnosis else \"unknown\")\n",
    "\n",
    "    return diseases"
   ]
  },
  {
   "cell_type": "code",
   "execution_count": 59,
   "metadata": {},
   "outputs": [],
   "source": [
    "# Suppress specific warnings\n",
    "warnings.filterwarnings(\"ignore\", message=\"A decoder-only architecture is being used\")\n",
    "\n",
    "# More agnostic model runner\n",
    "def run_finetuned_model(dataset_class, df, tokenizer, model, model_name, accuracy_model, max_length=512, batch_size=16):\n",
    "    \"\"\"\n",
    "    Run model training or inference on any dataset.\n",
    "\n",
    "    Parameters:\n",
    "    - dataset_class: Class of the dataset to be used (e.g., GenMedGPT5k_DataSet, ChatDoctorFormatDataset).\n",
    "    - df: DataFrame containing the dataset.\n",
    "    - tokenizer: Tokenizer to tokenize input text.\n",
    "    - model: Pre-trained model to run inference or training on.\n",
    "    - model_name: Name of the model (for logging purposes).\n",
    "    - accuracy_model: Function to calculate accuracy (model-specific).\n",
    "    - max_length: Maximum token length for the tokenizer.\n",
    "    - batch_size: Batch size for the DataLoader.\n",
    "    \"\"\"\n",
    "\n",
    "    # Set tokenizer padding side to 'left' to match decoder-only architecture\n",
    "    tokenizer.padding_side = \"left\"\n",
    "\n",
    "    # Create dataset and dataloader for the new dataset\n",
    "    new_dataset = dataset_class(df, tokenizer, max_length)\n",
    "    new_dataloader = DataLoader(new_dataset, batch_size=batch_size, shuffle=False)  # Set batch size\n",
    "\n",
    "    all_predictions = []\n",
    "\n",
    "    # Generate predictions with a single-line status bar\n",
    "    progress_bar = tqdm(new_dataloader, total=len(new_dataloader), position=0, leave=True, desc=\"Processing\")\n",
    "\n",
    "    for batch in progress_bar:\n",
    "        batch_predictions = generate_disease_batch(batch, model, tokenizer)\n",
    "        all_predictions.extend(batch_predictions)\n",
    "\n",
    "    # Verify lengths before assigning to DataFrame\n",
    "    print(f\"Length of all_predictions: {len(all_predictions)}\")\n",
    "    print(f\"Length of df: {len(df)}\")\n",
    "\n",
    "    if len(all_predictions) != len(df):\n",
    "        raise ValueError(f\"Length of predictions ({len(all_predictions)}) does not match length of dataframe ({len(df)})\")\n",
    "\n",
    "    # Assign predictions to DataFrame\n",
    "    df['Predicted Disease'] = all_predictions\n",
    "\n",
    "    # Apply accuracy check\n",
    "    df['Is Correct Prediction'] = df.apply(accuracy_model, axis=1)\n",
    "    \n",
    "    # Calculate accuracy\n",
    "    accuracy = df['Is Correct Prediction'].mean()\n",
    "    print(f\"Accuracy of the model ({model_name}): {accuracy * 100:.2f}%\")\n",
    "\n",
    "    # Display the first few rows\n",
    "    print(df.head(10))\n",
    "    \n",
    "    return df"
   ]
  },
  {
   "cell_type": "code",
   "execution_count": 60,
   "metadata": {},
   "outputs": [
    {
     "name": "stderr",
     "output_type": "stream",
     "text": [
      "Processing: 100%|█████████████████████████████████| 3/3 [00:10<00:00,  3.36s/it]"
     ]
    },
    {
     "name": "stdout",
     "output_type": "stream",
     "text": [
      "Length of all_predictions: 41\n",
      "Length of df: 41\n",
      "Accuracy of the model (custom_gpt2_GenMedGPT-5k): 19.51%\n",
      "                                   Disease  \\\n",
      "0                            Drug Reaction   \n",
      "1                                  Malaria   \n",
      "2                                  Allergy   \n",
      "3                           Hypothyroidism   \n",
      "4                                Psoriasis   \n",
      "5                                     GERD   \n",
      "6                      Chronic cholestasis   \n",
      "7                              hepatitis A   \n",
      "8                          Osteoarthristis   \n",
      "9  (vertigo) Paroymsal  Positional Vertigo   \n",
      "\n",
      "                                         Description  \\\n",
      "0  an adverse this disease (adr) is an injury cau...   \n",
      "1  an infectious disease caused by protozoan para...   \n",
      "2  an this disease is an immune system response t...   \n",
      "3  this disease, also called underactive thyroid ...   \n",
      "4  this disease is a common skin disorder that fo...   \n",
      "5  gastroesophageal reflux disease, or this disea...   \n",
      "6  chronic cholestatic diseases, whether occurrin...   \n",
      "7  this disease is a highly contagious liver infe...   \n",
      "8  osteoarthritis is the most common form of arth...   \n",
      "9  benign paroxysmal positional vertigo (bppv) is...   \n",
      "\n",
      "                                    Predicted Output  \\\n",
      "0  an adverse this disease (adr) is an injury cau...   \n",
      "1  an infectious disease caused by protozoan para...   \n",
      "2  an this disease is an immune system response t...   \n",
      "3  this disease, also called underactive thyroid ...   \n",
      "4  this disease is a common skin disorder that fo...   \n",
      "5  gastroesophageal reflux disease, or this disea...   \n",
      "6  chronic cholestatic diseases, whether occurrin...   \n",
      "7  this disease is a highly contagious liver infe...   \n",
      "8  osteoarthritis is the most common form of arth...   \n",
      "9  benign paroxysmal positional vertigo (bppv) is...   \n",
      "\n",
      "                                   Predicted Disease  Is Correct Prediction  \n",
      "0  an adverse this disease (adr) is an injury cau...                  False  \n",
      "1  an infectious disease caused by protozoan para...                  False  \n",
      "2  an this disease is an immune system response t...                  False  \n",
      "3  this disease, also called underactive thyroid ...                  False  \n",
      "4  this disease is a common skin disorder that fo...                  False  \n",
      "5  gastroesophageal reflux disease, or this disea...                  False  \n",
      "6  chronic cholestatic diseases, whether occurrin...                   True  \n",
      "7  this disease is a highly contagious liver infe...                   True  \n",
      "8  osteoarthritis is the most common form of arth...                  False  \n",
      "9  benign paroxysmal positional vertigo (bppv) is...                   True  \n"
     ]
    },
    {
     "name": "stderr",
     "output_type": "stream",
     "text": [
      "\n"
     ]
    }
   ],
   "source": [
    "# Calling the function\n",
    "symptom_description_kaggle_df_custom_gpt2_GenMedGPT5k = run_finetuned_model(SymptomDescriptionDataset\n",
    "                                                                   ,symptom_description_kaggle\n",
    "                                                                   , tokenizer\n",
    "                                                                   , model\n",
    "                                                                   , \"custom_gpt2_GenMedGPT-5k\"\n",
    "                                                                   , is_disease_in_prediction_2)\n",
    "accuracy = symptom_description_kaggle_df_custom_gpt2_GenMedGPT5k['Is Correct Prediction'].mean() * 100\n",
    "results_dic['symptom_description_kaggle'][\"custom_gpt2_GenMedGPT-5k\"] = accuracy"
   ]
  },
  {
   "cell_type": "code",
   "execution_count": 61,
   "metadata": {},
   "outputs": [
    {
     "name": "stderr",
     "output_type": "stream",
     "text": [
      "Processing: 100%|███████████████████████████████| 50/50 [03:04<00:00,  3.69s/it]"
     ]
    },
    {
     "name": "stdout",
     "output_type": "stream",
     "text": [
      "Length of all_predictions: 796\n",
      "Length of df: 796\n",
      "Accuracy of the model (custom_gpt2_GenMedGPT-5k): 23.99%\n",
      "                            Disease  \\\n",
      "0                    Panic disorder   \n",
      "1                  Vocal cord polyp   \n",
      "2                   Turner syndrome   \n",
      "3                    Cryptorchidism   \n",
      "4  Poisoning due to ethylene glycol   \n",
      "5                Atrophic vaginitis   \n",
      "6              Fracture of the hand   \n",
      "7    Cellulitis or abscess of mouth   \n",
      "8            Eye alignment disorder   \n",
      "9    Headache after lumbar puncture   \n",
      "\n",
      "                                         Description  \\\n",
      "0  ['Anxiety and nervousness', 'Depression', 'Sho...   \n",
      "1  ['Hoarse voice', 'Sore throat', 'Difficulty sp...   \n",
      "2  ['Groin mass', 'Leg pain', 'Hip pain', 'Suprap...   \n",
      "3  ['Symptoms of the scrotum and testes', 'Swelli...   \n",
      "4  ['Abusing alcohol', 'Fainting', 'Hostile behav...   \n",
      "5  ['Vaginal itching', 'Vaginal dryness', 'Painfu...   \n",
      "6  ['Hand or finger pain', 'Wrist pain', 'Hand or...   \n",
      "7  ['Lip swelling', 'Sore throat', 'Toothache', '...   \n",
      "8  ['Eye deviation', 'Diminished vision', 'Double...   \n",
      "9  ['Headache', 'Nausea', 'Back pain', 'Vomiting'...   \n",
      "\n",
      "                                   Predicted Disease  Is Correct Prediction  \n",
      "0  ['Anxiety and nervousness', 'Depression', 'Sho...                  False  \n",
      "1  ['Hoarse voice', 'Sore throat', 'Difficulty sp...                  False  \n",
      "2  ['Groin mass', 'Leg pain', 'Hip pain', 'Suprap...                  False  \n",
      "3  ['Symptoms of the scrotum and testes', 'Swelli...                  False  \n",
      "4  ['Abusing alcohol', 'Fainting', 'Hostile behav...                  False  \n",
      "5  ['Vaginal itching', 'Vaginal dryness', 'Painfu...                  False  \n",
      "6  ['Hand or finger pain', 'Wrist pain', 'Hand or...                   True  \n",
      "7  ['Lip swelling', 'Sore throat', 'Toothache', '...                   True  \n",
      "8  ['Eye deviation', 'Diminished vision', 'Double...                   True  \n",
      "9  ['Headache', 'Nausea', 'Back pain', 'Vomiting'...                   True  \n"
     ]
    },
    {
     "name": "stderr",
     "output_type": "stream",
     "text": [
      "\n"
     ]
    }
   ],
   "source": [
    "# Calling the function\n",
    "chatdoctor_format_df_custom_gpt2_GenMedGPT5k = run_finetuned_model(ChatDoctorFormatDataset\n",
    "                                                                   ,chatdoctor_format_df\n",
    "                                                                   , tokenizer\n",
    "                                                                   , model\n",
    "                                                                   , \"custom_gpt2_GenMedGPT-5k\"\n",
    "                                                                   , is_disease_in_prediction_2)\n",
    "accuracy = chatdoctor_format_df_custom_gpt2_GenMedGPT5k['Is Correct Prediction'].mean() * 100\n",
    "results_dic['chatdoctor_format_df'][\"custom_gpt2_GenMedGPT-5k\"] = accuracy"
   ]
  },
  {
   "cell_type": "code",
   "execution_count": 62,
   "metadata": {},
   "outputs": [
    {
     "data": {
      "text/plain": [
       "{'symptom_description_kaggle': {'gpt2': 26.82926829268293,\n",
       "  'gpt2-xl': 14.634146341463413,\n",
       "  'bert-base-uncased': 2.4390243902439024,\n",
       "  'roberta-base': 2.4390243902439024,\n",
       "  'BioBert': 4.878048780487805,\n",
       "  'bionlp/bluebert_pubmed_mimic_uncased_L-12_H-768_A-12': 2.4390243902439024,\n",
       "  'allenai/scibert_scivocab_cased': 4.878048780487805,\n",
       "  'microsoft/BiomedNLP-PubMedBERT-base-uncased-abstract-fulltext': 0.0,\n",
       "  't5-base': 0.0,\n",
       "  'gpt-3.5-turbo': 92.6829268292683,\n",
       "  'gpt-4o-mini': 92.6829268292683,\n",
       "  'gpt-4-turbo': 95.1219512195122,\n",
       "  'gpt-4': 92.6829268292683,\n",
       "  'Chat-Doctor': 19.51219512195122,\n",
       "  'microsoft/biogpt': 26.82926829268293,\n",
       "  'custom_gpt2_GenMedGPT-5k': 19.51219512195122},\n",
       " 'chatdoctor_format_df': {'gpt2': 26.82926829268293,\n",
       "  'gpt2-xl': 18.718592964824122,\n",
       "  'bert-base-uncased': 5.9045226130653266,\n",
       "  'roberta-base': 0.628140703517588,\n",
       "  'BioBert': 0.628140703517588,\n",
       "  'bionlp/bluebert_pubmed_mimic_uncased_L-12_H-768_A-12': 0.628140703517588,\n",
       "  'allenai/scibert_scivocab_cased': 5.9045226130653266,\n",
       "  'microsoft/BiomedNLP-PubMedBERT-base-uncased-abstract-fulltext': 5.9045226130653266,\n",
       "  't5-base': 5.9045226130653266,\n",
       "  'gpt-3.5-turbo': 27.63819095477387,\n",
       "  'gpt-4o-mini': 16.834170854271356,\n",
       "  'gpt-4-turbo': 17.08542713567839,\n",
       "  'gpt-4': 28.768844221105528,\n",
       "  'Chat-Doctor': 9.045226130653267,\n",
       "  'microsoft/biogpt': 22.236180904522612,\n",
       "  'custom_gpt2_GenMedGPT-5k': 23.99497487437186}}"
      ]
     },
     "execution_count": 62,
     "metadata": {},
     "output_type": "execute_result"
    }
   ],
   "source": [
    "results_dic"
   ]
  },
  {
   "cell_type": "code",
   "execution_count": 164,
   "metadata": {},
   "outputs": [],
   "source": [
    "# Function to initialize the fine-tuned model and tokenizer\n",
    "def initialize_model_and_tokenizer(model_name):\n",
    "    # Load the fine-tuned model and tokenizer\n",
    "    model = AutoModelForCausalLM.from_pretrained(model_name)\n",
    "    tokenizer = AutoTokenizer.from_pretrained(model_name)\n",
    "    \n",
    "    if tokenizer.pad_token is None:\n",
    "        tokenizer.add_special_tokens({'pad_token': tokenizer.eos_token})\n",
    "    \n",
    "    device = torch.device(\"cuda\" if torch.cuda.is_available() else \"cpu\")\n",
    "    model.to(device)\n",
    "    return model, tokenizer, device"
   ]
  },
  {
   "cell_type": "code",
   "execution_count": 169,
   "metadata": {},
   "outputs": [
    {
     "data": {
      "application/vnd.jupyter.widget-view+json": {
       "model_id": "2066ca3a75ae4d7786ec66f3455d467f",
       "version_major": 2,
       "version_minor": 0
      },
      "text/plain": [
       "Processing:   0%|          | 0/3000 [00:00<?, ?it/s]"
      ]
     },
     "metadata": {},
     "output_type": "display_data"
    },
    {
     "name": "stdout",
     "output_type": "stream",
     "text": [
      "Average Cosine Similarity across all examples: 0.22098412544106721\n"
     ]
    }
   ],
   "source": [
    "# Initialize the model and tokenizer\n",
    "model, tokenizer, device = initialize_model_and_tokenizer(\"./custom_gpt2_GenMedGPT-5k\")\n",
    "\n",
    "# Evaluate the model on the dataset and get the average similarity\n",
    "average_similarity = evaluate_model_on_input_output_dataset(model, tokenizer, HealthCareMagic_3K, device)\n",
    "\n",
    "# Print the final average similarity score\n",
    "print(f\"Average Cosine Similarity across all examples: {average_similarity}\")"
   ]
  },
  {
   "cell_type": "code",
   "execution_count": 170,
   "metadata": {},
   "outputs": [],
   "source": [
    "# Adding the new entry to the nested dictionary\n",
    "results_dic.setdefault('HealthCareMagic_3K', {})  # Ensure 'HealthCareMagic_3K' exists as a key\n",
    "results_dic['HealthCareMagic_3K']['custom_gpt2_GenMedGPT-5k'] = average_similarity * 100"
   ]
  },
  {
   "cell_type": "code",
   "execution_count": 171,
   "metadata": {},
   "outputs": [],
   "source": [
    "# Save the dictionary to a file\n",
    "with open('results_dic.pkl', 'wb') as f:\n",
    "    pickle.dump(results_dic, f)"
   ]
  },
  {
   "cell_type": "code",
   "execution_count": 177,
   "metadata": {},
   "outputs": [
    {
     "data": {
      "text/plain": [
       "{'symptom_description_kaggle': {'gpt2': 26.82926829268293,\n",
       "  'gpt2-xl': 14.634146341463413,\n",
       "  'bert-base-uncased': 2.4390243902439024,\n",
       "  'roberta-base': 2.4390243902439024,\n",
       "  'BioBert': 4.878048780487805,\n",
       "  'bionlp/bluebert_pubmed_mimic_uncased_L-12_H-768_A-12': 2.4390243902439024,\n",
       "  'allenai/scibert_scivocab_cased': 4.878048780487805,\n",
       "  'microsoft/BiomedNLP-PubMedBERT-base-uncased-abstract-fulltext': 0.0,\n",
       "  't5-base': 0.0,\n",
       "  'gpt-3.5-turbo': 92.6829268292683,\n",
       "  'gpt-4o-mini': 92.6829268292683,\n",
       "  'gpt-4-turbo': 95.1219512195122,\n",
       "  'gpt-4': 92.6829268292683,\n",
       "  'Chat-Doctor': 19.51219512195122,\n",
       "  'microsoft/biogpt': 26.82926829268293,\n",
       "  'custom_gpt2_GenMedGPT-5k': 19.51219512195122,\n",
       "  'custom_gpt2_iCliniq10K': 19.51219512195122},\n",
       " 'chatdoctor_format_df': {'gpt2': 26.82926829268293,\n",
       "  'gpt2-xl': 18.718592964824122,\n",
       "  'bert-base-uncased': 5.9045226130653266,\n",
       "  'roberta-base': 0.628140703517588,\n",
       "  'BioBert': 0.628140703517588,\n",
       "  'bionlp/bluebert_pubmed_mimic_uncased_L-12_H-768_A-12': 0.628140703517588,\n",
       "  'allenai/scibert_scivocab_cased': 5.9045226130653266,\n",
       "  'microsoft/BiomedNLP-PubMedBERT-base-uncased-abstract-fulltext': 5.9045226130653266,\n",
       "  't5-base': 5.9045226130653266,\n",
       "  'gpt-3.5-turbo': 27.63819095477387,\n",
       "  'gpt-4o-mini': 16.834170854271356,\n",
       "  'gpt-4-turbo': 17.08542713567839,\n",
       "  'gpt-4': 28.768844221105528,\n",
       "  'Chat-Doctor': 9.045226130653267,\n",
       "  'microsoft/biogpt': 22.236180904522612,\n",
       "  'custom_gpt2_GenMedGPT-5k': 23.99497487437186,\n",
       "  'custom_gpt2_iCliniq10K': 24.120603015075375},\n",
       " 'HealthCareMagic_3K': {'gpt2': 18.33685891325555,\n",
       "  'custom_gpt2_iCliniq10K': 23.405729724137036,\n",
       "  'custom_gpt2_GenMedGPT-5k': 22.098412544106722}}"
      ]
     },
     "execution_count": 177,
     "metadata": {},
     "output_type": "execute_result"
    }
   ],
   "source": [
    "results_dic"
   ]
  },
  {
   "cell_type": "markdown",
   "metadata": {},
   "source": [
    "#### 8.1.3 Finetune GPT-2 with iCliniq10K"
   ]
  },
  {
   "cell_type": "code",
   "execution_count": 116,
   "metadata": {},
   "outputs": [
    {
     "name": "stdout",
     "output_type": "stream",
     "text": [
      "Successfully converted to JSONL format and saved to /Users/bsen/Documents/Personal/Master/IT_Privacy_Security/data/ChatDoctorData/iCliniq.jsonl\n"
     ]
    }
   ],
   "source": [
    "# Input JSON file path\n",
    "input_json_path = '/Users/bsen/Documents/Personal/Master/IT_Privacy_Security/data/ChatDoctorData/iCliniq.json'  # Replace with your actual file path\n",
    "\n",
    "# Output JSONL file path\n",
    "output_jsonl_path = '/Users/bsen/Documents/Personal/Master/IT_Privacy_Security/data/ChatDoctorData/iCliniq.jsonl'  # Replace with your desired output file path\n",
    "\n",
    "# Load the JSON file\n",
    "with open(input_json_path, \"r\") as f:\n",
    "    data = json.load(f)\n",
    "\n",
    "# Open the output JSONL file for writing\n",
    "with open(output_jsonl_path, \"w\") as f_out:\n",
    "    # Iterate through each entry in the JSON list\n",
    "    for entry in data:\n",
    "        # Create a new dictionary with only the 'prompt' and 'completion' fields\n",
    "        jsonl_entry = {\n",
    "            \"prompt\": entry[\"input\"],\n",
    "            \"completion\": entry[\"answer_icliniq\"]\n",
    "        }\n",
    "        # Write the new entry as a JSON line in the output file\n",
    "        f_out.write(json.dumps(jsonl_entry) + \"\\n\")\n",
    "\n",
    "print(f\"Successfully converted to JSONL format and saved to {output_jsonl_path}\")\n"
   ]
  },
  {
   "cell_type": "code",
   "execution_count": 117,
   "metadata": {},
   "outputs": [],
   "source": [
    "def load_jsonl_to_df(filepath):\n",
    "    with open(filepath, 'r', encoding='utf-8') as file:\n",
    "        data = [json.loads(line) for line in file]\n",
    "    return pd.DataFrame(data)\n",
    "\n",
    "# Load your specific JSONL file\n",
    "iCliniq10K_training = load_jsonl_to_df(output_jsonl_path)"
   ]
  },
  {
   "cell_type": "code",
   "execution_count": 120,
   "metadata": {},
   "outputs": [],
   "source": [
    "# Load JSONL file into a DataFrame\n",
    "iCliniq10K_training_df = pd.read_json(output_jsonl_path, lines=True)\n",
    "\n",
    "# Step 2: Define the custom dataset class\n",
    "class iCliniq10K_DataSet(Dataset):\n",
    "    def __init__(self, dataframe, tokenizer, max_length):\n",
    "        \"\"\"\n",
    "        Custom dataset class for handling the fine-tuning dataset.\n",
    "\n",
    "        Args:\n",
    "        - dataframe: A pandas DataFrame that contains 'prompt' and 'completion' columns.\n",
    "        - tokenizer: The tokenizer to use for encoding the text.\n",
    "        - max_length: The maximum length for the tokenized input.\n",
    "        \"\"\"\n",
    "        self.dataframe = dataframe\n",
    "        self.tokenizer = tokenizer\n",
    "        self.max_length = max_length\n",
    "\n",
    "    def __len__(self):\n",
    "        return len(self.dataframe)\n",
    "\n",
    "    def __getitem__(self, idx):\n",
    "        row = self.dataframe.iloc[idx]\n",
    "        \n",
    "        # Get the prompt and completion text\n",
    "        prompt = row['prompt']\n",
    "        completion = row['completion']\n",
    "        \n",
    "        # Combine prompt and completion\n",
    "        input_text = prompt + ' ' + completion\n",
    "        \n",
    "        # Tokenize the input text\n",
    "        inputs = self.tokenizer(\n",
    "            input_text,\n",
    "            padding='max_length',\n",
    "            truncation=True,\n",
    "            max_length=self.max_length,\n",
    "            return_tensors=\"pt\"\n",
    "        )\n",
    "        \n",
    "        input_ids = inputs.input_ids.squeeze(0)  # Remove the batch dimension\n",
    "        attention_mask = inputs.attention_mask.squeeze(0)  # Remove the batch dimension\n",
    "        \n",
    "        return input_ids, attention_mask, input_ids  # Returning input_ids twice for labels (for language modeling)\n",
    "\n",
    "# Step 3: Initialize the tokenizer\n",
    "tokenizer = AutoTokenizer.from_pretrained(\"gpt2\")\n",
    "tokenizer.pad_token = tokenizer.eos_token  # GPT-2 doesn't have a PAD token, so using EOS as the pad token\n",
    "\n",
    "# Step 4: Create the dataset and dataloader\n",
    "iCliniq10K_dataset = iCliniq10K_DataSet(iCliniq10K_training_df, tokenizer, max_length=512)\n",
    "iCliniq10K_dataloader = DataLoader(iCliniq10K_dataset, batch_size=4, shuffle=True)"
   ]
  },
  {
   "cell_type": "code",
   "execution_count": 149,
   "metadata": {},
   "outputs": [
    {
     "name": "stderr",
     "output_type": "stream",
     "text": [
      "/Users/bsen/.pyenv/versions/3.9.10/lib/python3.9/site-packages/transformers/optimization.py:591: FutureWarning: This implementation of AdamW is deprecated and will be removed in a future version. Use the PyTorch implementation torch.optim.AdamW instead, or set `no_deprecation_warning=True` to disable this warning\n",
      "  warnings.warn(\n"
     ]
    },
    {
     "data": {
      "application/vnd.jupyter.widget-view+json": {
       "model_id": "16e86804504346f89539476dd158d225",
       "version_major": 2,
       "version_minor": 0
      },
      "text/plain": [
       "  0%|          | 0/1831 [00:00<?, ?it/s]"
      ]
     },
     "metadata": {},
     "output_type": "display_data"
    },
    {
     "name": "stdout",
     "output_type": "stream",
     "text": [
      "Epoch 1/3, Loss: 8.227788216688417\n"
     ]
    },
    {
     "data": {
      "application/vnd.jupyter.widget-view+json": {
       "model_id": "a036764aecae416293dbaf2d31e8ddb5",
       "version_major": 2,
       "version_minor": 0
      },
      "text/plain": [
       "  0%|          | 0/1831 [00:00<?, ?it/s]"
      ]
     },
     "metadata": {},
     "output_type": "display_data"
    },
    {
     "name": "stdout",
     "output_type": "stream",
     "text": [
      "Epoch 2/3, Loss: 7.5537700339571225\n"
     ]
    },
    {
     "data": {
      "application/vnd.jupyter.widget-view+json": {
       "model_id": "2ce0f8199f4f4ec480ebfe5daa6b057f",
       "version_major": 2,
       "version_minor": 0
      },
      "text/plain": [
       "  0%|          | 0/1831 [00:00<?, ?it/s]"
      ]
     },
     "metadata": {},
     "output_type": "display_data"
    },
    {
     "name": "stdout",
     "output_type": "stream",
     "text": [
      "Epoch 3/3, Loss: 7.282626751761932\n"
     ]
    },
    {
     "data": {
      "text/plain": [
       "('./custom_gpt2_iCliniq10K/tokenizer_config.json',\n",
       " './custom_gpt2_iCliniq10K/special_tokens_map.json',\n",
       " './custom_gpt2_iCliniq10K/vocab.json',\n",
       " './custom_gpt2_iCliniq10K/merges.txt',\n",
       " './custom_gpt2_iCliniq10K/added_tokens.json',\n",
       " './custom_gpt2_iCliniq10K/tokenizer.json')"
      ]
     },
     "execution_count": 149,
     "metadata": {},
     "output_type": "execute_result"
    }
   ],
   "source": [
    "# Step 1: Initialize the model\n",
    "model = GPT2LMHeadModel.from_pretrained(\"gpt2\")\n",
    "\n",
    "# Step 2: Resize token embeddings to accommodate additional tokens (if any were added to the tokenizer)\n",
    "model.resize_token_embeddings(len(tokenizer))\n",
    "\n",
    "# Step 3: Set training parameters\n",
    "optimizer = AdamW(model.parameters(), lr=2e-5)\n",
    "device = torch.device(\"cuda\" if torch.cuda.is_available() else \"cpu\")\n",
    "model.to(device)\n",
    "\n",
    "# Step 4: Set up the training loop\n",
    "epochs = 3\n",
    "for epoch in range(epochs):\n",
    "    model.train()\n",
    "    total_loss = 0\n",
    "    for input_ids, attention_mask, labels in tqdm(iCliniq10K_dataloader):\n",
    "        # Move tensors to the correct device (GPU or CPU)\n",
    "        input_ids = input_ids.to(device)\n",
    "        attention_mask = attention_mask.to(device)\n",
    "        labels = labels.to(device)\n",
    "\n",
    "        # Forward pass\n",
    "        outputs = model(input_ids, attention_mask=attention_mask, labels=labels)\n",
    "        loss = outputs.loss\n",
    "\n",
    "        # Backpropagation\n",
    "        loss.backward()\n",
    "        optimizer.step()\n",
    "        optimizer.zero_grad()\n",
    "\n",
    "        total_loss += loss.item()\n",
    "\n",
    "    # Print average loss for the epoch\n",
    "    print(f\"Epoch {epoch + 1}/{epochs}, Loss: {total_loss / len(dataloader)}\")\n",
    "\n",
    "# Step 5: Save the fine-tuned model and tokenizer\n",
    "model_save_path = \"./custom_gpt2_iCliniq10K\"\n",
    "model.save_pretrained(model_save_path)\n",
    "tokenizer.save_pretrained(model_save_path)"
   ]
  },
  {
   "cell_type": "markdown",
   "metadata": {},
   "source": [
    "#### 8.1.4 Test GPT-2 Finetuned iCliniq10K"
   ]
  },
  {
   "cell_type": "code",
   "execution_count": 151,
   "metadata": {},
   "outputs": [],
   "source": [
    "from torch.utils.data import Dataset"
   ]
  },
  {
   "cell_type": "code",
   "execution_count": 152,
   "metadata": {},
   "outputs": [
    {
     "data": {
      "text/plain": [
       "GPT2LMHeadModel(\n",
       "  (transformer): GPT2Model(\n",
       "    (wte): Embedding(50257, 768)\n",
       "    (wpe): Embedding(1024, 768)\n",
       "    (drop): Dropout(p=0.1, inplace=False)\n",
       "    (h): ModuleList(\n",
       "      (0-11): 12 x GPT2Block(\n",
       "        (ln_1): LayerNorm((768,), eps=1e-05, elementwise_affine=True)\n",
       "        (attn): GPT2Attention(\n",
       "          (c_attn): Conv1D()\n",
       "          (c_proj): Conv1D()\n",
       "          (attn_dropout): Dropout(p=0.1, inplace=False)\n",
       "          (resid_dropout): Dropout(p=0.1, inplace=False)\n",
       "        )\n",
       "        (ln_2): LayerNorm((768,), eps=1e-05, elementwise_affine=True)\n",
       "        (mlp): GPT2MLP(\n",
       "          (c_fc): Conv1D()\n",
       "          (c_proj): Conv1D()\n",
       "          (act): NewGELUActivation()\n",
       "          (dropout): Dropout(p=0.1, inplace=False)\n",
       "        )\n",
       "      )\n",
       "    )\n",
       "    (ln_f): LayerNorm((768,), eps=1e-05, elementwise_affine=True)\n",
       "  )\n",
       "  (lm_head): Linear(in_features=768, out_features=50257, bias=False)\n",
       ")"
      ]
     },
     "execution_count": 152,
     "metadata": {},
     "output_type": "execute_result"
    }
   ],
   "source": [
    "# Load the fine-tuned model and tokenizer\n",
    "model = AutoModelForCausalLM.from_pretrained(\"./custom_gpt2_iCliniq10K\")\n",
    "tokenizer = AutoTokenizer.from_pretrained(\"./custom_gpt2_iCliniq10K\", padding_side='left')\n",
    "tokenizer.pad_token = tokenizer.eos_token  # Ensure the padding token is set\n",
    "\n",
    "# Set model to evaluation mode\n",
    "model.eval()\n",
    "device = torch.device(\"cuda\" if torch.cuda.is_available() else \"cpu\")\n",
    "model.to(device)"
   ]
  },
  {
   "cell_type": "code",
   "execution_count": 153,
   "metadata": {},
   "outputs": [],
   "source": [
    "#Test with SymptomDescriptionDataset"
   ]
  },
  {
   "cell_type": "code",
   "execution_count": 154,
   "metadata": {},
   "outputs": [
    {
     "data": {
      "application/vnd.jupyter.widget-view+json": {
       "model_id": "b031e2d1de914fe9ba8c301f4b66e36b",
       "version_major": 2,
       "version_minor": 0
      },
      "text/plain": [
       "Processing:   0%|          | 0/3 [00:00<?, ?it/s]"
      ]
     },
     "metadata": {},
     "output_type": "display_data"
    },
    {
     "name": "stdout",
     "output_type": "stream",
     "text": [
      "Length of all_predictions: 41\n",
      "Length of df: 41\n",
      "Accuracy of the model (custom_gpt2_iCliniq10K): 19.51%\n",
      "                                   Disease  \\\n",
      "0                            Drug Reaction   \n",
      "1                                  Malaria   \n",
      "2                                  Allergy   \n",
      "3                           Hypothyroidism   \n",
      "4                                Psoriasis   \n",
      "5                                     GERD   \n",
      "6                      Chronic cholestasis   \n",
      "7                              hepatitis A   \n",
      "8                          Osteoarthristis   \n",
      "9  (vertigo) Paroymsal  Positional Vertigo   \n",
      "\n",
      "                                         Description  \\\n",
      "0  an adverse this disease (adr) is an injury cau...   \n",
      "1  an infectious disease caused by protozoan para...   \n",
      "2  an this disease is an immune system response t...   \n",
      "3  this disease, also called underactive thyroid ...   \n",
      "4  this disease is a common skin disorder that fo...   \n",
      "5  gastroesophageal reflux disease, or this disea...   \n",
      "6  chronic cholestatic diseases, whether occurrin...   \n",
      "7  this disease is a highly contagious liver infe...   \n",
      "8  osteoarthritis is the most common form of arth...   \n",
      "9  benign paroxysmal positional vertigo (bppv) is...   \n",
      "\n",
      "                                    Predicted Output  \\\n",
      "0  an adverse this disease (adr) is an injury cau...   \n",
      "1  an infectious disease caused by protozoan para...   \n",
      "2  an this disease is an immune system response t...   \n",
      "3  this disease, also called underactive thyroid ...   \n",
      "4  this disease is a common skin disorder that fo...   \n",
      "5  gastroesophageal reflux disease, or this disea...   \n",
      "6  chronic cholestatic diseases, whether occurrin...   \n",
      "7  this disease is a highly contagious liver infe...   \n",
      "8  osteoarthritis is the most common form of arth...   \n",
      "9  benign paroxysmal positional vertigo (bppv) is...   \n",
      "\n",
      "                                   Predicted Disease  Is Correct Prediction  \n",
      "0  an adverse this disease (adr) is an injury cau...                  False  \n",
      "1  an infectious disease caused by protozoan para...                  False  \n",
      "2  an this disease is an immune system response t...                  False  \n",
      "3  this disease, also called underactive thyroid ...                  False  \n",
      "4  this disease is a common skin disorder that fo...                  False  \n",
      "5  gastroesophageal reflux disease, or this disea...                  False  \n",
      "6  chronic cholestatic diseases, whether occurrin...                   True  \n",
      "7  this disease is a highly contagious liver infe...                   True  \n",
      "8  osteoarthritis is the most common form of arth...                  False  \n",
      "9  benign paroxysmal positional vertigo (bppv) is...                   True  \n"
     ]
    }
   ],
   "source": [
    "# Calling the function\n",
    "symptom_description_kaggle_df_custom_gpt2_iCliniq10K = run_finetuned_model(SymptomDescriptionDataset\n",
    "                                                                   ,symptom_description_kaggle\n",
    "                                                                   , tokenizer\n",
    "                                                                   , model\n",
    "                                                                   , \"custom_gpt2_iCliniq10K\"\n",
    "                                                                   , is_disease_in_prediction_2)\n",
    "accuracy = symptom_description_kaggle_df_custom_gpt2_iCliniq10K['Is Correct Prediction'].mean() * 100\n",
    "results_dic['symptom_description_kaggle'][\"custom_gpt2_iCliniq10K\"] = accuracy"
   ]
  },
  {
   "cell_type": "code",
   "execution_count": 155,
   "metadata": {},
   "outputs": [
    {
     "data": {
      "application/vnd.jupyter.widget-view+json": {
       "model_id": "9c20c6d7a13b47d6a0cdb2587294bf8c",
       "version_major": 2,
       "version_minor": 0
      },
      "text/plain": [
       "Processing:   0%|          | 0/50 [00:00<?, ?it/s]"
      ]
     },
     "metadata": {},
     "output_type": "display_data"
    },
    {
     "name": "stdout",
     "output_type": "stream",
     "text": [
      "Length of all_predictions: 796\n",
      "Length of df: 796\n",
      "Accuracy of the model (custom_gpt2_iCliniq10K): 24.12%\n",
      "                            Disease  \\\n",
      "0                    Panic disorder   \n",
      "1                  Vocal cord polyp   \n",
      "2                   Turner syndrome   \n",
      "3                    Cryptorchidism   \n",
      "4  Poisoning due to ethylene glycol   \n",
      "5                Atrophic vaginitis   \n",
      "6              Fracture of the hand   \n",
      "7    Cellulitis or abscess of mouth   \n",
      "8            Eye alignment disorder   \n",
      "9    Headache after lumbar puncture   \n",
      "\n",
      "                                         Description  \\\n",
      "0  ['Anxiety and nervousness', 'Depression', 'Sho...   \n",
      "1  ['Hoarse voice', 'Sore throat', 'Difficulty sp...   \n",
      "2  ['Groin mass', 'Leg pain', 'Hip pain', 'Suprap...   \n",
      "3  ['Symptoms of the scrotum and testes', 'Swelli...   \n",
      "4  ['Abusing alcohol', 'Fainting', 'Hostile behav...   \n",
      "5  ['Vaginal itching', 'Vaginal dryness', 'Painfu...   \n",
      "6  ['Hand or finger pain', 'Wrist pain', 'Hand or...   \n",
      "7  ['Lip swelling', 'Sore throat', 'Toothache', '...   \n",
      "8  ['Eye deviation', 'Diminished vision', 'Double...   \n",
      "9  ['Headache', 'Nausea', 'Back pain', 'Vomiting'...   \n",
      "\n",
      "                                   Predicted Disease  Is Correct Prediction  \n",
      "0  ['Anxiety and nervousness', 'Depression', 'Sho...                  False  \n",
      "1  ['Hoarse voice', 'Sore throat', 'Difficulty sp...                  False  \n",
      "2  ['Groin mass', 'Leg pain', 'Hip pain', 'Suprap...                  False  \n",
      "3  ['Symptoms of the scrotum and testes', 'Swelli...                  False  \n",
      "4  ['Abusing alcohol', 'Fainting', 'Hostile behav...                  False  \n",
      "5  ['Vaginal itching', 'Vaginal dryness', 'Painfu...                  False  \n",
      "6  ['Hand or finger pain', 'Wrist pain', 'Hand or...                   True  \n",
      "7  ['Lip swelling', 'Sore throat', 'Toothache', '...                   True  \n",
      "8  ['Eye deviation', 'Diminished vision', 'Double...                   True  \n",
      "9  ['Headache', 'Nausea', 'Back pain', 'Vomiting'...                   True  \n"
     ]
    }
   ],
   "source": [
    "# Calling the function\n",
    "chatdoctor_format_df_custom_gpt2_iCliniq10K = run_finetuned_model(ChatDoctorFormatDataset\n",
    "                                                                   ,chatdoctor_format_df\n",
    "                                                                   , tokenizer\n",
    "                                                                   , model\n",
    "                                                                   , \"custom_gpt2_iCliniq10K\"\n",
    "                                                                   , is_disease_in_prediction_2)\n",
    "accuracy = chatdoctor_format_df_custom_gpt2_iCliniq10K['Is Correct Prediction'].mean() * 100\n",
    "results_dic['chatdoctor_format_df'][\"custom_gpt2_iCliniq10K\"] = accuracy"
   ]
  },
  {
   "cell_type": "code",
   "execution_count": 158,
   "metadata": {},
   "outputs": [],
   "source": [
    "# Save the dictionary to a file\n",
    "with open('results_dic.pkl', 'wb') as f:\n",
    "    pickle.dump(results_dic, f)"
   ]
  },
  {
   "cell_type": "code",
   "execution_count": 200,
   "metadata": {},
   "outputs": [
    {
     "data": {
      "text/plain": [
       "{'symptom_description_kaggle': {'gpt2': 26.82926829268293,\n",
       "  'gpt2-xl': 14.634146341463413,\n",
       "  'bert-base-uncased': 2.4390243902439024,\n",
       "  'roberta-base': 2.4390243902439024,\n",
       "  'BioBert': 4.878048780487805,\n",
       "  'bionlp/bluebert_pubmed_mimic_uncased_L-12_H-768_A-12': 2.4390243902439024,\n",
       "  'allenai/scibert_scivocab_cased': 4.878048780487805,\n",
       "  'microsoft/BiomedNLP-PubMedBERT-base-uncased-abstract-fulltext': 0.0,\n",
       "  't5-base': 0.0,\n",
       "  'gpt-3.5-turbo': 92.6829268292683,\n",
       "  'gpt-4o-mini': 95.1219512195122,\n",
       "  'gpt-4-turbo': 95.1219512195122,\n",
       "  'gpt-4': 92.6829268292683,\n",
       "  'Chat-Doctor': 19.51219512195122,\n",
       "  'microsoft/biogpt': 26.82926829268293,\n",
       "  'custom_gpt2_GenMedGPT-5k': 19.51219512195122,\n",
       "  'custom_gpt2_iCliniq10K': 19.51219512195122},\n",
       " 'chatdoctor_format_df': {'gpt2': 26.82926829268293,\n",
       "  'gpt2-xl': 18.718592964824122,\n",
       "  'bert-base-uncased': 5.9045226130653266,\n",
       "  'roberta-base': 0.628140703517588,\n",
       "  'BioBert': 0.628140703517588,\n",
       "  'bionlp/bluebert_pubmed_mimic_uncased_L-12_H-768_A-12': 0.628140703517588,\n",
       "  'allenai/scibert_scivocab_cased': 5.9045226130653266,\n",
       "  'microsoft/BiomedNLP-PubMedBERT-base-uncased-abstract-fulltext': 5.9045226130653266,\n",
       "  't5-base': 5.9045226130653266,\n",
       "  'gpt-3.5-turbo': 27.63819095477387,\n",
       "  'gpt-4o-mini': 16.834170854271356,\n",
       "  'gpt-4-turbo': 17.08542713567839,\n",
       "  'gpt-4': 28.768844221105528,\n",
       "  'Chat-Doctor': 9.045226130653267,\n",
       "  'microsoft/biogpt': 22.236180904522612,\n",
       "  'custom_gpt2_GenMedGPT-5k': 23.99497487437186,\n",
       "  'custom_gpt2_iCliniq10K': 24.120603015075375},\n",
       " 'HealthCareMagic_3K': {'gpt2': 18.33685891325555,\n",
       "  'custom_gpt2_iCliniq10K': 23.405729724137036,\n",
       "  'custom_gpt2_GenMedGPT-5k': 22.098412544106722,\n",
       "  'gpt-4o-mini': 19.56737874499412}}"
      ]
     },
     "execution_count": 200,
     "metadata": {},
     "output_type": "execute_result"
    }
   ],
   "source": [
    "results_dic"
   ]
  },
  {
   "cell_type": "markdown",
   "metadata": {},
   "source": [
    "##### Test on Patient-Doctor Covnos - HealthCareMagic-3K"
   ]
  },
  {
   "cell_type": "code",
   "execution_count": 142,
   "metadata": {},
   "outputs": [],
   "source": [
    "# Function to initialize the fine-tuned model and tokenizer\n",
    "def initialize_model_and_tokenizer(model_name=\"./custom_gpt2_iCliniq10K\"):\n",
    "    # Load the fine-tuned model and tokenizer\n",
    "    model = AutoModelForCausalLM.from_pretrained(model_name)\n",
    "    tokenizer = AutoTokenizer.from_pretrained(model_name)\n",
    "    \n",
    "    if tokenizer.pad_token is None:\n",
    "        tokenizer.add_special_tokens({'pad_token': tokenizer.eos_token})\n",
    "    \n",
    "    device = torch.device(\"cuda\" if torch.cuda.is_available() else \"cpu\")\n",
    "    model.to(device)\n",
    "    return model, tokenizer, device"
   ]
  },
  {
   "cell_type": "code",
   "execution_count": 160,
   "metadata": {},
   "outputs": [
    {
     "data": {
      "application/vnd.jupyter.widget-view+json": {
       "model_id": "3b21e0af3a5a4cc2b107b90bbfd4a339",
       "version_major": 2,
       "version_minor": 0
      },
      "text/plain": [
       "Processing:   0%|          | 0/3000 [00:00<?, ?it/s]"
      ]
     },
     "metadata": {},
     "output_type": "display_data"
    },
    {
     "name": "stdout",
     "output_type": "stream",
     "text": [
      "Average Cosine Similarity across all examples: 0.23405729724137037\n"
     ]
    }
   ],
   "source": [
    "# Initialize the model and tokenizer (GPT-2 by default)\n",
    "model, tokenizer, device = initialize_model_and_tokenizer(\"./custom_gpt2_iCliniq10K\")\n",
    "\n",
    "# Evaluate the model on the dataset and get the average similarity\n",
    "average_similarity = evaluate_model_on_input_output_dataset(model, tokenizer, HealthCareMagic_3K, device)\n",
    "\n",
    "# Print the final average similarity score\n",
    "print(f\"Average Cosine Similarity across all examples: {average_similarity}\")"
   ]
  },
  {
   "cell_type": "code",
   "execution_count": 161,
   "metadata": {},
   "outputs": [],
   "source": [
    "# Adding the new entry to the nested dictionary\n",
    "results_dic.setdefault('HealthCareMagic_3K', {})  # Ensure 'HealthCareMagic_3K' exists as a key\n",
    "results_dic['HealthCareMagic_3K']['custom_gpt2_iCliniq10K'] = average_similarity * 100"
   ]
  },
  {
   "cell_type": "code",
   "execution_count": 162,
   "metadata": {},
   "outputs": [],
   "source": [
    "# Save the dictionary to a file\n",
    "with open('results_dic.pkl', 'wb') as f:\n",
    "    pickle.dump(results_dic, f)"
   ]
  },
  {
   "cell_type": "code",
   "execution_count": 167,
   "metadata": {},
   "outputs": [
    {
     "data": {
      "text/plain": [
       "{'symptom_description_kaggle': {'gpt2': 26.82926829268293,\n",
       "  'gpt2-xl': 14.634146341463413,\n",
       "  'bert-base-uncased': 2.4390243902439024,\n",
       "  'roberta-base': 2.4390243902439024,\n",
       "  'BioBert': 4.878048780487805,\n",
       "  'bionlp/bluebert_pubmed_mimic_uncased_L-12_H-768_A-12': 2.4390243902439024,\n",
       "  'allenai/scibert_scivocab_cased': 4.878048780487805,\n",
       "  'microsoft/BiomedNLP-PubMedBERT-base-uncased-abstract-fulltext': 0.0,\n",
       "  't5-base': 0.0,\n",
       "  'gpt-3.5-turbo': 92.6829268292683,\n",
       "  'gpt-4o-mini': 92.6829268292683,\n",
       "  'gpt-4-turbo': 95.1219512195122,\n",
       "  'gpt-4': 92.6829268292683,\n",
       "  'Chat-Doctor': 19.51219512195122,\n",
       "  'microsoft/biogpt': 26.82926829268293,\n",
       "  'custom_gpt2_GenMedGPT-5k': 19.51219512195122,\n",
       "  'custom_gpt2_iCliniq10K': 19.51219512195122},\n",
       " 'chatdoctor_format_df': {'gpt2': 26.82926829268293,\n",
       "  'gpt2-xl': 18.718592964824122,\n",
       "  'bert-base-uncased': 5.9045226130653266,\n",
       "  'roberta-base': 0.628140703517588,\n",
       "  'BioBert': 0.628140703517588,\n",
       "  'bionlp/bluebert_pubmed_mimic_uncased_L-12_H-768_A-12': 0.628140703517588,\n",
       "  'allenai/scibert_scivocab_cased': 5.9045226130653266,\n",
       "  'microsoft/BiomedNLP-PubMedBERT-base-uncased-abstract-fulltext': 5.9045226130653266,\n",
       "  't5-base': 5.9045226130653266,\n",
       "  'gpt-3.5-turbo': 27.63819095477387,\n",
       "  'gpt-4o-mini': 16.834170854271356,\n",
       "  'gpt-4-turbo': 17.08542713567839,\n",
       "  'gpt-4': 28.768844221105528,\n",
       "  'Chat-Doctor': 9.045226130653267,\n",
       "  'microsoft/biogpt': 22.236180904522612,\n",
       "  'custom_gpt2_GenMedGPT-5k': 23.99497487437186,\n",
       "  'custom_gpt2_iCliniq10K': 24.120603015075375},\n",
       " 'HealthCareMagic_3K': {'HealthCareMagic_3K': 18.33685891325555,\n",
       "  'gpt2': 18.33685891325555,\n",
       "  'custom_gpt2_iCliniq10K': 23.405729724137036}}"
      ]
     },
     "execution_count": 167,
     "metadata": {},
     "output_type": "execute_result"
    }
   ],
   "source": [
    "results_dic"
   ]
  },
  {
   "cell_type": "markdown",
   "metadata": {},
   "source": [
    "### 8.2 Finetune GPT4-mini"
   ]
  },
  {
   "cell_type": "markdown",
   "metadata": {},
   "source": [
    "Let's use Health Care conversations to train our Chat GPT, for this first we need to make our data in available format.\n",
    "\n",
    "Fine tuning ChatGPT 4 or GPT 4 mini actually ends up quite costly, for this state of the research we decide to focus on fine tuning 3.5 turbo"
   ]
  },
  {
   "cell_type": "markdown",
   "metadata": {},
   "source": [
    "#### 8.2.1 FineTune GPT4-mini Using GenMedGPT5k"
   ]
  },
  {
   "cell_type": "markdown",
   "metadata": {},
   "source": [
    "##### Preparing GenMedGPT5k Dataset"
   ]
  },
  {
   "cell_type": "code",
   "execution_count": 67,
   "metadata": {},
   "outputs": [
    {
     "name": "stdout",
     "output_type": "stream",
     "text": [
      "Total number of items: 5452\n",
      "Chat formatted data saved to GenMedGPT-5k_chat_formatted.jsonl\n"
     ]
    }
   ],
   "source": [
    "import json\n",
    "\n",
    "# Path to your JSON file\n",
    "file_path = '/Users/bsen/Documents/Personal/Master/IT_Privacy_Security/data/ChatDoctorData/GenMedGPT-5k.json'\n",
    "\n",
    "# Description of the chatbot, added as a system message\n",
    "system_description = \"This is a medical chatbot for diagnosis\"\n",
    "\n",
    "#Read the JSON file\n",
    "with open(file_path, 'r') as file:\n",
    "    data = json.load(file)  # This assumes the file is in JSON format and not JSONL\n",
    "\n",
    "# Check the number of items in the file\n",
    "num_items = len(data)\n",
    "print(f\"Total number of items: {num_items}\")\n",
    "\n",
    "# Format the data for fine-tuning in the required chat format\n",
    "formatted_data = [\n",
    "    {\n",
    "        \"messages\": [\n",
    "            {\"role\": \"system\", \"content\": system_description},\n",
    "            {\"role\": \"user\", \"content\": f\"{item['instruction']} {item['input']}\"},\n",
    "            {\"role\": \"assistant\", \"content\": item['output']}\n",
    "        ]\n",
    "    }\n",
    "    for item in data\n",
    "]\n",
    "\n",
    "# Save the formatted data to a JSONL file, ensuring each dictionary is on a new line\n",
    "formatted_file_path = 'GenMedGPT-5k_chat_formatted.jsonl'\n",
    "with open(formatted_file_path, 'w') as f:\n",
    "    for entry in formatted_data:\n",
    "        json_line = json.dumps(entry)  # Convert dictionary to JSON string\n",
    "        f.write(json_line + '\\n')  # Write each JSON string as a new line\n",
    "\n",
    "print(f\"Chat formatted data saved to {formatted_file_path}\")"
   ]
  },
  {
   "cell_type": "code",
   "execution_count": 69,
   "metadata": {},
   "outputs": [],
   "source": [
    "# Check if our data is in the right format"
   ]
  },
  {
   "cell_type": "code",
   "execution_count": 70,
   "metadata": {},
   "outputs": [
    {
     "name": "stdout",
     "output_type": "stream",
     "text": [
      "Num examples: 5452\n",
      "First example:\n",
      "{'role': 'system', 'content': 'This is a medical chatbot for diagnosis'}\n",
      "{'role': 'user', 'content': \"If you are a doctor, please answer the medical questions based on the patient's description. Doctor, I have been experiencing sudden and frequent panic attacks. I don't know what to do.\"}\n",
      "{'role': 'assistant', 'content': \"Well, based on what you're telling me, it sounds like you may be suffering from panic disorder. The best course of action is to start with psychotherapy and mental health counseling. Additionally, we should conduct an electrocardiogram to make sure that there are no physical issues causing your panic attacks. We will also need to perform a depression screen and a toxicology screen to rule out any other underlying causes. Finally, I would recommend a comprehensive psychological and psychiatric evaluation and therapy to help manage your symptoms.\"}\n"
     ]
    }
   ],
   "source": [
    "# Load the dataset\n",
    "with open(formatted_file_path, 'r', encoding='utf-8') as f:\n",
    "    dataset = [json.loads(line) for line in f]\n",
    "\n",
    "# Initial dataset stats\n",
    "print(\"Num examples:\", len(dataset))\n",
    "print(\"First example:\")\n",
    "for message in dataset[0][\"messages\"]:\n",
    "    print(message)"
   ]
  },
  {
   "cell_type": "code",
   "execution_count": 78,
   "metadata": {},
   "outputs": [],
   "source": [
    "from collections import defaultdict"
   ]
  },
  {
   "cell_type": "code",
   "execution_count": 79,
   "metadata": {},
   "outputs": [
    {
     "name": "stdout",
     "output_type": "stream",
     "text": [
      "No errors found\n"
     ]
    }
   ],
   "source": [
    "# Format error checks\n",
    "format_errors = defaultdict(int)\n",
    "\n",
    "for ex in dataset:\n",
    "    if not isinstance(ex, dict):\n",
    "        format_errors[\"data_type\"] += 1\n",
    "        continue\n",
    "        \n",
    "    messages = ex.get(\"messages\", None)\n",
    "    if not messages:\n",
    "        format_errors[\"missing_messages_list\"] += 1\n",
    "        continue\n",
    "        \n",
    "    for message in messages:\n",
    "        if \"role\" not in message or \"content\" not in message:\n",
    "            format_errors[\"message_missing_key\"] += 1\n",
    "        \n",
    "        if any(k not in (\"role\", \"content\", \"name\", \"function_call\", \"weight\") for k in message):\n",
    "            format_errors[\"message_unrecognized_key\"] += 1\n",
    "        \n",
    "        if message.get(\"role\", None) not in (\"system\", \"user\", \"assistant\", \"function\"):\n",
    "            format_errors[\"unrecognized_role\"] += 1\n",
    "            \n",
    "        content = message.get(\"content\", None)\n",
    "        function_call = message.get(\"function_call\", None)\n",
    "        \n",
    "        if (not content and not function_call) or not isinstance(content, str):\n",
    "            format_errors[\"missing_content\"] += 1\n",
    "    \n",
    "    if not any(message.get(\"role\", None) == \"assistant\" for message in messages):\n",
    "        format_errors[\"example_missing_assistant_message\"] += 1\n",
    "\n",
    "if format_errors:\n",
    "    print(\"Found errors:\")\n",
    "    for k, v in format_errors.items():\n",
    "        print(f\"{k}: {v}\")\n",
    "else:\n",
    "    print(\"No errors found\")"
   ]
  },
  {
   "cell_type": "markdown",
   "metadata": {},
   "source": [
    "##### Finetune"
   ]
  },
  {
   "cell_type": "code",
   "execution_count": 106,
   "metadata": {},
   "outputs": [
    {
     "data": {
      "text/plain": [
       "FileObject(id='file-OWw63wN83XTqSFSInJzjli2r', bytes=3392720, created_at=1724514789, filename='GenMedGPT-5k_chat_formatted.jsonl', object='file', purpose='fine-tune', status='processed', status_details=None)"
      ]
     },
     "execution_count": 106,
     "metadata": {},
     "output_type": "execute_result"
    }
   ],
   "source": [
    "from openai import OpenAI\n",
    "\n",
    "#client = OpenAI(api_key=OPENAI_API_KEY) #Org Account\n",
    "client = OpenAI(api_key=baris_openai_personal_account_org_key) #Personal Account\n",
    "\n",
    "client.files.create(\n",
    "  file=open(\"GenMedGPT-5k_chat_formatted.jsonl\", \"rb\"),\n",
    "  purpose=\"fine-tune\"\n",
    ")"
   ]
  },
  {
   "cell_type": "code",
   "execution_count": null,
   "metadata": {},
   "outputs": [],
   "source": [
    "## Created the Finetuning JOB already from the UI at https://platform.openai.com/finetune/ftjob-GOcxofTmJEVIrNYsl7BsfGhK\n",
    "## Will use when this job is over\n",
    "\n",
    "#client.fine_tuning.jobs.create(\n",
    "#  training_file=\"file-y4cRZusepft7fMQ3TcKkbHH0\", \n",
    "#  model=\"gpt-4o-mini\"\n",
    "#)"
   ]
  },
  {
   "cell_type": "markdown",
   "metadata": {},
   "source": [
    "While trying to finetune the model with this data set we get this error:\n",
    "\n",
    "- The job failed due to an invalid training file. This training file was blocked by our moderation system because it contains too many examples that violate OpenAI's usage policies, or because it attempts to create model outputs that violate OpenAI's usage policies.\n",
    "\n",
    "So we will investigate teh training data now:"
   ]
  },
  {
   "cell_type": "code",
   "execution_count": 103,
   "metadata": {},
   "outputs": [],
   "source": [
    "def check_moderation(text):\n",
    "    response = openai.Moderation.create(input=text)\n",
    "    results = response[\"results\"][0]\n",
    "    return results"
   ]
  },
  {
   "cell_type": "code",
   "execution_count": 104,
   "metadata": {},
   "outputs": [
    {
     "name": "stdout",
     "output_type": "stream",
     "text": [
      "No violations found in the data.\n"
     ]
    }
   ],
   "source": [
    "# Load your data from a JSONL file\n",
    "violating_entries = []\n",
    "\n",
    "with open(\"GenMedGPT-5k_chat_formatted.jsonl\", 'r') as file:\n",
    "    for line_number, line in enumerate(file):\n",
    "        # Parse the JSON line\n",
    "        data = json.loads(line)\n",
    "        \n",
    "        # Assume the text content you want to check is under a key named 'text'\n",
    "        if 'text' in data:\n",
    "            moderation_result = check_moderation(data['text'])\n",
    "            \n",
    "            if moderation_result[\"flagged\"]:\n",
    "                violating_entries.append((line_number + 1, data, moderation_result[\"categories\"]))\n",
    "\n",
    "# Display the violations\n",
    "if violating_entries:\n",
    "    for line_number, data, categories in violating_entries:\n",
    "        print(f\"Line {line_number}: {data}\")\n",
    "        print(f\"Categories: {categories}\")\n",
    "else:\n",
    "    print(\"No violations found in the data.\")\n"
   ]
  },
  {
   "cell_type": "markdown",
   "metadata": {},
   "source": [
    "Hmm, there seems to be no violations so it is a little hard to understand :S"
   ]
  },
  {
   "cell_type": "markdown",
   "metadata": {},
   "source": [
    "#### 8.2.2 Finetune GPT4-mini with iCliniq10K"
   ]
  },
  {
   "cell_type": "code",
   "execution_count": 209,
   "metadata": {},
   "outputs": [
    {
     "name": "stdout",
     "output_type": "stream",
     "text": [
      "Successfully converted to JSONL format and saved to /Users/bsen/Documents/Personal/Master/IT_Privacy_Security/data/ChatDoctorData/iCliniq_gpt4mini.jsonl\n"
     ]
    }
   ],
   "source": [
    "import json\n",
    "\n",
    "# Input JSON file path\n",
    "input_json_path = '/Users/bsen/Documents/Personal/Master/IT_Privacy_Security/data/ChatDoctorData/iCliniq.json'  # Replace with your actual file path\n",
    "\n",
    "# Output JSONL file path\n",
    "output_jsonl_path = '/Users/bsen/Documents/Personal/Master/IT_Privacy_Security/data/ChatDoctorData/iCliniq_gpt4mini.jsonl'  # Replace with your desired output file path\n",
    "\n",
    "# System message content\n",
    "system_message_content = \"I am here to help with medical advice.\"  # You can customize this based on your needs\n",
    "\n",
    "# Load the JSON file\n",
    "with open(input_json_path, \"r\") as f:\n",
    "    data = json.load(f)\n",
    "\n",
    "# Open the output JSONL file for writing\n",
    "with open(output_jsonl_path, \"w\") as f_out:\n",
    "    # Iterate through each entry in the JSON list\n",
    "    for entry in data:\n",
    "        # Create a new dictionary with the required structure\n",
    "        jsonl_entry = {\n",
    "            \"messages\": [\n",
    "                {\"role\": \"system\", \"content\": system_message_content},\n",
    "                {\"role\": \"user\", \"content\": entry[\"input\"]},\n",
    "                {\"role\": \"assistant\", \"content\": entry[\"answer_icliniq\"]}\n",
    "            ]\n",
    "        }\n",
    "        # Write the new entry as a JSON line in the output file\n",
    "        f_out.write(json.dumps(jsonl_entry) + \"\\n\")\n",
    "\n",
    "print(f\"Successfully converted to JSONL format and saved to {output_jsonl_path}\")\n"
   ]
  },
  {
   "cell_type": "markdown",
   "metadata": {},
   "source": [
    "We are once again using the OPENAI UI to finetune for now, let's see if this data set would work."
   ]
  },
  {
   "cell_type": "markdown",
   "metadata": {},
   "source": [
    "#### 8.2.3 Test Finetuned GPT4-mini"
   ]
  },
  {
   "cell_type": "code",
   "execution_count": 40,
   "metadata": {},
   "outputs": [],
   "source": [
    "# We managed the finetune gpt4-mini with iCliniq10K data\n",
    "\n",
    "custom_gpt4mini_iCliniq10k = 'ft:gpt-4o-mini-2024-07-18:zlounge-product-analytics-1204500:icliniq10k:A0C9tIhs'"
   ]
  },
  {
   "cell_type": "code",
   "execution_count": 41,
   "metadata": {},
   "outputs": [
    {
     "data": {
      "application/vnd.jupyter.widget-view+json": {
       "model_id": "54a3133aa667437cb1cc59509f40405c",
       "version_major": 2,
       "version_minor": 0
      },
      "text/plain": [
       "Processing:   0%|          | 0/3000 [00:00<?, ?it/s]"
      ]
     },
     "metadata": {},
     "output_type": "display_data"
    },
    {
     "ename": "TypeError",
     "evalue": "'NoneType' object is not callable",
     "output_type": "error",
     "traceback": [
      "\u001B[0;31m---------------------------------------------------------------------------\u001B[0m",
      "\u001B[0;31mTypeError\u001B[0m                                 Traceback (most recent call last)",
      "Cell \u001B[0;32mIn[41], line 5\u001B[0m\n\u001B[1;32m      2\u001B[0m openai\u001B[38;5;241m.\u001B[39mapi_key \u001B[38;5;241m=\u001B[39m \u001B[38;5;124m'\u001B[39m\u001B[38;5;124msk-proj-tboJ9EWPrmk5sTEf_5A16gRAC-fqR7T1FNurOtsM1ZqL0iOMNeJ1mXJSUIT3BlbkFJalm4xpXTeOmB6gbbyhDwgjNYpau-Oco45mb47UxThkgnW9OLzdeqBqmoYA\u001B[39m\u001B[38;5;124m'\u001B[39m\n\u001B[1;32m      4\u001B[0m \u001B[38;5;66;03m# Evaluate the GPT-4 model on the dataset\u001B[39;00m\n\u001B[0;32m----> 5\u001B[0m average_similarity_custom_gpt4_mini \u001B[38;5;241m=\u001B[39m \u001B[43mevaluate_model_on_input_output_dataset\u001B[49m\u001B[43m(\u001B[49m\u001B[43mcustom_gpt4mini_iCliniq10k\u001B[49m\u001B[43m,\u001B[49m\u001B[43m \u001B[49m\u001B[38;5;28;43;01mNone\u001B[39;49;00m\u001B[43m,\u001B[49m\u001B[43m \u001B[49m\u001B[43mHealthCareMagic_3K\u001B[49m\u001B[43m,\u001B[49m\u001B[43m \u001B[49m\u001B[38;5;28;43;01mNone\u001B[39;49;00m\u001B[43m)\u001B[49m\n\u001B[1;32m      7\u001B[0m \u001B[38;5;66;03m# Print the final average similarity score for GPT-4\u001B[39;00m\n\u001B[1;32m      8\u001B[0m \u001B[38;5;28mprint\u001B[39m(\u001B[38;5;124mf\u001B[39m\u001B[38;5;124m\"\u001B[39m\u001B[38;5;124mAverage Cosine Similarity for GPT-4 across all examples: \u001B[39m\u001B[38;5;132;01m{\u001B[39;00maverage_similarity_custom_gpt4_mini\u001B[38;5;132;01m}\u001B[39;00m\u001B[38;5;124m\"\u001B[39m)\n",
      "Cell \u001B[0;32mIn[37], line 58\u001B[0m, in \u001B[0;36mevaluate_model_on_input_output_dataset\u001B[0;34m(model, tokenizer, test_data, device)\u001B[0m\n\u001B[1;32m     55\u001B[0m real_output \u001B[38;5;241m=\u001B[39m example[\u001B[38;5;124m\"\u001B[39m\u001B[38;5;124moutput\u001B[39m\u001B[38;5;124m\"\u001B[39m]\n\u001B[1;32m     57\u001B[0m \u001B[38;5;66;03m# Generate the model's output\u001B[39;00m\n\u001B[0;32m---> 58\u001B[0m generated_output \u001B[38;5;241m=\u001B[39m \u001B[43mgenerate_response\u001B[49m\u001B[43m(\u001B[49m\u001B[43minput_text\u001B[49m\u001B[43m,\u001B[49m\u001B[43m \u001B[49m\u001B[43mmodel\u001B[49m\u001B[43m,\u001B[49m\u001B[43m \u001B[49m\u001B[43mtokenizer\u001B[49m\u001B[43m,\u001B[49m\u001B[43m \u001B[49m\u001B[43mdevice\u001B[49m\u001B[43m)\u001B[49m\n\u001B[1;32m     60\u001B[0m \u001B[38;5;66;03m# Calculate the similarity between the real output and the generated output\u001B[39;00m\n\u001B[1;32m     61\u001B[0m similarity \u001B[38;5;241m=\u001B[39m calculate_cosine_similarity(real_output, generated_output)\n",
      "Cell \u001B[0;32mIn[37], line 30\u001B[0m, in \u001B[0;36mgenerate_response\u001B[0;34m(input_text, model, tokenizer, device, max_new_tokens)\u001B[0m\n\u001B[1;32m     28\u001B[0m \u001B[38;5;28;01mdef\u001B[39;00m \u001B[38;5;21mgenerate_response\u001B[39m(input_text, model, tokenizer, device, max_new_tokens\u001B[38;5;241m=\u001B[39m\u001B[38;5;241m50\u001B[39m):\n\u001B[1;32m     29\u001B[0m     \u001B[38;5;66;03m# Tokenize input with padding and attention mask\u001B[39;00m\n\u001B[0;32m---> 30\u001B[0m     inputs \u001B[38;5;241m=\u001B[39m \u001B[43mtokenizer\u001B[49m\u001B[43m(\u001B[49m\u001B[43minput_text\u001B[49m\u001B[43m,\u001B[49m\u001B[43m \u001B[49m\u001B[43mreturn_tensors\u001B[49m\u001B[38;5;241;43m=\u001B[39;49m\u001B[38;5;124;43m\"\u001B[39;49m\u001B[38;5;124;43mpt\u001B[39;49m\u001B[38;5;124;43m\"\u001B[39;49m\u001B[43m,\u001B[49m\u001B[43m \u001B[49m\u001B[43mpadding\u001B[49m\u001B[38;5;241;43m=\u001B[39;49m\u001B[38;5;28;43;01mTrue\u001B[39;49;00m\u001B[43m,\u001B[49m\u001B[43m \u001B[49m\u001B[43mtruncation\u001B[49m\u001B[38;5;241;43m=\u001B[39;49m\u001B[38;5;28;43;01mTrue\u001B[39;49;00m\u001B[43m)\u001B[49m\u001B[38;5;241m.\u001B[39mto(device)\n\u001B[1;32m     32\u001B[0m     \u001B[38;5;66;03m# Generate response with attention mask and set max_new_tokens instead of max_length\u001B[39;00m\n\u001B[1;32m     33\u001B[0m     outputs \u001B[38;5;241m=\u001B[39m model\u001B[38;5;241m.\u001B[39mgenerate(\n\u001B[1;32m     34\u001B[0m         inputs[\u001B[38;5;124m'\u001B[39m\u001B[38;5;124minput_ids\u001B[39m\u001B[38;5;124m'\u001B[39m], \n\u001B[1;32m     35\u001B[0m         attention_mask\u001B[38;5;241m=\u001B[39minputs[\u001B[38;5;124m'\u001B[39m\u001B[38;5;124mattention_mask\u001B[39m\u001B[38;5;124m'\u001B[39m],  \u001B[38;5;66;03m# Explicitly pass attention mask\u001B[39;00m\n\u001B[1;32m     36\u001B[0m         max_new_tokens\u001B[38;5;241m=\u001B[39mmax_new_tokens,  \u001B[38;5;66;03m# Control the number of new tokens generated\u001B[39;00m\n\u001B[1;32m     37\u001B[0m         pad_token_id\u001B[38;5;241m=\u001B[39mtokenizer\u001B[38;5;241m.\u001B[39meos_token_id  \u001B[38;5;66;03m# Set pad_token_id to suppress warnings\u001B[39;00m\n\u001B[1;32m     38\u001B[0m     )\n",
      "\u001B[0;31mTypeError\u001B[0m: 'NoneType' object is not callable"
     ]
    }
   ],
   "source": [
    "# Set up OpenAI API key\n",
    "openai.api_key = 'YOUR_API_KEY'\n",
    "\n",
    "# Evaluate the GPT-4 model on the dataset\n",
    "average_similarity_custom_gpt4_mini = evaluate_model_on_input_output_dataset(custom_gpt4mini_iCliniq10k, None, HealthCareMagic_3K, None)\n",
    "\n",
    "# Print the final average similarity score for GPT-4\n",
    "print(f\"Average Cosine Similarity for GPT-4 across all examples: {average_similarity_custom_gpt4_mini}\")"
   ]
  },
  {
   "cell_type": "code",
   "execution_count": 231,
   "metadata": {},
   "outputs": [],
   "source": [
    "# Adding the new entry to the nested dictionary\n",
    "results_dic['HealthCareMagic_3K']['custom_gpt4_mini_iCliniq10K'] = average_similarity_custom_gpt4_mini * 100"
   ]
  },
  {
   "cell_type": "code",
   "execution_count": 232,
   "metadata": {},
   "outputs": [],
   "source": [
    "# Save the dictionary to a file\n",
    "with open('results_dic.pkl', 'wb') as f:\n",
    "    pickle.dump(results_dic, f)"
   ]
  },
  {
   "cell_type": "code",
   "execution_count": 233,
   "metadata": {},
   "outputs": [
    {
     "data": {
      "text/plain": [
       "{'symptom_description_kaggle': {'gpt2': 26.82926829268293,\n",
       "  'gpt2-xl': 14.634146341463413,\n",
       "  'bert-base-uncased': 2.4390243902439024,\n",
       "  'roberta-base': 2.4390243902439024,\n",
       "  'BioBert': 4.878048780487805,\n",
       "  'allenai/scibert_scivocab_cased': 4.878048780487805,\n",
       "  't5-base': 0.0,\n",
       "  'gpt-3.5-turbo': 92.6829268292683,\n",
       "  'gpt-4o-mini': 95.1219512195122,\n",
       "  'gpt-4-turbo': 95.1219512195122,\n",
       "  'gpt-4': 92.6829268292683,\n",
       "  'Chat-Doctor': 19.51219512195122,\n",
       "  'microsoft/biogpt': 26.82926829268293,\n",
       "  'custom_gpt2_GenMedGPT-5k': 19.51219512195122,\n",
       "  'custom_gpt2_iCliniq10K': 19.51219512195122,\n",
       "  'bluebert_pubmed': 2.4390243902439024,\n",
       "  'microsoft/BiomedNLP-PubMedBERT': 0.0},\n",
       " 'chatdoctor_format_df': {'gpt2': 26.82926829268293,\n",
       "  'gpt2-xl': 18.718592964824122,\n",
       "  'bert-base-uncased': 5.9045226130653266,\n",
       "  'roberta-base': 0.628140703517588,\n",
       "  'BioBert': 0.628140703517588,\n",
       "  'allenai/scibert_scivocab_cased': 5.9045226130653266,\n",
       "  't5-base': 5.9045226130653266,\n",
       "  'gpt-3.5-turbo': 27.63819095477387,\n",
       "  'gpt-4o-mini': 16.834170854271356,\n",
       "  'gpt-4-turbo': 17.08542713567839,\n",
       "  'gpt-4': 28.768844221105528,\n",
       "  'Chat-Doctor': 9.045226130653267,\n",
       "  'microsoft/biogpt': 22.236180904522612,\n",
       "  'custom_gpt2_GenMedGPT-5k': 23.99497487437186,\n",
       "  'custom_gpt2_iCliniq10K': 24.120603015075375,\n",
       "  'bluebert_pubmed': 0.628140703517588,\n",
       "  'microsoft/BiomedNLP-PubMedBERT': 5.9045226130653266},\n",
       " 'HealthCareMagic_3K': {'gpt2': 18.33685891325555,\n",
       "  'custom_gpt2_iCliniq10K': 23.405729724137036,\n",
       "  'custom_gpt2_GenMedGPT-5k': 22.098412544106722,\n",
       "  'gpt-4o-mini': 19.56737874499412,\n",
       "  'Chat-Doctor': 20.056592576371607,\n",
       "  'microsoft/biogpt': 19.13910949853669,\n",
       "  'custom_gpt4_mini_iCliniq10K': 22.78094540487416}}"
      ]
     },
     "execution_count": 233,
     "metadata": {},
     "output_type": "execute_result"
    }
   ],
   "source": [
    "results_dic"
   ]
  },
  {
   "cell_type": "code",
   "execution_count": 234,
   "metadata": {},
   "outputs": [],
   "source": [
    "# Custom GPT-4-mini on other data sets\n",
    "\n",
    "def generate_disease_gpt_4(model_name, dataframe, accuracy_model, batch_size=16):\n",
    "    def generate_disease_batch(descriptions, model):\n",
    "        input_texts = [f\"Patient description: {description}\\nPossible disease diagnosis:\" for description in descriptions]\n",
    "        responses = []\n",
    "\n",
    "        for input_text in input_texts:\n",
    "            try:\n",
    "                # Use the correct API method and structure for ChatGPT 4\n",
    "                response = openai.chat.completions.create(\n",
    "                    model=model,\n",
    "                    messages=[{\"role\": \"user\", \"content\": input_text}],\n",
    "                    max_tokens=50,\n",
    "                    temperature=0.7\n",
    "                )\n",
    "                # Correctly extract the content from the message\n",
    "                response_text = response.choices[0].message.content.strip()\n",
    "\n",
    "                # Extract the diagnosis from the response\n",
    "                diagnosis = response_text.split(\"Possible disease diagnosis:\")[-1].strip()\n",
    "                if '.' in diagnosis:\n",
    "                    diagnosis = diagnosis.split('.')[0].strip()\n",
    "                responses.append(diagnosis if diagnosis else \"unknown\")\n",
    "            except Exception as e:\n",
    "                print(f\"Error generating completion for input: {input_text}\")\n",
    "                print(e)\n",
    "                responses.append(\"unknown\")\n",
    "        \n",
    "        return responses\n",
    "\n",
    "    # Generate disease predictions in batches\n",
    "    all_descriptions = dataframe['Description'].tolist()\n",
    "    all_predictions = []\n",
    "\n",
    "    for i in tqdm(range(0, len(all_descriptions), batch_size)):\n",
    "        batch_descriptions = all_descriptions[i:i + batch_size]\n",
    "        batch_predictions = generate_disease_batch(batch_descriptions, model_name)\n",
    "        all_predictions.extend(batch_predictions)\n",
    "\n",
    "    # Add the predictions to the dataframe\n",
    "    dataframe['Predicted Disease'] = all_predictions\n",
    "    \n",
    "    # Calculate accuracy using the accuracy_model function\n",
    "    dataframe['Is Correct Prediction'] = dataframe.apply(accuracy_model, axis=1)\n",
    "    accuracy = dataframe['Is Correct Prediction'].mean()\n",
    "\n",
    "    # Print the accuracy and the first 10 rows of the dataframe\n",
    "    print(f\"Accuracy of model - {model_name}: {accuracy * 100:.2f}%\")\n",
    "    print(dataframe.head(10))\n",
    "\n",
    "    return dataframe"
   ]
  },
  {
   "cell_type": "code",
   "execution_count": 235,
   "metadata": {},
   "outputs": [
    {
     "data": {
      "application/vnd.jupyter.widget-view+json": {
       "model_id": "9d8fd06c785546d2b245e318795e0a14",
       "version_major": 2,
       "version_minor": 0
      },
      "text/plain": [
       "  0%|          | 0/3 [00:00<?, ?it/s]"
      ]
     },
     "metadata": {},
     "output_type": "display_data"
    },
    {
     "name": "stdout",
     "output_type": "stream",
     "text": [
      "Accuracy of model - ft:gpt-4o-mini-2024-07-18:zlounge-product-analytics-1204500:icliniq10k:A0C9tIhs: 82.93%\n",
      "                                   Disease  \\\n",
      "0                            Drug Reaction   \n",
      "1                                  Malaria   \n",
      "2                                  Allergy   \n",
      "3                           Hypothyroidism   \n",
      "4                                Psoriasis   \n",
      "5                                     GERD   \n",
      "6                      Chronic cholestasis   \n",
      "7                              hepatitis A   \n",
      "8                          Osteoarthristis   \n",
      "9  (vertigo) Paroymsal  Positional Vertigo   \n",
      "\n",
      "                                         Description  \\\n",
      "0  an adverse this disease (adr) is an injury cau...   \n",
      "1  an infectious disease caused by protozoan para...   \n",
      "2  an this disease is an immune system response t...   \n",
      "3  this disease, also called underactive thyroid ...   \n",
      "4  this disease is a common skin disorder that fo...   \n",
      "5  gastroesophageal reflux disease, or this disea...   \n",
      "6  chronic cholestatic diseases, whether occurrin...   \n",
      "7  this disease is a highly contagious liver infe...   \n",
      "8  osteoarthritis is the most common form of arth...   \n",
      "9  benign paroxysmal positional vertigo (bppv) is...   \n",
      "\n",
      "                                    Predicted Output  \\\n",
      "0  an adverse this disease (adr) is an injury cau...   \n",
      "1  an infectious disease caused by protozoan para...   \n",
      "2  an this disease is an immune system response t...   \n",
      "3  this disease, also called underactive thyroid ...   \n",
      "4  this disease is a common skin disorder that fo...   \n",
      "5  gastroesophageal reflux disease, or this disea...   \n",
      "6  chronic cholestatic diseases, whether occurrin...   \n",
      "7  this disease is a highly contagious liver infe...   \n",
      "8  osteoarthritis is the most common form of arth...   \n",
      "9  benign paroxysmal positional vertigo (bppv) is...   \n",
      "\n",
      "                                   Predicted Disease  Is Correct Prediction  \n",
      "0  Based on the description provided, the possibl...                   True  \n",
      "1  Based on your description, the possible diseas...                   True  \n",
      "2  Based on the description provided, the possibl...                   True  \n",
      "3  Based on the description you provided, the mos...                   True  \n",
      "4  Based on the description provided, the possibl...                   True  \n",
      "5  Based on the provided description, the possibl...                   True  \n",
      "6  Given the description of chronic cholestatic d...                   True  \n",
      "7  Based on your description, the disease is like...                   True  \n",
      "8  Based on your description, the possible diseas...                  False  \n",
      "9  Based on the description provided, the most li...                   True  \n"
     ]
    }
   ],
   "source": [
    "symptom_description_kaggle_df_gpt4_custom = generate_disease_gpt_4(custom_gpt4mini_iCliniq10k,symptom_description_kaggle, is_disease_in_prediction_2)\n",
    "accuracy = symptom_description_kaggle_df_gpt4_custom['Is Correct Prediction'].mean() * 100\n",
    "results_dic['symptom_description_kaggle']['custom_gpt4_mini_iCliniq10K'] = accuracy"
   ]
  },
  {
   "cell_type": "code",
   "execution_count": 236,
   "metadata": {},
   "outputs": [
    {
     "data": {
      "application/vnd.jupyter.widget-view+json": {
       "model_id": "35b8bae5f9304b05b2b423b45a717289",
       "version_major": 2,
       "version_minor": 0
      },
      "text/plain": [
       "  0%|          | 0/50 [00:00<?, ?it/s]"
      ]
     },
     "metadata": {},
     "output_type": "display_data"
    },
    {
     "name": "stdout",
     "output_type": "stream",
     "text": [
      "Accuracy of model - ft:gpt-4o-mini-2024-07-18:zlounge-product-analytics-1204500:icliniq10k:A0C9tIhs: 14.45%\n",
      "                            Disease  \\\n",
      "0                    Panic disorder   \n",
      "1                  Vocal cord polyp   \n",
      "2                   Turner syndrome   \n",
      "3                    Cryptorchidism   \n",
      "4  Poisoning due to ethylene glycol   \n",
      "5                Atrophic vaginitis   \n",
      "6              Fracture of the hand   \n",
      "7    Cellulitis or abscess of mouth   \n",
      "8            Eye alignment disorder   \n",
      "9    Headache after lumbar puncture   \n",
      "\n",
      "                                         Description  \\\n",
      "0  ['Anxiety and nervousness', 'Depression', 'Sho...   \n",
      "1  ['Hoarse voice', 'Sore throat', 'Difficulty sp...   \n",
      "2  ['Groin mass', 'Leg pain', 'Hip pain', 'Suprap...   \n",
      "3  ['Symptoms of the scrotum and testes', 'Swelli...   \n",
      "4  ['Abusing alcohol', 'Fainting', 'Hostile behav...   \n",
      "5  ['Vaginal itching', 'Vaginal dryness', 'Painfu...   \n",
      "6  ['Hand or finger pain', 'Wrist pain', 'Hand or...   \n",
      "7  ['Lip swelling', 'Sore throat', 'Toothache', '...   \n",
      "8  ['Eye deviation', 'Diminished vision', 'Double...   \n",
      "9  ['Headache', 'Nausea', 'Back pain', 'Vomiting'...   \n",
      "\n",
      "                                   Predicted Disease  Is Correct Prediction  \n",
      "0  Based on the symptoms provided, the possible d...                  False  \n",
      "1  Based on the provided symptoms, the patient ma...                  False  \n",
      "2  Based on the information provided, the patient...                  False  \n",
      "3  Based on the symptoms described, here are some...                  False  \n",
      "4  Based on the provided symptoms, the patient ma...                  False  \n",
      "5  Based on the symptoms listed, the patient may ...                   True  \n",
      "6  Based on the provided symptoms, the possible d...                   True  \n",
      "7  Based on the symptoms provided, the following ...                  False  \n",
      "8  Based on the provided symptoms, the possible d...                  False  \n",
      "9  Based on the symptoms provided, the following ...                  False  \n"
     ]
    }
   ],
   "source": [
    "chatdoctor_format_df_gpt4_custom = generate_disease_gpt(custom_gpt4mini_iCliniq10k, chatdoctor_format_df, is_disease_in_prediction_2)\n",
    "accuracy = chatdoctor_format_df_gpt4_custom['Is Correct Prediction'].mean() * 100\n",
    "results_dic['chatdoctor_format_df']['custom_gpt4_mini_iCliniq10K'] = accuracy"
   ]
  },
  {
   "cell_type": "code",
   "execution_count": 48,
   "metadata": {},
   "outputs": [],
   "source": [
    "# Save the dictionary to a file\n",
    "with open('results_dic.pkl', 'wb') as f:\n",
    "    pickle.dump(results_dic, f)"
   ]
  },
  {
   "cell_type": "code",
   "execution_count": 44,
   "metadata": {},
   "outputs": [
    {
     "data": {
      "text/plain": [
       "{'symptom_description_kaggle': {'gpt2': 26.82926829268293,\n",
       "  'gpt2-xl': 14.634146341463413,\n",
       "  'bert-base-uncased': 2.4390243902439024,\n",
       "  'roberta-base': 2.4390243902439024,\n",
       "  'BioBert': 4.878048780487805,\n",
       "  'allenai/scibert_scivocab_cased': 4.878048780487805,\n",
       "  't5-base': 0.0,\n",
       "  'gpt-3.5-turbo': 92.6829268292683,\n",
       "  'gpt-4o-mini': 95.1219512195122,\n",
       "  'gpt-4-turbo': 95.1219512195122,\n",
       "  'gpt-4': 92.6829268292683,\n",
       "  'Chat-Doctor': 19.51219512195122,\n",
       "  'microsoft/biogpt': 26.82926829268293,\n",
       "  'custom_gpt2_GenMedGPT-5k': 19.51219512195122,\n",
       "  'custom_gpt2_iCliniq10K': 19.51219512195122,\n",
       "  'bluebert_pubmed': 2.4390243902439024,\n",
       "  'microsoft/BiomedNLP-PubMedBERT': 0.0,\n",
       "  'custom_gpt4_mini_iCliniq10K': 82.92682926829268},\n",
       " 'chatdoctor_format_df': {'gpt2': 26.82926829268293,\n",
       "  'gpt2-xl': 18.718592964824122,\n",
       "  'bert-base-uncased': 5.9045226130653266,\n",
       "  'roberta-base': 0.628140703517588,\n",
       "  'BioBert': 0.628140703517588,\n",
       "  'allenai/scibert_scivocab_cased': 5.9045226130653266,\n",
       "  't5-base': 5.9045226130653266,\n",
       "  'gpt-3.5-turbo': 27.63819095477387,\n",
       "  'gpt-4o-mini': 16.834170854271356,\n",
       "  'gpt-4-turbo': 17.08542713567839,\n",
       "  'gpt-4': 28.768844221105528,\n",
       "  'Chat-Doctor': 9.045226130653267,\n",
       "  'microsoft/biogpt': 22.236180904522612,\n",
       "  'custom_gpt2_GenMedGPT-5k': 23.99497487437186,\n",
       "  'custom_gpt2_iCliniq10K': 24.120603015075375,\n",
       "  'bluebert_pubmed': 0.628140703517588,\n",
       "  'microsoft/BiomedNLP-PubMedBERT': 5.9045226130653266,\n",
       "  'custom_gpt4_mini_iCliniq10K': 14.447236180904522},\n",
       " 'HealthCareMagic_3K': {'gpt2': 18.33685891325555,\n",
       "  'custom_gpt2_iCliniq10K': 23.405729724137036,\n",
       "  'custom_gpt2_GenMedGPT-5k': 22.098412544106722,\n",
       "  'gpt-4o-mini': 19.56737874499412,\n",
       "  'Chat-Doctor': 20.056592576371607,\n",
       "  'microsoft/biogpt': 19.13910949853669,\n",
       "  'custom_gpt4_mini_iCliniq10K': 22.78094540487416}}"
      ]
     },
     "execution_count": 44,
     "metadata": {},
     "output_type": "execute_result"
    }
   ],
   "source": [
    "results_dic"
   ]
  },
  {
   "cell_type": "markdown",
   "metadata": {},
   "source": [
    "## 9. Conclusion "
   ]
  },
  {
   "cell_type": "markdown",
   "metadata": {},
   "source": [
    "## 9.1 Graphs for Performance Comparison"
   ]
  },
  {
   "cell_type": "code",
   "execution_count": 46,
   "metadata": {},
   "outputs": [],
   "source": [
    "for dataset, models in results_dic.items():\n",
    "    # Check and rename 'bionlp/bluebert_pubmed_mimic_uncased_L-12_H-768_A-12'\n",
    "    if 'bionlp/bluebert_pubmed_mimic_uncased_L-12_H-768_A-12' in models:\n",
    "        models['bluebert_pubmed'] = models.pop('bionlp/bluebert_pubmed_mimic_uncased_L-12_H-768_A-12')\n",
    "    \n",
    "    # Check and rename 'microsoft/BiomedNLP-PubMedBERT-base-uncased-abstract-fulltext'\n",
    "    if 'microsoft/BiomedNLP-PubMedBERT-base-uncased-abstract-fulltext' in models:\n",
    "        models['microsoft/BiomedNLP-PubMedBERT'] = models.pop('microsoft/BiomedNLP-PubMedBERT-base-uncased-abstract-fulltext')"
   ]
  },
  {
   "cell_type": "code",
   "execution_count": 47,
   "metadata": {},
   "outputs": [
    {
     "data": {
      "image/png": "[encoded data removed]",
      "text/plain": [
       "<Figure size 1200x800 with 1 Axes>"
      ]
     },
     "metadata": {},
     "output_type": "display_data"
    },
    {
     "data": {
      "image/png": "[encoded data removed]",
      "text/plain": [
       "<Figure size 1200x800 with 1 Axes>"
      ]
     },
     "metadata": {},
     "output_type": "display_data"
    },
    {
     "data": {
      "image/png": "[encoded data removed]",
      "text/plain": [
       "<Figure size 1200x800 with 1 Axes>"
      ]
     },
     "metadata": {},
     "output_type": "display_data"
    }
   ],
   "source": [
    "import matplotlib.pyplot as plt\n",
    "import pandas as pd\n",
    "import numpy as np\n",
    "import textwrap\n",
    "\n",
    "# Convert the nested dictionary to a pandas DataFrame\n",
    "data = []\n",
    "\n",
    "for dataset, models in results_dic.items():\n",
    "    for model, accuracy in models.items():\n",
    "        data.append({'Dataset': dataset, 'Model': model, 'Accuracy': accuracy})\n",
    "\n",
    "# Create a DataFrame\n",
    "model_performance_df = pd.DataFrame(data)\n",
    "\n",
    "# Remove rows with NaN values in the 'Accuracy' column (if there are any)\n",
    "model_performance_df = model_performance_df.dropna(subset=['Accuracy'])\n",
    "\n",
    "# Plotting the data for each dataset\n",
    "datasets = model_performance_df['Dataset'].unique()\n",
    "\n",
    "for dataset in datasets:\n",
    "    # Filter for each dataset\n",
    "    dataset_df = model_performance_df[model_performance_df['Dataset'] == dataset]\n",
    "    \n",
    "    # Check if there are entries in the DataFrame\n",
    "    if not dataset_df.empty:\n",
    "        # Group by 'Model' and calculate the mean 'Accuracy', then sort by accuracy\n",
    "        grouped_df = dataset_df.groupby('Model')['Accuracy'].mean().sort_values(ascending=False)\n",
    "\n",
    "        # Plot\n",
    "        plt.figure(figsize=(12, 8))  # Increased figure size for better readability\n",
    "        ax = grouped_df.plot(kind='bar', width=0.8, color='royalblue')  # Using a classic blue color\n",
    "        plt.title(f'Average Accuracy by Model for {dataset}')\n",
    "        plt.ylabel('Accuracy (%)')\n",
    "        plt.xlabel('Model')\n",
    "        \n",
    "        # Rotate the model names 90 degrees\n",
    "        plt.xticks(rotation=90, ha='center')\n",
    "\n",
    "        # Set y-axis format to display as percentage and y-axis limits\n",
    "        ax.yaxis.set_major_formatter(plt.FuncFormatter(lambda y, _: f'{y:.2f}%'))\n",
    "        ax.set_ylim(0, 100)  # Ensure y-axis ranges from 0 to 100%\n",
    "\n",
    "        # Add text labels on the bars for precise values\n",
    "        for p in ax.patches:\n",
    "            height = p.get_height()  # Already scaled to percentage\n",
    "            ax.annotate(f'{height:.2f}%', (p.get_x() + p.get_width() / 2.00, height),\n",
    "                        ha='center', va='bottom', fontsize=9, color='black', rotation=0, xytext=(0, 5),\n",
    "                        textcoords='offset points')\n",
    "\n",
    "        # Increase the top margin to prevent label overlap\n",
    "        plt.subplots_adjust(top=0.9)\n",
    "        \n",
    "        plt.tight_layout()\n",
    "        plt.show()\n",
    "    else:\n",
    "        print(f\"No data available for {dataset}\")\n"
   ]
  },
  {
   "cell_type": "code",
   "execution_count": null,
   "metadata": {},
   "outputs": [],
   "source": [
    "pd.set_option('display.max_colwidth', None)\n",
    "\n",
    "chatdoctor_format_df.head()"
   ]
  }
 ],
 "metadata": {
  "colab": {
   "provenance": []
  },
  "kernelspec": {
   "display_name": "Python 3 (ipykernel)",
   "language": "python",
   "name": "python3"
  },
  "language_info": {
   "codemirror_mode": {
    "name": "ipython",
    "version": 3
   },
   "file_extension": ".py",
   "mimetype": "text/x-python",
   "name": "python",
   "nbconvert_exporter": "python",
   "pygments_lexer": "ipython3",
   "version": "3.9.10"
  },
  "widgets": {
   "application/vnd.jupyter.widget-state+json": {
    "071cfb3f4da54ab9b60f2983999802bf": {
     "model_module": "@jupyter-widgets/controls",
     "model_module_version": "1.5.0",
     "model_name": "DescriptionStyleModel",
     "state": {
      "_model_module": "@jupyter-widgets/controls",
      "_model_module_version": "1.5.0",
      "_model_name": "DescriptionStyleModel",
      "_view_count": null,
      "_view_module": "@jupyter-widgets/base",
      "_view_module_version": "1.2.0",
      "_view_name": "StyleView",
      "description_width": ""
     }
    },
    "09cd452851ed497c89e7234e0c2f7ea0": {
     "model_module": "@jupyter-widgets/base",
     "model_module_version": "1.2.0",
     "model_name": "LayoutModel",
     "state": {
      "_model_module": "@jupyter-widgets/base",
      "_model_module_version": "1.2.0",
      "_model_name": "LayoutModel",
      "_view_count": null,
      "_view_module": "@jupyter-widgets/base",
      "_view_module_version": "1.2.0",
      "_view_name": "LayoutView",
      "align_content": null,
      "align_items": null,
      "align_self": null,
      "border": null,
      "bottom": null,
      "display": null,
      "flex": null,
      "flex_flow": null,
      "grid_area": null,
      "grid_auto_columns": null,
      "grid_auto_flow": null,
      "grid_auto_rows": null,
      "grid_column": null,
      "grid_gap": null,
      "grid_row": null,
      "grid_template_areas": null,
      "grid_template_columns": null,
      "grid_template_rows": null,
      "height": null,
      "justify_content": null,
      "justify_items": null,
      "left": null,
      "margin": null,
      "max_height": null,
      "max_width": null,
      "min_height": null,
      "min_width": null,
      "object_fit": null,
      "object_position": null,
      "order": null,
      "overflow": null,
      "overflow_x": null,
      "overflow_y": null,
      "padding": null,
      "right": null,
      "top": null,
      "visibility": null,
      "width": null
     }
    },
    "0aa97f159ab0453290a16970f9a99dad": {
     "model_module": "@jupyter-widgets/controls",
     "model_module_version": "1.5.0",
     "model_name": "DescriptionStyleModel",
     "state": {
      "_model_module": "@jupyter-widgets/controls",
      "_model_module_version": "1.5.0",
      "_model_name": "DescriptionStyleModel",
      "_view_count": null,
      "_view_module": "@jupyter-widgets/base",
      "_view_module_version": "1.2.0",
      "_view_name": "StyleView",
      "description_width": ""
     }
    },
    "0ab2ef77a09146bd8d69cd364ec327c9": {
     "model_module": "@jupyter-widgets/controls",
     "model_module_version": "1.5.0",
     "model_name": "HBoxModel",
     "state": {
      "_dom_classes": [],
      "_model_module": "@jupyter-widgets/controls",
      "_model_module_version": "1.5.0",
      "_model_name": "HBoxModel",
      "_view_count": null,
      "_view_module": "@jupyter-widgets/controls",
      "_view_module_version": "1.5.0",
      "_view_name": "HBoxView",
      "box_style": "",
      "children": [
       "IPY_MODEL_1231999962e24a6585a930d89ab9ada0",
       "IPY_MODEL_2853cb4336214ef2a4a1d9cbad26e70d",
       "IPY_MODEL_7a0fcaf6a0ed4863a02497ebac7425b7"
      ],
      "layout": "IPY_MODEL_25fd70364157469588d257c16ad7fd17"
     }
    },
    "0ad56ac2a8f64a5da582d9ad0e30f6ad": {
     "model_module": "@jupyter-widgets/controls",
     "model_module_version": "1.5.0",
     "model_name": "HBoxModel",
     "state": {
      "_dom_classes": [],
      "_model_module": "@jupyter-widgets/controls",
      "_model_module_version": "1.5.0",
      "_model_name": "HBoxModel",
      "_view_count": null,
      "_view_module": "@jupyter-widgets/controls",
      "_view_module_version": "1.5.0",
      "_view_name": "HBoxView",
      "box_style": "",
      "children": [
       "IPY_MODEL_c3bf5910c4b64ba1bf835f8eb377a822",
       "IPY_MODEL_7725089c7c524ef2a834c7559fd4f12b",
       "IPY_MODEL_db5ed18ca4e34443a84b6d0ea0746097"
      ],
      "layout": "IPY_MODEL_305c72257c5a4aac9061e1a21d41fb0f"
     }
    },
    "0bae00090bc849e6b165cbc25513de44": {
     "model_module": "@jupyter-widgets/controls",
     "model_module_version": "1.5.0",
     "model_name": "HBoxModel",
     "state": {
      "_dom_classes": [],
      "_model_module": "@jupyter-widgets/controls",
      "_model_module_version": "1.5.0",
      "_model_name": "HBoxModel",
      "_view_count": null,
      "_view_module": "@jupyter-widgets/controls",
      "_view_module_version": "1.5.0",
      "_view_name": "HBoxView",
      "box_style": "",
      "children": [
       "IPY_MODEL_7851dfbb9ca146c5aa7526a9048c8a9b",
       "IPY_MODEL_69661621193e4f219e6c834c423e0276",
       "IPY_MODEL_27578fdeb6d24eef8a83c1aad494d129"
      ],
      "layout": "IPY_MODEL_2fb0a370d7024859965fd211557aba16"
     }
    },
    "0c355bea4d4343b380e9e2dcc9f6e371": {
     "model_module": "@jupyter-widgets/base",
     "model_module_version": "1.2.0",
     "model_name": "LayoutModel",
     "state": {
      "_model_module": "@jupyter-widgets/base",
      "_model_module_version": "1.2.0",
      "_model_name": "LayoutModel",
      "_view_count": null,
      "_view_module": "@jupyter-widgets/base",
      "_view_module_version": "1.2.0",
      "_view_name": "LayoutView",
      "align_content": null,
      "align_items": null,
      "align_self": null,
      "border": null,
      "bottom": null,
      "display": null,
      "flex": null,
      "flex_flow": null,
      "grid_area": null,
      "grid_auto_columns": null,
      "grid_auto_flow": null,
      "grid_auto_rows": null,
      "grid_column": null,
      "grid_gap": null,
      "grid_row": null,
      "grid_template_areas": null,
      "grid_template_columns": null,
      "grid_template_rows": null,
      "height": null,
      "justify_content": null,
      "justify_items": null,
      "left": null,
      "margin": null,
      "max_height": null,
      "max_width": null,
      "min_height": null,
      "min_width": null,
      "object_fit": null,
      "object_position": null,
      "order": null,
      "overflow": null,
      "overflow_x": null,
      "overflow_y": null,
      "padding": null,
      "right": null,
      "top": null,
      "visibility": null,
      "width": null
     }
    },
    "0c4cbd7c931d4619ad6632eadc7046bb": {
     "model_module": "@jupyter-widgets/controls",
     "model_module_version": "1.5.0",
     "model_name": "ProgressStyleModel",
     "state": {
      "_model_module": "@jupyter-widgets/controls",
      "_model_module_version": "1.5.0",
      "_model_name": "ProgressStyleModel",
      "_view_count": null,
      "_view_module": "@jupyter-widgets/base",
      "_view_module_version": "1.2.0",
      "_view_name": "StyleView",
      "bar_color": null,
      "description_width": ""
     }
    },
    "0ce7f75810f54ec184d97989c724cd5f": {
     "model_module": "@jupyter-widgets/controls",
     "model_module_version": "1.5.0",
     "model_name": "DescriptionStyleModel",
     "state": {
      "_model_module": "@jupyter-widgets/controls",
      "_model_module_version": "1.5.0",
      "_model_name": "DescriptionStyleModel",
      "_view_count": null,
      "_view_module": "@jupyter-widgets/base",
      "_view_module_version": "1.2.0",
      "_view_name": "StyleView",
      "description_width": ""
     }
    },
    "0da34005d3114be8bb37a1dae4b75a00": {
     "model_module": "@jupyter-widgets/controls",
     "model_module_version": "1.5.0",
     "model_name": "HTMLModel",
     "state": {
      "_dom_classes": [],
      "_model_module": "@jupyter-widgets/controls",
      "_model_module_version": "1.5.0",
      "_model_name": "HTMLModel",
      "_view_count": null,
      "_view_module": "@jupyter-widgets/controls",
      "_view_module_version": "1.5.0",
      "_view_name": "HTMLView",
      "description": "",
      "description_tooltip": null,
      "layout": "IPY_MODEL_8321c1c4230248d591b3012fba1dfc73",
      "placeholder": "​",
      "style": "IPY_MODEL_2ddbbaa9e2494dbba11826ae0ea0aa67",
      "value": "tokenizer_config.json: 100%"
     }
    },
    "0e493148360447e2a1da2fc64cf2ef08": {
     "model_module": "@jupyter-widgets/base",
     "model_module_version": "1.2.0",
     "model_name": "LayoutModel",
     "state": {
      "_model_module": "@jupyter-widgets/base",
      "_model_module_version": "1.2.0",
      "_model_name": "LayoutModel",
      "_view_count": null,
      "_view_module": "@jupyter-widgets/base",
      "_view_module_version": "1.2.0",
      "_view_name": "LayoutView",
      "align_content": null,
      "align_items": null,
      "align_self": null,
      "border": null,
      "bottom": null,
      "display": null,
      "flex": null,
      "flex_flow": null,
      "grid_area": null,
      "grid_auto_columns": null,
      "grid_auto_flow": null,
      "grid_auto_rows": null,
      "grid_column": null,
      "grid_gap": null,
      "grid_row": null,
      "grid_template_areas": null,
      "grid_template_columns": null,
      "grid_template_rows": null,
      "height": null,
      "justify_content": null,
      "justify_items": null,
      "left": null,
      "margin": null,
      "max_height": null,
      "max_width": null,
      "min_height": null,
      "min_width": null,
      "object_fit": null,
      "object_position": null,
      "order": null,
      "overflow": null,
      "overflow_x": null,
      "overflow_y": null,
      "padding": null,
      "right": null,
      "top": null,
      "visibility": null,
      "width": null
     }
    },
    "10f05bcfa7034655b125880156c95b49": {
     "model_module": "@jupyter-widgets/base",
     "model_module_version": "1.2.0",
     "model_name": "LayoutModel",
     "state": {
      "_model_module": "@jupyter-widgets/base",
      "_model_module_version": "1.2.0",
      "_model_name": "LayoutModel",
      "_view_count": null,
      "_view_module": "@jupyter-widgets/base",
      "_view_module_version": "1.2.0",
      "_view_name": "LayoutView",
      "align_content": null,
      "align_items": null,
      "align_self": null,
      "border": null,
      "bottom": null,
      "display": null,
      "flex": null,
      "flex_flow": null,
      "grid_area": null,
      "grid_auto_columns": null,
      "grid_auto_flow": null,
      "grid_auto_rows": null,
      "grid_column": null,
      "grid_gap": null,
      "grid_row": null,
      "grid_template_areas": null,
      "grid_template_columns": null,
      "grid_template_rows": null,
      "height": null,
      "justify_content": null,
      "justify_items": null,
      "left": null,
      "margin": null,
      "max_height": null,
      "max_width": null,
      "min_height": null,
      "min_width": null,
      "object_fit": null,
      "object_position": null,
      "order": null,
      "overflow": null,
      "overflow_x": null,
      "overflow_y": null,
      "padding": null,
      "right": null,
      "top": null,
      "visibility": null,
      "width": null
     }
    },
    "1181d20ba0d14bf88db6c55f3ff86e12": {
     "model_module": "@jupyter-widgets/controls",
     "model_module_version": "1.5.0",
     "model_name": "HTMLModel",
     "state": {
      "_dom_classes": [],
      "_model_module": "@jupyter-widgets/controls",
      "_model_module_version": "1.5.0",
      "_model_name": "HTMLModel",
      "_view_count": null,
      "_view_module": "@jupyter-widgets/controls",
      "_view_module_version": "1.5.0",
      "_view_name": "HTMLView",
      "description": "",
      "description_tooltip": null,
      "layout": "IPY_MODEL_5807bdd9499d4dba84e01ae2ed819a5e",
      "placeholder": "​",
      "style": "IPY_MODEL_a3ebed5cbb644a0db99e2537a06d5756",
      "value": " 689/689 [00:00&lt;00:00, 41.8kB/s]"
     }
    },
    "1231999962e24a6585a930d89ab9ada0": {
     "model_module": "@jupyter-widgets/controls",
     "model_module_version": "1.5.0",
     "model_name": "HTMLModel",
     "state": {
      "_dom_classes": [],
      "_model_module": "@jupyter-widgets/controls",
      "_model_module_version": "1.5.0",
      "_model_name": "HTMLModel",
      "_view_count": null,
      "_view_module": "@jupyter-widgets/controls",
      "_view_module_version": "1.5.0",
      "_view_name": "HTMLView",
      "description": "",
      "description_tooltip": null,
      "layout": "IPY_MODEL_8550b784c2814e598e8c3832e0407e86",
      "placeholder": "​",
      "style": "IPY_MODEL_8972fc4a5d004bac9c37354c77a6a4da",
      "value": "merges.txt: 100%"
     }
    },
    "1448cb4b53d943b380fbbfc1e69c2bcc": {
     "model_module": "@jupyter-widgets/controls",
     "model_module_version": "1.5.0",
     "model_name": "HTMLModel",
     "state": {
      "_dom_classes": [],
      "_model_module": "@jupyter-widgets/controls",
      "_model_module_version": "1.5.0",
      "_model_name": "HTMLModel",
      "_view_count": null,
      "_view_module": "@jupyter-widgets/controls",
      "_view_module_version": "1.5.0",
      "_view_name": "HTMLView",
      "description": "",
      "description_tooltip": null,
      "layout": "IPY_MODEL_42eeaa604de44dd9910418d22b770dc5",
      "placeholder": "​",
      "style": "IPY_MODEL_97eeebc38e6e4271ada61b43f615bebe",
      "value": " 6.43G/6.43G [02:11&lt;00:00, 157MB/s]"
     }
    },
    "144b1a19e82f49ed864f5d3b72d1c77d": {
     "model_module": "@jupyter-widgets/base",
     "model_module_version": "1.2.0",
     "model_name": "LayoutModel",
     "state": {
      "_model_module": "@jupyter-widgets/base",
      "_model_module_version": "1.2.0",
      "_model_name": "LayoutModel",
      "_view_count": null,
      "_view_module": "@jupyter-widgets/base",
      "_view_module_version": "1.2.0",
      "_view_name": "LayoutView",
      "align_content": null,
      "align_items": null,
      "align_self": null,
      "border": null,
      "bottom": null,
      "display": null,
      "flex": null,
      "flex_flow": null,
      "grid_area": null,
      "grid_auto_columns": null,
      "grid_auto_flow": null,
      "grid_auto_rows": null,
      "grid_column": null,
      "grid_gap": null,
      "grid_row": null,
      "grid_template_areas": null,
      "grid_template_columns": null,
      "grid_template_rows": null,
      "height": null,
      "justify_content": null,
      "justify_items": null,
      "left": null,
      "margin": null,
      "max_height": null,
      "max_width": null,
      "min_height": null,
      "min_width": null,
      "object_fit": null,
      "object_position": null,
      "order": null,
      "overflow": null,
      "overflow_x": null,
      "overflow_y": null,
      "padding": null,
      "right": null,
      "top": null,
      "visibility": null,
      "width": null
     }
    },
    "149bb4631bc440b7a48309a26a5889e0": {
     "model_module": "@jupyter-widgets/controls",
     "model_module_version": "1.5.0",
     "model_name": "HTMLModel",
     "state": {
      "_dom_classes": [],
      "_model_module": "@jupyter-widgets/controls",
      "_model_module_version": "1.5.0",
      "_model_name": "HTMLModel",
      "_view_count": null,
      "_view_module": "@jupyter-widgets/controls",
      "_view_module_version": "1.5.0",
      "_view_name": "HTMLView",
      "description": "",
      "description_tooltip": null,
      "layout": "IPY_MODEL_4ada2216ba01427095e3fbe1aa38776d",
      "placeholder": "​",
      "style": "IPY_MODEL_4325bb6607f047d69ab7a20efbce3fc9",
      "value": " 124/124 [00:00&lt;00:00, 2.24kB/s]"
     }
    },
    "17d8449e1efb48ca8f611d43f21bcd23": {
     "model_module": "@jupyter-widgets/controls",
     "model_module_version": "1.5.0",
     "model_name": "FloatProgressModel",
     "state": {
      "_dom_classes": [],
      "_model_module": "@jupyter-widgets/controls",
      "_model_module_version": "1.5.0",
      "_model_name": "FloatProgressModel",
      "_view_count": null,
      "_view_module": "@jupyter-widgets/controls",
      "_view_module_version": "1.5.0",
      "_view_name": "ProgressView",
      "bar_style": "success",
      "description": "",
      "description_tooltip": null,
      "layout": "IPY_MODEL_85bf9dededea406ab029ed795a7d8c62",
      "max": 26,
      "min": 0,
      "orientation": "horizontal",
      "style": "IPY_MODEL_5ed17cb43a744906bb51728a76d90e6b",
      "value": 26
     }
    },
    "191a33293f9d420f94b038c1395c31c7": {
     "model_module": "@jupyter-widgets/controls",
     "model_module_version": "1.5.0",
     "model_name": "HTMLModel",
     "state": {
      "_dom_classes": [],
      "_model_module": "@jupyter-widgets/controls",
      "_model_module_version": "1.5.0",
      "_model_name": "HTMLModel",
      "_view_count": null,
      "_view_module": "@jupyter-widgets/controls",
      "_view_module_version": "1.5.0",
      "_view_name": "HTMLView",
      "description": "",
      "description_tooltip": null,
      "layout": "IPY_MODEL_4430bdd234ae4a0fb0193110d669bc7e",
      "placeholder": "​",
      "style": "IPY_MODEL_f6ba00b8710a450a8631e09631d81f08",
      "value": "model.safetensors: 100%"
     }
    },
    "1a64c18c73144d6198c0856fd884bb1b": {
     "model_module": "@jupyter-widgets/controls",
     "model_module_version": "1.5.0",
     "model_name": "HTMLModel",
     "state": {
      "_dom_classes": [],
      "_model_module": "@jupyter-widgets/controls",
      "_model_module_version": "1.5.0",
      "_model_name": "HTMLModel",
      "_view_count": null,
      "_view_module": "@jupyter-widgets/controls",
      "_view_module_version": "1.5.0",
      "_view_name": "HTMLView",
      "description": "",
      "description_tooltip": null,
      "layout": "IPY_MODEL_3ce527a204e741dcaafa811bb2f421a3",
      "placeholder": "​",
      "style": "IPY_MODEL_0ce7f75810f54ec184d97989c724cd5f",
      "value": " 124/124 [00:00&lt;00:00, 5.59kB/s]"
     }
    },
    "1b0f6513bd454654b6a6da4bef6e2d46": {
     "model_module": "@jupyter-widgets/base",
     "model_module_version": "1.2.0",
     "model_name": "LayoutModel",
     "state": {
      "_model_module": "@jupyter-widgets/base",
      "_model_module_version": "1.2.0",
      "_model_name": "LayoutModel",
      "_view_count": null,
      "_view_module": "@jupyter-widgets/base",
      "_view_module_version": "1.2.0",
      "_view_name": "LayoutView",
      "align_content": null,
      "align_items": null,
      "align_self": null,
      "border": null,
      "bottom": null,
      "display": null,
      "flex": null,
      "flex_flow": null,
      "grid_area": null,
      "grid_auto_columns": null,
      "grid_auto_flow": null,
      "grid_auto_rows": null,
      "grid_column": null,
      "grid_gap": null,
      "grid_row": null,
      "grid_template_areas": null,
      "grid_template_columns": null,
      "grid_template_rows": null,
      "height": null,
      "justify_content": null,
      "justify_items": null,
      "left": null,
      "margin": null,
      "max_height": null,
      "max_width": null,
      "min_height": null,
      "min_width": null,
      "object_fit": null,
      "object_position": null,
      "order": null,
      "overflow": null,
      "overflow_x": null,
      "overflow_y": null,
      "padding": null,
      "right": null,
      "top": null,
      "visibility": null,
      "width": null
     }
    },
    "1d0b7dd4897c4114bbe3abdb447eca47": {
     "model_module": "@jupyter-widgets/controls",
     "model_module_version": "1.5.0",
     "model_name": "HTMLModel",
     "state": {
      "_dom_classes": [],
      "_model_module": "@jupyter-widgets/controls",
      "_model_module_version": "1.5.0",
      "_model_name": "HTMLModel",
      "_view_count": null,
      "_view_module": "@jupyter-widgets/controls",
      "_view_module_version": "1.5.0",
      "_view_name": "HTMLView",
      "description": "",
      "description_tooltip": null,
      "layout": "IPY_MODEL_0c355bea4d4343b380e9e2dcc9f6e371",
      "placeholder": "​",
      "style": "IPY_MODEL_898a076abc4841ac965d342cd04d60c4",
      "value": " 548M/548M [00:07&lt;00:00, 78.8MB/s]"
     }
    },
    "1d5b0bad1af447b19b30ed7baae09fa5": {
     "model_module": "@jupyter-widgets/base",
     "model_module_version": "1.2.0",
     "model_name": "LayoutModel",
     "state": {
      "_model_module": "@jupyter-widgets/base",
      "_model_module_version": "1.2.0",
      "_model_name": "LayoutModel",
      "_view_count": null,
      "_view_module": "@jupyter-widgets/base",
      "_view_module_version": "1.2.0",
      "_view_name": "LayoutView",
      "align_content": null,
      "align_items": null,
      "align_self": null,
      "border": null,
      "bottom": null,
      "display": null,
      "flex": null,
      "flex_flow": null,
      "grid_area": null,
      "grid_auto_columns": null,
      "grid_auto_flow": null,
      "grid_auto_rows": null,
      "grid_column": null,
      "grid_gap": null,
      "grid_row": null,
      "grid_template_areas": null,
      "grid_template_columns": null,
      "grid_template_rows": null,
      "height": null,
      "justify_content": null,
      "justify_items": null,
      "left": null,
      "margin": null,
      "max_height": null,
      "max_width": null,
      "min_height": null,
      "min_width": null,
      "object_fit": null,
      "object_position": null,
      "order": null,
      "overflow": null,
      "overflow_x": null,
      "overflow_y": null,
      "padding": null,
      "right": null,
      "top": null,
      "visibility": null,
      "width": null
     }
    },
    "1db675c007e94194a2186393e8fd3859": {
     "model_module": "@jupyter-widgets/controls",
     "model_module_version": "1.5.0",
     "model_name": "DescriptionStyleModel",
     "state": {
      "_model_module": "@jupyter-widgets/controls",
      "_model_module_version": "1.5.0",
      "_model_name": "DescriptionStyleModel",
      "_view_count": null,
      "_view_module": "@jupyter-widgets/base",
      "_view_module_version": "1.2.0",
      "_view_name": "StyleView",
      "description_width": ""
     }
    },
    "1f65770b29ef44fb9efab0d5a0481728": {
     "model_module": "@jupyter-widgets/controls",
     "model_module_version": "1.5.0",
     "model_name": "ProgressStyleModel",
     "state": {
      "_model_module": "@jupyter-widgets/controls",
      "_model_module_version": "1.5.0",
      "_model_name": "ProgressStyleModel",
      "_view_count": null,
      "_view_module": "@jupyter-widgets/base",
      "_view_module_version": "1.2.0",
      "_view_name": "StyleView",
      "bar_color": null,
      "description_width": ""
     }
    },
    "1f996501aba24b4891fafde3bc9b9b81": {
     "model_module": "@jupyter-widgets/controls",
     "model_module_version": "1.5.0",
     "model_name": "HTMLModel",
     "state": {
      "_dom_classes": [],
      "_model_module": "@jupyter-widgets/controls",
      "_model_module_version": "1.5.0",
      "_model_name": "HTMLModel",
      "_view_count": null,
      "_view_module": "@jupyter-widgets/controls",
      "_view_module_version": "1.5.0",
      "_view_name": "HTMLView",
      "description": "",
      "description_tooltip": null,
      "layout": "IPY_MODEL_c2ce0b27f6784c12966f29f2f15e023c",
      "placeholder": "​",
      "style": "IPY_MODEL_e5920d255f814d679093bb42e8282c78",
      "value": "tokenizer_config.json: 100%"
     }
    },
    "218388ff30e54134b5089a6639a351be": {
     "model_module": "@jupyter-widgets/base",
     "model_module_version": "1.2.0",
     "model_name": "LayoutModel",
     "state": {
      "_model_module": "@jupyter-widgets/base",
      "_model_module_version": "1.2.0",
      "_model_name": "LayoutModel",
      "_view_count": null,
      "_view_module": "@jupyter-widgets/base",
      "_view_module_version": "1.2.0",
      "_view_name": "LayoutView",
      "align_content": null,
      "align_items": null,
      "align_self": null,
      "border": null,
      "bottom": null,
      "display": null,
      "flex": null,
      "flex_flow": null,
      "grid_area": null,
      "grid_auto_columns": null,
      "grid_auto_flow": null,
      "grid_auto_rows": null,
      "grid_column": null,
      "grid_gap": null,
      "grid_row": null,
      "grid_template_areas": null,
      "grid_template_columns": null,
      "grid_template_rows": null,
      "height": null,
      "justify_content": null,
      "justify_items": null,
      "left": null,
      "margin": null,
      "max_height": null,
      "max_width": null,
      "min_height": null,
      "min_width": null,
      "object_fit": null,
      "object_position": null,
      "order": null,
      "overflow": null,
      "overflow_x": null,
      "overflow_y": null,
      "padding": null,
      "right": null,
      "top": null,
      "visibility": null,
      "width": null
     }
    },
    "21e8b34a2473433db044868bbbb10645": {
     "model_module": "@jupyter-widgets/controls",
     "model_module_version": "1.5.0",
     "model_name": "DescriptionStyleModel",
     "state": {
      "_model_module": "@jupyter-widgets/controls",
      "_model_module_version": "1.5.0",
      "_model_name": "DescriptionStyleModel",
      "_view_count": null,
      "_view_module": "@jupyter-widgets/base",
      "_view_module_version": "1.2.0",
      "_view_name": "StyleView",
      "description_width": ""
     }
    },
    "221d8415febe48398a0e0cae6b5b83fd": {
     "model_module": "@jupyter-widgets/base",
     "model_module_version": "1.2.0",
     "model_name": "LayoutModel",
     "state": {
      "_model_module": "@jupyter-widgets/base",
      "_model_module_version": "1.2.0",
      "_model_name": "LayoutModel",
      "_view_count": null,
      "_view_module": "@jupyter-widgets/base",
      "_view_module_version": "1.2.0",
      "_view_name": "LayoutView",
      "align_content": null,
      "align_items": null,
      "align_self": null,
      "border": null,
      "bottom": null,
      "display": null,
      "flex": null,
      "flex_flow": null,
      "grid_area": null,
      "grid_auto_columns": null,
      "grid_auto_flow": null,
      "grid_auto_rows": null,
      "grid_column": null,
      "grid_gap": null,
      "grid_row": null,
      "grid_template_areas": null,
      "grid_template_columns": null,
      "grid_template_rows": null,
      "height": null,
      "justify_content": null,
      "justify_items": null,
      "left": null,
      "margin": null,
      "max_height": null,
      "max_width": null,
      "min_height": null,
      "min_width": null,
      "object_fit": null,
      "object_position": null,
      "order": null,
      "overflow": null,
      "overflow_x": null,
      "overflow_y": null,
      "padding": null,
      "right": null,
      "top": null,
      "visibility": null,
      "width": null
     }
    },
    "2553e7af5fc14ecdabbdf0f4fa7c376f": {
     "model_module": "@jupyter-widgets/controls",
     "model_module_version": "1.5.0",
     "model_name": "ProgressStyleModel",
     "state": {
      "_model_module": "@jupyter-widgets/controls",
      "_model_module_version": "1.5.0",
      "_model_name": "ProgressStyleModel",
      "_view_count": null,
      "_view_module": "@jupyter-widgets/base",
      "_view_module_version": "1.2.0",
      "_view_name": "StyleView",
      "bar_color": null,
      "description_width": ""
     }
    },
    "25fd70364157469588d257c16ad7fd17": {
     "model_module": "@jupyter-widgets/base",
     "model_module_version": "1.2.0",
     "model_name": "LayoutModel",
     "state": {
      "_model_module": "@jupyter-widgets/base",
      "_model_module_version": "1.2.0",
      "_model_name": "LayoutModel",
      "_view_count": null,
      "_view_module": "@jupyter-widgets/base",
      "_view_module_version": "1.2.0",
      "_view_name": "LayoutView",
      "align_content": null,
      "align_items": null,
      "align_self": null,
      "border": null,
      "bottom": null,
      "display": null,
      "flex": null,
      "flex_flow": null,
      "grid_area": null,
      "grid_auto_columns": null,
      "grid_auto_flow": null,
      "grid_auto_rows": null,
      "grid_column": null,
      "grid_gap": null,
      "grid_row": null,
      "grid_template_areas": null,
      "grid_template_columns": null,
      "grid_template_rows": null,
      "height": null,
      "justify_content": null,
      "justify_items": null,
      "left": null,
      "margin": null,
      "max_height": null,
      "max_width": null,
      "min_height": null,
      "min_width": null,
      "object_fit": null,
      "object_position": null,
      "order": null,
      "overflow": null,
      "overflow_x": null,
      "overflow_y": null,
      "padding": null,
      "right": null,
      "top": null,
      "visibility": null,
      "width": null
     }
    },
    "27578fdeb6d24eef8a83c1aad494d129": {
     "model_module": "@jupyter-widgets/controls",
     "model_module_version": "1.5.0",
     "model_name": "HTMLModel",
     "state": {
      "_dom_classes": [],
      "_model_module": "@jupyter-widgets/controls",
      "_model_module_version": "1.5.0",
      "_model_name": "HTMLModel",
      "_view_count": null,
      "_view_module": "@jupyter-widgets/controls",
      "_view_module_version": "1.5.0",
      "_view_name": "HTMLView",
      "description": "",
      "description_tooltip": null,
      "layout": "IPY_MODEL_a67bb34f3d9846a4b8dd74a29de2fe7f",
      "placeholder": "​",
      "style": "IPY_MODEL_1db675c007e94194a2186393e8fd3859",
      "value": " 456k/456k [00:00&lt;00:00, 11.5MB/s]"
     }
    },
    "27d7c124c5f44b78921546c3e1619689": {
     "model_module": "@jupyter-widgets/controls",
     "model_module_version": "1.5.0",
     "model_name": "HBoxModel",
     "state": {
      "_dom_classes": [],
      "_model_module": "@jupyter-widgets/controls",
      "_model_module_version": "1.5.0",
      "_model_name": "HBoxModel",
      "_view_count": null,
      "_view_module": "@jupyter-widgets/controls",
      "_view_module_version": "1.5.0",
      "_view_name": "HBoxView",
      "box_style": "",
      "children": [
       "IPY_MODEL_740898bd04f049c89fab6cb8f8c52edf",
       "IPY_MODEL_dcaea60bd7c44f9495ee1ffec9baacd1",
       "IPY_MODEL_ab729dcabb4444758871641a6b58e7bd"
      ],
      "layout": "IPY_MODEL_37cbb9dd7ba24a5583f8a45540ab0bc6"
     }
    },
    "2853cb4336214ef2a4a1d9cbad26e70d": {
     "model_module": "@jupyter-widgets/controls",
     "model_module_version": "1.5.0",
     "model_name": "FloatProgressModel",
     "state": {
      "_dom_classes": [],
      "_model_module": "@jupyter-widgets/controls",
      "_model_module_version": "1.5.0",
      "_model_name": "FloatProgressModel",
      "_view_count": null,
      "_view_module": "@jupyter-widgets/controls",
      "_view_module_version": "1.5.0",
      "_view_name": "ProgressView",
      "bar_style": "success",
      "description": "",
      "description_tooltip": null,
      "layout": "IPY_MODEL_e7b879547935436fa92fd49f936b153b",
      "max": 456318,
      "min": 0,
      "orientation": "horizontal",
      "style": "IPY_MODEL_653fbf96fd23470d8ceb67083f05c7cc",
      "value": 456318
     }
    },
    "28b10a9b72cf4fe18a5396ff7ea0850f": {
     "model_module": "@jupyter-widgets/controls",
     "model_module_version": "1.5.0",
     "model_name": "HTMLModel",
     "state": {
      "_dom_classes": [],
      "_model_module": "@jupyter-widgets/controls",
      "_model_module_version": "1.5.0",
      "_model_name": "HTMLModel",
      "_view_count": null,
      "_view_module": "@jupyter-widgets/controls",
      "_view_module_version": "1.5.0",
      "_view_name": "HTMLView",
      "description": "",
      "description_tooltip": null,
      "layout": "IPY_MODEL_37ddb2e4d9934c99b39cfa0964ff54a3",
      "placeholder": "​",
      "style": "IPY_MODEL_56efd8cd3b844d328f72229c6bf5c549",
      "value": "generation_config.json: 100%"
     }
    },
    "2a3be23ec2fc471dba263f8c629b309f": {
     "model_module": "@jupyter-widgets/base",
     "model_module_version": "1.2.0",
     "model_name": "LayoutModel",
     "state": {
      "_model_module": "@jupyter-widgets/base",
      "_model_module_version": "1.2.0",
      "_model_name": "LayoutModel",
      "_view_count": null,
      "_view_module": "@jupyter-widgets/base",
      "_view_module_version": "1.2.0",
      "_view_name": "LayoutView",
      "align_content": null,
      "align_items": null,
      "align_self": null,
      "border": null,
      "bottom": null,
      "display": null,
      "flex": null,
      "flex_flow": null,
      "grid_area": null,
      "grid_auto_columns": null,
      "grid_auto_flow": null,
      "grid_auto_rows": null,
      "grid_column": null,
      "grid_gap": null,
      "grid_row": null,
      "grid_template_areas": null,
      "grid_template_columns": null,
      "grid_template_rows": null,
      "height": null,
      "justify_content": null,
      "justify_items": null,
      "left": null,
      "margin": null,
      "max_height": null,
      "max_width": null,
      "min_height": null,
      "min_width": null,
      "object_fit": null,
      "object_position": null,
      "order": null,
      "overflow": null,
      "overflow_x": null,
      "overflow_y": null,
      "padding": null,
      "right": null,
      "top": null,
      "visibility": null,
      "width": null
     }
    },
    "2bec304dbaa745869221ada347a53ab0": {
     "model_module": "@jupyter-widgets/controls",
     "model_module_version": "1.5.0",
     "model_name": "ProgressStyleModel",
     "state": {
      "_model_module": "@jupyter-widgets/controls",
      "_model_module_version": "1.5.0",
      "_model_name": "ProgressStyleModel",
      "_view_count": null,
      "_view_module": "@jupyter-widgets/base",
      "_view_module_version": "1.2.0",
      "_view_name": "StyleView",
      "bar_color": null,
      "description_width": ""
     }
    },
    "2cbef35d05c0494e8b925ce9ec59cd96": {
     "model_module": "@jupyter-widgets/controls",
     "model_module_version": "1.5.0",
     "model_name": "FloatProgressModel",
     "state": {
      "_dom_classes": [],
      "_model_module": "@jupyter-widgets/controls",
      "_model_module_version": "1.5.0",
      "_model_name": "FloatProgressModel",
      "_view_count": null,
      "_view_module": "@jupyter-widgets/controls",
      "_view_module_version": "1.5.0",
      "_view_name": "ProgressView",
      "bar_style": "success",
      "description": "",
      "description_tooltip": null,
      "layout": "IPY_MODEL_ca8ed630577343a99bd16d08032ab2a4",
      "max": 124,
      "min": 0,
      "orientation": "horizontal",
      "style": "IPY_MODEL_2bec304dbaa745869221ada347a53ab0",
      "value": 124
     }
    },
    "2dd5176d7ed7407c8037c5d1bb882512": {
     "model_module": "@jupyter-widgets/controls",
     "model_module_version": "1.5.0",
     "model_name": "ProgressStyleModel",
     "state": {
      "_model_module": "@jupyter-widgets/controls",
      "_model_module_version": "1.5.0",
      "_model_name": "ProgressStyleModel",
      "_view_count": null,
      "_view_module": "@jupyter-widgets/base",
      "_view_module_version": "1.2.0",
      "_view_name": "StyleView",
      "bar_color": null,
      "description_width": ""
     }
    },
    "2dd64da066ef42fbbcf12829f5743cb1": {
     "model_module": "@jupyter-widgets/controls",
     "model_module_version": "1.5.0",
     "model_name": "HTMLModel",
     "state": {
      "_dom_classes": [],
      "_model_module": "@jupyter-widgets/controls",
      "_model_module_version": "1.5.0",
      "_model_name": "HTMLModel",
      "_view_count": null,
      "_view_module": "@jupyter-widgets/controls",
      "_view_module_version": "1.5.0",
      "_view_name": "HTMLView",
      "description": "",
      "description_tooltip": null,
      "layout": "IPY_MODEL_35744cd27b734ff8ba6139370f8ddc28",
      "placeholder": "​",
      "style": "IPY_MODEL_c23214cb1164444291e320396ecc864f",
      "value": "tokenizer.json: 100%"
     }
    },
    "2ddbbaa9e2494dbba11826ae0ea0aa67": {
     "model_module": "@jupyter-widgets/controls",
     "model_module_version": "1.5.0",
     "model_name": "DescriptionStyleModel",
     "state": {
      "_model_module": "@jupyter-widgets/controls",
      "_model_module_version": "1.5.0",
      "_model_name": "DescriptionStyleModel",
      "_view_count": null,
      "_view_module": "@jupyter-widgets/base",
      "_view_module_version": "1.2.0",
      "_view_name": "StyleView",
      "description_width": ""
     }
    },
    "2fb0a370d7024859965fd211557aba16": {
     "model_module": "@jupyter-widgets/base",
     "model_module_version": "1.2.0",
     "model_name": "LayoutModel",
     "state": {
      "_model_module": "@jupyter-widgets/base",
      "_model_module_version": "1.2.0",
      "_model_name": "LayoutModel",
      "_view_count": null,
      "_view_module": "@jupyter-widgets/base",
      "_view_module_version": "1.2.0",
      "_view_name": "LayoutView",
      "align_content": null,
      "align_items": null,
      "align_self": null,
      "border": null,
      "bottom": null,
      "display": null,
      "flex": null,
      "flex_flow": null,
      "grid_area": null,
      "grid_auto_columns": null,
      "grid_auto_flow": null,
      "grid_auto_rows": null,
      "grid_column": null,
      "grid_gap": null,
      "grid_row": null,
      "grid_template_areas": null,
      "grid_template_columns": null,
      "grid_template_rows": null,
      "height": null,
      "justify_content": null,
      "justify_items": null,
      "left": null,
      "margin": null,
      "max_height": null,
      "max_width": null,
      "min_height": null,
      "min_width": null,
      "object_fit": null,
      "object_position": null,
      "order": null,
      "overflow": null,
      "overflow_x": null,
      "overflow_y": null,
      "padding": null,
      "right": null,
      "top": null,
      "visibility": null,
      "width": null
     }
    },
    "2fc52bbd19fe40108e485da8f924215b": {
     "model_module": "@jupyter-widgets/base",
     "model_module_version": "1.2.0",
     "model_name": "LayoutModel",
     "state": {
      "_model_module": "@jupyter-widgets/base",
      "_model_module_version": "1.2.0",
      "_model_name": "LayoutModel",
      "_view_count": null,
      "_view_module": "@jupyter-widgets/base",
      "_view_module_version": "1.2.0",
      "_view_name": "LayoutView",
      "align_content": null,
      "align_items": null,
      "align_self": null,
      "border": null,
      "bottom": null,
      "display": null,
      "flex": null,
      "flex_flow": null,
      "grid_area": null,
      "grid_auto_columns": null,
      "grid_auto_flow": null,
      "grid_auto_rows": null,
      "grid_column": null,
      "grid_gap": null,
      "grid_row": null,
      "grid_template_areas": null,
      "grid_template_columns": null,
      "grid_template_rows": null,
      "height": null,
      "justify_content": null,
      "justify_items": null,
      "left": null,
      "margin": null,
      "max_height": null,
      "max_width": null,
      "min_height": null,
      "min_width": null,
      "object_fit": null,
      "object_position": null,
      "order": null,
      "overflow": null,
      "overflow_x": null,
      "overflow_y": null,
      "padding": null,
      "right": null,
      "top": null,
      "visibility": null,
      "width": null
     }
    },
    "305c72257c5a4aac9061e1a21d41fb0f": {
     "model_module": "@jupyter-widgets/base",
     "model_module_version": "1.2.0",
     "model_name": "LayoutModel",
     "state": {
      "_model_module": "@jupyter-widgets/base",
      "_model_module_version": "1.2.0",
      "_model_name": "LayoutModel",
      "_view_count": null,
      "_view_module": "@jupyter-widgets/base",
      "_view_module_version": "1.2.0",
      "_view_name": "LayoutView",
      "align_content": null,
      "align_items": null,
      "align_self": null,
      "border": null,
      "bottom": null,
      "display": null,
      "flex": null,
      "flex_flow": null,
      "grid_area": null,
      "grid_auto_columns": null,
      "grid_auto_flow": null,
      "grid_auto_rows": null,
      "grid_column": null,
      "grid_gap": null,
      "grid_row": null,
      "grid_template_areas": null,
      "grid_template_columns": null,
      "grid_template_rows": null,
      "height": null,
      "justify_content": null,
      "justify_items": null,
      "left": null,
      "margin": null,
      "max_height": null,
      "max_width": null,
      "min_height": null,
      "min_width": null,
      "object_fit": null,
      "object_position": null,
      "order": null,
      "overflow": null,
      "overflow_x": null,
      "overflow_y": null,
      "padding": null,
      "right": null,
      "top": null,
      "visibility": null,
      "width": null
     }
    },
    "30f22bfacb4640ec83790f1f988a22d1": {
     "model_module": "@jupyter-widgets/controls",
     "model_module_version": "1.5.0",
     "model_name": "ProgressStyleModel",
     "state": {
      "_model_module": "@jupyter-widgets/controls",
      "_model_module_version": "1.5.0",
      "_model_name": "ProgressStyleModel",
      "_view_count": null,
      "_view_module": "@jupyter-widgets/base",
      "_view_module_version": "1.2.0",
      "_view_name": "StyleView",
      "bar_color": null,
      "description_width": ""
     }
    },
    "324e94b9dc9046848b79548021e3af07": {
     "model_module": "@jupyter-widgets/base",
     "model_module_version": "1.2.0",
     "model_name": "LayoutModel",
     "state": {
      "_model_module": "@jupyter-widgets/base",
      "_model_module_version": "1.2.0",
      "_model_name": "LayoutModel",
      "_view_count": null,
      "_view_module": "@jupyter-widgets/base",
      "_view_module_version": "1.2.0",
      "_view_name": "LayoutView",
      "align_content": null,
      "align_items": null,
      "align_self": null,
      "border": null,
      "bottom": null,
      "display": null,
      "flex": null,
      "flex_flow": null,
      "grid_area": null,
      "grid_auto_columns": null,
      "grid_auto_flow": null,
      "grid_auto_rows": null,
      "grid_column": null,
      "grid_gap": null,
      "grid_row": null,
      "grid_template_areas": null,
      "grid_template_columns": null,
      "grid_template_rows": null,
      "height": null,
      "justify_content": null,
      "justify_items": null,
      "left": null,
      "margin": null,
      "max_height": null,
      "max_width": null,
      "min_height": null,
      "min_width": null,
      "object_fit": null,
      "object_position": null,
      "order": null,
      "overflow": null,
      "overflow_x": null,
      "overflow_y": null,
      "padding": null,
      "right": null,
      "top": null,
      "visibility": null,
      "width": null
     }
    },
    "35744cd27b734ff8ba6139370f8ddc28": {
     "model_module": "@jupyter-widgets/base",
     "model_module_version": "1.2.0",
     "model_name": "LayoutModel",
     "state": {
      "_model_module": "@jupyter-widgets/base",
      "_model_module_version": "1.2.0",
      "_model_name": "LayoutModel",
      "_view_count": null,
      "_view_module": "@jupyter-widgets/base",
      "_view_module_version": "1.2.0",
      "_view_name": "LayoutView",
      "align_content": null,
      "align_items": null,
      "align_self": null,
      "border": null,
      "bottom": null,
      "display": null,
      "flex": null,
      "flex_flow": null,
      "grid_area": null,
      "grid_auto_columns": null,
      "grid_auto_flow": null,
      "grid_auto_rows": null,
      "grid_column": null,
      "grid_gap": null,
      "grid_row": null,
      "grid_template_areas": null,
      "grid_template_columns": null,
      "grid_template_rows": null,
      "height": null,
      "justify_content": null,
      "justify_items": null,
      "left": null,
      "margin": null,
      "max_height": null,
      "max_width": null,
      "min_height": null,
      "min_width": null,
      "object_fit": null,
      "object_position": null,
      "order": null,
      "overflow": null,
      "overflow_x": null,
      "overflow_y": null,
      "padding": null,
      "right": null,
      "top": null,
      "visibility": null,
      "width": null
     }
    },
    "37cbb9dd7ba24a5583f8a45540ab0bc6": {
     "model_module": "@jupyter-widgets/base",
     "model_module_version": "1.2.0",
     "model_name": "LayoutModel",
     "state": {
      "_model_module": "@jupyter-widgets/base",
      "_model_module_version": "1.2.0",
      "_model_name": "LayoutModel",
      "_view_count": null,
      "_view_module": "@jupyter-widgets/base",
      "_view_module_version": "1.2.0",
      "_view_name": "LayoutView",
      "align_content": null,
      "align_items": null,
      "align_self": null,
      "border": null,
      "bottom": null,
      "display": null,
      "flex": null,
      "flex_flow": null,
      "grid_area": null,
      "grid_auto_columns": null,
      "grid_auto_flow": null,
      "grid_auto_rows": null,
      "grid_column": null,
      "grid_gap": null,
      "grid_row": null,
      "grid_template_areas": null,
      "grid_template_columns": null,
      "grid_template_rows": null,
      "height": null,
      "justify_content": null,
      "justify_items": null,
      "left": null,
      "margin": null,
      "max_height": null,
      "max_width": null,
      "min_height": null,
      "min_width": null,
      "object_fit": null,
      "object_position": null,
      "order": null,
      "overflow": null,
      "overflow_x": null,
      "overflow_y": null,
      "padding": null,
      "right": null,
      "top": null,
      "visibility": null,
      "width": null
     }
    },
    "37ddb2e4d9934c99b39cfa0964ff54a3": {
     "model_module": "@jupyter-widgets/base",
     "model_module_version": "1.2.0",
     "model_name": "LayoutModel",
     "state": {
      "_model_module": "@jupyter-widgets/base",
      "_model_module_version": "1.2.0",
      "_model_name": "LayoutModel",
      "_view_count": null,
      "_view_module": "@jupyter-widgets/base",
      "_view_module_version": "1.2.0",
      "_view_name": "LayoutView",
      "align_content": null,
      "align_items": null,
      "align_self": null,
      "border": null,
      "bottom": null,
      "display": null,
      "flex": null,
      "flex_flow": null,
      "grid_area": null,
      "grid_auto_columns": null,
      "grid_auto_flow": null,
      "grid_auto_rows": null,
      "grid_column": null,
      "grid_gap": null,
      "grid_row": null,
      "grid_template_areas": null,
      "grid_template_columns": null,
      "grid_template_rows": null,
      "height": null,
      "justify_content": null,
      "justify_items": null,
      "left": null,
      "margin": null,
      "max_height": null,
      "max_width": null,
      "min_height": null,
      "min_width": null,
      "object_fit": null,
      "object_position": null,
      "order": null,
      "overflow": null,
      "overflow_x": null,
      "overflow_y": null,
      "padding": null,
      "right": null,
      "top": null,
      "visibility": null,
      "width": null
     }
    },
    "37e501b1201b4b2e8b37ad05fbd0bd2d": {
     "model_module": "@jupyter-widgets/controls",
     "model_module_version": "1.5.0",
     "model_name": "FloatProgressModel",
     "state": {
      "_dom_classes": [],
      "_model_module": "@jupyter-widgets/controls",
      "_model_module_version": "1.5.0",
      "_model_name": "FloatProgressModel",
      "_view_count": null,
      "_view_module": "@jupyter-widgets/controls",
      "_view_module_version": "1.5.0",
      "_view_name": "ProgressView",
      "bar_style": "success",
      "description": "",
      "description_tooltip": null,
      "layout": "IPY_MODEL_d4d62a97629448eca3ad36cfa40ee125",
      "max": 1355256,
      "min": 0,
      "orientation": "horizontal",
      "style": "IPY_MODEL_6372f5ae2cdd4f1b83a83ce0b7950f58",
      "value": 1355256
     }
    },
    "391f7c6536764d08aacd00e34bded865": {
     "model_module": "@jupyter-widgets/controls",
     "model_module_version": "1.5.0",
     "model_name": "HBoxModel",
     "state": {
      "_dom_classes": [],
      "_model_module": "@jupyter-widgets/controls",
      "_model_module_version": "1.5.0",
      "_model_name": "HBoxModel",
      "_view_count": null,
      "_view_module": "@jupyter-widgets/controls",
      "_view_module_version": "1.5.0",
      "_view_name": "HBoxView",
      "box_style": "",
      "children": [
       "IPY_MODEL_1f996501aba24b4891fafde3bc9b9b81",
       "IPY_MODEL_c4513611a35e4ed08f1df9dc02b8e13c",
       "IPY_MODEL_d6f63de9910042b7a7ae89378fc188d2"
      ],
      "layout": "IPY_MODEL_6dd8a75200f244ff87b7840491fd5b70"
     }
    },
    "39838667452c49bfbfa0287d27f483aa": {
     "model_module": "@jupyter-widgets/controls",
     "model_module_version": "1.5.0",
     "model_name": "HBoxModel",
     "state": {
      "_dom_classes": [],
      "_model_module": "@jupyter-widgets/controls",
      "_model_module_version": "1.5.0",
      "_model_name": "HBoxModel",
      "_view_count": null,
      "_view_module": "@jupyter-widgets/controls",
      "_view_module_version": "1.5.0",
      "_view_name": "HBoxView",
      "box_style": "",
      "children": [
       "IPY_MODEL_d220c4e011764f3c8836196e9f988851",
       "IPY_MODEL_e9d5666bfb3e4c2d9287d193b6b397f5",
       "IPY_MODEL_5f1302c7597c4654b09b49138a81dcc0"
      ],
      "layout": "IPY_MODEL_0e493148360447e2a1da2fc64cf2ef08"
     }
    },
    "3ce527a204e741dcaafa811bb2f421a3": {
     "model_module": "@jupyter-widgets/base",
     "model_module_version": "1.2.0",
     "model_name": "LayoutModel",
     "state": {
      "_model_module": "@jupyter-widgets/base",
      "_model_module_version": "1.2.0",
      "_model_name": "LayoutModel",
      "_view_count": null,
      "_view_module": "@jupyter-widgets/base",
      "_view_module_version": "1.2.0",
      "_view_name": "LayoutView",
      "align_content": null,
      "align_items": null,
      "align_self": null,
      "border": null,
      "bottom": null,
      "display": null,
      "flex": null,
      "flex_flow": null,
      "grid_area": null,
      "grid_auto_columns": null,
      "grid_auto_flow": null,
      "grid_auto_rows": null,
      "grid_column": null,
      "grid_gap": null,
      "grid_row": null,
      "grid_template_areas": null,
      "grid_template_columns": null,
      "grid_template_rows": null,
      "height": null,
      "justify_content": null,
      "justify_items": null,
      "left": null,
      "margin": null,
      "max_height": null,
      "max_width": null,
      "min_height": null,
      "min_width": null,
      "object_fit": null,
      "object_position": null,
      "order": null,
      "overflow": null,
      "overflow_x": null,
      "overflow_y": null,
      "padding": null,
      "right": null,
      "top": null,
      "visibility": null,
      "width": null
     }
    },
    "3d4364e6f3214e4cafe763fb61c292a1": {
     "model_module": "@jupyter-widgets/base",
     "model_module_version": "1.2.0",
     "model_name": "LayoutModel",
     "state": {
      "_model_module": "@jupyter-widgets/base",
      "_model_module_version": "1.2.0",
      "_model_name": "LayoutModel",
      "_view_count": null,
      "_view_module": "@jupyter-widgets/base",
      "_view_module_version": "1.2.0",
      "_view_name": "LayoutView",
      "align_content": null,
      "align_items": null,
      "align_self": null,
      "border": null,
      "bottom": null,
      "display": null,
      "flex": null,
      "flex_flow": null,
      "grid_area": null,
      "grid_auto_columns": null,
      "grid_auto_flow": null,
      "grid_auto_rows": null,
      "grid_column": null,
      "grid_gap": null,
      "grid_row": null,
      "grid_template_areas": null,
      "grid_template_columns": null,
      "grid_template_rows": null,
      "height": null,
      "justify_content": null,
      "justify_items": null,
      "left": null,
      "margin": null,
      "max_height": null,
      "max_width": null,
      "min_height": null,
      "min_width": null,
      "object_fit": null,
      "object_position": null,
      "order": null,
      "overflow": null,
      "overflow_x": null,
      "overflow_y": null,
      "padding": null,
      "right": null,
      "top": null,
      "visibility": null,
      "width": null
     }
    },
    "3d5e694ae57442748c16437243160237": {
     "model_module": "@jupyter-widgets/controls",
     "model_module_version": "1.5.0",
     "model_name": "HBoxModel",
     "state": {
      "_dom_classes": [],
      "_model_module": "@jupyter-widgets/controls",
      "_model_module_version": "1.5.0",
      "_model_name": "HBoxModel",
      "_view_count": null,
      "_view_module": "@jupyter-widgets/controls",
      "_view_module_version": "1.5.0",
      "_view_name": "HBoxView",
      "box_style": "",
      "children": [
       "IPY_MODEL_d6c125cacd004b12a3fea22da17a368f",
       "IPY_MODEL_7ceebe76c1b64fe681f68edc54ca86ce",
       "IPY_MODEL_1181d20ba0d14bf88db6c55f3ff86e12"
      ],
      "layout": "IPY_MODEL_09cd452851ed497c89e7234e0c2f7ea0"
     }
    },
    "3dc27ed2612240daa06b0dfb1a10543c": {
     "model_module": "@jupyter-widgets/controls",
     "model_module_version": "1.5.0",
     "model_name": "HBoxModel",
     "state": {
      "_dom_classes": [],
      "_model_module": "@jupyter-widgets/controls",
      "_model_module_version": "1.5.0",
      "_model_name": "HBoxModel",
      "_view_count": null,
      "_view_module": "@jupyter-widgets/controls",
      "_view_module_version": "1.5.0",
      "_view_name": "HBoxView",
      "box_style": "",
      "children": [
       "IPY_MODEL_d2debad891a341aeb22f1faefc189fc9",
       "IPY_MODEL_8a341c4e1a814c159f99ef0d0d52f09a",
       "IPY_MODEL_9c72b9fa1ba4450c97a54f7ceb472565"
      ],
      "layout": "IPY_MODEL_be303357b06c466b987b09b852e2de8a"
     }
    },
    "41994d51d961406ebc73209312c133d7": {
     "model_module": "@jupyter-widgets/controls",
     "model_module_version": "1.5.0",
     "model_name": "DescriptionStyleModel",
     "state": {
      "_model_module": "@jupyter-widgets/controls",
      "_model_module_version": "1.5.0",
      "_model_name": "DescriptionStyleModel",
      "_view_count": null,
      "_view_module": "@jupyter-widgets/base",
      "_view_module_version": "1.2.0",
      "_view_name": "StyleView",
      "description_width": ""
     }
    },
    "42b508cd61b843938107d3b209c518a8": {
     "model_module": "@jupyter-widgets/controls",
     "model_module_version": "1.5.0",
     "model_name": "DescriptionStyleModel",
     "state": {
      "_model_module": "@jupyter-widgets/controls",
      "_model_module_version": "1.5.0",
      "_model_name": "DescriptionStyleModel",
      "_view_count": null,
      "_view_module": "@jupyter-widgets/base",
      "_view_module_version": "1.2.0",
      "_view_name": "StyleView",
      "description_width": ""
     }
    },
    "42eeaa604de44dd9910418d22b770dc5": {
     "model_module": "@jupyter-widgets/base",
     "model_module_version": "1.2.0",
     "model_name": "LayoutModel",
     "state": {
      "_model_module": "@jupyter-widgets/base",
      "_model_module_version": "1.2.0",
      "_model_name": "LayoutModel",
      "_view_count": null,
      "_view_module": "@jupyter-widgets/base",
      "_view_module_version": "1.2.0",
      "_view_name": "LayoutView",
      "align_content": null,
      "align_items": null,
      "align_self": null,
      "border": null,
      "bottom": null,
      "display": null,
      "flex": null,
      "flex_flow": null,
      "grid_area": null,
      "grid_auto_columns": null,
      "grid_auto_flow": null,
      "grid_auto_rows": null,
      "grid_column": null,
      "grid_gap": null,
      "grid_row": null,
      "grid_template_areas": null,
      "grid_template_columns": null,
      "grid_template_rows": null,
      "height": null,
      "justify_content": null,
      "justify_items": null,
      "left": null,
      "margin": null,
      "max_height": null,
      "max_width": null,
      "min_height": null,
      "min_width": null,
      "object_fit": null,
      "object_position": null,
      "order": null,
      "overflow": null,
      "overflow_x": null,
      "overflow_y": null,
      "padding": null,
      "right": null,
      "top": null,
      "visibility": null,
      "width": null
     }
    },
    "4325bb6607f047d69ab7a20efbce3fc9": {
     "model_module": "@jupyter-widgets/controls",
     "model_module_version": "1.5.0",
     "model_name": "DescriptionStyleModel",
     "state": {
      "_model_module": "@jupyter-widgets/controls",
      "_model_module_version": "1.5.0",
      "_model_name": "DescriptionStyleModel",
      "_view_count": null,
      "_view_module": "@jupyter-widgets/base",
      "_view_module_version": "1.2.0",
      "_view_name": "StyleView",
      "description_width": ""
     }
    },
    "4430bdd234ae4a0fb0193110d669bc7e": {
     "model_module": "@jupyter-widgets/base",
     "model_module_version": "1.2.0",
     "model_name": "LayoutModel",
     "state": {
      "_model_module": "@jupyter-widgets/base",
      "_model_module_version": "1.2.0",
      "_model_name": "LayoutModel",
      "_view_count": null,
      "_view_module": "@jupyter-widgets/base",
      "_view_module_version": "1.2.0",
      "_view_name": "LayoutView",
      "align_content": null,
      "align_items": null,
      "align_self": null,
      "border": null,
      "bottom": null,
      "display": null,
      "flex": null,
      "flex_flow": null,
      "grid_area": null,
      "grid_auto_columns": null,
      "grid_auto_flow": null,
      "grid_auto_rows": null,
      "grid_column": null,
      "grid_gap": null,
      "grid_row": null,
      "grid_template_areas": null,
      "grid_template_columns": null,
      "grid_template_rows": null,
      "height": null,
      "justify_content": null,
      "justify_items": null,
      "left": null,
      "margin": null,
      "max_height": null,
      "max_width": null,
      "min_height": null,
      "min_width": null,
      "object_fit": null,
      "object_position": null,
      "order": null,
      "overflow": null,
      "overflow_x": null,
      "overflow_y": null,
      "padding": null,
      "right": null,
      "top": null,
      "visibility": null,
      "width": null
     }
    },
    "48cce587107941c9871f485c404bc29f": {
     "model_module": "@jupyter-widgets/controls",
     "model_module_version": "1.5.0",
     "model_name": "HBoxModel",
     "state": {
      "_dom_classes": [],
      "_model_module": "@jupyter-widgets/controls",
      "_model_module_version": "1.5.0",
      "_model_name": "HBoxModel",
      "_view_count": null,
      "_view_module": "@jupyter-widgets/controls",
      "_view_module_version": "1.5.0",
      "_view_name": "HBoxView",
      "box_style": "",
      "children": [
       "IPY_MODEL_191a33293f9d420f94b038c1395c31c7",
       "IPY_MODEL_ab192c898eee4c0183827d70a2fd37c5",
       "IPY_MODEL_1d0b7dd4897c4114bbe3abdb447eca47"
      ],
      "layout": "IPY_MODEL_5d9db70df3cb4c20b617d657e0e43383"
     }
    },
    "494a321ead2c4a909e42e404fa4f1702": {
     "model_module": "@jupyter-widgets/base",
     "model_module_version": "1.2.0",
     "model_name": "LayoutModel",
     "state": {
      "_model_module": "@jupyter-widgets/base",
      "_model_module_version": "1.2.0",
      "_model_name": "LayoutModel",
      "_view_count": null,
      "_view_module": "@jupyter-widgets/base",
      "_view_module_version": "1.2.0",
      "_view_name": "LayoutView",
      "align_content": null,
      "align_items": null,
      "align_self": null,
      "border": null,
      "bottom": null,
      "display": null,
      "flex": null,
      "flex_flow": null,
      "grid_area": null,
      "grid_auto_columns": null,
      "grid_auto_flow": null,
      "grid_auto_rows": null,
      "grid_column": null,
      "grid_gap": null,
      "grid_row": null,
      "grid_template_areas": null,
      "grid_template_columns": null,
      "grid_template_rows": null,
      "height": null,
      "justify_content": null,
      "justify_items": null,
      "left": null,
      "margin": null,
      "max_height": null,
      "max_width": null,
      "min_height": null,
      "min_width": null,
      "object_fit": null,
      "object_position": null,
      "order": null,
      "overflow": null,
      "overflow_x": null,
      "overflow_y": null,
      "padding": null,
      "right": null,
      "top": null,
      "visibility": null,
      "width": null
     }
    },
    "4ada2216ba01427095e3fbe1aa38776d": {
     "model_module": "@jupyter-widgets/base",
     "model_module_version": "1.2.0",
     "model_name": "LayoutModel",
     "state": {
      "_model_module": "@jupyter-widgets/base",
      "_model_module_version": "1.2.0",
      "_model_name": "LayoutModel",
      "_view_count": null,
      "_view_module": "@jupyter-widgets/base",
      "_view_module_version": "1.2.0",
      "_view_name": "LayoutView",
      "align_content": null,
      "align_items": null,
      "align_self": null,
      "border": null,
      "bottom": null,
      "display": null,
      "flex": null,
      "flex_flow": null,
      "grid_area": null,
      "grid_auto_columns": null,
      "grid_auto_flow": null,
      "grid_auto_rows": null,
      "grid_column": null,
      "grid_gap": null,
      "grid_row": null,
      "grid_template_areas": null,
      "grid_template_columns": null,
      "grid_template_rows": null,
      "height": null,
      "justify_content": null,
      "justify_items": null,
      "left": null,
      "margin": null,
      "max_height": null,
      "max_width": null,
      "min_height": null,
      "min_width": null,
      "object_fit": null,
      "object_position": null,
      "order": null,
      "overflow": null,
      "overflow_x": null,
      "overflow_y": null,
      "padding": null,
      "right": null,
      "top": null,
      "visibility": null,
      "width": null
     }
    },
    "4b96b524c9e7459ca7e519a914b72926": {
     "model_module": "@jupyter-widgets/controls",
     "model_module_version": "1.5.0",
     "model_name": "DescriptionStyleModel",
     "state": {
      "_model_module": "@jupyter-widgets/controls",
      "_model_module_version": "1.5.0",
      "_model_name": "DescriptionStyleModel",
      "_view_count": null,
      "_view_module": "@jupyter-widgets/base",
      "_view_module_version": "1.2.0",
      "_view_name": "StyleView",
      "description_width": ""
     }
    },
    "4d50383e1f5a4697ba2ba61fa85cb842": {
     "model_module": "@jupyter-widgets/base",
     "model_module_version": "1.2.0",
     "model_name": "LayoutModel",
     "state": {
      "_model_module": "@jupyter-widgets/base",
      "_model_module_version": "1.2.0",
      "_model_name": "LayoutModel",
      "_view_count": null,
      "_view_module": "@jupyter-widgets/base",
      "_view_module_version": "1.2.0",
      "_view_name": "LayoutView",
      "align_content": null,
      "align_items": null,
      "align_self": null,
      "border": null,
      "bottom": null,
      "display": null,
      "flex": null,
      "flex_flow": null,
      "grid_area": null,
      "grid_auto_columns": null,
      "grid_auto_flow": null,
      "grid_auto_rows": null,
      "grid_column": null,
      "grid_gap": null,
      "grid_row": null,
      "grid_template_areas": null,
      "grid_template_columns": null,
      "grid_template_rows": null,
      "height": null,
      "justify_content": null,
      "justify_items": null,
      "left": null,
      "margin": null,
      "max_height": null,
      "max_width": null,
      "min_height": null,
      "min_width": null,
      "object_fit": null,
      "object_position": null,
      "order": null,
      "overflow": null,
      "overflow_x": null,
      "overflow_y": null,
      "padding": null,
      "right": null,
      "top": null,
      "visibility": null,
      "width": null
     }
    },
    "5193281cd3eb439a9ddfb4423fbf8bbb": {
     "model_module": "@jupyter-widgets/controls",
     "model_module_version": "1.5.0",
     "model_name": "DescriptionStyleModel",
     "state": {
      "_model_module": "@jupyter-widgets/controls",
      "_model_module_version": "1.5.0",
      "_model_name": "DescriptionStyleModel",
      "_view_count": null,
      "_view_module": "@jupyter-widgets/base",
      "_view_module_version": "1.2.0",
      "_view_name": "StyleView",
      "description_width": ""
     }
    },
    "56efd8cd3b844d328f72229c6bf5c549": {
     "model_module": "@jupyter-widgets/controls",
     "model_module_version": "1.5.0",
     "model_name": "DescriptionStyleModel",
     "state": {
      "_model_module": "@jupyter-widgets/controls",
      "_model_module_version": "1.5.0",
      "_model_name": "DescriptionStyleModel",
      "_view_count": null,
      "_view_module": "@jupyter-widgets/base",
      "_view_module_version": "1.2.0",
      "_view_name": "StyleView",
      "description_width": ""
     }
    },
    "5721cc693dc24edeb785c6abcd2716bd": {
     "model_module": "@jupyter-widgets/base",
     "model_module_version": "1.2.0",
     "model_name": "LayoutModel",
     "state": {
      "_model_module": "@jupyter-widgets/base",
      "_model_module_version": "1.2.0",
      "_model_name": "LayoutModel",
      "_view_count": null,
      "_view_module": "@jupyter-widgets/base",
      "_view_module_version": "1.2.0",
      "_view_name": "LayoutView",
      "align_content": null,
      "align_items": null,
      "align_self": null,
      "border": null,
      "bottom": null,
      "display": null,
      "flex": null,
      "flex_flow": null,
      "grid_area": null,
      "grid_auto_columns": null,
      "grid_auto_flow": null,
      "grid_auto_rows": null,
      "grid_column": null,
      "grid_gap": null,
      "grid_row": null,
      "grid_template_areas": null,
      "grid_template_columns": null,
      "grid_template_rows": null,
      "height": null,
      "justify_content": null,
      "justify_items": null,
      "left": null,
      "margin": null,
      "max_height": null,
      "max_width": null,
      "min_height": null,
      "min_width": null,
      "object_fit": null,
      "object_position": null,
      "order": null,
      "overflow": null,
      "overflow_x": null,
      "overflow_y": null,
      "padding": null,
      "right": null,
      "top": null,
      "visibility": null,
      "width": null
     }
    },
    "5807bdd9499d4dba84e01ae2ed819a5e": {
     "model_module": "@jupyter-widgets/base",
     "model_module_version": "1.2.0",
     "model_name": "LayoutModel",
     "state": {
      "_model_module": "@jupyter-widgets/base",
      "_model_module_version": "1.2.0",
      "_model_name": "LayoutModel",
      "_view_count": null,
      "_view_module": "@jupyter-widgets/base",
      "_view_module_version": "1.2.0",
      "_view_name": "LayoutView",
      "align_content": null,
      "align_items": null,
      "align_self": null,
      "border": null,
      "bottom": null,
      "display": null,
      "flex": null,
      "flex_flow": null,
      "grid_area": null,
      "grid_auto_columns": null,
      "grid_auto_flow": null,
      "grid_auto_rows": null,
      "grid_column": null,
      "grid_gap": null,
      "grid_row": null,
      "grid_template_areas": null,
      "grid_template_columns": null,
      "grid_template_rows": null,
      "height": null,
      "justify_content": null,
      "justify_items": null,
      "left": null,
      "margin": null,
      "max_height": null,
      "max_width": null,
      "min_height": null,
      "min_width": null,
      "object_fit": null,
      "object_position": null,
      "order": null,
      "overflow": null,
      "overflow_x": null,
      "overflow_y": null,
      "padding": null,
      "right": null,
      "top": null,
      "visibility": null,
      "width": null
     }
    },
    "5b3457e4fc6a44fb8002f0799511bbe4": {
     "model_module": "@jupyter-widgets/base",
     "model_module_version": "1.2.0",
     "model_name": "LayoutModel",
     "state": {
      "_model_module": "@jupyter-widgets/base",
      "_model_module_version": "1.2.0",
      "_model_name": "LayoutModel",
      "_view_count": null,
      "_view_module": "@jupyter-widgets/base",
      "_view_module_version": "1.2.0",
      "_view_name": "LayoutView",
      "align_content": null,
      "align_items": null,
      "align_self": null,
      "border": null,
      "bottom": null,
      "display": null,
      "flex": null,
      "flex_flow": null,
      "grid_area": null,
      "grid_auto_columns": null,
      "grid_auto_flow": null,
      "grid_auto_rows": null,
      "grid_column": null,
      "grid_gap": null,
      "grid_row": null,
      "grid_template_areas": null,
      "grid_template_columns": null,
      "grid_template_rows": null,
      "height": null,
      "justify_content": null,
      "justify_items": null,
      "left": null,
      "margin": null,
      "max_height": null,
      "max_width": null,
      "min_height": null,
      "min_width": null,
      "object_fit": null,
      "object_position": null,
      "order": null,
      "overflow": null,
      "overflow_x": null,
      "overflow_y": null,
      "padding": null,
      "right": null,
      "top": null,
      "visibility": null,
      "width": null
     }
    },
    "5bf2f26c820449c9ac28f2eec85da30b": {
     "model_module": "@jupyter-widgets/controls",
     "model_module_version": "1.5.0",
     "model_name": "DescriptionStyleModel",
     "state": {
      "_model_module": "@jupyter-widgets/controls",
      "_model_module_version": "1.5.0",
      "_model_name": "DescriptionStyleModel",
      "_view_count": null,
      "_view_module": "@jupyter-widgets/base",
      "_view_module_version": "1.2.0",
      "_view_name": "StyleView",
      "description_width": ""
     }
    },
    "5d9db70df3cb4c20b617d657e0e43383": {
     "model_module": "@jupyter-widgets/base",
     "model_module_version": "1.2.0",
     "model_name": "LayoutModel",
     "state": {
      "_model_module": "@jupyter-widgets/base",
      "_model_module_version": "1.2.0",
      "_model_name": "LayoutModel",
      "_view_count": null,
      "_view_module": "@jupyter-widgets/base",
      "_view_module_version": "1.2.0",
      "_view_name": "LayoutView",
      "align_content": null,
      "align_items": null,
      "align_self": null,
      "border": null,
      "bottom": null,
      "display": null,
      "flex": null,
      "flex_flow": null,
      "grid_area": null,
      "grid_auto_columns": null,
      "grid_auto_flow": null,
      "grid_auto_rows": null,
      "grid_column": null,
      "grid_gap": null,
      "grid_row": null,
      "grid_template_areas": null,
      "grid_template_columns": null,
      "grid_template_rows": null,
      "height": null,
      "justify_content": null,
      "justify_items": null,
      "left": null,
      "margin": null,
      "max_height": null,
      "max_width": null,
      "min_height": null,
      "min_width": null,
      "object_fit": null,
      "object_position": null,
      "order": null,
      "overflow": null,
      "overflow_x": null,
      "overflow_y": null,
      "padding": null,
      "right": null,
      "top": null,
      "visibility": null,
      "width": null
     }
    },
    "5dc6304b0488451480fec5f4496a5b21": {
     "model_module": "@jupyter-widgets/base",
     "model_module_version": "1.2.0",
     "model_name": "LayoutModel",
     "state": {
      "_model_module": "@jupyter-widgets/base",
      "_model_module_version": "1.2.0",
      "_model_name": "LayoutModel",
      "_view_count": null,
      "_view_module": "@jupyter-widgets/base",
      "_view_module_version": "1.2.0",
      "_view_name": "LayoutView",
      "align_content": null,
      "align_items": null,
      "align_self": null,
      "border": null,
      "bottom": null,
      "display": null,
      "flex": null,
      "flex_flow": null,
      "grid_area": null,
      "grid_auto_columns": null,
      "grid_auto_flow": null,
      "grid_auto_rows": null,
      "grid_column": null,
      "grid_gap": null,
      "grid_row": null,
      "grid_template_areas": null,
      "grid_template_columns": null,
      "grid_template_rows": null,
      "height": null,
      "justify_content": null,
      "justify_items": null,
      "left": null,
      "margin": null,
      "max_height": null,
      "max_width": null,
      "min_height": null,
      "min_width": null,
      "object_fit": null,
      "object_position": null,
      "order": null,
      "overflow": null,
      "overflow_x": null,
      "overflow_y": null,
      "padding": null,
      "right": null,
      "top": null,
      "visibility": null,
      "width": null
     }
    },
    "5ed17cb43a744906bb51728a76d90e6b": {
     "model_module": "@jupyter-widgets/controls",
     "model_module_version": "1.5.0",
     "model_name": "ProgressStyleModel",
     "state": {
      "_model_module": "@jupyter-widgets/controls",
      "_model_module_version": "1.5.0",
      "_model_name": "ProgressStyleModel",
      "_view_count": null,
      "_view_module": "@jupyter-widgets/base",
      "_view_module_version": "1.2.0",
      "_view_name": "StyleView",
      "bar_color": null,
      "description_width": ""
     }
    },
    "5f1302c7597c4654b09b49138a81dcc0": {
     "model_module": "@jupyter-widgets/controls",
     "model_module_version": "1.5.0",
     "model_name": "HTMLModel",
     "state": {
      "_dom_classes": [],
      "_model_module": "@jupyter-widgets/controls",
      "_model_module_version": "1.5.0",
      "_model_name": "HTMLModel",
      "_view_count": null,
      "_view_module": "@jupyter-widgets/controls",
      "_view_module_version": "1.5.0",
      "_view_name": "HTMLView",
      "description": "",
      "description_tooltip": null,
      "layout": "IPY_MODEL_d73fb71372944b7c864045f7acf57772",
      "placeholder": "​",
      "style": "IPY_MODEL_5193281cd3eb439a9ddfb4423fbf8bbb",
      "value": " 1.04M/1.04M [00:00&lt;00:00, 11.3MB/s]"
     }
    },
    "62bfa4cd4bdc42d88ab59c6a7e91c7bf": {
     "model_module": "@jupyter-widgets/controls",
     "model_module_version": "1.5.0",
     "model_name": "ProgressStyleModel",
     "state": {
      "_model_module": "@jupyter-widgets/controls",
      "_model_module_version": "1.5.0",
      "_model_name": "ProgressStyleModel",
      "_view_count": null,
      "_view_module": "@jupyter-widgets/base",
      "_view_module_version": "1.2.0",
      "_view_name": "StyleView",
      "bar_color": null,
      "description_width": ""
     }
    },
    "6372f5ae2cdd4f1b83a83ce0b7950f58": {
     "model_module": "@jupyter-widgets/controls",
     "model_module_version": "1.5.0",
     "model_name": "ProgressStyleModel",
     "state": {
      "_model_module": "@jupyter-widgets/controls",
      "_model_module_version": "1.5.0",
      "_model_name": "ProgressStyleModel",
      "_view_count": null,
      "_view_module": "@jupyter-widgets/base",
      "_view_module_version": "1.2.0",
      "_view_name": "StyleView",
      "bar_color": null,
      "description_width": ""
     }
    },
    "653fbf96fd23470d8ceb67083f05c7cc": {
     "model_module": "@jupyter-widgets/controls",
     "model_module_version": "1.5.0",
     "model_name": "ProgressStyleModel",
     "state": {
      "_model_module": "@jupyter-widgets/controls",
      "_model_module_version": "1.5.0",
      "_model_name": "ProgressStyleModel",
      "_view_count": null,
      "_view_module": "@jupyter-widgets/base",
      "_view_module_version": "1.2.0",
      "_view_name": "StyleView",
      "bar_color": null,
      "description_width": ""
     }
    },
    "68eb8c49cd754932ae06e6acf29f1d11": {
     "model_module": "@jupyter-widgets/controls",
     "model_module_version": "1.5.0",
     "model_name": "DescriptionStyleModel",
     "state": {
      "_model_module": "@jupyter-widgets/controls",
      "_model_module_version": "1.5.0",
      "_model_name": "DescriptionStyleModel",
      "_view_count": null,
      "_view_module": "@jupyter-widgets/base",
      "_view_module_version": "1.2.0",
      "_view_name": "StyleView",
      "description_width": ""
     }
    },
    "69661621193e4f219e6c834c423e0276": {
     "model_module": "@jupyter-widgets/controls",
     "model_module_version": "1.5.0",
     "model_name": "FloatProgressModel",
     "state": {
      "_dom_classes": [],
      "_model_module": "@jupyter-widgets/controls",
      "_model_module_version": "1.5.0",
      "_model_name": "FloatProgressModel",
      "_view_count": null,
      "_view_module": "@jupyter-widgets/controls",
      "_view_module_version": "1.5.0",
      "_view_name": "ProgressView",
      "bar_style": "success",
      "description": "",
      "description_tooltip": null,
      "layout": "IPY_MODEL_fc52771036e94a8ca15a7a9f0d8cfc03",
      "max": 456318,
      "min": 0,
      "orientation": "horizontal",
      "style": "IPY_MODEL_ae9df36ba81649b7bebd853ae2de159b",
      "value": 456318
     }
    },
    "6db8ab77f4e84fefb072741986ea769e": {
     "model_module": "@jupyter-widgets/controls",
     "model_module_version": "1.5.0",
     "model_name": "HBoxModel",
     "state": {
      "_dom_classes": [],
      "_model_module": "@jupyter-widgets/controls",
      "_model_module_version": "1.5.0",
      "_model_name": "HBoxModel",
      "_view_count": null,
      "_view_module": "@jupyter-widgets/controls",
      "_view_module_version": "1.5.0",
      "_view_name": "HBoxView",
      "box_style": "",
      "children": [
       "IPY_MODEL_28b10a9b72cf4fe18a5396ff7ea0850f",
       "IPY_MODEL_2cbef35d05c0494e8b925ce9ec59cd96",
       "IPY_MODEL_149bb4631bc440b7a48309a26a5889e0"
      ],
      "layout": "IPY_MODEL_9ef90fad82e34b4dab525b201426546d"
     }
    },
    "6dd8a75200f244ff87b7840491fd5b70": {
     "model_module": "@jupyter-widgets/base",
     "model_module_version": "1.2.0",
     "model_name": "LayoutModel",
     "state": {
      "_model_module": "@jupyter-widgets/base",
      "_model_module_version": "1.2.0",
      "_model_name": "LayoutModel",
      "_view_count": null,
      "_view_module": "@jupyter-widgets/base",
      "_view_module_version": "1.2.0",
      "_view_name": "LayoutView",
      "align_content": null,
      "align_items": null,
      "align_self": null,
      "border": null,
      "bottom": null,
      "display": null,
      "flex": null,
      "flex_flow": null,
      "grid_area": null,
      "grid_auto_columns": null,
      "grid_auto_flow": null,
      "grid_auto_rows": null,
      "grid_column": null,
      "grid_gap": null,
      "grid_row": null,
      "grid_template_areas": null,
      "grid_template_columns": null,
      "grid_template_rows": null,
      "height": null,
      "justify_content": null,
      "justify_items": null,
      "left": null,
      "margin": null,
      "max_height": null,
      "max_width": null,
      "min_height": null,
      "min_width": null,
      "object_fit": null,
      "object_position": null,
      "order": null,
      "overflow": null,
      "overflow_x": null,
      "overflow_y": null,
      "padding": null,
      "right": null,
      "top": null,
      "visibility": null,
      "width": null
     }
    },
    "740898bd04f049c89fab6cb8f8c52edf": {
     "model_module": "@jupyter-widgets/controls",
     "model_module_version": "1.5.0",
     "model_name": "HTMLModel",
     "state": {
      "_dom_classes": [],
      "_model_module": "@jupyter-widgets/controls",
      "_model_module_version": "1.5.0",
      "_model_name": "HTMLModel",
      "_view_count": null,
      "_view_module": "@jupyter-widgets/controls",
      "_view_module_version": "1.5.0",
      "_view_name": "HTMLView",
      "description": "",
      "description_tooltip": null,
      "layout": "IPY_MODEL_fcdcdc0a2dac42cb98e6a3b411534969",
      "placeholder": "​",
      "style": "IPY_MODEL_c8293396eb93424d83cfffe4bf7c2661",
      "value": "config.json: 100%"
     }
    },
    "7718a4f9529246be8d649522f524fa90": {
     "model_module": "@jupyter-widgets/controls",
     "model_module_version": "1.5.0",
     "model_name": "DescriptionStyleModel",
     "state": {
      "_model_module": "@jupyter-widgets/controls",
      "_model_module_version": "1.5.0",
      "_model_name": "DescriptionStyleModel",
      "_view_count": null,
      "_view_module": "@jupyter-widgets/base",
      "_view_module_version": "1.2.0",
      "_view_name": "StyleView",
      "description_width": ""
     }
    },
    "7725089c7c524ef2a834c7559fd4f12b": {
     "model_module": "@jupyter-widgets/controls",
     "model_module_version": "1.5.0",
     "model_name": "FloatProgressModel",
     "state": {
      "_dom_classes": [],
      "_model_module": "@jupyter-widgets/controls",
      "_model_module_version": "1.5.0",
      "_model_name": "FloatProgressModel",
      "_view_count": null,
      "_view_module": "@jupyter-widgets/controls",
      "_view_module_version": "1.5.0",
      "_view_name": "ProgressView",
      "bar_style": "success",
      "description": "",
      "description_tooltip": null,
      "layout": "IPY_MODEL_5721cc693dc24edeb785c6abcd2716bd",
      "max": 5,
      "min": 0,
      "orientation": "horizontal",
      "style": "IPY_MODEL_0c4cbd7c931d4619ad6632eadc7046bb",
      "value": 5
     }
    },
    "7851dfbb9ca146c5aa7526a9048c8a9b": {
     "model_module": "@jupyter-widgets/controls",
     "model_module_version": "1.5.0",
     "model_name": "HTMLModel",
     "state": {
      "_dom_classes": [],
      "_model_module": "@jupyter-widgets/controls",
      "_model_module_version": "1.5.0",
      "_model_name": "HTMLModel",
      "_view_count": null,
      "_view_module": "@jupyter-widgets/controls",
      "_view_module_version": "1.5.0",
      "_view_name": "HTMLView",
      "description": "",
      "description_tooltip": null,
      "layout": "IPY_MODEL_494a321ead2c4a909e42e404fa4f1702",
      "placeholder": "​",
      "style": "IPY_MODEL_b1d6b7ee54ec4a3e9ddd260f48948358",
      "value": "merges.txt: 100%"
     }
    },
    "7a0fcaf6a0ed4863a02497ebac7425b7": {
     "model_module": "@jupyter-widgets/controls",
     "model_module_version": "1.5.0",
     "model_name": "HTMLModel",
     "state": {
      "_dom_classes": [],
      "_model_module": "@jupyter-widgets/controls",
      "_model_module_version": "1.5.0",
      "_model_name": "HTMLModel",
      "_view_count": null,
      "_view_module": "@jupyter-widgets/controls",
      "_view_module_version": "1.5.0",
      "_view_name": "HTMLView",
      "description": "",
      "description_tooltip": null,
      "layout": "IPY_MODEL_d726f4e95e5e45c3b8252e7d1f146624",
      "placeholder": "​",
      "style": "IPY_MODEL_0aa97f159ab0453290a16970f9a99dad",
      "value": " 456k/456k [00:00&lt;00:00, 4.50MB/s]"
     }
    },
    "7ad2f6923d304f5089444d45e9361979": {
     "model_module": "@jupyter-widgets/controls",
     "model_module_version": "1.5.0",
     "model_name": "DescriptionStyleModel",
     "state": {
      "_model_module": "@jupyter-widgets/controls",
      "_model_module_version": "1.5.0",
      "_model_name": "DescriptionStyleModel",
      "_view_count": null,
      "_view_module": "@jupyter-widgets/base",
      "_view_module_version": "1.2.0",
      "_view_name": "StyleView",
      "description_width": ""
     }
    },
    "7ceebe76c1b64fe681f68edc54ca86ce": {
     "model_module": "@jupyter-widgets/controls",
     "model_module_version": "1.5.0",
     "model_name": "FloatProgressModel",
     "state": {
      "_dom_classes": [],
      "_model_module": "@jupyter-widgets/controls",
      "_model_module_version": "1.5.0",
      "_model_name": "FloatProgressModel",
      "_view_count": null,
      "_view_module": "@jupyter-widgets/controls",
      "_view_module_version": "1.5.0",
      "_view_name": "ProgressView",
      "bar_style": "success",
      "description": "",
      "description_tooltip": null,
      "layout": "IPY_MODEL_2fc52bbd19fe40108e485da8f924215b",
      "max": 689,
      "min": 0,
      "orientation": "horizontal",
      "style": "IPY_MODEL_d5db72e3a82543b0a07238ffc0a12a59",
      "value": 689
     }
    },
    "7f05a690821f494da96bfb339bc2d371": {
     "model_module": "@jupyter-widgets/base",
     "model_module_version": "1.2.0",
     "model_name": "LayoutModel",
     "state": {
      "_model_module": "@jupyter-widgets/base",
      "_model_module_version": "1.2.0",
      "_model_name": "LayoutModel",
      "_view_count": null,
      "_view_module": "@jupyter-widgets/base",
      "_view_module_version": "1.2.0",
      "_view_name": "LayoutView",
      "align_content": null,
      "align_items": null,
      "align_self": null,
      "border": null,
      "bottom": null,
      "display": null,
      "flex": null,
      "flex_flow": null,
      "grid_area": null,
      "grid_auto_columns": null,
      "grid_auto_flow": null,
      "grid_auto_rows": null,
      "grid_column": null,
      "grid_gap": null,
      "grid_row": null,
      "grid_template_areas": null,
      "grid_template_columns": null,
      "grid_template_rows": null,
      "height": null,
      "justify_content": null,
      "justify_items": null,
      "left": null,
      "margin": null,
      "max_height": null,
      "max_width": null,
      "min_height": null,
      "min_width": null,
      "object_fit": null,
      "object_position": null,
      "order": null,
      "overflow": null,
      "overflow_x": null,
      "overflow_y": null,
      "padding": null,
      "right": null,
      "top": null,
      "visibility": null,
      "width": null
     }
    },
    "8321c1c4230248d591b3012fba1dfc73": {
     "model_module": "@jupyter-widgets/base",
     "model_module_version": "1.2.0",
     "model_name": "LayoutModel",
     "state": {
      "_model_module": "@jupyter-widgets/base",
      "_model_module_version": "1.2.0",
      "_model_name": "LayoutModel",
      "_view_count": null,
      "_view_module": "@jupyter-widgets/base",
      "_view_module_version": "1.2.0",
      "_view_name": "LayoutView",
      "align_content": null,
      "align_items": null,
      "align_self": null,
      "border": null,
      "bottom": null,
      "display": null,
      "flex": null,
      "flex_flow": null,
      "grid_area": null,
      "grid_auto_columns": null,
      "grid_auto_flow": null,
      "grid_auto_rows": null,
      "grid_column": null,
      "grid_gap": null,
      "grid_row": null,
      "grid_template_areas": null,
      "grid_template_columns": null,
      "grid_template_rows": null,
      "height": null,
      "justify_content": null,
      "justify_items": null,
      "left": null,
      "margin": null,
      "max_height": null,
      "max_width": null,
      "min_height": null,
      "min_width": null,
      "object_fit": null,
      "object_position": null,
      "order": null,
      "overflow": null,
      "overflow_x": null,
      "overflow_y": null,
      "padding": null,
      "right": null,
      "top": null,
      "visibility": null,
      "width": null
     }
    },
    "83c835348d454a91abf86086652752ef": {
     "model_module": "@jupyter-widgets/controls",
     "model_module_version": "1.5.0",
     "model_name": "HTMLModel",
     "state": {
      "_dom_classes": [],
      "_model_module": "@jupyter-widgets/controls",
      "_model_module_version": "1.5.0",
      "_model_name": "HTMLModel",
      "_view_count": null,
      "_view_module": "@jupyter-widgets/controls",
      "_view_module_version": "1.5.0",
      "_view_name": "HTMLView",
      "description": "",
      "description_tooltip": null,
      "layout": "IPY_MODEL_95f25b0c12034521a72eb5fdab26c572",
      "placeholder": "​",
      "style": "IPY_MODEL_7718a4f9529246be8d649522f524fa90",
      "value": " 1.36M/1.36M [00:00&lt;00:00, 25.6MB/s]"
     }
    },
    "8550b784c2814e598e8c3832e0407e86": {
     "model_module": "@jupyter-widgets/base",
     "model_module_version": "1.2.0",
     "model_name": "LayoutModel",
     "state": {
      "_model_module": "@jupyter-widgets/base",
      "_model_module_version": "1.2.0",
      "_model_name": "LayoutModel",
      "_view_count": null,
      "_view_module": "@jupyter-widgets/base",
      "_view_module_version": "1.2.0",
      "_view_name": "LayoutView",
      "align_content": null,
      "align_items": null,
      "align_self": null,
      "border": null,
      "bottom": null,
      "display": null,
      "flex": null,
      "flex_flow": null,
      "grid_area": null,
      "grid_auto_columns": null,
      "grid_auto_flow": null,
      "grid_auto_rows": null,
      "grid_column": null,
      "grid_gap": null,
      "grid_row": null,
      "grid_template_areas": null,
      "grid_template_columns": null,
      "grid_template_rows": null,
      "height": null,
      "justify_content": null,
      "justify_items": null,
      "left": null,
      "margin": null,
      "max_height": null,
      "max_width": null,
      "min_height": null,
      "min_width": null,
      "object_fit": null,
      "object_position": null,
      "order": null,
      "overflow": null,
      "overflow_x": null,
      "overflow_y": null,
      "padding": null,
      "right": null,
      "top": null,
      "visibility": null,
      "width": null
     }
    },
    "85bf9dededea406ab029ed795a7d8c62": {
     "model_module": "@jupyter-widgets/base",
     "model_module_version": "1.2.0",
     "model_name": "LayoutModel",
     "state": {
      "_model_module": "@jupyter-widgets/base",
      "_model_module_version": "1.2.0",
      "_model_name": "LayoutModel",
      "_view_count": null,
      "_view_module": "@jupyter-widgets/base",
      "_view_module_version": "1.2.0",
      "_view_name": "LayoutView",
      "align_content": null,
      "align_items": null,
      "align_self": null,
      "border": null,
      "bottom": null,
      "display": null,
      "flex": null,
      "flex_flow": null,
      "grid_area": null,
      "grid_auto_columns": null,
      "grid_auto_flow": null,
      "grid_auto_rows": null,
      "grid_column": null,
      "grid_gap": null,
      "grid_row": null,
      "grid_template_areas": null,
      "grid_template_columns": null,
      "grid_template_rows": null,
      "height": null,
      "justify_content": null,
      "justify_items": null,
      "left": null,
      "margin": null,
      "max_height": null,
      "max_width": null,
      "min_height": null,
      "min_width": null,
      "object_fit": null,
      "object_position": null,
      "order": null,
      "overflow": null,
      "overflow_x": null,
      "overflow_y": null,
      "padding": null,
      "right": null,
      "top": null,
      "visibility": null,
      "width": null
     }
    },
    "8972fc4a5d004bac9c37354c77a6a4da": {
     "model_module": "@jupyter-widgets/controls",
     "model_module_version": "1.5.0",
     "model_name": "DescriptionStyleModel",
     "state": {
      "_model_module": "@jupyter-widgets/controls",
      "_model_module_version": "1.5.0",
      "_model_name": "DescriptionStyleModel",
      "_view_count": null,
      "_view_module": "@jupyter-widgets/base",
      "_view_module_version": "1.2.0",
      "_view_name": "StyleView",
      "description_width": ""
     }
    },
    "898a076abc4841ac965d342cd04d60c4": {
     "model_module": "@jupyter-widgets/controls",
     "model_module_version": "1.5.0",
     "model_name": "DescriptionStyleModel",
     "state": {
      "_model_module": "@jupyter-widgets/controls",
      "_model_module_version": "1.5.0",
      "_model_name": "DescriptionStyleModel",
      "_view_count": null,
      "_view_module": "@jupyter-widgets/base",
      "_view_module_version": "1.2.0",
      "_view_name": "StyleView",
      "description_width": ""
     }
    },
    "8a341c4e1a814c159f99ef0d0d52f09a": {
     "model_module": "@jupyter-widgets/controls",
     "model_module_version": "1.5.0",
     "model_name": "FloatProgressModel",
     "state": {
      "_dom_classes": [],
      "_model_module": "@jupyter-widgets/controls",
      "_model_module_version": "1.5.0",
      "_model_name": "FloatProgressModel",
      "_view_count": null,
      "_view_module": "@jupyter-widgets/controls",
      "_view_module_version": "1.5.0",
      "_view_name": "ProgressView",
      "bar_style": "success",
      "description": "",
      "description_tooltip": null,
      "layout": "IPY_MODEL_b8828567d3ed4212a6e2babd8a0d43f9",
      "max": 1042301,
      "min": 0,
      "orientation": "horizontal",
      "style": "IPY_MODEL_2dd5176d7ed7407c8037c5d1bb882512",
      "value": 1042301
     }
    },
    "8e52b28b03b045be9c55616a77ed677a": {
     "model_module": "@jupyter-widgets/base",
     "model_module_version": "1.2.0",
     "model_name": "LayoutModel",
     "state": {
      "_model_module": "@jupyter-widgets/base",
      "_model_module_version": "1.2.0",
      "_model_name": "LayoutModel",
      "_view_count": null,
      "_view_module": "@jupyter-widgets/base",
      "_view_module_version": "1.2.0",
      "_view_name": "LayoutView",
      "align_content": null,
      "align_items": null,
      "align_self": null,
      "border": null,
      "bottom": null,
      "display": null,
      "flex": null,
      "flex_flow": null,
      "grid_area": null,
      "grid_auto_columns": null,
      "grid_auto_flow": null,
      "grid_auto_rows": null,
      "grid_column": null,
      "grid_gap": null,
      "grid_row": null,
      "grid_template_areas": null,
      "grid_template_columns": null,
      "grid_template_rows": null,
      "height": null,
      "justify_content": null,
      "justify_items": null,
      "left": null,
      "margin": null,
      "max_height": null,
      "max_width": null,
      "min_height": null,
      "min_width": null,
      "object_fit": null,
      "object_position": null,
      "order": null,
      "overflow": null,
      "overflow_x": null,
      "overflow_y": null,
      "padding": null,
      "right": null,
      "top": null,
      "visibility": null,
      "width": null
     }
    },
    "9120a6dd4d1d4d02a22bf43ebdcdc32e": {
     "model_module": "@jupyter-widgets/base",
     "model_module_version": "1.2.0",
     "model_name": "LayoutModel",
     "state": {
      "_model_module": "@jupyter-widgets/base",
      "_model_module_version": "1.2.0",
      "_model_name": "LayoutModel",
      "_view_count": null,
      "_view_module": "@jupyter-widgets/base",
      "_view_module_version": "1.2.0",
      "_view_name": "LayoutView",
      "align_content": null,
      "align_items": null,
      "align_self": null,
      "border": null,
      "bottom": null,
      "display": null,
      "flex": null,
      "flex_flow": null,
      "grid_area": null,
      "grid_auto_columns": null,
      "grid_auto_flow": null,
      "grid_auto_rows": null,
      "grid_column": null,
      "grid_gap": null,
      "grid_row": null,
      "grid_template_areas": null,
      "grid_template_columns": null,
      "grid_template_rows": null,
      "height": null,
      "justify_content": null,
      "justify_items": null,
      "left": null,
      "margin": null,
      "max_height": null,
      "max_width": null,
      "min_height": null,
      "min_width": null,
      "object_fit": null,
      "object_position": null,
      "order": null,
      "overflow": null,
      "overflow_x": null,
      "overflow_y": null,
      "padding": null,
      "right": null,
      "top": null,
      "visibility": null,
      "width": null
     }
    },
    "924fac28817241bca46380ab92ff88de": {
     "model_module": "@jupyter-widgets/base",
     "model_module_version": "1.2.0",
     "model_name": "LayoutModel",
     "state": {
      "_model_module": "@jupyter-widgets/base",
      "_model_module_version": "1.2.0",
      "_model_name": "LayoutModel",
      "_view_count": null,
      "_view_module": "@jupyter-widgets/base",
      "_view_module_version": "1.2.0",
      "_view_name": "LayoutView",
      "align_content": null,
      "align_items": null,
      "align_self": null,
      "border": null,
      "bottom": null,
      "display": null,
      "flex": null,
      "flex_flow": null,
      "grid_area": null,
      "grid_auto_columns": null,
      "grid_auto_flow": null,
      "grid_auto_rows": null,
      "grid_column": null,
      "grid_gap": null,
      "grid_row": null,
      "grid_template_areas": null,
      "grid_template_columns": null,
      "grid_template_rows": null,
      "height": null,
      "justify_content": null,
      "justify_items": null,
      "left": null,
      "margin": null,
      "max_height": null,
      "max_width": null,
      "min_height": null,
      "min_width": null,
      "object_fit": null,
      "object_position": null,
      "order": null,
      "overflow": null,
      "overflow_x": null,
      "overflow_y": null,
      "padding": null,
      "right": null,
      "top": null,
      "visibility": null,
      "width": null
     }
    },
    "9443fdfb24024765bd89aeea73fffa63": {
     "model_module": "@jupyter-widgets/base",
     "model_module_version": "1.2.0",
     "model_name": "LayoutModel",
     "state": {
      "_model_module": "@jupyter-widgets/base",
      "_model_module_version": "1.2.0",
      "_model_name": "LayoutModel",
      "_view_count": null,
      "_view_module": "@jupyter-widgets/base",
      "_view_module_version": "1.2.0",
      "_view_name": "LayoutView",
      "align_content": null,
      "align_items": null,
      "align_self": null,
      "border": null,
      "bottom": null,
      "display": null,
      "flex": null,
      "flex_flow": null,
      "grid_area": null,
      "grid_auto_columns": null,
      "grid_auto_flow": null,
      "grid_auto_rows": null,
      "grid_column": null,
      "grid_gap": null,
      "grid_row": null,
      "grid_template_areas": null,
      "grid_template_columns": null,
      "grid_template_rows": null,
      "height": null,
      "justify_content": null,
      "justify_items": null,
      "left": null,
      "margin": null,
      "max_height": null,
      "max_width": null,
      "min_height": null,
      "min_width": null,
      "object_fit": null,
      "object_position": null,
      "order": null,
      "overflow": null,
      "overflow_x": null,
      "overflow_y": null,
      "padding": null,
      "right": null,
      "top": null,
      "visibility": null,
      "width": null
     }
    },
    "949570676e944dc3a8ad4b2eb492ce17": {
     "model_module": "@jupyter-widgets/controls",
     "model_module_version": "1.5.0",
     "model_name": "HBoxModel",
     "state": {
      "_dom_classes": [],
      "_model_module": "@jupyter-widgets/controls",
      "_model_module_version": "1.5.0",
      "_model_name": "HBoxModel",
      "_view_count": null,
      "_view_module": "@jupyter-widgets/controls",
      "_view_module_version": "1.5.0",
      "_view_name": "HBoxView",
      "box_style": "",
      "children": [
       "IPY_MODEL_2dd64da066ef42fbbcf12829f5743cb1",
       "IPY_MODEL_d8c4ee188fea437a8b56faeb43fc3b69",
       "IPY_MODEL_f42b4beee365478eb8ac44b096aca2ba"
      ],
      "layout": "IPY_MODEL_4d50383e1f5a4697ba2ba61fa85cb842"
     }
    },
    "95f25b0c12034521a72eb5fdab26c572": {
     "model_module": "@jupyter-widgets/base",
     "model_module_version": "1.2.0",
     "model_name": "LayoutModel",
     "state": {
      "_model_module": "@jupyter-widgets/base",
      "_model_module_version": "1.2.0",
      "_model_name": "LayoutModel",
      "_view_count": null,
      "_view_module": "@jupyter-widgets/base",
      "_view_module_version": "1.2.0",
      "_view_name": "LayoutView",
      "align_content": null,
      "align_items": null,
      "align_self": null,
      "border": null,
      "bottom": null,
      "display": null,
      "flex": null,
      "flex_flow": null,
      "grid_area": null,
      "grid_auto_columns": null,
      "grid_auto_flow": null,
      "grid_auto_rows": null,
      "grid_column": null,
      "grid_gap": null,
      "grid_row": null,
      "grid_template_areas": null,
      "grid_template_columns": null,
      "grid_template_rows": null,
      "height": null,
      "justify_content": null,
      "justify_items": null,
      "left": null,
      "margin": null,
      "max_height": null,
      "max_width": null,
      "min_height": null,
      "min_width": null,
      "object_fit": null,
      "object_position": null,
      "order": null,
      "overflow": null,
      "overflow_x": null,
      "overflow_y": null,
      "padding": null,
      "right": null,
      "top": null,
      "visibility": null,
      "width": null
     }
    },
    "965317413f2947078a4d8d4bccb47a7b": {
     "model_module": "@jupyter-widgets/controls",
     "model_module_version": "1.5.0",
     "model_name": "HBoxModel",
     "state": {
      "_dom_classes": [],
      "_model_module": "@jupyter-widgets/controls",
      "_model_module_version": "1.5.0",
      "_model_name": "HBoxModel",
      "_view_count": null,
      "_view_module": "@jupyter-widgets/controls",
      "_view_module_version": "1.5.0",
      "_view_name": "HBoxView",
      "box_style": "",
      "children": [
       "IPY_MODEL_9ecc7e3f91fd4582ad7b7b629bcf0e77",
       "IPY_MODEL_f63847d56e12470db59395b6d9eb9b1c",
       "IPY_MODEL_1a64c18c73144d6198c0856fd884bb1b"
      ],
      "layout": "IPY_MODEL_221d8415febe48398a0e0cae6b5b83fd"
     }
    },
    "97eeebc38e6e4271ada61b43f615bebe": {
     "model_module": "@jupyter-widgets/controls",
     "model_module_version": "1.5.0",
     "model_name": "DescriptionStyleModel",
     "state": {
      "_model_module": "@jupyter-widgets/controls",
      "_model_module_version": "1.5.0",
      "_model_name": "DescriptionStyleModel",
      "_view_count": null,
      "_view_module": "@jupyter-widgets/base",
      "_view_module_version": "1.2.0",
      "_view_name": "StyleView",
      "description_width": ""
     }
    },
    "9961e2ac08f241d8a34fca128b685eb6": {
     "model_module": "@jupyter-widgets/base",
     "model_module_version": "1.2.0",
     "model_name": "LayoutModel",
     "state": {
      "_model_module": "@jupyter-widgets/base",
      "_model_module_version": "1.2.0",
      "_model_name": "LayoutModel",
      "_view_count": null,
      "_view_module": "@jupyter-widgets/base",
      "_view_module_version": "1.2.0",
      "_view_name": "LayoutView",
      "align_content": null,
      "align_items": null,
      "align_self": null,
      "border": null,
      "bottom": null,
      "display": null,
      "flex": null,
      "flex_flow": null,
      "grid_area": null,
      "grid_auto_columns": null,
      "grid_auto_flow": null,
      "grid_auto_rows": null,
      "grid_column": null,
      "grid_gap": null,
      "grid_row": null,
      "grid_template_areas": null,
      "grid_template_columns": null,
      "grid_template_rows": null,
      "height": null,
      "justify_content": null,
      "justify_items": null,
      "left": null,
      "margin": null,
      "max_height": null,
      "max_width": null,
      "min_height": null,
      "min_width": null,
      "object_fit": null,
      "object_position": null,
      "order": null,
      "overflow": null,
      "overflow_x": null,
      "overflow_y": null,
      "padding": null,
      "right": null,
      "top": null,
      "visibility": null,
      "width": null
     }
    },
    "99f44bb8d1524a858a658b8979d7160d": {
     "model_module": "@jupyter-widgets/controls",
     "model_module_version": "1.5.0",
     "model_name": "HBoxModel",
     "state": {
      "_dom_classes": [],
      "_model_module": "@jupyter-widgets/controls",
      "_model_module_version": "1.5.0",
      "_model_name": "HBoxModel",
      "_view_count": null,
      "_view_module": "@jupyter-widgets/controls",
      "_view_module_version": "1.5.0",
      "_view_name": "HBoxView",
      "box_style": "",
      "children": [
       "IPY_MODEL_fd09ddfbf47b4fafba9142ccc2861228",
       "IPY_MODEL_37e501b1201b4b2e8b37ad05fbd0bd2d",
       "IPY_MODEL_83c835348d454a91abf86086652752ef"
      ],
      "layout": "IPY_MODEL_924fac28817241bca46380ab92ff88de"
     }
    },
    "9a613918fbc04d38b03e533ec49b082a": {
     "model_module": "@jupyter-widgets/controls",
     "model_module_version": "1.5.0",
     "model_name": "DescriptionStyleModel",
     "state": {
      "_model_module": "@jupyter-widgets/controls",
      "_model_module_version": "1.5.0",
      "_model_name": "DescriptionStyleModel",
      "_view_count": null,
      "_view_module": "@jupyter-widgets/base",
      "_view_module_version": "1.2.0",
      "_view_name": "StyleView",
      "description_width": ""
     }
    },
    "9c72b9fa1ba4450c97a54f7ceb472565": {
     "model_module": "@jupyter-widgets/controls",
     "model_module_version": "1.5.0",
     "model_name": "HTMLModel",
     "state": {
      "_dom_classes": [],
      "_model_module": "@jupyter-widgets/controls",
      "_model_module_version": "1.5.0",
      "_model_name": "HTMLModel",
      "_view_count": null,
      "_view_module": "@jupyter-widgets/controls",
      "_view_module_version": "1.5.0",
      "_view_name": "HTMLView",
      "description": "",
      "description_tooltip": null,
      "layout": "IPY_MODEL_9961e2ac08f241d8a34fca128b685eb6",
      "placeholder": "​",
      "style": "IPY_MODEL_5bf2f26c820449c9ac28f2eec85da30b",
      "value": " 1.04M/1.04M [00:00&lt;00:00, 4.25MB/s]"
     }
    },
    "9da6a29052ad4261a078ffc5c140b6df": {
     "model_module": "@jupyter-widgets/controls",
     "model_module_version": "1.5.0",
     "model_name": "HBoxModel",
     "state": {
      "_dom_classes": [],
      "_model_module": "@jupyter-widgets/controls",
      "_model_module_version": "1.5.0",
      "_model_name": "HBoxModel",
      "_view_count": null,
      "_view_module": "@jupyter-widgets/controls",
      "_view_module_version": "1.5.0",
      "_view_name": "HBoxView",
      "box_style": "",
      "children": [
       "IPY_MODEL_0da34005d3114be8bb37a1dae4b75a00",
       "IPY_MODEL_17d8449e1efb48ca8f611d43f21bcd23",
       "IPY_MODEL_ae424367f42e45269d938f0fd52a95a0"
      ],
      "layout": "IPY_MODEL_9443fdfb24024765bd89aeea73fffa63"
     }
    },
    "9ecc7e3f91fd4582ad7b7b629bcf0e77": {
     "model_module": "@jupyter-widgets/controls",
     "model_module_version": "1.5.0",
     "model_name": "HTMLModel",
     "state": {
      "_dom_classes": [],
      "_model_module": "@jupyter-widgets/controls",
      "_model_module_version": "1.5.0",
      "_model_name": "HTMLModel",
      "_view_count": null,
      "_view_module": "@jupyter-widgets/controls",
      "_view_module_version": "1.5.0",
      "_view_name": "HTMLView",
      "description": "",
      "description_tooltip": null,
      "layout": "IPY_MODEL_bf07d396576c43c7b16edabfe2a99685",
      "placeholder": "​",
      "style": "IPY_MODEL_071cfb3f4da54ab9b60f2983999802bf",
      "value": "generation_config.json: 100%"
     }
    },
    "9ef90fad82e34b4dab525b201426546d": {
     "model_module": "@jupyter-widgets/base",
     "model_module_version": "1.2.0",
     "model_name": "LayoutModel",
     "state": {
      "_model_module": "@jupyter-widgets/base",
      "_model_module_version": "1.2.0",
      "_model_name": "LayoutModel",
      "_view_count": null,
      "_view_module": "@jupyter-widgets/base",
      "_view_module_version": "1.2.0",
      "_view_name": "LayoutView",
      "align_content": null,
      "align_items": null,
      "align_self": null,
      "border": null,
      "bottom": null,
      "display": null,
      "flex": null,
      "flex_flow": null,
      "grid_area": null,
      "grid_auto_columns": null,
      "grid_auto_flow": null,
      "grid_auto_rows": null,
      "grid_column": null,
      "grid_gap": null,
      "grid_row": null,
      "grid_template_areas": null,
      "grid_template_columns": null,
      "grid_template_rows": null,
      "height": null,
      "justify_content": null,
      "justify_items": null,
      "left": null,
      "margin": null,
      "max_height": null,
      "max_width": null,
      "min_height": null,
      "min_width": null,
      "object_fit": null,
      "object_position": null,
      "order": null,
      "overflow": null,
      "overflow_x": null,
      "overflow_y": null,
      "padding": null,
      "right": null,
      "top": null,
      "visibility": null,
      "width": null
     }
    },
    "a3ebed5cbb644a0db99e2537a06d5756": {
     "model_module": "@jupyter-widgets/controls",
     "model_module_version": "1.5.0",
     "model_name": "DescriptionStyleModel",
     "state": {
      "_model_module": "@jupyter-widgets/controls",
      "_model_module_version": "1.5.0",
      "_model_name": "DescriptionStyleModel",
      "_view_count": null,
      "_view_module": "@jupyter-widgets/base",
      "_view_module_version": "1.2.0",
      "_view_name": "StyleView",
      "description_width": ""
     }
    },
    "a5b19ad63c9f4526abc8c879c32dd030": {
     "model_module": "@jupyter-widgets/base",
     "model_module_version": "1.2.0",
     "model_name": "LayoutModel",
     "state": {
      "_model_module": "@jupyter-widgets/base",
      "_model_module_version": "1.2.0",
      "_model_name": "LayoutModel",
      "_view_count": null,
      "_view_module": "@jupyter-widgets/base",
      "_view_module_version": "1.2.0",
      "_view_name": "LayoutView",
      "align_content": null,
      "align_items": null,
      "align_self": null,
      "border": null,
      "bottom": null,
      "display": null,
      "flex": null,
      "flex_flow": null,
      "grid_area": null,
      "grid_auto_columns": null,
      "grid_auto_flow": null,
      "grid_auto_rows": null,
      "grid_column": null,
      "grid_gap": null,
      "grid_row": null,
      "grid_template_areas": null,
      "grid_template_columns": null,
      "grid_template_rows": null,
      "height": null,
      "justify_content": null,
      "justify_items": null,
      "left": null,
      "margin": null,
      "max_height": null,
      "max_width": null,
      "min_height": null,
      "min_width": null,
      "object_fit": null,
      "object_position": null,
      "order": null,
      "overflow": null,
      "overflow_x": null,
      "overflow_y": null,
      "padding": null,
      "right": null,
      "top": null,
      "visibility": null,
      "width": null
     }
    },
    "a67bb34f3d9846a4b8dd74a29de2fe7f": {
     "model_module": "@jupyter-widgets/base",
     "model_module_version": "1.2.0",
     "model_name": "LayoutModel",
     "state": {
      "_model_module": "@jupyter-widgets/base",
      "_model_module_version": "1.2.0",
      "_model_name": "LayoutModel",
      "_view_count": null,
      "_view_module": "@jupyter-widgets/base",
      "_view_module_version": "1.2.0",
      "_view_name": "LayoutView",
      "align_content": null,
      "align_items": null,
      "align_self": null,
      "border": null,
      "bottom": null,
      "display": null,
      "flex": null,
      "flex_flow": null,
      "grid_area": null,
      "grid_auto_columns": null,
      "grid_auto_flow": null,
      "grid_auto_rows": null,
      "grid_column": null,
      "grid_gap": null,
      "grid_row": null,
      "grid_template_areas": null,
      "grid_template_columns": null,
      "grid_template_rows": null,
      "height": null,
      "justify_content": null,
      "justify_items": null,
      "left": null,
      "margin": null,
      "max_height": null,
      "max_width": null,
      "min_height": null,
      "min_width": null,
      "object_fit": null,
      "object_position": null,
      "order": null,
      "overflow": null,
      "overflow_x": null,
      "overflow_y": null,
      "padding": null,
      "right": null,
      "top": null,
      "visibility": null,
      "width": null
     }
    },
    "ab192c898eee4c0183827d70a2fd37c5": {
     "model_module": "@jupyter-widgets/controls",
     "model_module_version": "1.5.0",
     "model_name": "FloatProgressModel",
     "state": {
      "_dom_classes": [],
      "_model_module": "@jupyter-widgets/controls",
      "_model_module_version": "1.5.0",
      "_model_name": "FloatProgressModel",
      "_view_count": null,
      "_view_module": "@jupyter-widgets/controls",
      "_view_module_version": "1.5.0",
      "_view_name": "ProgressView",
      "bar_style": "success",
      "description": "",
      "description_tooltip": null,
      "layout": "IPY_MODEL_218388ff30e54134b5089a6639a351be",
      "max": 548105171,
      "min": 0,
      "orientation": "horizontal",
      "style": "IPY_MODEL_c542b16a9ce54a9a811c5aff82a8cd26",
      "value": 548105171
     }
    },
    "ab729dcabb4444758871641a6b58e7bd": {
     "model_module": "@jupyter-widgets/controls",
     "model_module_version": "1.5.0",
     "model_name": "HTMLModel",
     "state": {
      "_dom_classes": [],
      "_model_module": "@jupyter-widgets/controls",
      "_model_module_version": "1.5.0",
      "_model_name": "HTMLModel",
      "_view_count": null,
      "_view_module": "@jupyter-widgets/controls",
      "_view_module_version": "1.5.0",
      "_view_name": "HTMLView",
      "description": "",
      "description_tooltip": null,
      "layout": "IPY_MODEL_8e52b28b03b045be9c55616a77ed677a",
      "placeholder": "​",
      "style": "IPY_MODEL_9a613918fbc04d38b03e533ec49b082a",
      "value": " 665/665 [00:00&lt;00:00, 17.7kB/s]"
     }
    },
    "ae424367f42e45269d938f0fd52a95a0": {
     "model_module": "@jupyter-widgets/controls",
     "model_module_version": "1.5.0",
     "model_name": "HTMLModel",
     "state": {
      "_dom_classes": [],
      "_model_module": "@jupyter-widgets/controls",
      "_model_module_version": "1.5.0",
      "_model_name": "HTMLModel",
      "_view_count": null,
      "_view_module": "@jupyter-widgets/controls",
      "_view_module_version": "1.5.0",
      "_view_name": "HTMLView",
      "description": "",
      "description_tooltip": null,
      "layout": "IPY_MODEL_324e94b9dc9046848b79548021e3af07",
      "placeholder": "​",
      "style": "IPY_MODEL_c34dd4eadf6e4f47b352c71ccdb5daeb",
      "value": " 26.0/26.0 [00:00&lt;00:00, 336B/s]"
     }
    },
    "ae9df36ba81649b7bebd853ae2de159b": {
     "model_module": "@jupyter-widgets/controls",
     "model_module_version": "1.5.0",
     "model_name": "ProgressStyleModel",
     "state": {
      "_model_module": "@jupyter-widgets/controls",
      "_model_module_version": "1.5.0",
      "_model_name": "ProgressStyleModel",
      "_view_count": null,
      "_view_module": "@jupyter-widgets/base",
      "_view_module_version": "1.2.0",
      "_view_name": "StyleView",
      "bar_color": null,
      "description_width": ""
     }
    },
    "af9fc28d3e5345cdad61485800e77602": {
     "model_module": "@jupyter-widgets/base",
     "model_module_version": "1.2.0",
     "model_name": "LayoutModel",
     "state": {
      "_model_module": "@jupyter-widgets/base",
      "_model_module_version": "1.2.0",
      "_model_name": "LayoutModel",
      "_view_count": null,
      "_view_module": "@jupyter-widgets/base",
      "_view_module_version": "1.2.0",
      "_view_name": "LayoutView",
      "align_content": null,
      "align_items": null,
      "align_self": null,
      "border": null,
      "bottom": null,
      "display": null,
      "flex": null,
      "flex_flow": null,
      "grid_area": null,
      "grid_auto_columns": null,
      "grid_auto_flow": null,
      "grid_auto_rows": null,
      "grid_column": null,
      "grid_gap": null,
      "grid_row": null,
      "grid_template_areas": null,
      "grid_template_columns": null,
      "grid_template_rows": null,
      "height": null,
      "justify_content": null,
      "justify_items": null,
      "left": null,
      "margin": null,
      "max_height": null,
      "max_width": null,
      "min_height": null,
      "min_width": null,
      "object_fit": null,
      "object_position": null,
      "order": null,
      "overflow": null,
      "overflow_x": null,
      "overflow_y": null,
      "padding": null,
      "right": null,
      "top": null,
      "visibility": null,
      "width": null
     }
    },
    "b1be8125bc9e411c9ce4b9e8b9172198": {
     "model_module": "@jupyter-widgets/base",
     "model_module_version": "1.2.0",
     "model_name": "LayoutModel",
     "state": {
      "_model_module": "@jupyter-widgets/base",
      "_model_module_version": "1.2.0",
      "_model_name": "LayoutModel",
      "_view_count": null,
      "_view_module": "@jupyter-widgets/base",
      "_view_module_version": "1.2.0",
      "_view_name": "LayoutView",
      "align_content": null,
      "align_items": null,
      "align_self": null,
      "border": null,
      "bottom": null,
      "display": null,
      "flex": null,
      "flex_flow": null,
      "grid_area": null,
      "grid_auto_columns": null,
      "grid_auto_flow": null,
      "grid_auto_rows": null,
      "grid_column": null,
      "grid_gap": null,
      "grid_row": null,
      "grid_template_areas": null,
      "grid_template_columns": null,
      "grid_template_rows": null,
      "height": null,
      "justify_content": null,
      "justify_items": null,
      "left": null,
      "margin": null,
      "max_height": null,
      "max_width": null,
      "min_height": null,
      "min_width": null,
      "object_fit": null,
      "object_position": null,
      "order": null,
      "overflow": null,
      "overflow_x": null,
      "overflow_y": null,
      "padding": null,
      "right": null,
      "top": null,
      "visibility": null,
      "width": null
     }
    },
    "b1d6b7ee54ec4a3e9ddd260f48948358": {
     "model_module": "@jupyter-widgets/controls",
     "model_module_version": "1.5.0",
     "model_name": "DescriptionStyleModel",
     "state": {
      "_model_module": "@jupyter-widgets/controls",
      "_model_module_version": "1.5.0",
      "_model_name": "DescriptionStyleModel",
      "_view_count": null,
      "_view_module": "@jupyter-widgets/base",
      "_view_module_version": "1.2.0",
      "_view_name": "StyleView",
      "description_width": ""
     }
    },
    "b8828567d3ed4212a6e2babd8a0d43f9": {
     "model_module": "@jupyter-widgets/base",
     "model_module_version": "1.2.0",
     "model_name": "LayoutModel",
     "state": {
      "_model_module": "@jupyter-widgets/base",
      "_model_module_version": "1.2.0",
      "_model_name": "LayoutModel",
      "_view_count": null,
      "_view_module": "@jupyter-widgets/base",
      "_view_module_version": "1.2.0",
      "_view_name": "LayoutView",
      "align_content": null,
      "align_items": null,
      "align_self": null,
      "border": null,
      "bottom": null,
      "display": null,
      "flex": null,
      "flex_flow": null,
      "grid_area": null,
      "grid_auto_columns": null,
      "grid_auto_flow": null,
      "grid_auto_rows": null,
      "grid_column": null,
      "grid_gap": null,
      "grid_row": null,
      "grid_template_areas": null,
      "grid_template_columns": null,
      "grid_template_rows": null,
      "height": null,
      "justify_content": null,
      "justify_items": null,
      "left": null,
      "margin": null,
      "max_height": null,
      "max_width": null,
      "min_height": null,
      "min_width": null,
      "object_fit": null,
      "object_position": null,
      "order": null,
      "overflow": null,
      "overflow_x": null,
      "overflow_y": null,
      "padding": null,
      "right": null,
      "top": null,
      "visibility": null,
      "width": null
     }
    },
    "be303357b06c466b987b09b852e2de8a": {
     "model_module": "@jupyter-widgets/base",
     "model_module_version": "1.2.0",
     "model_name": "LayoutModel",
     "state": {
      "_model_module": "@jupyter-widgets/base",
      "_model_module_version": "1.2.0",
      "_model_name": "LayoutModel",
      "_view_count": null,
      "_view_module": "@jupyter-widgets/base",
      "_view_module_version": "1.2.0",
      "_view_name": "LayoutView",
      "align_content": null,
      "align_items": null,
      "align_self": null,
      "border": null,
      "bottom": null,
      "display": null,
      "flex": null,
      "flex_flow": null,
      "grid_area": null,
      "grid_auto_columns": null,
      "grid_auto_flow": null,
      "grid_auto_rows": null,
      "grid_column": null,
      "grid_gap": null,
      "grid_row": null,
      "grid_template_areas": null,
      "grid_template_columns": null,
      "grid_template_rows": null,
      "height": null,
      "justify_content": null,
      "justify_items": null,
      "left": null,
      "margin": null,
      "max_height": null,
      "max_width": null,
      "min_height": null,
      "min_width": null,
      "object_fit": null,
      "object_position": null,
      "order": null,
      "overflow": null,
      "overflow_x": null,
      "overflow_y": null,
      "padding": null,
      "right": null,
      "top": null,
      "visibility": null,
      "width": null
     }
    },
    "bf07d396576c43c7b16edabfe2a99685": {
     "model_module": "@jupyter-widgets/base",
     "model_module_version": "1.2.0",
     "model_name": "LayoutModel",
     "state": {
      "_model_module": "@jupyter-widgets/base",
      "_model_module_version": "1.2.0",
      "_model_name": "LayoutModel",
      "_view_count": null,
      "_view_module": "@jupyter-widgets/base",
      "_view_module_version": "1.2.0",
      "_view_name": "LayoutView",
      "align_content": null,
      "align_items": null,
      "align_self": null,
      "border": null,
      "bottom": null,
      "display": null,
      "flex": null,
      "flex_flow": null,
      "grid_area": null,
      "grid_auto_columns": null,
      "grid_auto_flow": null,
      "grid_auto_rows": null,
      "grid_column": null,
      "grid_gap": null,
      "grid_row": null,
      "grid_template_areas": null,
      "grid_template_columns": null,
      "grid_template_rows": null,
      "height": null,
      "justify_content": null,
      "justify_items": null,
      "left": null,
      "margin": null,
      "max_height": null,
      "max_width": null,
      "min_height": null,
      "min_width": null,
      "object_fit": null,
      "object_position": null,
      "order": null,
      "overflow": null,
      "overflow_x": null,
      "overflow_y": null,
      "padding": null,
      "right": null,
      "top": null,
      "visibility": null,
      "width": null
     }
    },
    "c141b22cda694ee09cb267c2e61d7a39": {
     "model_module": "@jupyter-widgets/controls",
     "model_module_version": "1.5.0",
     "model_name": "DescriptionStyleModel",
     "state": {
      "_model_module": "@jupyter-widgets/controls",
      "_model_module_version": "1.5.0",
      "_model_name": "DescriptionStyleModel",
      "_view_count": null,
      "_view_module": "@jupyter-widgets/base",
      "_view_module_version": "1.2.0",
      "_view_name": "StyleView",
      "description_width": ""
     }
    },
    "c23214cb1164444291e320396ecc864f": {
     "model_module": "@jupyter-widgets/controls",
     "model_module_version": "1.5.0",
     "model_name": "DescriptionStyleModel",
     "state": {
      "_model_module": "@jupyter-widgets/controls",
      "_model_module_version": "1.5.0",
      "_model_name": "DescriptionStyleModel",
      "_view_count": null,
      "_view_module": "@jupyter-widgets/base",
      "_view_module_version": "1.2.0",
      "_view_name": "StyleView",
      "description_width": ""
     }
    },
    "c2ce0b27f6784c12966f29f2f15e023c": {
     "model_module": "@jupyter-widgets/base",
     "model_module_version": "1.2.0",
     "model_name": "LayoutModel",
     "state": {
      "_model_module": "@jupyter-widgets/base",
      "_model_module_version": "1.2.0",
      "_model_name": "LayoutModel",
      "_view_count": null,
      "_view_module": "@jupyter-widgets/base",
      "_view_module_version": "1.2.0",
      "_view_name": "LayoutView",
      "align_content": null,
      "align_items": null,
      "align_self": null,
      "border": null,
      "bottom": null,
      "display": null,
      "flex": null,
      "flex_flow": null,
      "grid_area": null,
      "grid_auto_columns": null,
      "grid_auto_flow": null,
      "grid_auto_rows": null,
      "grid_column": null,
      "grid_gap": null,
      "grid_row": null,
      "grid_template_areas": null,
      "grid_template_columns": null,
      "grid_template_rows": null,
      "height": null,
      "justify_content": null,
      "justify_items": null,
      "left": null,
      "margin": null,
      "max_height": null,
      "max_width": null,
      "min_height": null,
      "min_width": null,
      "object_fit": null,
      "object_position": null,
      "order": null,
      "overflow": null,
      "overflow_x": null,
      "overflow_y": null,
      "padding": null,
      "right": null,
      "top": null,
      "visibility": null,
      "width": null
     }
    },
    "c34dd4eadf6e4f47b352c71ccdb5daeb": {
     "model_module": "@jupyter-widgets/controls",
     "model_module_version": "1.5.0",
     "model_name": "DescriptionStyleModel",
     "state": {
      "_model_module": "@jupyter-widgets/controls",
      "_model_module_version": "1.5.0",
      "_model_name": "DescriptionStyleModel",
      "_view_count": null,
      "_view_module": "@jupyter-widgets/base",
      "_view_module_version": "1.2.0",
      "_view_name": "StyleView",
      "description_width": ""
     }
    },
    "c3bf5910c4b64ba1bf835f8eb377a822": {
     "model_module": "@jupyter-widgets/controls",
     "model_module_version": "1.5.0",
     "model_name": "HTMLModel",
     "state": {
      "_dom_classes": [],
      "_model_module": "@jupyter-widgets/controls",
      "_model_module_version": "1.5.0",
      "_model_name": "HTMLModel",
      "_view_count": null,
      "_view_module": "@jupyter-widgets/controls",
      "_view_module_version": "1.5.0",
      "_view_name": "HTMLView",
      "description": "",
      "description_tooltip": null,
      "layout": "IPY_MODEL_10f05bcfa7034655b125880156c95b49",
      "placeholder": "​",
      "style": "IPY_MODEL_41994d51d961406ebc73209312c133d7",
      "value": "Map: 100%"
     }
    },
    "c4513611a35e4ed08f1df9dc02b8e13c": {
     "model_module": "@jupyter-widgets/controls",
     "model_module_version": "1.5.0",
     "model_name": "FloatProgressModel",
     "state": {
      "_dom_classes": [],
      "_model_module": "@jupyter-widgets/controls",
      "_model_module_version": "1.5.0",
      "_model_name": "FloatProgressModel",
      "_view_count": null,
      "_view_module": "@jupyter-widgets/controls",
      "_view_module_version": "1.5.0",
      "_view_name": "ProgressView",
      "bar_style": "success",
      "description": "",
      "description_tooltip": null,
      "layout": "IPY_MODEL_1b0f6513bd454654b6a6da4bef6e2d46",
      "max": 26,
      "min": 0,
      "orientation": "horizontal",
      "style": "IPY_MODEL_62bfa4cd4bdc42d88ab59c6a7e91c7bf",
      "value": 26
     }
    },
    "c542b16a9ce54a9a811c5aff82a8cd26": {
     "model_module": "@jupyter-widgets/controls",
     "model_module_version": "1.5.0",
     "model_name": "ProgressStyleModel",
     "state": {
      "_model_module": "@jupyter-widgets/controls",
      "_model_module_version": "1.5.0",
      "_model_name": "ProgressStyleModel",
      "_view_count": null,
      "_view_module": "@jupyter-widgets/base",
      "_view_module_version": "1.2.0",
      "_view_name": "StyleView",
      "bar_color": null,
      "description_width": ""
     }
    },
    "c678a40e08c8474288c4a1409c6c40ac": {
     "model_module": "@jupyter-widgets/base",
     "model_module_version": "1.2.0",
     "model_name": "LayoutModel",
     "state": {
      "_model_module": "@jupyter-widgets/base",
      "_model_module_version": "1.2.0",
      "_model_name": "LayoutModel",
      "_view_count": null,
      "_view_module": "@jupyter-widgets/base",
      "_view_module_version": "1.2.0",
      "_view_name": "LayoutView",
      "align_content": null,
      "align_items": null,
      "align_self": null,
      "border": null,
      "bottom": null,
      "display": null,
      "flex": null,
      "flex_flow": null,
      "grid_area": null,
      "grid_auto_columns": null,
      "grid_auto_flow": null,
      "grid_auto_rows": null,
      "grid_column": null,
      "grid_gap": null,
      "grid_row": null,
      "grid_template_areas": null,
      "grid_template_columns": null,
      "grid_template_rows": null,
      "height": null,
      "justify_content": null,
      "justify_items": null,
      "left": null,
      "margin": null,
      "max_height": null,
      "max_width": null,
      "min_height": null,
      "min_width": null,
      "object_fit": null,
      "object_position": null,
      "order": null,
      "overflow": null,
      "overflow_x": null,
      "overflow_y": null,
      "padding": null,
      "right": null,
      "top": null,
      "visibility": null,
      "width": null
     }
    },
    "c8293396eb93424d83cfffe4bf7c2661": {
     "model_module": "@jupyter-widgets/controls",
     "model_module_version": "1.5.0",
     "model_name": "DescriptionStyleModel",
     "state": {
      "_model_module": "@jupyter-widgets/controls",
      "_model_module_version": "1.5.0",
      "_model_name": "DescriptionStyleModel",
      "_view_count": null,
      "_view_module": "@jupyter-widgets/base",
      "_view_module_version": "1.2.0",
      "_view_name": "StyleView",
      "description_width": ""
     }
    },
    "ca8ed630577343a99bd16d08032ab2a4": {
     "model_module": "@jupyter-widgets/base",
     "model_module_version": "1.2.0",
     "model_name": "LayoutModel",
     "state": {
      "_model_module": "@jupyter-widgets/base",
      "_model_module_version": "1.2.0",
      "_model_name": "LayoutModel",
      "_view_count": null,
      "_view_module": "@jupyter-widgets/base",
      "_view_module_version": "1.2.0",
      "_view_name": "LayoutView",
      "align_content": null,
      "align_items": null,
      "align_self": null,
      "border": null,
      "bottom": null,
      "display": null,
      "flex": null,
      "flex_flow": null,
      "grid_area": null,
      "grid_auto_columns": null,
      "grid_auto_flow": null,
      "grid_auto_rows": null,
      "grid_column": null,
      "grid_gap": null,
      "grid_row": null,
      "grid_template_areas": null,
      "grid_template_columns": null,
      "grid_template_rows": null,
      "height": null,
      "justify_content": null,
      "justify_items": null,
      "left": null,
      "margin": null,
      "max_height": null,
      "max_width": null,
      "min_height": null,
      "min_width": null,
      "object_fit": null,
      "object_position": null,
      "order": null,
      "overflow": null,
      "overflow_x": null,
      "overflow_y": null,
      "padding": null,
      "right": null,
      "top": null,
      "visibility": null,
      "width": null
     }
    },
    "d220c4e011764f3c8836196e9f988851": {
     "model_module": "@jupyter-widgets/controls",
     "model_module_version": "1.5.0",
     "model_name": "HTMLModel",
     "state": {
      "_dom_classes": [],
      "_model_module": "@jupyter-widgets/controls",
      "_model_module_version": "1.5.0",
      "_model_name": "HTMLModel",
      "_view_count": null,
      "_view_module": "@jupyter-widgets/controls",
      "_view_module_version": "1.5.0",
      "_view_name": "HTMLView",
      "description": "",
      "description_tooltip": null,
      "layout": "IPY_MODEL_144b1a19e82f49ed864f5d3b72d1c77d",
      "placeholder": "​",
      "style": "IPY_MODEL_68eb8c49cd754932ae06e6acf29f1d11",
      "value": "vocab.json: 100%"
     }
    },
    "d2debad891a341aeb22f1faefc189fc9": {
     "model_module": "@jupyter-widgets/controls",
     "model_module_version": "1.5.0",
     "model_name": "HTMLModel",
     "state": {
      "_dom_classes": [],
      "_model_module": "@jupyter-widgets/controls",
      "_model_module_version": "1.5.0",
      "_model_name": "HTMLModel",
      "_view_count": null,
      "_view_module": "@jupyter-widgets/controls",
      "_view_module_version": "1.5.0",
      "_view_name": "HTMLView",
      "description": "",
      "description_tooltip": null,
      "layout": "IPY_MODEL_a5b19ad63c9f4526abc8c879c32dd030",
      "placeholder": "​",
      "style": "IPY_MODEL_7ad2f6923d304f5089444d45e9361979",
      "value": "vocab.json: 100%"
     }
    },
    "d4d62a97629448eca3ad36cfa40ee125": {
     "model_module": "@jupyter-widgets/base",
     "model_module_version": "1.2.0",
     "model_name": "LayoutModel",
     "state": {
      "_model_module": "@jupyter-widgets/base",
      "_model_module_version": "1.2.0",
      "_model_name": "LayoutModel",
      "_view_count": null,
      "_view_module": "@jupyter-widgets/base",
      "_view_module_version": "1.2.0",
      "_view_name": "LayoutView",
      "align_content": null,
      "align_items": null,
      "align_self": null,
      "border": null,
      "bottom": null,
      "display": null,
      "flex": null,
      "flex_flow": null,
      "grid_area": null,
      "grid_auto_columns": null,
      "grid_auto_flow": null,
      "grid_auto_rows": null,
      "grid_column": null,
      "grid_gap": null,
      "grid_row": null,
      "grid_template_areas": null,
      "grid_template_columns": null,
      "grid_template_rows": null,
      "height": null,
      "justify_content": null,
      "justify_items": null,
      "left": null,
      "margin": null,
      "max_height": null,
      "max_width": null,
      "min_height": null,
      "min_width": null,
      "object_fit": null,
      "object_position": null,
      "order": null,
      "overflow": null,
      "overflow_x": null,
      "overflow_y": null,
      "padding": null,
      "right": null,
      "top": null,
      "visibility": null,
      "width": null
     }
    },
    "d4e5b4a69e744e35b282290b49958920": {
     "model_module": "@jupyter-widgets/controls",
     "model_module_version": "1.5.0",
     "model_name": "HTMLModel",
     "state": {
      "_dom_classes": [],
      "_model_module": "@jupyter-widgets/controls",
      "_model_module_version": "1.5.0",
      "_model_name": "HTMLModel",
      "_view_count": null,
      "_view_module": "@jupyter-widgets/controls",
      "_view_module_version": "1.5.0",
      "_view_name": "HTMLView",
      "description": "",
      "description_tooltip": null,
      "layout": "IPY_MODEL_1d5b0bad1af447b19b30ed7baae09fa5",
      "placeholder": "​",
      "style": "IPY_MODEL_4b96b524c9e7459ca7e519a914b72926",
      "value": "model.safetensors: 100%"
     }
    },
    "d5db72e3a82543b0a07238ffc0a12a59": {
     "model_module": "@jupyter-widgets/controls",
     "model_module_version": "1.5.0",
     "model_name": "ProgressStyleModel",
     "state": {
      "_model_module": "@jupyter-widgets/controls",
      "_model_module_version": "1.5.0",
      "_model_name": "ProgressStyleModel",
      "_view_count": null,
      "_view_module": "@jupyter-widgets/base",
      "_view_module_version": "1.2.0",
      "_view_name": "StyleView",
      "bar_color": null,
      "description_width": ""
     }
    },
    "d6c125cacd004b12a3fea22da17a368f": {
     "model_module": "@jupyter-widgets/controls",
     "model_module_version": "1.5.0",
     "model_name": "HTMLModel",
     "state": {
      "_dom_classes": [],
      "_model_module": "@jupyter-widgets/controls",
      "_model_module_version": "1.5.0",
      "_model_name": "HTMLModel",
      "_view_count": null,
      "_view_module": "@jupyter-widgets/controls",
      "_view_module_version": "1.5.0",
      "_view_name": "HTMLView",
      "description": "",
      "description_tooltip": null,
      "layout": "IPY_MODEL_2a3be23ec2fc471dba263f8c629b309f",
      "placeholder": "​",
      "style": "IPY_MODEL_f389ecfab8384a469bb963faaf1b030d",
      "value": "config.json: 100%"
     }
    },
    "d6f63de9910042b7a7ae89378fc188d2": {
     "model_module": "@jupyter-widgets/controls",
     "model_module_version": "1.5.0",
     "model_name": "HTMLModel",
     "state": {
      "_dom_classes": [],
      "_model_module": "@jupyter-widgets/controls",
      "_model_module_version": "1.5.0",
      "_model_name": "HTMLModel",
      "_view_count": null,
      "_view_module": "@jupyter-widgets/controls",
      "_view_module_version": "1.5.0",
      "_view_name": "HTMLView",
      "description": "",
      "description_tooltip": null,
      "layout": "IPY_MODEL_3d4364e6f3214e4cafe763fb61c292a1",
      "placeholder": "​",
      "style": "IPY_MODEL_21e8b34a2473433db044868bbbb10645",
      "value": " 26.0/26.0 [00:00&lt;00:00, 1.61kB/s]"
     }
    },
    "d726f4e95e5e45c3b8252e7d1f146624": {
     "model_module": "@jupyter-widgets/base",
     "model_module_version": "1.2.0",
     "model_name": "LayoutModel",
     "state": {
      "_model_module": "@jupyter-widgets/base",
      "_model_module_version": "1.2.0",
      "_model_name": "LayoutModel",
      "_view_count": null,
      "_view_module": "@jupyter-widgets/base",
      "_view_module_version": "1.2.0",
      "_view_name": "LayoutView",
      "align_content": null,
      "align_items": null,
      "align_self": null,
      "border": null,
      "bottom": null,
      "display": null,
      "flex": null,
      "flex_flow": null,
      "grid_area": null,
      "grid_auto_columns": null,
      "grid_auto_flow": null,
      "grid_auto_rows": null,
      "grid_column": null,
      "grid_gap": null,
      "grid_row": null,
      "grid_template_areas": null,
      "grid_template_columns": null,
      "grid_template_rows": null,
      "height": null,
      "justify_content": null,
      "justify_items": null,
      "left": null,
      "margin": null,
      "max_height": null,
      "max_width": null,
      "min_height": null,
      "min_width": null,
      "object_fit": null,
      "object_position": null,
      "order": null,
      "overflow": null,
      "overflow_x": null,
      "overflow_y": null,
      "padding": null,
      "right": null,
      "top": null,
      "visibility": null,
      "width": null
     }
    },
    "d73fb71372944b7c864045f7acf57772": {
     "model_module": "@jupyter-widgets/base",
     "model_module_version": "1.2.0",
     "model_name": "LayoutModel",
     "state": {
      "_model_module": "@jupyter-widgets/base",
      "_model_module_version": "1.2.0",
      "_model_name": "LayoutModel",
      "_view_count": null,
      "_view_module": "@jupyter-widgets/base",
      "_view_module_version": "1.2.0",
      "_view_name": "LayoutView",
      "align_content": null,
      "align_items": null,
      "align_self": null,
      "border": null,
      "bottom": null,
      "display": null,
      "flex": null,
      "flex_flow": null,
      "grid_area": null,
      "grid_auto_columns": null,
      "grid_auto_flow": null,
      "grid_auto_rows": null,
      "grid_column": null,
      "grid_gap": null,
      "grid_row": null,
      "grid_template_areas": null,
      "grid_template_columns": null,
      "grid_template_rows": null,
      "height": null,
      "justify_content": null,
      "justify_items": null,
      "left": null,
      "margin": null,
      "max_height": null,
      "max_width": null,
      "min_height": null,
      "min_width": null,
      "object_fit": null,
      "object_position": null,
      "order": null,
      "overflow": null,
      "overflow_x": null,
      "overflow_y": null,
      "padding": null,
      "right": null,
      "top": null,
      "visibility": null,
      "width": null
     }
    },
    "d8c4ee188fea437a8b56faeb43fc3b69": {
     "model_module": "@jupyter-widgets/controls",
     "model_module_version": "1.5.0",
     "model_name": "FloatProgressModel",
     "state": {
      "_dom_classes": [],
      "_model_module": "@jupyter-widgets/controls",
      "_model_module_version": "1.5.0",
      "_model_name": "FloatProgressModel",
      "_view_count": null,
      "_view_module": "@jupyter-widgets/controls",
      "_view_module_version": "1.5.0",
      "_view_name": "ProgressView",
      "bar_style": "success",
      "description": "",
      "description_tooltip": null,
      "layout": "IPY_MODEL_7f05a690821f494da96bfb339bc2d371",
      "max": 1355256,
      "min": 0,
      "orientation": "horizontal",
      "style": "IPY_MODEL_f576242534674da9a04a2f58c385e860",
      "value": 1355256
     }
    },
    "d8ff1f1d3f1a488595d7bfb4cb301efc": {
     "model_module": "@jupyter-widgets/controls",
     "model_module_version": "1.5.0",
     "model_name": "FloatProgressModel",
     "state": {
      "_dom_classes": [],
      "_model_module": "@jupyter-widgets/controls",
      "_model_module_version": "1.5.0",
      "_model_name": "FloatProgressModel",
      "_view_count": null,
      "_view_module": "@jupyter-widgets/controls",
      "_view_module_version": "1.5.0",
      "_view_name": "ProgressView",
      "bar_style": "success",
      "description": "",
      "description_tooltip": null,
      "layout": "IPY_MODEL_5dc6304b0488451480fec5f4496a5b21",
      "max": 6431829964,
      "min": 0,
      "orientation": "horizontal",
      "style": "IPY_MODEL_ec9bac29341e481ba014280eb3ecbb9d",
      "value": 6431829964
     }
    },
    "db5ed18ca4e34443a84b6d0ea0746097": {
     "model_module": "@jupyter-widgets/controls",
     "model_module_version": "1.5.0",
     "model_name": "HTMLModel",
     "state": {
      "_dom_classes": [],
      "_model_module": "@jupyter-widgets/controls",
      "_model_module_version": "1.5.0",
      "_model_name": "HTMLModel",
      "_view_count": null,
      "_view_module": "@jupyter-widgets/controls",
      "_view_module_version": "1.5.0",
      "_view_name": "HTMLView",
      "description": "",
      "description_tooltip": null,
      "layout": "IPY_MODEL_b1be8125bc9e411c9ce4b9e8b9172198",
      "placeholder": "​",
      "style": "IPY_MODEL_c141b22cda694ee09cb267c2e61d7a39",
      "value": " 5/5 [00:00&lt;00:00, 67.00 examples/s]"
     }
    },
    "dcaea60bd7c44f9495ee1ffec9baacd1": {
     "model_module": "@jupyter-widgets/controls",
     "model_module_version": "1.5.0",
     "model_name": "FloatProgressModel",
     "state": {
      "_dom_classes": [],
      "_model_module": "@jupyter-widgets/controls",
      "_model_module_version": "1.5.0",
      "_model_name": "FloatProgressModel",
      "_view_count": null,
      "_view_module": "@jupyter-widgets/controls",
      "_view_module_version": "1.5.0",
      "_view_name": "ProgressView",
      "bar_style": "success",
      "description": "",
      "description_tooltip": null,
      "layout": "IPY_MODEL_de2cd08c42f744ffa04fb00e49c084ae",
      "max": 665,
      "min": 0,
      "orientation": "horizontal",
      "style": "IPY_MODEL_30f22bfacb4640ec83790f1f988a22d1",
      "value": 665
     }
    },
    "de2cd08c42f744ffa04fb00e49c084ae": {
     "model_module": "@jupyter-widgets/base",
     "model_module_version": "1.2.0",
     "model_name": "LayoutModel",
     "state": {
      "_model_module": "@jupyter-widgets/base",
      "_model_module_version": "1.2.0",
      "_model_name": "LayoutModel",
      "_view_count": null,
      "_view_module": "@jupyter-widgets/base",
      "_view_module_version": "1.2.0",
      "_view_name": "LayoutView",
      "align_content": null,
      "align_items": null,
      "align_self": null,
      "border": null,
      "bottom": null,
      "display": null,
      "flex": null,
      "flex_flow": null,
      "grid_area": null,
      "grid_auto_columns": null,
      "grid_auto_flow": null,
      "grid_auto_rows": null,
      "grid_column": null,
      "grid_gap": null,
      "grid_row": null,
      "grid_template_areas": null,
      "grid_template_columns": null,
      "grid_template_rows": null,
      "height": null,
      "justify_content": null,
      "justify_items": null,
      "left": null,
      "margin": null,
      "max_height": null,
      "max_width": null,
      "min_height": null,
      "min_width": null,
      "object_fit": null,
      "object_position": null,
      "order": null,
      "overflow": null,
      "overflow_x": null,
      "overflow_y": null,
      "padding": null,
      "right": null,
      "top": null,
      "visibility": null,
      "width": null
     }
    },
    "e5920d255f814d679093bb42e8282c78": {
     "model_module": "@jupyter-widgets/controls",
     "model_module_version": "1.5.0",
     "model_name": "DescriptionStyleModel",
     "state": {
      "_model_module": "@jupyter-widgets/controls",
      "_model_module_version": "1.5.0",
      "_model_name": "DescriptionStyleModel",
      "_view_count": null,
      "_view_module": "@jupyter-widgets/base",
      "_view_module_version": "1.2.0",
      "_view_name": "StyleView",
      "description_width": ""
     }
    },
    "e7b879547935436fa92fd49f936b153b": {
     "model_module": "@jupyter-widgets/base",
     "model_module_version": "1.2.0",
     "model_name": "LayoutModel",
     "state": {
      "_model_module": "@jupyter-widgets/base",
      "_model_module_version": "1.2.0",
      "_model_name": "LayoutModel",
      "_view_count": null,
      "_view_module": "@jupyter-widgets/base",
      "_view_module_version": "1.2.0",
      "_view_name": "LayoutView",
      "align_content": null,
      "align_items": null,
      "align_self": null,
      "border": null,
      "bottom": null,
      "display": null,
      "flex": null,
      "flex_flow": null,
      "grid_area": null,
      "grid_auto_columns": null,
      "grid_auto_flow": null,
      "grid_auto_rows": null,
      "grid_column": null,
      "grid_gap": null,
      "grid_row": null,
      "grid_template_areas": null,
      "grid_template_columns": null,
      "grid_template_rows": null,
      "height": null,
      "justify_content": null,
      "justify_items": null,
      "left": null,
      "margin": null,
      "max_height": null,
      "max_width": null,
      "min_height": null,
      "min_width": null,
      "object_fit": null,
      "object_position": null,
      "order": null,
      "overflow": null,
      "overflow_x": null,
      "overflow_y": null,
      "padding": null,
      "right": null,
      "top": null,
      "visibility": null,
      "width": null
     }
    },
    "e7caa31ebe70409989b32c632486a9f4": {
     "model_module": "@jupyter-widgets/controls",
     "model_module_version": "1.5.0",
     "model_name": "DescriptionStyleModel",
     "state": {
      "_model_module": "@jupyter-widgets/controls",
      "_model_module_version": "1.5.0",
      "_model_name": "DescriptionStyleModel",
      "_view_count": null,
      "_view_module": "@jupyter-widgets/base",
      "_view_module_version": "1.2.0",
      "_view_name": "StyleView",
      "description_width": ""
     }
    },
    "e9d5666bfb3e4c2d9287d193b6b397f5": {
     "model_module": "@jupyter-widgets/controls",
     "model_module_version": "1.5.0",
     "model_name": "FloatProgressModel",
     "state": {
      "_dom_classes": [],
      "_model_module": "@jupyter-widgets/controls",
      "_model_module_version": "1.5.0",
      "_model_name": "FloatProgressModel",
      "_view_count": null,
      "_view_module": "@jupyter-widgets/controls",
      "_view_module_version": "1.5.0",
      "_view_name": "ProgressView",
      "bar_style": "success",
      "description": "",
      "description_tooltip": null,
      "layout": "IPY_MODEL_f0e74f225af143cb8260ed8d96ace42a",
      "max": 1042301,
      "min": 0,
      "orientation": "horizontal",
      "style": "IPY_MODEL_2553e7af5fc14ecdabbdf0f4fa7c376f",
      "value": 1042301
     }
    },
    "ec9bac29341e481ba014280eb3ecbb9d": {
     "model_module": "@jupyter-widgets/controls",
     "model_module_version": "1.5.0",
     "model_name": "ProgressStyleModel",
     "state": {
      "_model_module": "@jupyter-widgets/controls",
      "_model_module_version": "1.5.0",
      "_model_name": "ProgressStyleModel",
      "_view_count": null,
      "_view_module": "@jupyter-widgets/base",
      "_view_module_version": "1.2.0",
      "_view_name": "StyleView",
      "bar_color": null,
      "description_width": ""
     }
    },
    "f0e74f225af143cb8260ed8d96ace42a": {
     "model_module": "@jupyter-widgets/base",
     "model_module_version": "1.2.0",
     "model_name": "LayoutModel",
     "state": {
      "_model_module": "@jupyter-widgets/base",
      "_model_module_version": "1.2.0",
      "_model_name": "LayoutModel",
      "_view_count": null,
      "_view_module": "@jupyter-widgets/base",
      "_view_module_version": "1.2.0",
      "_view_name": "LayoutView",
      "align_content": null,
      "align_items": null,
      "align_self": null,
      "border": null,
      "bottom": null,
      "display": null,
      "flex": null,
      "flex_flow": null,
      "grid_area": null,
      "grid_auto_columns": null,
      "grid_auto_flow": null,
      "grid_auto_rows": null,
      "grid_column": null,
      "grid_gap": null,
      "grid_row": null,
      "grid_template_areas": null,
      "grid_template_columns": null,
      "grid_template_rows": null,
      "height": null,
      "justify_content": null,
      "justify_items": null,
      "left": null,
      "margin": null,
      "max_height": null,
      "max_width": null,
      "min_height": null,
      "min_width": null,
      "object_fit": null,
      "object_position": null,
      "order": null,
      "overflow": null,
      "overflow_x": null,
      "overflow_y": null,
      "padding": null,
      "right": null,
      "top": null,
      "visibility": null,
      "width": null
     }
    },
    "f389ecfab8384a469bb963faaf1b030d": {
     "model_module": "@jupyter-widgets/controls",
     "model_module_version": "1.5.0",
     "model_name": "DescriptionStyleModel",
     "state": {
      "_model_module": "@jupyter-widgets/controls",
      "_model_module_version": "1.5.0",
      "_model_name": "DescriptionStyleModel",
      "_view_count": null,
      "_view_module": "@jupyter-widgets/base",
      "_view_module_version": "1.2.0",
      "_view_name": "StyleView",
      "description_width": ""
     }
    },
    "f42b4beee365478eb8ac44b096aca2ba": {
     "model_module": "@jupyter-widgets/controls",
     "model_module_version": "1.5.0",
     "model_name": "HTMLModel",
     "state": {
      "_dom_classes": [],
      "_model_module": "@jupyter-widgets/controls",
      "_model_module_version": "1.5.0",
      "_model_name": "HTMLModel",
      "_view_count": null,
      "_view_module": "@jupyter-widgets/controls",
      "_view_module_version": "1.5.0",
      "_view_name": "HTMLView",
      "description": "",
      "description_tooltip": null,
      "layout": "IPY_MODEL_9120a6dd4d1d4d02a22bf43ebdcdc32e",
      "placeholder": "​",
      "style": "IPY_MODEL_e7caa31ebe70409989b32c632486a9f4",
      "value": " 1.36M/1.36M [00:00&lt;00:00, 10.8MB/s]"
     }
    },
    "f576242534674da9a04a2f58c385e860": {
     "model_module": "@jupyter-widgets/controls",
     "model_module_version": "1.5.0",
     "model_name": "ProgressStyleModel",
     "state": {
      "_model_module": "@jupyter-widgets/controls",
      "_model_module_version": "1.5.0",
      "_model_name": "ProgressStyleModel",
      "_view_count": null,
      "_view_module": "@jupyter-widgets/base",
      "_view_module_version": "1.2.0",
      "_view_name": "StyleView",
      "bar_color": null,
      "description_width": ""
     }
    },
    "f63847d56e12470db59395b6d9eb9b1c": {
     "model_module": "@jupyter-widgets/controls",
     "model_module_version": "1.5.0",
     "model_name": "FloatProgressModel",
     "state": {
      "_dom_classes": [],
      "_model_module": "@jupyter-widgets/controls",
      "_model_module_version": "1.5.0",
      "_model_name": "FloatProgressModel",
      "_view_count": null,
      "_view_module": "@jupyter-widgets/controls",
      "_view_module_version": "1.5.0",
      "_view_name": "ProgressView",
      "bar_style": "success",
      "description": "",
      "description_tooltip": null,
      "layout": "IPY_MODEL_5b3457e4fc6a44fb8002f0799511bbe4",
      "max": 124,
      "min": 0,
      "orientation": "horizontal",
      "style": "IPY_MODEL_1f65770b29ef44fb9efab0d5a0481728",
      "value": 124
     }
    },
    "f6ba00b8710a450a8631e09631d81f08": {
     "model_module": "@jupyter-widgets/controls",
     "model_module_version": "1.5.0",
     "model_name": "DescriptionStyleModel",
     "state": {
      "_model_module": "@jupyter-widgets/controls",
      "_model_module_version": "1.5.0",
      "_model_name": "DescriptionStyleModel",
      "_view_count": null,
      "_view_module": "@jupyter-widgets/base",
      "_view_module_version": "1.2.0",
      "_view_name": "StyleView",
      "description_width": ""
     }
    },
    "f7070012477f43ad879a1a5bc2e182b1": {
     "model_module": "@jupyter-widgets/controls",
     "model_module_version": "1.5.0",
     "model_name": "HBoxModel",
     "state": {
      "_dom_classes": [],
      "_model_module": "@jupyter-widgets/controls",
      "_model_module_version": "1.5.0",
      "_model_name": "HBoxModel",
      "_view_count": null,
      "_view_module": "@jupyter-widgets/controls",
      "_view_module_version": "1.5.0",
      "_view_name": "HBoxView",
      "box_style": "",
      "children": [
       "IPY_MODEL_d4e5b4a69e744e35b282290b49958920",
       "IPY_MODEL_d8ff1f1d3f1a488595d7bfb4cb301efc",
       "IPY_MODEL_1448cb4b53d943b380fbbfc1e69c2bcc"
      ],
      "layout": "IPY_MODEL_c678a40e08c8474288c4a1409c6c40ac"
     }
    },
    "fc52771036e94a8ca15a7a9f0d8cfc03": {
     "model_module": "@jupyter-widgets/base",
     "model_module_version": "1.2.0",
     "model_name": "LayoutModel",
     "state": {
      "_model_module": "@jupyter-widgets/base",
      "_model_module_version": "1.2.0",
      "_model_name": "LayoutModel",
      "_view_count": null,
      "_view_module": "@jupyter-widgets/base",
      "_view_module_version": "1.2.0",
      "_view_name": "LayoutView",
      "align_content": null,
      "align_items": null,
      "align_self": null,
      "border": null,
      "bottom": null,
      "display": null,
      "flex": null,
      "flex_flow": null,
      "grid_area": null,
      "grid_auto_columns": null,
      "grid_auto_flow": null,
      "grid_auto_rows": null,
      "grid_column": null,
      "grid_gap": null,
      "grid_row": null,
      "grid_template_areas": null,
      "grid_template_columns": null,
      "grid_template_rows": null,
      "height": null,
      "justify_content": null,
      "justify_items": null,
      "left": null,
      "margin": null,
      "max_height": null,
      "max_width": null,
      "min_height": null,
      "min_width": null,
      "object_fit": null,
      "object_position": null,
      "order": null,
      "overflow": null,
      "overflow_x": null,
      "overflow_y": null,
      "padding": null,
      "right": null,
      "top": null,
      "visibility": null,
      "width": null
     }
    },
    "fcdcdc0a2dac42cb98e6a3b411534969": {
     "model_module": "@jupyter-widgets/base",
     "model_module_version": "1.2.0",
     "model_name": "LayoutModel",
     "state": {
      "_model_module": "@jupyter-widgets/base",
      "_model_module_version": "1.2.0",
      "_model_name": "LayoutModel",
      "_view_count": null,
      "_view_module": "@jupyter-widgets/base",
      "_view_module_version": "1.2.0",
      "_view_name": "LayoutView",
      "align_content": null,
      "align_items": null,
      "align_self": null,
      "border": null,
      "bottom": null,
      "display": null,
      "flex": null,
      "flex_flow": null,
      "grid_area": null,
      "grid_auto_columns": null,
      "grid_auto_flow": null,
      "grid_auto_rows": null,
      "grid_column": null,
      "grid_gap": null,
      "grid_row": null,
      "grid_template_areas": null,
      "grid_template_columns": null,
      "grid_template_rows": null,
      "height": null,
      "justify_content": null,
      "justify_items": null,
      "left": null,
      "margin": null,
      "max_height": null,
      "max_width": null,
      "min_height": null,
      "min_width": null,
      "object_fit": null,
      "object_position": null,
      "order": null,
      "overflow": null,
      "overflow_x": null,
      "overflow_y": null,
      "padding": null,
      "right": null,
      "top": null,
      "visibility": null,
      "width": null
     }
    },
    "fd09ddfbf47b4fafba9142ccc2861228": {
     "model_module": "@jupyter-widgets/controls",
     "model_module_version": "1.5.0",
     "model_name": "HTMLModel",
     "state": {
      "_dom_classes": [],
      "_model_module": "@jupyter-widgets/controls",
      "_model_module_version": "1.5.0",
      "_model_name": "HTMLModel",
      "_view_count": null,
      "_view_module": "@jupyter-widgets/controls",
      "_view_module_version": "1.5.0",
      "_view_name": "HTMLView",
      "description": "",
      "description_tooltip": null,
      "layout": "IPY_MODEL_af9fc28d3e5345cdad61485800e77602",
      "placeholder": "​",
      "style": "IPY_MODEL_42b508cd61b843938107d3b209c518a8",
      "value": "tokenizer.json: 100%"
     }
    }
   }
  }
 },
 "nbformat": 4,
 "nbformat_minor": 4
}
